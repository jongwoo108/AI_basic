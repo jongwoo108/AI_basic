{
  "nbformat": 4,
  "nbformat_minor": 0,
  "metadata": {
    "colab": {
      "provenance": []
    },
    "kernelspec": {
      "name": "python3",
      "display_name": "Python 3"
    },
    "language_info": {
      "name": "python"
    }
  },
  "cells": [
    {
      "cell_type": "markdown",
      "source": [
        "#Do it Algorithm"
      ],
      "metadata": {
        "id": "r5f9mUbVwhsy"
      }
    },
    {
      "cell_type": "markdown",
      "source": [
        "01-1 알고리즘이란?"
      ],
      "metadata": {
        "id": "QItbd3nUworw"
      }
    },
    {
      "cell_type": "markdown",
      "source": [
        "세 정수의 최댓값 구하기"
      ],
      "metadata": {
        "id": "mx4aumUqwsxe"
      }
    },
    {
      "cell_type": "code",
      "source": [
        "print('세 정수의 최댓값 구하기')\n",
        "a = int(input('정수 a의 값을 입력하세요, : '))\n",
        "b = int(input('정수 b의 값을 입력하세요, : '))\n",
        "c = int(input('정수 c의 값을 입력하세요, : '))\n",
        "\n",
        "maximum = a\n",
        "if b > maximum:\n",
        "    maximum = b\n",
        "if c > maximum:\n",
        "    maximum = c\n",
        "\n",
        "print(f'최댓값은 {maximum}입니다.')"
      ],
      "metadata": {
        "colab": {
          "base_uri": "https://localhost:8080/"
        },
        "id": "ve9DlxhAxTh7",
        "outputId": "d5bbb3fa-0059-428b-dbcd-0360080cd13c"
      },
      "execution_count": 2,
      "outputs": [
        {
          "output_type": "stream",
          "name": "stdout",
          "text": [
            "세 정수의 최댓값 구하기\n",
            "정수 a의 값을 입력하세요, : 5\n",
            "정수 b의 값을 입력하세요, : 17\n",
            "정수 c의 값을 입력하세요, : 3\n",
            "최댓값은 17입니다.\n"
          ]
        }
      ]
    },
    {
      "cell_type": "code",
      "source": [
        "#이름을 입력받아 인사하기\n",
        "print('이름을 입력하세요.: ', end = '')\n",
        "name = input()\n",
        "print(f'안녕하세요? {name} 님.')"
      ],
      "metadata": {
        "id": "vjTzvYRWx6N9",
        "colab": {
          "base_uri": "https://localhost:8080/"
        },
        "outputId": "a0319fe7-d9c2-448f-b0ca-db80d4b37807"
      },
      "execution_count": 3,
      "outputs": [
        {
          "output_type": "stream",
          "name": "stdout",
          "text": [
            "이름을 입력하세요.: 신종우\n",
            "안녕하세요? 신종우 님.\n"
          ]
        }
      ]
    },
    {
      "cell_type": "code",
      "source": [
        "name = input('이름을 입력하세요.: ')\n",
        "print(f'안녕하세요? {name}님.')"
      ],
      "metadata": {
        "colab": {
          "base_uri": "https://localhost:8080/"
        },
        "id": "tErG8f0NAL7x",
        "outputId": "744fe18c-94f7-44e7-f0cb-7d2b1e5c9465"
      },
      "execution_count": 4,
      "outputs": [
        {
          "output_type": "stream",
          "name": "stdout",
          "text": [
            "이름을 입력하세요.: 신종우\n",
            "안녕하세요? 신종우님.\n"
          ]
        }
      ]
    },
    {
      "cell_type": "code",
      "source": [
        "int('17')              # 10진수 문자열을 10진수 정수형으로 변환(기본)"
      ],
      "metadata": {
        "id": "5FFgmE9zAkmi",
        "colab": {
          "base_uri": "https://localhost:8080/"
        },
        "outputId": "0c4ff06f-af9a-412e-fe13-23a81013998c"
      },
      "execution_count": 1,
      "outputs": [
        {
          "output_type": "execute_result",
          "data": {
            "text/plain": [
              "17"
            ]
          },
          "metadata": {},
          "execution_count": 1
        }
      ]
    },
    {
      "cell_type": "code",
      "source": [
        "int('0b110', 2)        # 2진수 문자열을 10진수 정수형으로 변환"
      ],
      "metadata": {
        "colab": {
          "base_uri": "https://localhost:8080/"
        },
        "id": "l7qkqdwanAQC",
        "outputId": "5a85aa39-805a-4b31-9758-43e782808a41"
      },
      "execution_count": 5,
      "outputs": [
        {
          "output_type": "execute_result",
          "data": {
            "text/plain": [
              "6"
            ]
          },
          "metadata": {},
          "execution_count": 5
        }
      ]
    },
    {
      "cell_type": "code",
      "source": [
        "int('0o75', 8)         # 8진수 문자열을 10진수 정수형으로 변환"
      ],
      "metadata": {
        "colab": {
          "base_uri": "https://localhost:8080/"
        },
        "id": "ykrxZOm6nLRZ",
        "outputId": "628254c3-2567-4e36-b03c-a396c2104709"
      },
      "execution_count": 6,
      "outputs": [
        {
          "output_type": "execute_result",
          "data": {
            "text/plain": [
              "61"
            ]
          },
          "metadata": {},
          "execution_count": 6
        }
      ]
    },
    {
      "cell_type": "code",
      "source": [
        "int('13', 10)          # 10진수 문자열을 10진수 정수형으로 변환"
      ],
      "metadata": {
        "colab": {
          "base_uri": "https://localhost:8080/"
        },
        "id": "CmQ_WnibnN0I",
        "outputId": "e39bde95-91bd-4dd7-a874-47db33a285a2"
      },
      "execution_count": 7,
      "outputs": [
        {
          "output_type": "execute_result",
          "data": {
            "text/plain": [
              "13"
            ]
          },
          "metadata": {},
          "execution_count": 7
        }
      ]
    },
    {
      "cell_type": "code",
      "source": [
        "int('0x3F', 16)        # 16진수 문자열을 10진수 정수형으로 변환"
      ],
      "metadata": {
        "colab": {
          "base_uri": "https://localhost:8080/"
        },
        "id": "Wst6XVW3nUec",
        "outputId": "140fe3ad-94ca-4127-90c0-88c17a3c2f94"
      },
      "execution_count": 8,
      "outputs": [
        {
          "output_type": "execute_result",
          "data": {
            "text/plain": [
              "63"
            ]
          },
          "metadata": {},
          "execution_count": 8
        }
      ]
    },
    {
      "cell_type": "code",
      "source": [
        "float('3.14')          # 문자열을 실수형으로 변환"
      ],
      "metadata": {
        "colab": {
          "base_uri": "https://localhost:8080/"
        },
        "id": "SMmA0FhqnYsf",
        "outputId": "7eded7fa-6de2-4d6d-e0d9-5d6d5d36c9a1"
      },
      "execution_count": 9,
      "outputs": [
        {
          "output_type": "execute_result",
          "data": {
            "text/plain": [
              "3.14"
            ]
          },
          "metadata": {},
          "execution_count": 9
        }
      ]
    },
    {
      "cell_type": "code",
      "source": [],
      "metadata": {
        "id": "gtq4LlbDnaOT"
      },
      "execution_count": null,
      "outputs": []
    }
  ]
}