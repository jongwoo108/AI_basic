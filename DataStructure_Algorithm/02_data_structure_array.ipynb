{
  "nbformat": 4,
  "nbformat_minor": 0,
  "metadata": {
    "colab": {
      "provenance": []
    },
    "kernelspec": {
      "name": "python3",
      "display_name": "Python 3"
    },
    "language_info": {
      "name": "python"
    }
  },
  "cells": [
    {
      "cell_type": "code",
      "execution_count": null,
      "metadata": {
        "colab": {
          "base_uri": "https://localhost:8080/"
        },
        "id": "m9AKqv5gz-e7",
        "outputId": "36f81127-6774-4e73-f9a4-8932657fe474"
      },
      "outputs": [
        {
          "output_type": "stream",
          "name": "stdout",
          "text": [
            "학생 그룹 점수의 합계와 평균을 구합니다.\n",
            "1번 학생의 점수를 입력하세요.: 80\n",
            "2번 학생의 점수를 입력하세요.: 98\n",
            "3번 학생의 점수를 입력하세요.: 60\n",
            "4번 학생의 점수를 입력하세요.: 77\n",
            "5번 학생의 점수를 입력하세요.: 89\n",
            "합계는 404점입니다.\n",
            "평균은 80.8점입니다.\n"
          ]
        }
      ],
      "source": [
        "# 학생 5명의 시험 점수를 입력받아 합계와 평균을 출력하기\n",
        "\n",
        "print('학생 그룹 점수의 합계와 평균을 구합니다.')\n",
        "\n",
        "score1 = int(input('1번 학생의 점수를 입력하세요.: '))\n",
        "score2 = int(input('2번 학생의 점수를 입력하세요.: '))\n",
        "score3 = int(input('3번 학생의 점수를 입력하세요.: '))\n",
        "score4 = int(input('4번 학생의 점수를 입력하세요.: '))\n",
        "score5 = int(input('5번 학생의 점수를 입력하세요.: '))\n",
        "\n",
        "total = 0\n",
        "total += score1\n",
        "total += score2\n",
        "total += score3\n",
        "total += score4\n",
        "total += score5\n",
        "\n",
        "print(f'합계는 {total}점입니다.')\n",
        "print(f'평균은 {total / 5}점입니다.')"
      ]
    },
    {
      "cell_type": "code",
      "source": [
        "list01 = []                    #[]빈 리스트\n",
        "list02 = [1, 2, 3]             #[1, 2, 3]\n",
        "list03 = ['A', 'B', 'C', ]     #['A', 'B', 'C'] 맨 마지막 원소에 쉼표를 써도 됨"
      ],
      "metadata": {
        "id": "C__JRbV70jo8"
      },
      "execution_count": null,
      "outputs": []
    },
    {
      "cell_type": "code",
      "source": [
        "list04 = list()               #[]빈 리스트\n",
        "list05 = list('ABC')          #['A', 'B', 'C'] 문자열의 각 문자로부터 원소를 생성\n",
        "list06 = list([1, 2, 3])      #[1, 2, 3] 리스트로부터 원소를 생성\n",
        "list07 = list([1, 2, 3])      #[1, 2, 3] 튜플로부터 원소를 생성\n",
        "list08 = list([1, 2, 3])      #[1, 2, 3] 집합으로부터 원소를 생성"
      ],
      "metadata": {
        "id": "bRVsJ0l-1ZDA"
      },
      "execution_count": null,
      "outputs": []
    },
    {
      "cell_type": "code",
      "source": [
        "list09 = list(range(7))       #[0, 1, 2, 3, 4, 5, 6]\n",
        "list10 = list(range(3, 8))    #[3, 4, 5, 6, 7]\n",
        "list11 = list(range(3, 13, 2))#[3, 5, 7, 9, 11]"
      ],
      "metadata": {
        "id": "9BD5uJRs4hd2"
      },
      "execution_count": null,
      "outputs": []
    },
    {
      "cell_type": "code",
      "source": [
        "list12 = [None] * 5           #[None, None, None, None, None]"
      ],
      "metadata": {
        "id": "xQmPYxri4vOo"
      },
      "execution_count": null,
      "outputs": []
    },
    {
      "cell_type": "code",
      "source": [
        "for i in range(0, )"
      ],
      "metadata": {
        "id": "qz__f05M7CTs"
      },
      "execution_count": null,
      "outputs": []
    },
    {
      "cell_type": "code",
      "source": [
        "tuple01 = ()                  #()빈 튜플\n",
        "tuple02 = 1,                  #(1,)\n",
        "tuple03 = (1,)                #(1,)\n",
        "tuple04 = 1, 2, 3             #(1, 2, 3)\n",
        "tuple05 = 1, 2, 3,            #(1, 2, 3)\n",
        "tuple06 = (1, 2, 3)           #(1, 2, 3)\n",
        "tuple07 = (1, 2, 3, )         #(1, 2, 3)\n",
        "tuple08 = 'A', 'B', 'C',      #('A', 'B', 'C')"
      ],
      "metadata": {
        "id": "09aseZ5E41Y9"
      },
      "execution_count": 1,
      "outputs": []
    },
    {
      "cell_type": "code",
      "source": [
        "v01 = 1        # 1 튜플이 아닌 하나의 값을 가진 int형 변수\n",
        "v02 = (1)      # 1 튜플이 아닌 하나의 값을 가진 int형 변수"
      ],
      "metadata": {
        "id": "m6ItDW3j60I0"
      },
      "execution_count": 2,
      "outputs": []
    },
    {
      "cell_type": "code",
      "source": [
        "tuple09 = tuple()             #()빈 튜플\n",
        "tuple10 = tuple('ABC')        #('A', 'B', 'C') 문자열의 각 문자로부터 원소를 생성\n",
        "tuple11 = tuple([1, 2, 3])    #(1, 2, 3) 리스트로부터 원소를 생성\n",
        "tuple12 = tuple({1, 2, 3})    #(1, 2, 3) 집합으로부터 원소를 생성"
      ],
      "metadata": {
        "id": "N8pVfLepFRg_"
      },
      "execution_count": 3,
      "outputs": []
    },
    {
      "cell_type": "code",
      "source": [
        "tuple13 = tuple(range(7))\n",
        "tuple14 = tuple(range(3, 8))\n",
        "tuple15 = tuple(range(3, 13, 2))"
      ],
      "metadata": {
        "id": "TJPuWi2dQRGG"
      },
      "execution_count": 4,
      "outputs": []
    },
    {
      "cell_type": "code",
      "source": [
        "x = [1, 2, 3]\n",
        "a, b, c = x\n",
        "a, b, c\n",
        "(1, 2, 3)"
      ],
      "metadata": {
        "colab": {
          "base_uri": "https://localhost:8080/"
        },
        "id": "XqWhyfymQc01",
        "outputId": "5ddd3470-5bba-4e90-bbbe-ff0861d2f1e4"
      },
      "execution_count": 5,
      "outputs": [
        {
          "output_type": "execute_result",
          "data": {
            "text/plain": [
              "(1, 2, 3)"
            ]
          },
          "metadata": {},
          "execution_count": 5
        }
      ]
    },
    {
      "cell_type": "code",
      "source": [
        "x = [11, 22, 33, 44, 55, 66, 77]\n",
        "x[2]"
      ],
      "metadata": {
        "colab": {
          "base_uri": "https://localhost:8080/"
        },
        "id": "NxhDyRKNRLc3",
        "outputId": "05fff1c6-2060-4780-968c-3a4f89966f5e"
      },
      "execution_count": 9,
      "outputs": [
        {
          "output_type": "execute_result",
          "data": {
            "text/plain": [
              "33"
            ]
          },
          "metadata": {},
          "execution_count": 9
        }
      ]
    },
    {
      "cell_type": "code",
      "source": [
        "x[-3]"
      ],
      "metadata": {
        "colab": {
          "base_uri": "https://localhost:8080/"
        },
        "id": "BgvaYWqflbf_",
        "outputId": "1d9c246a-f232-44d3-e7ef-3661bf383520"
      },
      "execution_count": 10,
      "outputs": [
        {
          "output_type": "execute_result",
          "data": {
            "text/plain": [
              "55"
            ]
          },
          "metadata": {},
          "execution_count": 10
        }
      ]
    },
    {
      "cell_type": "code",
      "source": [
        "x[-4] = 3.14"
      ],
      "metadata": {
        "id": "kE9zUbFVlcVt"
      },
      "execution_count": 12,
      "outputs": []
    },
    {
      "cell_type": "code",
      "source": [
        "x[-4]"
      ],
      "metadata": {
        "colab": {
          "base_uri": "https://localhost:8080/"
        },
        "id": "WdLx9VkKldzU",
        "outputId": "e14253ed-a591-48ea-c46e-d437b10ee221"
      },
      "execution_count": 13,
      "outputs": [
        {
          "output_type": "execute_result",
          "data": {
            "text/plain": [
              "3.14"
            ]
          },
          "metadata": {},
          "execution_count": 13
        }
      ]
    },
    {
      "cell_type": "code",
      "source": [
        "x"
      ],
      "metadata": {
        "colab": {
          "base_uri": "https://localhost:8080/"
        },
        "id": "dmAc8vyelh0M",
        "outputId": "109da4d6-b5b2-434e-96ca-50b54b020dde"
      },
      "execution_count": 14,
      "outputs": [
        {
          "output_type": "execute_result",
          "data": {
            "text/plain": [
              "[11, 22, 33, 3.14, 55, 66, 77]"
            ]
          },
          "metadata": {},
          "execution_count": 14
        }
      ]
    },
    {
      "cell_type": "code",
      "source": [
        "x[7]"
      ],
      "metadata": {
        "colab": {
          "base_uri": "https://localhost:8080/",
          "height": 180
        },
        "id": "x9XZWittlizV",
        "outputId": "c744fdf5-c202-4fe6-e6b5-7a6a89963bab"
      },
      "execution_count": 15,
      "outputs": [
        {
          "output_type": "error",
          "ename": "IndexError",
          "evalue": "ignored",
          "traceback": [
            "\u001b[0;31m---------------------------------------------------------------------------\u001b[0m",
            "\u001b[0;31mIndexError\u001b[0m                                Traceback (most recent call last)",
            "\u001b[0;32m<ipython-input-15-1515eb8c000f>\u001b[0m in \u001b[0;36m<cell line: 1>\u001b[0;34m()\u001b[0m\n\u001b[0;32m----> 1\u001b[0;31m \u001b[0mx\u001b[0m\u001b[0;34m[\u001b[0m\u001b[0;36m7\u001b[0m\u001b[0;34m]\u001b[0m\u001b[0;34m\u001b[0m\u001b[0;34m\u001b[0m\u001b[0m\n\u001b[0m",
            "\u001b[0;31mIndexError\u001b[0m: list index out of range"
          ]
        }
      ]
    },
    {
      "cell_type": "code",
      "source": [
        "x[7] = 3.14"
      ],
      "metadata": {
        "colab": {
          "base_uri": "https://localhost:8080/",
          "height": 180
        },
        "id": "m2Y51a6olj8I",
        "outputId": "669cb901-66e8-4afd-d342-964e075e7385"
      },
      "execution_count": 16,
      "outputs": [
        {
          "output_type": "error",
          "ename": "IndexError",
          "evalue": "ignored",
          "traceback": [
            "\u001b[0;31m---------------------------------------------------------------------------\u001b[0m",
            "\u001b[0;31mIndexError\u001b[0m                                Traceback (most recent call last)",
            "\u001b[0;32m<ipython-input-16-46d5d68ae9dd>\u001b[0m in \u001b[0;36m<cell line: 1>\u001b[0;34m()\u001b[0m\n\u001b[0;32m----> 1\u001b[0;31m \u001b[0mx\u001b[0m\u001b[0;34m[\u001b[0m\u001b[0;36m7\u001b[0m\u001b[0;34m]\u001b[0m \u001b[0;34m=\u001b[0m \u001b[0;36m3.14\u001b[0m\u001b[0;34m\u001b[0m\u001b[0;34m\u001b[0m\u001b[0m\n\u001b[0m",
            "\u001b[0;31mIndexError\u001b[0m: list assignment index out of range"
          ]
        }
      ]
    },
    {
      "cell_type": "code",
      "source": [
        "s = [11, 22, 33, 44, 55, 66, 77]\n",
        "s[0:6]"
      ],
      "metadata": {
        "colab": {
          "base_uri": "https://localhost:8080/"
        },
        "id": "3im5NPv5lowD",
        "outputId": "0296c35c-bd90-48c7-8841-62ef69761e0c"
      },
      "execution_count": 17,
      "outputs": [
        {
          "output_type": "execute_result",
          "data": {
            "text/plain": [
              "[11, 22, 33, 44, 55, 66]"
            ]
          },
          "metadata": {},
          "execution_count": 17
        }
      ]
    },
    {
      "cell_type": "code",
      "source": [
        "s[0:7]"
      ],
      "metadata": {
        "colab": {
          "base_uri": "https://localhost:8080/"
        },
        "id": "fxyFdsv_lt51",
        "outputId": "2522fddb-b1c5-402f-861f-9dbcaa1c9e88"
      },
      "execution_count": 18,
      "outputs": [
        {
          "output_type": "execute_result",
          "data": {
            "text/plain": [
              "[11, 22, 33, 44, 55, 66, 77]"
            ]
          },
          "metadata": {},
          "execution_count": 18
        }
      ]
    },
    {
      "cell_type": "code",
      "source": [
        "s[0:7:2]"
      ],
      "metadata": {
        "colab": {
          "base_uri": "https://localhost:8080/"
        },
        "id": "WvEdivr6lviZ",
        "outputId": "2bf78b08-1921-4f2c-fe8b-b97d0a7a0e3b"
      },
      "execution_count": 19,
      "outputs": [
        {
          "output_type": "execute_result",
          "data": {
            "text/plain": [
              "[11, 33, 55, 77]"
            ]
          },
          "metadata": {},
          "execution_count": 19
        }
      ]
    },
    {
      "cell_type": "code",
      "source": [
        "s[-4:-2]"
      ],
      "metadata": {
        "colab": {
          "base_uri": "https://localhost:8080/"
        },
        "id": "Fyx2nXqFlxc_",
        "outputId": "662aae56-96db-4d3b-820e-3bd0179820a4"
      },
      "execution_count": 20,
      "outputs": [
        {
          "output_type": "execute_result",
          "data": {
            "text/plain": [
              "[44, 55]"
            ]
          },
          "metadata": {},
          "execution_count": 20
        }
      ]
    },
    {
      "cell_type": "code",
      "source": [
        "s[3:1]"
      ],
      "metadata": {
        "colab": {
          "base_uri": "https://localhost:8080/"
        },
        "id": "Y2dW33-slzkC",
        "outputId": "84ca65c7-4004-401c-ac3f-82350e48a371"
      },
      "execution_count": 21,
      "outputs": [
        {
          "output_type": "execute_result",
          "data": {
            "text/plain": [
              "[]"
            ]
          },
          "metadata": {},
          "execution_count": 21
        }
      ]
    },
    {
      "cell_type": "code",
      "source": [
        "n = 5\n",
        "id(n)"
      ],
      "metadata": {
        "colab": {
          "base_uri": "https://localhost:8080/"
        },
        "id": "cWUrpI8vl0ZA",
        "outputId": "9bffed14-fb0e-46ba-bbf8-62d0da79dfbd"
      },
      "execution_count": 22,
      "outputs": [
        {
          "output_type": "execute_result",
          "data": {
            "text/plain": [
              "135057454170480"
            ]
          },
          "metadata": {},
          "execution_count": 22
        }
      ]
    },
    {
      "cell_type": "code",
      "source": [
        "n = 'ABC'\n",
        "id(n)"
      ],
      "metadata": {
        "colab": {
          "base_uri": "https://localhost:8080/"
        },
        "id": "7aXmphOjl-Be",
        "outputId": "dc47beaa-6fe6-4b5c-ff47-20e80b08573e"
      },
      "execution_count": 23,
      "outputs": [
        {
          "output_type": "execute_result",
          "data": {
            "text/plain": [
              "135057452997936"
            ]
          },
          "metadata": {},
          "execution_count": 23
        }
      ]
    },
    {
      "cell_type": "code",
      "source": [
        "a, b, c = 1, 2, 3   #a, b, c에 1, 2, 3을 각각 대입하여 변숫값을 출력\n",
        "a"
      ],
      "metadata": {
        "colab": {
          "base_uri": "https://localhost:8080/"
        },
        "id": "k19q1d8pmAES",
        "outputId": "fa255b6c-aeb0-40cb-a031-5b8e723a1d67"
      },
      "execution_count": 24,
      "outputs": [
        {
          "output_type": "execute_result",
          "data": {
            "text/plain": [
              "1"
            ]
          },
          "metadata": {},
          "execution_count": 24
        }
      ]
    },
    {
      "cell_type": "code",
      "source": [
        "b"
      ],
      "metadata": {
        "colab": {
          "base_uri": "https://localhost:8080/"
        },
        "id": "2NfaQAd-nhEG",
        "outputId": "028f105c-99f3-4e58-e351-4081978f07b9"
      },
      "execution_count": 25,
      "outputs": [
        {
          "output_type": "execute_result",
          "data": {
            "text/plain": [
              "2"
            ]
          },
          "metadata": {},
          "execution_count": 25
        }
      ]
    },
    {
      "cell_type": "code",
      "source": [
        "c"
      ],
      "metadata": {
        "colab": {
          "base_uri": "https://localhost:8080/"
        },
        "id": "kb4D6HdSnhUN",
        "outputId": "099929ec-f32d-46a5-ed6e-f43bca4eaa21"
      },
      "execution_count": 26,
      "outputs": [
        {
          "output_type": "execute_result",
          "data": {
            "text/plain": [
              "3"
            ]
          },
          "metadata": {},
          "execution_count": 26
        }
      ]
    },
    {
      "cell_type": "code",
      "source": [
        "x = 6\n",
        "y = 2\n",
        "x, y = y + 2, x + 3\n",
        "x"
      ],
      "metadata": {
        "colab": {
          "base_uri": "https://localhost:8080/"
        },
        "id": "4mZjlQtwnhsK",
        "outputId": "187b1ab8-7083-42ea-edae-1904fbeaef82"
      },
      "execution_count": 27,
      "outputs": [
        {
          "output_type": "execute_result",
          "data": {
            "text/plain": [
              "4"
            ]
          },
          "metadata": {},
          "execution_count": 27
        }
      ]
    },
    {
      "cell_type": "code",
      "source": [
        "y"
      ],
      "metadata": {
        "colab": {
          "base_uri": "https://localhost:8080/"
        },
        "id": "cJySG7jgnlme",
        "outputId": "cd19b95f-a2f7-466d-f997-c2fdd20ca02a"
      },
      "execution_count": 28,
      "outputs": [
        {
          "output_type": "execute_result",
          "data": {
            "text/plain": [
              "9"
            ]
          },
          "metadata": {},
          "execution_count": 28
        }
      ]
    },
    {
      "cell_type": "code",
      "source": [
        "n = 12\n",
        "id(n)"
      ],
      "metadata": {
        "colab": {
          "base_uri": "https://localhost:8080/"
        },
        "id": "lAuIApaqnnVi",
        "outputId": "a9d0764c-96f5-4808-96b8-058e7570a115"
      },
      "execution_count": 29,
      "outputs": [
        {
          "output_type": "execute_result",
          "data": {
            "text/plain": [
              "135057454170704"
            ]
          },
          "metadata": {},
          "execution_count": 29
        }
      ]
    },
    {
      "cell_type": "code",
      "source": [
        "n += 1\n",
        "id(n)"
      ],
      "metadata": {
        "colab": {
          "base_uri": "https://localhost:8080/"
        },
        "id": "OcxthCOknpMR",
        "outputId": "273bfd08-bb67-42b7-f8e9-d88a99c87749"
      },
      "execution_count": 30,
      "outputs": [
        {
          "output_type": "execute_result",
          "data": {
            "text/plain": [
              "135057454170736"
            ]
          },
          "metadata": {},
          "execution_count": 30
        }
      ]
    },
    {
      "cell_type": "code",
      "source": [
        "x = 0\n",
        "type(x + 17)    # x + 17의 자료형을 확인\n"
      ],
      "metadata": {
        "colab": {
          "base_uri": "https://localhost:8080/"
        },
        "id": "OX3QkPpeoRAy",
        "outputId": "0e7f9a89-dde3-432e-bfb7-723ae24b551a"
      },
      "execution_count": 32,
      "outputs": [
        {
          "output_type": "execute_result",
          "data": {
            "text/plain": [
              "int"
            ]
          },
          "metadata": {},
          "execution_count": 32
        }
      ]
    },
    {
      "cell_type": "code",
      "source": [
        "type(x = 17)"
      ],
      "metadata": {
        "colab": {
          "base_uri": "https://localhost:8080/",
          "height": 180
        },
        "id": "bq3137q5oZ2B",
        "outputId": "9941d952-af23-478f-e3af-1274aba5bbdd"
      },
      "execution_count": 33,
      "outputs": [
        {
          "output_type": "error",
          "ename": "TypeError",
          "evalue": "ignored",
          "traceback": [
            "\u001b[0;31m---------------------------------------------------------------------------\u001b[0m",
            "\u001b[0;31mTypeError\u001b[0m                                 Traceback (most recent call last)",
            "\u001b[0;32m<ipython-input-33-51f940ad3e7f>\u001b[0m in \u001b[0;36m<cell line: 1>\u001b[0;34m()\u001b[0m\n\u001b[0;32m----> 1\u001b[0;31m \u001b[0mtype\u001b[0m\u001b[0;34m(\u001b[0m\u001b[0mx\u001b[0m \u001b[0;34m=\u001b[0m \u001b[0;36m17\u001b[0m\u001b[0;34m)\u001b[0m\u001b[0;34m\u001b[0m\u001b[0;34m\u001b[0m\u001b[0m\n\u001b[0m",
            "\u001b[0;31mTypeError\u001b[0m: type() takes 1 or 3 arguments"
          ]
        }
      ]
    },
    {
      "cell_type": "markdown",
      "source": [
        "자료구조의 개념 알아보기"
      ],
      "metadata": {
        "id": "QSO6RyL6of8P"
      }
    },
    {
      "cell_type": "markdown",
      "source": [
        "자료구조는 논리적인 관계로 이루어진 데이터 구성을 말한다.\\\n",
        "자료구조 : 데이터 단위와 데이터 자체 사이의 물리적 또는 논리적인 관계\n",
        "\n",
        "자료구조는 데이터가 모여 있는 구조. \\\n",
        "자료구조를 알아야 하는 이유는 컴퓨터에서 처리해야 하는 많은 데이터를 모아 효율적으로 관리하고 구조화하는 데 있다."
      ],
      "metadata": {
        "id": "MhBhSuSXpPAc"
      }
    },
    {
      "cell_type": "code",
      "source": [
        "x = [15, 64, 7, 3.14, [32, 55], 'ABC']\n",
        "len(x)"
      ],
      "metadata": {
        "colab": {
          "base_uri": "https://localhost:8080/"
        },
        "id": "F-2ugTc9paJ4",
        "outputId": "11412768-ac29-4f2d-a09f-3a0270245ce6"
      },
      "execution_count": 34,
      "outputs": [
        {
          "output_type": "execute_result",
          "data": {
            "text/plain": [
              "6"
            ]
          },
          "metadata": {},
          "execution_count": 34
        }
      ]
    },
    {
      "cell_type": "code",
      "source": [
        "if x:\n",
        "    x = 1\n",
        "    #x가 비어있지 않으면 (True) 실행\n",
        "else:\n",
        ""
      ],
      "metadata": {
        "colab": {
          "base_uri": "https://localhost:8080/",
          "height": 144
        },
        "id": "YcBXZktupwxO",
        "outputId": "d2421b2e-9dc5-4662-d65a-bba4d479420c"
      },
      "execution_count": 40,
      "outputs": [
        {
          "output_type": "error",
          "ename": "SyntaxError",
          "evalue": "ignored",
          "traceback": [
            "\u001b[0;36m  File \u001b[0;32m\"<ipython-input-40-1f858a601b73>\"\u001b[0;36m, line \u001b[0;32m4\u001b[0m\n\u001b[0;31m    else:\u001b[0m\n\u001b[0m         ^\u001b[0m\n\u001b[0;31mSyntaxError\u001b[0m\u001b[0;31m:\u001b[0m incomplete input\n"
          ]
        }
      ]
    },
    {
      "cell_type": "code",
      "source": [
        "if x:\n",
        "    x = 1\n",
        "    # x가 비어있지 않으면 (True) 실행\n",
        "else:\n",
        "    # x가 비어있으면 (False) 실행\n"
      ],
      "metadata": {
        "colab": {
          "base_uri": "https://localhost:8080/",
          "height": 144
        },
        "id": "MNXxkm9dp5Kp",
        "outputId": "cfeceb61-beee-4114-d55d-e5d265465cfc"
      },
      "execution_count": 38,
      "outputs": [
        {
          "output_type": "error",
          "ename": "SyntaxError",
          "evalue": "ignored",
          "traceback": [
            "\u001b[0;36m  File \u001b[0;32m\"<ipython-input-38-81d8ba5da18a>\"\u001b[0;36m, line \u001b[0;32m5\u001b[0m\n\u001b[0;31m    # x가 비어있으면 (False) 실행\u001b[0m\n\u001b[0m                         ^\u001b[0m\n\u001b[0;31mSyntaxError\u001b[0m\u001b[0;31m:\u001b[0m incomplete input\n"
          ]
        }
      ]
    },
    {
      "cell_type": "code",
      "source": [
        "[1, 2, 3] == [1, 2, 3]\n",
        "[1, 2, 3] < [1, 2, 4]\n",
        "[1, 2, 3, 4] <= [1, 2, 3, 4]\n",
        "[1, 2, 3] < [1, 2, 3, 5]\n",
        "[1, 2, 3] < [1, 2, 3, 5] < [1, 2, 3, 5, 6] #and 결합"
      ],
      "metadata": {
        "colab": {
          "base_uri": "https://localhost:8080/"
        },
        "id": "upny01YnqJXw",
        "outputId": "3c167a49-f8f2-4ffd-faa0-a4642ed3c9d2"
      },
      "execution_count": 41,
      "outputs": [
        {
          "output_type": "execute_result",
          "data": {
            "text/plain": [
              "True"
            ]
          },
          "metadata": {},
          "execution_count": 41
        }
      ]
    },
    {
      "cell_type": "code",
      "source": [],
      "metadata": {
        "id": "NapHRyx1upmq"
      },
      "execution_count": null,
      "outputs": []
    }
  ]
}