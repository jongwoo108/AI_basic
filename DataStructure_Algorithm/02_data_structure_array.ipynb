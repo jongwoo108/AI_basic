{
  "nbformat": 4,
  "nbformat_minor": 0,
  "metadata": {
    "colab": {
      "provenance": []
    },
    "kernelspec": {
      "name": "python3",
      "display_name": "Python 3"
    },
    "language_info": {
      "name": "python"
    }
  },
  "cells": [
    {
      "cell_type": "code",
      "execution_count": 1,
      "metadata": {
        "colab": {
          "base_uri": "https://localhost:8080/"
        },
        "id": "m9AKqv5gz-e7",
        "outputId": "36f81127-6774-4e73-f9a4-8932657fe474"
      },
      "outputs": [
        {
          "output_type": "stream",
          "name": "stdout",
          "text": [
            "학생 그룹 점수의 합계와 평균을 구합니다.\n",
            "1번 학생의 점수를 입력하세요.: 80\n",
            "2번 학생의 점수를 입력하세요.: 98\n",
            "3번 학생의 점수를 입력하세요.: 60\n",
            "4번 학생의 점수를 입력하세요.: 77\n",
            "5번 학생의 점수를 입력하세요.: 89\n",
            "합계는 404점입니다.\n",
            "평균은 80.8점입니다.\n"
          ]
        }
      ],
      "source": [
        "# 학생 5명의 시험 점수를 입력받아 합계와 평균을 출력하기\n",
        "\n",
        "print('학생 그룹 점수의 합계와 평균을 구합니다.')\n",
        "\n",
        "score1 = int(input('1번 학생의 점수를 입력하세요.: '))\n",
        "score2 = int(input('2번 학생의 점수를 입력하세요.: '))\n",
        "score3 = int(input('3번 학생의 점수를 입력하세요.: '))\n",
        "score4 = int(input('4번 학생의 점수를 입력하세요.: '))\n",
        "score5 = int(input('5번 학생의 점수를 입력하세요.: '))\n",
        "\n",
        "total = 0\n",
        "total += score1\n",
        "total += score2\n",
        "total += score3\n",
        "total += score4\n",
        "total += score5\n",
        "\n",
        "print(f'합계는 {total}점입니다.')\n",
        "print(f'평균은 {total / 5}점입니다.')"
      ]
    },
    {
      "cell_type": "code",
      "source": [
        "list01 = []                    #[]빈 리스트\n",
        "list02 = [1, 2, 3]             #[1, 2, 3]\n",
        "list03 = ['A', 'B', 'C', ]     #['A', 'B', 'C'] 맨 마지막 원소에 쉼표를 써도 됨"
      ],
      "metadata": {
        "id": "C__JRbV70jo8"
      },
      "execution_count": 2,
      "outputs": []
    },
    {
      "cell_type": "code",
      "source": [
        "list04 = list()               #[]빈 리스트\n",
        "list05 = list('ABC')          #['A', 'B', 'C'] 문자열의 각 문자로부터 원소를 생성\n",
        "list06 = list([1, 2, 3])      #[1, 2, 3] 리스트로부터 원소를 생성\n",
        "list07 = list([1, 2, 3])      #[1, 2, 3] 튜플로부터 원소를 생성\n",
        "list08 = list([1, 2, 3])      #[1, 2, 3] 집합으로부터 원소를 생성"
      ],
      "metadata": {
        "id": "bRVsJ0l-1ZDA"
      },
      "execution_count": 3,
      "outputs": []
    },
    {
      "cell_type": "code",
      "source": [
        "list09 = list(range(7))       #[0, 1, 2, 3, 4, 5, 6]\n",
        "list10 = list(range(3, 8))    #[3, 4, 5, 6, 7]\n",
        "list11 = list(range(3, 13, 2))#[3, 5, 7, 9, 11]"
      ],
      "metadata": {
        "id": "9BD5uJRs4hd2"
      },
      "execution_count": 4,
      "outputs": []
    },
    {
      "cell_type": "code",
      "source": [
        "list12 = [None] * 5           #[None, None, None, None, None]"
      ],
      "metadata": {
        "id": "xQmPYxri4vOo"
      },
      "execution_count": 5,
      "outputs": []
    },
    {
      "cell_type": "code",
      "source": [
        "tuple01 = ()                  #()빈 튜플\n",
        "tuple02 = 1,                  #(1,)\n",
        "tuple03 = (1,)                #(1,)"
      ],
      "metadata": {
        "id": "09aseZ5E41Y9"
      },
      "execution_count": null,
      "outputs": []
    }
  ]
}