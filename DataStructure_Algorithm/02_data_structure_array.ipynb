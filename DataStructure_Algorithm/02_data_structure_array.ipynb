{
  "nbformat": 4,
  "nbformat_minor": 0,
  "metadata": {
    "colab": {
      "provenance": [],
      "gpuType": "T4"
    },
    "kernelspec": {
      "name": "python3",
      "display_name": "Python 3"
    },
    "language_info": {
      "name": "python"
    },
    "accelerator": "GPU"
  },
  "cells": [
    {
      "cell_type": "code",
      "execution_count": null,
      "metadata": {
        "colab": {
          "base_uri": "https://localhost:8080/"
        },
        "id": "m9AKqv5gz-e7",
        "outputId": "36f81127-6774-4e73-f9a4-8932657fe474"
      },
      "outputs": [
        {
          "output_type": "stream",
          "name": "stdout",
          "text": [
            "학생 그룹 점수의 합계와 평균을 구합니다.\n",
            "1번 학생의 점수를 입력하세요.: 80\n",
            "2번 학생의 점수를 입력하세요.: 98\n",
            "3번 학생의 점수를 입력하세요.: 60\n",
            "4번 학생의 점수를 입력하세요.: 77\n",
            "5번 학생의 점수를 입력하세요.: 89\n",
            "합계는 404점입니다.\n",
            "평균은 80.8점입니다.\n"
          ]
        }
      ],
      "source": [
        "# 학생 5명의 시험 점수를 입력받아 합계와 평균을 출력하기\n",
        "\n",
        "print('학생 그룹 점수의 합계와 평균을 구합니다.')\n",
        "\n",
        "score1 = int(input('1번 학생의 점수를 입력하세요.: '))\n",
        "score2 = int(input('2번 학생의 점수를 입력하세요.: '))\n",
        "score3 = int(input('3번 학생의 점수를 입력하세요.: '))\n",
        "score4 = int(input('4번 학생의 점수를 입력하세요.: '))\n",
        "score5 = int(input('5번 학생의 점수를 입력하세요.: '))\n",
        "\n",
        "total = 0\n",
        "total += score1\n",
        "total += score2\n",
        "total += score3\n",
        "total += score4\n",
        "total += score5\n",
        "\n",
        "print(f'합계는 {total}점입니다.')\n",
        "print(f'평균은 {total / 5}점입니다.')"
      ]
    },
    {
      "cell_type": "code",
      "source": [
        "list01 = []                    #[]빈 리스트\n",
        "list02 = [1, 2, 3]             #[1, 2, 3]\n",
        "list03 = ['A', 'B', 'C', ]     #['A', 'B', 'C'] 맨 마지막 원소에 쉼표를 써도 됨"
      ],
      "metadata": {
        "id": "C__JRbV70jo8"
      },
      "execution_count": null,
      "outputs": []
    },
    {
      "cell_type": "code",
      "source": [
        "list04 = list()               #[]빈 리스트\n",
        "list05 = list('ABC')          #['A', 'B', 'C'] 문자열의 각 문자로부터 원소를 생성\n",
        "list06 = list([1, 2, 3])      #[1, 2, 3] 리스트로부터 원소를 생성\n",
        "list07 = list([1, 2, 3])      #[1, 2, 3] 튜플로부터 원소를 생성\n",
        "list08 = list([1, 2, 3])      #[1, 2, 3] 집합으로부터 원소를 생성"
      ],
      "metadata": {
        "id": "bRVsJ0l-1ZDA"
      },
      "execution_count": null,
      "outputs": []
    },
    {
      "cell_type": "code",
      "source": [
        "list09 = list(range(7))       #[0, 1, 2, 3, 4, 5, 6]\n",
        "list10 = list(range(3, 8))    #[3, 4, 5, 6, 7]\n",
        "list11 = list(range(3, 13, 2))#[3, 5, 7, 9, 11]"
      ],
      "metadata": {
        "id": "9BD5uJRs4hd2"
      },
      "execution_count": null,
      "outputs": []
    },
    {
      "cell_type": "code",
      "source": [
        "list12 = [None] * 5           #[None, None, None, None, None]"
      ],
      "metadata": {
        "id": "xQmPYxri4vOo"
      },
      "execution_count": null,
      "outputs": []
    },
    {
      "cell_type": "code",
      "source": [
        "for i in range(0, )"
      ],
      "metadata": {
        "id": "qz__f05M7CTs"
      },
      "execution_count": null,
      "outputs": []
    },
    {
      "cell_type": "code",
      "source": [
        "tuple01 = ()                  #()빈 튜플\n",
        "tuple02 = 1,                  #(1,)\n",
        "tuple03 = (1,)                #(1,)\n",
        "tuple04 = 1, 2, 3             #(1, 2, 3)\n",
        "tuple05 = 1, 2, 3,            #(1, 2, 3)\n",
        "tuple06 = (1, 2, 3)           #(1, 2, 3)\n",
        "tuple07 = (1, 2, 3, )         #(1, 2, 3)\n",
        "tuple08 = 'A', 'B', 'C',      #('A', 'B', 'C')"
      ],
      "metadata": {
        "id": "09aseZ5E41Y9"
      },
      "execution_count": null,
      "outputs": []
    },
    {
      "cell_type": "code",
      "source": [
        "v01 = 1        # 1 튜플이 아닌 하나의 값을 가진 int형 변수\n",
        "v02 = (1)      # 1 튜플이 아닌 하나의 값을 가진 int형 변수"
      ],
      "metadata": {
        "id": "m6ItDW3j60I0"
      },
      "execution_count": null,
      "outputs": []
    },
    {
      "cell_type": "code",
      "source": [
        "tuple09 = tuple()             #()빈 튜플\n",
        "tuple10 = tuple('ABC')        #('A', 'B', 'C') 문자열의 각 문자로부터 원소를 생성\n",
        "tuple11 = tuple([1, 2, 3])    #(1, 2, 3) 리스트로부터 원소를 생성\n",
        "tuple12 = tuple({1, 2, 3})    #(1, 2, 3) 집합으로부터 원소를 생성"
      ],
      "metadata": {
        "id": "N8pVfLepFRg_"
      },
      "execution_count": null,
      "outputs": []
    },
    {
      "cell_type": "code",
      "source": [
        "tuple13 = tuple(range(7))\n",
        "tuple14 = tuple(range(3, 8))\n",
        "tuple15 = tuple(range(3, 13, 2))"
      ],
      "metadata": {
        "id": "TJPuWi2dQRGG"
      },
      "execution_count": null,
      "outputs": []
    },
    {
      "cell_type": "code",
      "source": [
        "x = [1, 2, 3]\n",
        "a, b, c = x\n",
        "a, b, c\n",
        "(1, 2, 3)"
      ],
      "metadata": {
        "colab": {
          "base_uri": "https://localhost:8080/"
        },
        "id": "XqWhyfymQc01",
        "outputId": "5ddd3470-5bba-4e90-bbbe-ff0861d2f1e4"
      },
      "execution_count": null,
      "outputs": [
        {
          "output_type": "execute_result",
          "data": {
            "text/plain": [
              "(1, 2, 3)"
            ]
          },
          "metadata": {},
          "execution_count": 5
        }
      ]
    },
    {
      "cell_type": "code",
      "source": [
        "x = [11, 22, 33, 44, 55, 66, 77]\n",
        "x[2]"
      ],
      "metadata": {
        "colab": {
          "base_uri": "https://localhost:8080/"
        },
        "id": "NxhDyRKNRLc3",
        "outputId": "05fff1c6-2060-4780-968c-3a4f89966f5e"
      },
      "execution_count": null,
      "outputs": [
        {
          "output_type": "execute_result",
          "data": {
            "text/plain": [
              "33"
            ]
          },
          "metadata": {},
          "execution_count": 9
        }
      ]
    },
    {
      "cell_type": "code",
      "source": [
        "x[-3]"
      ],
      "metadata": {
        "colab": {
          "base_uri": "https://localhost:8080/"
        },
        "id": "BgvaYWqflbf_",
        "outputId": "1d9c246a-f232-44d3-e7ef-3661bf383520"
      },
      "execution_count": null,
      "outputs": [
        {
          "output_type": "execute_result",
          "data": {
            "text/plain": [
              "55"
            ]
          },
          "metadata": {},
          "execution_count": 10
        }
      ]
    },
    {
      "cell_type": "code",
      "source": [
        "x[-4] = 3.14"
      ],
      "metadata": {
        "id": "kE9zUbFVlcVt"
      },
      "execution_count": null,
      "outputs": []
    },
    {
      "cell_type": "code",
      "source": [
        "x[-4]"
      ],
      "metadata": {
        "colab": {
          "base_uri": "https://localhost:8080/"
        },
        "id": "WdLx9VkKldzU",
        "outputId": "e14253ed-a591-48ea-c46e-d437b10ee221"
      },
      "execution_count": null,
      "outputs": [
        {
          "output_type": "execute_result",
          "data": {
            "text/plain": [
              "3.14"
            ]
          },
          "metadata": {},
          "execution_count": 13
        }
      ]
    },
    {
      "cell_type": "code",
      "source": [
        "x"
      ],
      "metadata": {
        "colab": {
          "base_uri": "https://localhost:8080/"
        },
        "id": "dmAc8vyelh0M",
        "outputId": "109da4d6-b5b2-434e-96ca-50b54b020dde"
      },
      "execution_count": null,
      "outputs": [
        {
          "output_type": "execute_result",
          "data": {
            "text/plain": [
              "[11, 22, 33, 3.14, 55, 66, 77]"
            ]
          },
          "metadata": {},
          "execution_count": 14
        }
      ]
    },
    {
      "cell_type": "code",
      "source": [
        "x[7]"
      ],
      "metadata": {
        "colab": {
          "base_uri": "https://localhost:8080/",
          "height": 180
        },
        "id": "x9XZWittlizV",
        "outputId": "c744fdf5-c202-4fe6-e6b5-7a6a89963bab"
      },
      "execution_count": null,
      "outputs": [
        {
          "output_type": "error",
          "ename": "IndexError",
          "evalue": "ignored",
          "traceback": [
            "\u001b[0;31m---------------------------------------------------------------------------\u001b[0m",
            "\u001b[0;31mIndexError\u001b[0m                                Traceback (most recent call last)",
            "\u001b[0;32m<ipython-input-15-1515eb8c000f>\u001b[0m in \u001b[0;36m<cell line: 1>\u001b[0;34m()\u001b[0m\n\u001b[0;32m----> 1\u001b[0;31m \u001b[0mx\u001b[0m\u001b[0;34m[\u001b[0m\u001b[0;36m7\u001b[0m\u001b[0;34m]\u001b[0m\u001b[0;34m\u001b[0m\u001b[0;34m\u001b[0m\u001b[0m\n\u001b[0m",
            "\u001b[0;31mIndexError\u001b[0m: list index out of range"
          ]
        }
      ]
    },
    {
      "cell_type": "code",
      "source": [
        "x[7] = 3.14"
      ],
      "metadata": {
        "colab": {
          "base_uri": "https://localhost:8080/",
          "height": 180
        },
        "id": "m2Y51a6olj8I",
        "outputId": "669cb901-66e8-4afd-d342-964e075e7385"
      },
      "execution_count": null,
      "outputs": [
        {
          "output_type": "error",
          "ename": "IndexError",
          "evalue": "ignored",
          "traceback": [
            "\u001b[0;31m---------------------------------------------------------------------------\u001b[0m",
            "\u001b[0;31mIndexError\u001b[0m                                Traceback (most recent call last)",
            "\u001b[0;32m<ipython-input-16-46d5d68ae9dd>\u001b[0m in \u001b[0;36m<cell line: 1>\u001b[0;34m()\u001b[0m\n\u001b[0;32m----> 1\u001b[0;31m \u001b[0mx\u001b[0m\u001b[0;34m[\u001b[0m\u001b[0;36m7\u001b[0m\u001b[0;34m]\u001b[0m \u001b[0;34m=\u001b[0m \u001b[0;36m3.14\u001b[0m\u001b[0;34m\u001b[0m\u001b[0;34m\u001b[0m\u001b[0m\n\u001b[0m",
            "\u001b[0;31mIndexError\u001b[0m: list assignment index out of range"
          ]
        }
      ]
    },
    {
      "cell_type": "code",
      "source": [
        "s = [11, 22, 33, 44, 55, 66, 77]\n",
        "s[0:6]"
      ],
      "metadata": {
        "colab": {
          "base_uri": "https://localhost:8080/"
        },
        "id": "3im5NPv5lowD",
        "outputId": "0296c35c-bd90-48c7-8841-62ef69761e0c"
      },
      "execution_count": null,
      "outputs": [
        {
          "output_type": "execute_result",
          "data": {
            "text/plain": [
              "[11, 22, 33, 44, 55, 66]"
            ]
          },
          "metadata": {},
          "execution_count": 17
        }
      ]
    },
    {
      "cell_type": "code",
      "source": [
        "s[0:7]"
      ],
      "metadata": {
        "colab": {
          "base_uri": "https://localhost:8080/"
        },
        "id": "fxyFdsv_lt51",
        "outputId": "2522fddb-b1c5-402f-861f-9dbcaa1c9e88"
      },
      "execution_count": null,
      "outputs": [
        {
          "output_type": "execute_result",
          "data": {
            "text/plain": [
              "[11, 22, 33, 44, 55, 66, 77]"
            ]
          },
          "metadata": {},
          "execution_count": 18
        }
      ]
    },
    {
      "cell_type": "code",
      "source": [
        "s[0:7:2]"
      ],
      "metadata": {
        "colab": {
          "base_uri": "https://localhost:8080/"
        },
        "id": "WvEdivr6lviZ",
        "outputId": "2bf78b08-1921-4f2c-fe8b-b97d0a7a0e3b"
      },
      "execution_count": null,
      "outputs": [
        {
          "output_type": "execute_result",
          "data": {
            "text/plain": [
              "[11, 33, 55, 77]"
            ]
          },
          "metadata": {},
          "execution_count": 19
        }
      ]
    },
    {
      "cell_type": "code",
      "source": [
        "s[-4:-2]"
      ],
      "metadata": {
        "colab": {
          "base_uri": "https://localhost:8080/"
        },
        "id": "Fyx2nXqFlxc_",
        "outputId": "662aae56-96db-4d3b-820e-3bd0179820a4"
      },
      "execution_count": null,
      "outputs": [
        {
          "output_type": "execute_result",
          "data": {
            "text/plain": [
              "[44, 55]"
            ]
          },
          "metadata": {},
          "execution_count": 20
        }
      ]
    },
    {
      "cell_type": "code",
      "source": [
        "s[3:1]"
      ],
      "metadata": {
        "colab": {
          "base_uri": "https://localhost:8080/"
        },
        "id": "Y2dW33-slzkC",
        "outputId": "84ca65c7-4004-401c-ac3f-82350e48a371"
      },
      "execution_count": null,
      "outputs": [
        {
          "output_type": "execute_result",
          "data": {
            "text/plain": [
              "[]"
            ]
          },
          "metadata": {},
          "execution_count": 21
        }
      ]
    },
    {
      "cell_type": "code",
      "source": [
        "n = 5\n",
        "id(n)"
      ],
      "metadata": {
        "colab": {
          "base_uri": "https://localhost:8080/"
        },
        "id": "cWUrpI8vl0ZA",
        "outputId": "9bffed14-fb0e-46ba-bbf8-62d0da79dfbd"
      },
      "execution_count": null,
      "outputs": [
        {
          "output_type": "execute_result",
          "data": {
            "text/plain": [
              "135057454170480"
            ]
          },
          "metadata": {},
          "execution_count": 22
        }
      ]
    },
    {
      "cell_type": "code",
      "source": [
        "n = 'ABC'\n",
        "id(n)"
      ],
      "metadata": {
        "colab": {
          "base_uri": "https://localhost:8080/"
        },
        "id": "7aXmphOjl-Be",
        "outputId": "dc47beaa-6fe6-4b5c-ff47-20e80b08573e"
      },
      "execution_count": null,
      "outputs": [
        {
          "output_type": "execute_result",
          "data": {
            "text/plain": [
              "135057452997936"
            ]
          },
          "metadata": {},
          "execution_count": 23
        }
      ]
    },
    {
      "cell_type": "code",
      "source": [
        "a, b, c = 1, 2, 3   #a, b, c에 1, 2, 3을 각각 대입하여 변숫값을 출력\n",
        "a"
      ],
      "metadata": {
        "colab": {
          "base_uri": "https://localhost:8080/"
        },
        "id": "k19q1d8pmAES",
        "outputId": "fa255b6c-aeb0-40cb-a031-5b8e723a1d67"
      },
      "execution_count": null,
      "outputs": [
        {
          "output_type": "execute_result",
          "data": {
            "text/plain": [
              "1"
            ]
          },
          "metadata": {},
          "execution_count": 24
        }
      ]
    },
    {
      "cell_type": "code",
      "source": [
        "b"
      ],
      "metadata": {
        "colab": {
          "base_uri": "https://localhost:8080/"
        },
        "id": "2NfaQAd-nhEG",
        "outputId": "028f105c-99f3-4e58-e351-4081978f07b9"
      },
      "execution_count": null,
      "outputs": [
        {
          "output_type": "execute_result",
          "data": {
            "text/plain": [
              "2"
            ]
          },
          "metadata": {},
          "execution_count": 25
        }
      ]
    },
    {
      "cell_type": "code",
      "source": [
        "c"
      ],
      "metadata": {
        "colab": {
          "base_uri": "https://localhost:8080/"
        },
        "id": "kb4D6HdSnhUN",
        "outputId": "099929ec-f32d-46a5-ed6e-f43bca4eaa21"
      },
      "execution_count": null,
      "outputs": [
        {
          "output_type": "execute_result",
          "data": {
            "text/plain": [
              "3"
            ]
          },
          "metadata": {},
          "execution_count": 26
        }
      ]
    },
    {
      "cell_type": "code",
      "source": [
        "x = 6\n",
        "y = 2\n",
        "x, y = y + 2, x + 3\n",
        "x"
      ],
      "metadata": {
        "colab": {
          "base_uri": "https://localhost:8080/"
        },
        "id": "4mZjlQtwnhsK",
        "outputId": "187b1ab8-7083-42ea-edae-1904fbeaef82"
      },
      "execution_count": null,
      "outputs": [
        {
          "output_type": "execute_result",
          "data": {
            "text/plain": [
              "4"
            ]
          },
          "metadata": {},
          "execution_count": 27
        }
      ]
    },
    {
      "cell_type": "code",
      "source": [
        "y"
      ],
      "metadata": {
        "colab": {
          "base_uri": "https://localhost:8080/"
        },
        "id": "cJySG7jgnlme",
        "outputId": "cd19b95f-a2f7-466d-f997-c2fdd20ca02a"
      },
      "execution_count": null,
      "outputs": [
        {
          "output_type": "execute_result",
          "data": {
            "text/plain": [
              "9"
            ]
          },
          "metadata": {},
          "execution_count": 28
        }
      ]
    },
    {
      "cell_type": "code",
      "source": [
        "n = 12\n",
        "id(n)"
      ],
      "metadata": {
        "colab": {
          "base_uri": "https://localhost:8080/"
        },
        "id": "lAuIApaqnnVi",
        "outputId": "a9d0764c-96f5-4808-96b8-058e7570a115"
      },
      "execution_count": null,
      "outputs": [
        {
          "output_type": "execute_result",
          "data": {
            "text/plain": [
              "135057454170704"
            ]
          },
          "metadata": {},
          "execution_count": 29
        }
      ]
    },
    {
      "cell_type": "code",
      "source": [
        "n += 1\n",
        "id(n)"
      ],
      "metadata": {
        "colab": {
          "base_uri": "https://localhost:8080/"
        },
        "id": "OcxthCOknpMR",
        "outputId": "273bfd08-bb67-42b7-f8e9-d88a99c87749"
      },
      "execution_count": null,
      "outputs": [
        {
          "output_type": "execute_result",
          "data": {
            "text/plain": [
              "135057454170736"
            ]
          },
          "metadata": {},
          "execution_count": 30
        }
      ]
    },
    {
      "cell_type": "code",
      "source": [
        "x = 0\n",
        "type(x + 17)    # x + 17의 자료형을 확인\n"
      ],
      "metadata": {
        "colab": {
          "base_uri": "https://localhost:8080/"
        },
        "id": "OX3QkPpeoRAy",
        "outputId": "0e7f9a89-dde3-432e-bfb7-723ae24b551a"
      },
      "execution_count": null,
      "outputs": [
        {
          "output_type": "execute_result",
          "data": {
            "text/plain": [
              "int"
            ]
          },
          "metadata": {},
          "execution_count": 32
        }
      ]
    },
    {
      "cell_type": "code",
      "source": [
        "type(x = 17)"
      ],
      "metadata": {
        "colab": {
          "base_uri": "https://localhost:8080/",
          "height": 180
        },
        "id": "bq3137q5oZ2B",
        "outputId": "9941d952-af23-478f-e3af-1274aba5bbdd"
      },
      "execution_count": null,
      "outputs": [
        {
          "output_type": "error",
          "ename": "TypeError",
          "evalue": "ignored",
          "traceback": [
            "\u001b[0;31m---------------------------------------------------------------------------\u001b[0m",
            "\u001b[0;31mTypeError\u001b[0m                                 Traceback (most recent call last)",
            "\u001b[0;32m<ipython-input-33-51f940ad3e7f>\u001b[0m in \u001b[0;36m<cell line: 1>\u001b[0;34m()\u001b[0m\n\u001b[0;32m----> 1\u001b[0;31m \u001b[0mtype\u001b[0m\u001b[0;34m(\u001b[0m\u001b[0mx\u001b[0m \u001b[0;34m=\u001b[0m \u001b[0;36m17\u001b[0m\u001b[0;34m)\u001b[0m\u001b[0;34m\u001b[0m\u001b[0;34m\u001b[0m\u001b[0m\n\u001b[0m",
            "\u001b[0;31mTypeError\u001b[0m: type() takes 1 or 3 arguments"
          ]
        }
      ]
    },
    {
      "cell_type": "markdown",
      "source": [
        "자료구조의 개념 알아보기"
      ],
      "metadata": {
        "id": "QSO6RyL6of8P"
      }
    },
    {
      "cell_type": "markdown",
      "source": [
        "자료구조는 논리적인 관계로 이루어진 데이터 구성을 말한다.\\\n",
        "자료구조 : 데이터 단위와 데이터 자체 사이의 물리적 또는 논리적인 관계\n",
        "\n",
        "자료구조는 데이터가 모여 있는 구조. \\\n",
        "자료구조를 알아야 하는 이유는 컴퓨터에서 처리해야 하는 많은 데이터를 모아 효율적으로 관리하고 구조화하는 데 있다."
      ],
      "metadata": {
        "id": "MhBhSuSXpPAc"
      }
    },
    {
      "cell_type": "code",
      "source": [
        "x = [15, 64, 7, 3.14, [32, 55], 'ABC']\n",
        "len(x)"
      ],
      "metadata": {
        "colab": {
          "base_uri": "https://localhost:8080/"
        },
        "id": "F-2ugTc9paJ4",
        "outputId": "11412768-ac29-4f2d-a09f-3a0270245ce6"
      },
      "execution_count": null,
      "outputs": [
        {
          "output_type": "execute_result",
          "data": {
            "text/plain": [
              "6"
            ]
          },
          "metadata": {},
          "execution_count": 34
        }
      ]
    },
    {
      "cell_type": "code",
      "source": [
        "if x:\n",
        "    x = 1\n",
        "    #x가 비어있지 않으면 (True) 실행\n",
        "else:\n"
      ],
      "metadata": {
        "colab": {
          "base_uri": "https://localhost:8080/",
          "height": 144
        },
        "id": "YcBXZktupwxO",
        "outputId": "d2421b2e-9dc5-4662-d65a-bba4d479420c"
      },
      "execution_count": null,
      "outputs": [
        {
          "output_type": "error",
          "ename": "SyntaxError",
          "evalue": "ignored",
          "traceback": [
            "\u001b[0;36m  File \u001b[0;32m\"<ipython-input-40-1f858a601b73>\"\u001b[0;36m, line \u001b[0;32m4\u001b[0m\n\u001b[0;31m    else:\u001b[0m\n\u001b[0m         ^\u001b[0m\n\u001b[0;31mSyntaxError\u001b[0m\u001b[0;31m:\u001b[0m incomplete input\n"
          ]
        }
      ]
    },
    {
      "cell_type": "code",
      "source": [
        "if x:\n",
        "    x = 1\n",
        "    # x가 비어있지 않으면 (True) 실행\n",
        "else:\n",
        "    # x가 비어있으면 (False) 실행\n"
      ],
      "metadata": {
        "colab": {
          "base_uri": "https://localhost:8080/",
          "height": 144
        },
        "id": "MNXxkm9dp5Kp",
        "outputId": "cfeceb61-beee-4114-d55d-e5d265465cfc"
      },
      "execution_count": null,
      "outputs": [
        {
          "output_type": "error",
          "ename": "SyntaxError",
          "evalue": "ignored",
          "traceback": [
            "\u001b[0;36m  File \u001b[0;32m\"<ipython-input-38-81d8ba5da18a>\"\u001b[0;36m, line \u001b[0;32m5\u001b[0m\n\u001b[0;31m    # x가 비어있으면 (False) 실행\u001b[0m\n\u001b[0m                         ^\u001b[0m\n\u001b[0;31mSyntaxError\u001b[0m\u001b[0;31m:\u001b[0m incomplete input\n"
          ]
        }
      ]
    },
    {
      "cell_type": "code",
      "source": [
        "[1, 2, 3] == [1, 2, 3]\n",
        "[1, 2, 3] < [1, 2, 4]\n",
        "[1, 2, 3, 4] <= [1, 2, 3, 4]\n",
        "[1, 2, 3] < [1, 2, 3, 5]\n",
        "[1, 2, 3] < [1, 2, 3, 5] < [1, 2, 3, 5, 6] #and 결합"
      ],
      "metadata": {
        "colab": {
          "base_uri": "https://localhost:8080/"
        },
        "id": "upny01YnqJXw",
        "outputId": "3c167a49-f8f2-4ffd-faa0-a4642ed3c9d2"
      },
      "execution_count": null,
      "outputs": [
        {
          "output_type": "execute_result",
          "data": {
            "text/plain": [
              "True"
            ]
          },
          "metadata": {},
          "execution_count": 41
        }
      ]
    },
    {
      "cell_type": "markdown",
      "source": [
        "02-2 배열"
      ],
      "metadata": {
        "id": "NapHRyx1upmq"
      }
    },
    {
      "cell_type": "code",
      "source": [
        "a = [1,2,3,4]"
      ],
      "metadata": {
        "id": "rUaKVc3-kd--"
      },
      "execution_count": null,
      "outputs": []
    },
    {
      "cell_type": "code",
      "source": [
        "maximum = a[0]\n",
        "if a[1] > maximum: maximum = a[1]\n",
        "if a[2] > maximum: maximum = a[2]"
      ],
      "metadata": {
        "id": "qk07SV95MFxN"
      },
      "execution_count": null,
      "outputs": []
    },
    {
      "cell_type": "code",
      "source": [
        "maximum = a[0]\n",
        "if a[1] > maximum: maximum = a[1]\n",
        "if a[2] > maximum: maximum = a[2]\n",
        "if a[3] > maximum: maximum = a[3]"
      ],
      "metadata": {
        "id": "fMiaMxqxkP-4"
      },
      "execution_count": null,
      "outputs": []
    },
    {
      "cell_type": "markdown",
      "source": [
        "![image.png](data:image/png;base64,iVBORw0KGgoAAAANSUhEUgAAAjoAAAKzCAYAAAAX96fQAAAgAElEQVR4AeydB5RlRbm2J5HEcA0YQH9EouCAGDAQlDQMGUS9YgAFhCEaUFBBMghexXW9elFRchYTiGIiZxQlDBJUjIQhDDAMAwzc+tdT8h6+3nNOd0/3CTu8e63TldNTdarerl17nwnJlwmYgAmYgAmYgAnUlMCEmrbLzTIBEzABEzABEzCBZKHjQWACJmACJmACJlBbAhY6te1aN8wETMAETMAETMBCx2PABEzABEzABEygtgQsdGrbtW6YCZiACZiACZiAhY7HgAmYgAmYgAmYQG0JWOjUtmvdMBMwARMwARMwAQsdjwETMAETMAETMIHaErDQqW3XumEmYAImYAImYAIWOh4DJmACJmACJmACtSVgoVPbrnXDTMAETMAETMAELHQ8BkzABEzABEzABGpLwEKntl3rhpmACZiACZiACVjoeAyYgAmYgAmYgAnUloCFTm271g0zARMwARMwAROw0PEYMAETMAETMAETqC0BC53adq0bZgImYAImYAImYKHjMWACJmACJmACJlBbAhY6te1aN8wETMAETMAETMBCx2PABEzABEzABEygtgQsdGrbtW6YCZiACZiACZiAhY7HgAmYgAmYgAmYQG0JWOjUtmvdMBMwARMwARMwAQsdjwETMAETMAETMIHaErDQqW3XumEmYAImYAImYAIWOh4DJmACJmACJmACtSVgoVPbrnXDTMAETMAETMAELHQ8BkzABEzABEzABGpLwEKntl3rhpmACZiACZiACVjoeAyYgAmYgAmYgAnUloCFTm271g0zARMwARMwAROw0PEYMAETMAETMAETqC0BC53adq0bZgImYAImYAImYKHjMWACJmACJmACJlBbAhY6te1aN8wETMAETMAETMBCx2PABEzABEzABEygtgQsdGrbtW6YCZiACZiACZiAhY7HgAmYgAmYgAmYQG0JWOjUtmvdMBMwARMwARMwAQsdj4HSE3jmmWfS//3f/6WDDz44Pf300636zp8/v2W3xQRMwARMwATaEbDQaUfFfqUhEMXMxIkTc72i2ClNRV0REzABEzCBUhKw0Cllt7hSkcC8efOyc8KE54ZrFEAxru0mYAImYAImEAk8t3JEX9tNoCQEuGWla8qUKbImbmf5MgETMAETMIGRCFjojETI4QMloNtUTz31VGJHB+ETxc9AK+fCTcAETMAESk/AQqf0XeQKcpsKwbPkkksOOYxsweOxYQImYAImMBIBC52RCDl8oATiLaq4oxP9B1pBF24CJmACJlBqAhY6pe4eV067Nrp1FYkoLPrZbgImYAImYAKRgIVOpGF7aQkgani83OKmtF3kipmACZhAKQlY6JSyW1ypIgELnSIRu03ABEzABEZDwEJnNJQcZ+AELHQG3gWugAmYgAlUkoCFTiW7rXmVttBpXp+7xSZgAibQDQIWOt2g6Dx6TsBCp+eIXYAJmIAJ1JKAhU4tu7V+jbLQqV+fukUmYAIm0A8CFjr9oOwyxk3AQmfcCJ2BCZiACTSSgIVOI7u9eo220Klen7nGJmACJlAGAhY6ZegF12FYArwskGvRRRdNsuPW72ANm9iBJmACJmACjSZgodPo7q9O49nR4Scg/NMP1ekz19QETMAEykDAQqcMveA6dCSgHRx2b6ZMmZLjIXoseDoic4AJmIAJmEAgYKETYNhaPgKIGi6EDjs68ZIIin62m4AJmIAJmEAkMHTliCG2m0BJCMybNy/XZNq0aa0zOt7RKUnnuBomYAImUHICFjol76CmV087OvPnz0+TJk1q3bLCHz9fJmACJmACJjAcAQud4eg4rFQEireuSlU5V8YETMAETKCUBCx0StktrlQkoJ2biRMnDtnRiXFsNwETMAETMIF2BCx02lGxX+kIcKsKoaNbWaWroCtkAiZgAiZQSgIWOqXsFleqSMBCp0jEbhMwARMwgdEQsNAZDSXHGTgBC52Bd4ErYAImYAKVJGChU8lua16lLXSa1+dusQmYgAl0g4CFTjcoOo+eE7DQ6TliF2ACJmACtSRgoVPLbq1foyx06tenbpEJmIAJ9IOAhU4/KLuMcROw0Bk3QmdgAiZgAo0kYKHTyG6vXqMtdKrXZ66xCZiACZSBgIVOGXrBdRiRgIXOiIgcwQRMwARMoA0BC502UOxVPgIWOuXrE9fIBEzABKpAwEKnCr3kOuY3IvvNyB4IJmACJmACC0vAQmdhiTn+QAh4R2cg2F2oCZiACVSegIVO5buwGQ2w0GlGP7uVJmACJtBtAhY63Sbq/HpCwEKnJ1idqQmYgAnUnoCFTu27uB4NtNCpRz+6FSZgAibQbwIWOv0m7vLGRMBCZ0zYnMgETMAEGk9gYEKHhWvChAn+mIHHgMfAmMfApEmTclqeyGM+kVtm42d4AzABE0gDFzruAxMwARMYK4H58+fnpPzjFK8nn3wyi57oZ7sJmEAzCVjoNLPf3WoTqAWBp59+OrcDofPUU09lu8QPOzy+TMAETGBgM4FuXbkLTMAETGA8BBA22tGRiQDidpYvEzABE7DQ8RgwAROoLIFnnnlmSN3nzZvXcntHp4XCFhNoNAELnUZ3vxtvAvUggOCJogfBY6FTj751K0xgvAQsdMZL0OlNwAQGRgBxo7M58ZwO9ilTpgysXi7YBEygPAQsdMrTF66JCZjAGAnoALKSI3S8oyMaNk2g2QQsdJrd/269CdSSgIVOLbvVjTKBMRGw0BkTNicyARMoMwELnTL3jutmAv0lYKHTX94uzQRMoA8ELHT6ANlFmEBFCFjoVKSjXE0TMIHRE7DQGT0rxzSBuhOw0Kl7D7t9JtBAAhY6Dex0N9kEOhCw0OkAxt4mYALVJWChU92+c81NoNsELHS6TdT5mYAJDJyAhc7Au8AVMIHSELDQKU1XuCImYALdImCh0y2SzscEqk/AQqf6fdjTFujXoWMhejlbfOV+DLd9KAEWXV1PPvmkrG3NyDSmi5E7xZG/zHZ9F/Ops91Cp86967aZwMIRsNBZOF6NjI2wkbhp8uI5ls6X6IhpI0MW5ChosJNGfoqLqT4gL+IoTPFjWTFuLLspdvj5zchN6W230wSGJ2ChMzyfxofGBVO7EXFBbTygUQKAY2SJSJGYIQu5I1sJGX7LKfpHu9KpGvrdJ9wxnsKbYlroNKWn3U4TGJmAhc7IjBodQ4sxi7QWXpkKazSgERofxQ1RJUTEDpOPmBIHgaJ4xexjvBgHERrzJJ3cxTya4Kbt3tFpQk+7jSYwMgELnZEZOUYgMG/evJaryTsGLQijsETBEYWKdsjIAn/iKW6RLe4YXwJKJnlI+GDyKeYxiqrWJoqFTm260g0xgXETsNAZN8L6Z6AFNC6qTzzxRP0b3sUWSsCQ5dy5c9vmHPkSX0IlChwEEf4KI6PHH3+8bX5N9rTQaXLvu+0mMJSAhc5QHnZ1IBAX4Q5R7N2GgAQOwiTu5oindnJIKkGJXUKHdIorf8yYF+4ofLBrV4ewJl4WOk3sdbfZBNoTsNBpz8W+zxJgwTj00EPT9OnT04MPPjhkQTWk0ROIQmTWrFlpk002yWdIOEdy1FFHtYQLvCV4sOuSsGF35/DDD0+TJ0/O6Xfbbbe8o0PcKJqUrqkmPHxGp6m973abwFACFjpDefTdFRczCteC1q4iWixlKq7y0AJJWvlhV/xoV1qVE3cNYjzsLMQbb7xxeuCBB1qLcDF+TKPyimUQR36xfvhzKd2zzpYRzwW1PFPKOx2kIa+Yn+qGn8pT/ooX4xCGfyyfdEU/4hXzw095YdctvRgvhpPn7NmzM8+TTz65lR/+infKKaekSZMmtYTQYYcdNqR9lMOFAJXQwU0e0cyOhv6BhYVOQzvfzTaBAgELnQKQfjuZkHUGQwsVdcCuxZbFU2EytSgW66u88I9xZFd6pZNQkDumx4/wdn6KT37D1U/hxFcdsONP3rRR7VSeMV6Mix0xV6yz0klk4I51piw+uqIIwY88Fa56RdFIfUhDuVyKi1t++BfLxE/h5EGemI888kjadNNN0xlnnNHKi7iUgaiZOnVq+uMf/4hXZrvTTjulPffcM82ZM6cVn3wQoBY6GdMCf+gjC50FsNjDBBpJwEKnJN3OwqULuxZI+eGWINBCG9MojPiKiz0u2BIC8iNeLIc8dBUPuD722GM5qFim4qtM6taufvKLZciPPPBXWCwj1k/1VjraQxrFkb/qpHzlJr3iqgy5iSM/7PJXmcoDk3KK/lHkxDrFdLLfe++9eUfnzDPPzF6wJs/rr78+L87nnHNOdqsOf/7zn9Maa6yR2OnRRRlHHHGEhY6AFEx4WugUoNhpAg0lYKEz4I7X4ozJ4vXwww+nadOm5XMY/FfPf/dTpkzJk/YhhxySa3vppZdmNxM5ZzVOOumk7K+FkUX49NNPz3GUlri777576wmd2267Lb3hDW/IC+gdd9zRonDqqafmdEcffXT2Y/Fnl2HzzTdPnC2hfpwvoS533nnniPWjXBZ08qF+pN9ggw1ynhSAP+3mIj8WdOrAxa2dN73pTYm6HnDAAfl2zsSJE3OZ+NFOdjQWWWSRXGd2Sf71r3/ltMpT4iUKkRyhIK6isKMv9CGuuGJXvrKr/3BTFoy4zRdvPcHg8ssvJ0qLAXHUzhyQUmbylre8Jd14443yym1kJ2fXXXfNbRVHIhx88MEWOi1SQy30C9x9mYAJmMDAZgJPRM8Nvrg7wDkYFkEm6RkzZuRbFyy0l112WRY173nPe7K/zq2ceOKJ2R8xoUWXHQHSX3nlla1C7r///rTZZpuljTbaKN1zzz3Z/+qrr04IB26NsGPD2RFEFkKG+Fzkyc7BhhtumB566KH8IQ/y33nnnUesH7sQxEV4cXGgGUHCgdp4Uc4f/vCH9OY3vzkLANos0UX6a6+9Nkd/9NFH8+K+2mqr5bZcccUVWXxQN+qNILvvvvti1tkeBQIeUdhE/r/+9a9b3MVT4oY8ZI8FyA9mW2yxRdpjjz2S+od4Z511VmZw2mmn5WTqC9qnMhAzCFEOfdMW2h8Fls5JSciREWLTt65iTzxnhyvjxpcJmIAJDGwm8ET078GnhQ6TBZPbGizWa621Vrrllltaix2LI/4IEYkQcuC8B8KDBQ+hwgLLgsl/+1wszrq0E3TNNddkL8rTEzwsxgcddFBeHKJAol5HHnlkq1yJIQTJ7bffPmL9ECbs4LAjwa0m2ofg4iBtXMwRG9yiWXXVVbMwoIKINxYrdpRoh1ghGBBo1JmLtLRFu1iIH+UtEaJ4OUH4o3A4UBaCgiuKDOKobJm6DaisqB/c2CW76aabsjfpyIc+QRQiXNlZQsggHKkv+fFBANKPxIuCCjvto83a3VK4z+iI/oImTC10FuRiHxNoIgELnQH3OhMyCxcXdkQMC97HPvaxvMDhr8WRHQvt8uDPQorQ4aAqQkeLrxbvnOmzYocFl1tBTP4IHi7KY/cD8aRbXNppibd6DjzwwByHuCzS7DqwC6Rdi+HqR3yEF7sc1I882NFB6OiSqLj11lvzrSt2qbhUX4QLF5yIyyFe2oGwiLsx7HohgC655JIcP/5Re8SGfBBdtJ3bTLQbHvGSW2kwY3nEVZyYruhPm+m7vffeOwsa+oxdO9rBRV0QOghZOOmFguJCHG5PclvrhhtuyGn4gzD1jk4LxxAL/WKhMwSJHSbQWAIWOiXpei1q3Jpgx4PbRXERZSFkcdxll12G3HZBbCB+iv7strC7wGS/6KKLZpPzPCzqcceDMiQc4m6R6oNA4LwOCzW7OSza1IP6KQ4IO9WP9CzGH//4x3O9uTVHXggLpZd44NwNZ5J0SJddDM7szJw5c0gvUV/aEs+9IIJw0z5M5UlCCRXZEUg6Q6NzMooPD8WHE/wkArFzuy/2iyomsYpbu0PE56MzRIhDykHMIhZ1K4s02uWBE32q+qguMOF2HeeYuKiDDyNnFG3/wAf2vkzABExgYDOBJ6J/Dz4taCz6fCQYtOMhMcDiiECIOzeEcWuIXQB2TTjnwa4JwodJngUasYOA4GInhwX+qquuGjLyuTWEP6JCjzWrXCJSF8QNB4n5YB9t/aIQY6eC9iGoEANaxCmD8UA9V1999XT22WdnFgga3PGwNHF160pCRwwvvvjivKND+2LeslMGaWGDYFEb8deFn/zJTxwxlS7GVzr8uCWoeOwswRV/2s2tO/qFPqIv2dWSyCIPzgwRB392mnSpLM7jcP6HtLpg6B0d0Rhqwo2+8GUCJmACA5sJPBE9N/gQA1rQOCjMgsZ/63GXQLeMWNhYLBWfRZ5dAIQOuyfaheD8igSAFm5u7TD5Y3IhALQLgnhhx2CvvfbK4olwlYGo4bYKdeODXUJHrehUP+oqIUY7JXR0hkjpMdmF0mPUtB0h8MY3vjELoChAvve976UlllhiyC0q6sqBZdqnW134qe2wkF2MiKtdFbGiHsTTrS7cEkqYMZ7qTnwJFXbjEIMxHge9ub3Ih3x5Movbk/QRdRRnhNGaa66Zd21i3RFKMNxxxx3zoXGV61tXIrGgCT8LnQW52McEmkjAQmfAva5Fjmpg5z92REcUAvJnR4ddARZSLb4sohxg5dYVokK3oeJuh8pgYWWngTD82P1BIJEvQoVzICwOcaeBenEYef31189xiIcdP13D1U8CgPpRV25dsaPDos6ldhCP2zPUT++LQYRI6KgNxD/33HNzPeOuDP7sWLGLxRkdxUcwyU552CUg4cgOCrfBtPuiNimu6qg8ZOo8lMQTuzCIF916Uj7EhxkHsrX7whkdGEpkEUf1Z2eNs0m6qKt2unRLjzDK9WFkUVrQhKmFzoJc7GMCTSRgoVOCXmcxY6Hjv30WRZ7IOeaYY1oigCrijyDhP3vtFmgnYZ999skCiHx4BwuHVtlx0SJM+i9+8YtZYPDkjg77YrIYXHTRRZkCQokFmfMjukVCHtwiYReH3Rg+2PGL+XeqH7sR7GRQb3Z0uBBJ7B6xg6Mr3vZBrLFQ6daV4qk8BALnXrhFRTxdCDjaU7w1p/AYFz+Yc8ENYYnIkoDDT1eMJ7vCMNUf7MKxI8OhatWV224IO0QQAhZO7Oiwa6d2xnpRD8Qd55LIg3ognhBJjA+Vj+kdndgLQ+0wtdAZysQuE2gqAQudAfe8Fi5Vgx2PLbfcMi9iCmPSZscAAcLuDedydGlHh4UQUcGFMOBsCxM9HxZwFn8WZHaE2DXQC/hwx90JDuqSBnGi/BBJLNIs0HohHn66hqsf4oazJ9pxIg3xJSxUR9r1z3/+Mx/ERsjQdh6/ph06N6TytPOEQJOgoG3XXXddrju3pvCnbIkQ3JSrCzsfpVe9uK3HLldkHOOoT4gvO6aEEQKTNi222GLZRKTQR9xWY+eInRz6B/GjHR3yYkdLFzs3iy++eE5PXtr9IlztwU5Z2iXCrfbJVH5NNGEAO18mYAImMLCZwBPRc4OPhZKPFtS4mMkOL4VrIVOYTHLErvxwKw2mzp2wKCsP1ULxlCbmWYxLHPkpHm7lEcOwUx8uTAkC3EqbA8M7f4r+Cpcgk1umysNdjKM6KU/cqk9MJzYxnHhKp7IwSdfOnzDSkEfMW22WH0+vIRy5RSg/5YtJG1Qf3Fz4qd64Cfetq3+zafcXrhY67cjYzwSaR8BCpwR9rsWYqmhR1IIZ/bBrgS0uhO2aUVz0FUeLq8qlzJifFlQt2IpPPNUPv+ivvNvVT/UgvsKVD+l0Swu74mJX/tRNdvzZ/VAdcXNFN/Xmg19Mp7IJU/kKV5pnsxuSH3HJizhcMY3shCt/5UE6hSt/3Dyir8fLcSsO6VQG9mL9VbbieEdHpBc0YWqhsyAX+5hAEwlY6JSg11nQ4qWFjMk62omjBVp2uZUH8ZVGecZ85FeMgz9+yi8uvtGu9PJTPnIrPfGwa/FX/fAnruLH/KKf4ke/KMaUDlNxsas87Kob4cpHcXETLv+YX0yrPBSu9IpD+piH2i8/pcettDy5xnkr3bpSHOUZTZUrM9bZj5eLyoImvC10FuRiHxNoIgELnSb2utvcdwJRzHDOCaHDQsyHW1ASQSzQEmsSS1RW4Yg9BA7nfUirMzoSUjFN3xtZogLhYKFTog5xVUxggAQsdAYI30XXn4CEB0JHYoVWa+cHP8WRwCEcP9LwUVz5Y8a8cEchhZ28Yn7EadJlodOk3nZbTWB4AhY6w/NxqAl0hYDEDJnpabZixkVBI/ESb9khcPBXGHnEJ7aKeTbVbaHT1J53u01gQQIWOgsysY8JdJVAFDlxJ6YoYIinuFHIUBncMb5EkUziaAdHuznFPLraqJJnZqFT8g5y9UygjwQsdPoI20U1j0AUIrReYkSCRuImCiAEiuIVicV4MQ4iKOZJOrmLeTTBTdt9RqcJPe02msDIBCx0RmbkGCYwbgIInih6ECxRiMgdd2EkahA00T/alU4VjOInxlN4U0wLnab0tNtpAiMTsNAZmZFjmMCYCUQxo0wkYHATHuNgj+JFcTGjUELEKAw76aKwiXFVbpNMeHhHp0k97raaQGcCFjqd2TjEBLpCIAqZeM6mXeZRrMR0MW6nOPKXKSEU0zbFbqHTlJ52O01gZAIWOiMzcgwTMIGKEbDQqViHubom0EMCFjo9hOusTcAEBkPAQmcw3F2qCZSRgIVOGXvFdTIBExgXAQudceFzYhOoFQELnVp1pxtjAiYAAQsdjwMTMAERsNARCZsmYAK1IWChU5uudENMYNwELHTGjdAZmIAJlI2AhU7ZesT1MYHBEbDQGRx7l2wCJtAjAhY6PQLrbE2gggQsdCrYaa6yCZjA8AQsdIbn41ATaBKBvgkdJh69wEwvNPObS5s01MbXVo0ZxhBjiUvm+HJ26ioTYFxoXimanl+q3LOuuwl0j0DPhQ6voo8Lkl5Nz6Q0ZcqU7rXEOdWWgH6/KY6j2jbWDRsTgXZjw0JnTCidyARqR6DnQkfE5s6dK2tL+HgiaiGxpQMB7eTMmzevFUNiWWYrwJbGEWB8SORIEGtceH5p3HBwg02gLYG+CR2VziSkxWvSpEl5kmKi8scM2o0BjRtM/U4U8bSYtUtjv+aMJY0PjQfc9D/XxIkTFWzTBEygwQR6LnQ0AWnykcmixUTkjxkMNwb4r5wPcRDG2CdPnuxx4+9OHgMaH9wGl13jBdOXCZiACfR1JtBOjkzw+7/v5vz3PZa+1leUtAgd3arQoeSx5Ok09RlzmkPinKIxY9METMAEINAXocO9cxYXrmh3F5jASAQkbIjHf+hxQdOYGikPh9eXQBwPsmsXub6tdstMwAQWhkDPhY4e+aRS0a5JaWEq67jNIyAxw+LF7QmNG/k3j4hb3I6AxI3HRTs69jOBZhPoudBpNl63vlsEWMA4p+OFrFtEnY8JmIAJNIOAhU4z+rnyrbTQqXwXugEmYAImMBACFjoDwe5CF5aAhc7CEnN8EzABEzABCFjoeBxUgoCFTiW6yZU0ARMwgdIRsNApXZe4Qu0IWOi0o2I/EzABEzCBkQhY6IxEyOGlIGChU4pucCVMwARMoHIELHQq12XNrLCFTjP73a02ARMwgfESsNAZL0Gn7wsBC52+YHYhJmACJlA7AhY6tevSejbIQqee/epWmYAJmECvCVjo9Jqw8+8KAQudrmB0JiZgAibQOAIWOo3r8mo22EKnmv3mWpuACZjAoAlY6Ay6B1z+qAhY6IwKkyOZgAmYgAkUCFjoFIDYWU4CFjrl7BfXygRMwATKTsBCp+w95PplAhY6HggmYAImYAJjIWChMxZqTtN3AhY6fUfuAk3ABEygFgQsdGrRjfVvhIVO/fvYLTQBEzCBXhCw0OkFVefZdQIWOl1H6gxNwARMoBEELHQa0c3Vb6SFTvX70C0wARMwgUEQsNAZBHWXudAELHQWGpkTmIAJmIAJpJQsdDwMKkHAQqcS3eRKmoAJmEDpCFjolK5LXKF2BCx02lGxnwmYgAmYwEgELHRGIuTwUhCw0ClFN7gSJmACJlA5AhY6leuyZlbYQqeZ/e5Wm4AJmMB4CVjojJeg0/eFgIVOXzC7EBMwAROoHQELndp1aT0bZKFTz351q0zABEyg1wQsdHpN2Pl3hYCFTlcwOhMTMAETaBwBC53GdXk1G2yhU81+c61NwARMYNAELHQG3QMuf1QELHRGhcmRTMAETMAECgQsdApA7CwnAQudcvaLa2UCJmACZSdgoVP2HnL9MgELHQ8EEzABEzCBsRCw0BkLNafpOwELnb4jd4EmYAImUAsCFjq16Mb6N8JCp/597BaagAmYQC8IWOj0gqrz7DoBC52uI3WGJmACJtAIAhY6jejm6jfSQqf6fegWmIAJmMAgCFjoDIK6y1xoAhY6C43MCUzABEzABFJKFjoeBpUgYKFTiW5yJU3ABEygdAQsdErXJa5QOwIWOu2o2M8ETMAETGAkAhY6IxFyeCkIWOiUohtcCRMwAROoHAELncp1WTMrbKHTzH53q03ABExgvAQsdMZL0On7QsBCpy+YXYgJmIAJ1I6AhU7turSeDbLQqWe/ulUmYAIm0GsCFjq9Juz8u0LAQqcrGJ2JCZiACTSOgIVO47q8mg220Klmv7nWJmACJjBoAhY6g+4Blz8qAhY6o8LkSCZgAiZgAgUCFjoFIHaWk4CFTjn7xbUyARMwgbITsNApew+5fpmAhY4HggmYgAmYwFgIWOiMhZrT9J2AhU7fkbtAEzABE6gFAQudWnRj/RthoVP/PnYLTcAETKAXBCx0ekHVeXadgIVO15E6QxMwARNoBAELnUZ0c/UbaaFT/T50C0zABExgEAQsdAZB3WUuNAELnYVG5gQmYAImYAIpJQsdD4NKELDQqUQ3uZImYAImUDoCFjql6xJXqB0BC512VOxnAiZgAiYwEgELnZEIObwUBCx0StENroQJmIAJVI6AhU7luqyZFbbQaWa/u4G1tlQAACAASURBVNUmYAImMF4CFjrjJej0fSFgodMXzC7EBEzABGpHoBJC54knnmiBf/rpp7NdpgKOP/74tP7666cJEyakSZMmZRO7P2bgMVDuMTB58uT8Pd1ggw3SqaeemubPnz/kOy73M888o697Qvj6MgETMIHRECi90NEkR2M0uWnCI4zPfvvtl1ZbbbV02WWX5TYXRdBoQDiOCZjAYAjoO37NNdek5ZdfPn3+859vVUTfdXk89dRTsrYEUcvDFhMwARNoQ6D0Qkd1ZoLThIjfvHnz0iOPPJK222679J73vCfdf//9OapEDqKoOEkqL5smYALlIzB37tw0Z86ctPXWW6etttoqf6f1Heb7/Pjjj+dK6x+e8rXANTIBEygjgUoInShwnnzyyYTo+f3vf59WXXXVtO+++2auTIiaFKO9jNBdJxMwgaEE9A8KvgiZ/fffP3+/r7766hxR4drRiXPC0JzsMgETMIGhBCohdPQfHCafk046Kd/TP+GEE3JrorAhXJOg0g1tsl0mYAJlIhC/v/wjo+s73/lOmjJlSsLkimGKY9METMAERiJQeqEjsaLdGu7fcx7nyiuvzG1TOA4ETnTrv8CRIDjcBExgMASK/5ToO8v3mM9VV12VVlxxxbzDoxqSRvHkZ9METMAEOhEovdCh4oicBx98MN+332KLLbJdDdKEJyGEPxOh//sTIZsmUF4CfG/bfYfjPyyzZ8/OZ/G23Xbb1lm88rbINTMBEygbgdILHUTLDTfckP+rYzdHgkaTI0D1XyH26F822K6PCZjA8AT0/dX3PAqez3zmM3k394orrsiZxO/98Lk61ARMoMkEei50tAUNZCavODkRpgmN8BimCe+UU07J53E4l6O4cfJrcudVpe3qy9jH6kv8dMAUO3GLY0btjO9Tkl+7MUNY9FdcyoxjzuNIZMptxvHD+7I4t6PzebEPY5+3GyvlbqVrZwIm0CsCPRc6VJyFLC5e+MUJShOZ/Hh0nIsnL1ZaaaV03XXXZXdcHPEounMk/ykVAfUtlaJ/WYziWJDIwS/GJb7GQbGfcRM3+isu+T/66KNp2rRpiSd28N9pp53yAXaBienkZ7OcBOhnjQuZl156aVpllVXS5z73uValNXfQ/4rXCrTFBEyg0QT6InSKhLXg4d9u0eFdGptsskninjxnc2IcTWjRr5i/3eUjUPwPm35UH2Lqv3H8JX40PtTnvGeF6/DDD8+7fPxnz1uPJ06cmHi77vTp09O9996bP5tvvnn6zW9+kyh31113Teecc04WWCpT5ZWPlGvUiQDjQv33wAMP5PdnbbPNNgl7vIijMRP9bTcBE2gmgZ4LnfjflSYpUMeJiDhyX3755fn9GQceeGCrRwgjrRZLL1ItNJWwxP6lL9XXqvxhhx2WjjrqqCH/ibMT02m80P8xH+wXXXRR3rlBDD300EMJocOTeYjmPfbYI5188sktMUW5xTqoLjbLRUD9HOcRaqiHDdj1ZXfn+uuvHzJ+iOM+LldfujYmMCgCPRc6mqjiokVj8Y+TFxPXaaedlu+/cx9ecTDjf/hKIzNH9J/SEoiLDXaNA/qUD6Jln332SYccckjbN9/Sz0ojoavGkh+3qdj1O+aYY9LRRx+db1XxlM7GG2+cOLSKYNp9990TZ710aZGU22Z5CcTxo++8/BgXfJg32Nk78cQTc0PifFHelrlmJmAC/SLQc6GjhmhywowTkXZnDjrooLTccsvl92aQRpOa7HGRI0z5KX+b5ScQBYb678Ybb0wrr7xyWn311dMtt9wypBEaGxI6BBKHc1ssbEsttVRab7310tve9rY0derUVnp2dDbaaKM8lh577LE0Y8aMdPrpp+cxFfOKY2xIwXaUikAcN8wdEjiqJOG8KX2FFVZIX/jCF1pzQ0ynuDZNwASaR6DnQocFLU5MLF5abBAvDz/8cP5tG+616/eq6AbFaSeKtEg2r7uq1+LYV9g1HmjJ3//+99z3iNxPf/rTafvtt0/33HNPbmRR2EbRozzxw87ti7322isLGdz/+te/0pZbbpl/5JXFjjM6Z5xxRs5XaatHspk1Vh/T+th3mh8iFXb36Hd+K4tdPl8mYAImAIGeC50iZk1WLEDXXnttev3rX59/rVj/XRMe7aSP/5lpwcNfeRXLsLtcBOgnLUzY+fzpT3/Kh0l5NxK7LixSCB5+pPWOO+5oNUBCt9jXGge/+tWv8o4OO0NclMOPvbKjwyFldn44tKzbGspYY0xum+UmoHEThY/GlOYHxTnggAPyrp/et1Pulrl2JmACvSbQV6GjxUWLFrcdeB+GJiw1VvHktlltAhIlmDwVdeihh6Z11103/eIXv8gNk5jBgR+3oo444oh01113tRquPDQ2GEMzZ85M73jHO9KZZ56Zb4dqHLEzyOPlLHQcRt5zzz3zGR2lJVPFbRVgS2UJMBaK/cnhc+YXXyZgAibQF6GjSUiLFdgff/zxtOiii7aehNF/ZbFLlC762V4tAupXDghzfoJblOeff34+JMwCVRwTtA5BcsEFF6QPfOADab/99ss7PvhrPGD+4Q9/SO985zuzIJJwJg75cTuU1xPw1BXl89RVPIwswRPTVYuqaysC6ku56X8+9C07er5MwARMoOdCh0VJC1QRN7cVuOJip0mqGNfu6hKIixH9WxwPUXBIGMlUq5UHgum4445LSy+9dDr22GNzsPKTeffdd+enrvhBSG5jcRiZJ3O4iKN4yttmdQkwdtSfGiO0Bn/NL9VtnWtuAibQDQI9FzrFSjIZaUKaNGlSa5IiHhOWFj3FKaa3u1oEtAhhFvs0hsW+1xjAlJ1WY0fo7LDDDnm3hjS67YWp/Lldxa0r3smE3y677JJOPfXUIeBivkMC7KgUAfWjxpLGACbziy8TMAET6LnQ0USkBQnkmozif1xMVPInTozvbqo2gaKIiTt47VoWd3M0DmQSnzHFrc94aexQFk9dbbbZZvmMDgedeerqrLPOykJa8WTGPGyvJgHNMaq9xlecXxRm0wRMoHkEei50NOmwAPGJFxMRCxgTVZyslCb6xXS2V5OA+lMmraCv5cYsjpFiS6PAue+++/LjxJdccskQkaw05KcXBrKj024MKq7N6hLQfBHFMK8n4Gk7XyZgAibQc6GjRQzULDT8J80He/E/LokedYsmMLltVo+AFh/1Oy3QmJCpVuGW0JEowS++U0dxETDcxtItKvljakdIeakOchOH9L6qT0B9q5ao73EX5xfFsWkCJtAsAj0XOuBEsGiRiYsbT0WwAMpPcfCzyKnPQESQ8OQTP7zJ4sPZCT7Yi58YR+/B4WWAvGeHcREvXgq34YYbtn2btsaPxlZMp8VR4y2G2V5NAnFsqF8tdKrZl661CXSbQF+ETrtKswB5ImpHxn5FAlq48Jcdc9asWfkx8ssuuywnkbjBgZ0xFuNL9GhRVFixPLurT8DzS/X70C0wgW4RsNDpFknn0zMCUZBIpFAYuzz8eOfiiy+eRfNiiy3W2iGSn3aOpk+fnh81124OZsy3Z5V3xgMhYKEzEOwu1ARKScBCp5Td4kpFAlGQRKGjHZwYjp/cMslLAqdTvtHf9uoTsNCpfh+6BSbQLQIWOt0i6Xx6RiAKFuy6BaUCccc4+CtOFEayc7hZIkl52KwXAQudevWnW2MC4yFgoTMeek7bFwLtxE2nguMtKYSNxI3MKHDk1ykv+1eXgIVOdfvONTeBbhOw0Ok2UefXdQKddmyif1EMtdvhQeSQRle0y89mPQjQt37YoR596VaYwHgJWOiMl6DT94UAC1cUJtGuCiBu4lkc2Xm3iuLjJ7vS2awfAfrYQqd+/eoWmcBYCFjojIWa0/SNQBQl7ezRT5XCL+7oKE7xVpX8lc5mfQjQtxY69elPt8QExkPAQmc89JzWBEyglAQsdErZLa6UCQyEgIXOQLC7UBMwgV4SsNDpJV3nbQLVImChU63+cm1NwARGQcBCZxSQHMUEGkLAQqchHe1mmkCTCFjoNKm33VYTGJ6Ahc7wfBxqAiZQQQIWOhXsNFfZBHpEwEKnR2CdrQmYwOAIWOgMjr1LNoGyEbDQKVuPuD4mYALjJmChM26EzsAEakPAQqc2XemGmIAJiICFjkjYNAETsNDxGDABE6gdAQud2nWpG2QCYyZgoTNmdE5oAiZQVgIWOmXtGdfLBPpPwEKn/8xdogmYQI8JWOj0GLCzN4EKEbDQqVBnuaomYAKjI2ChMzpOjmUCTSBgodOEXnYbTaBhBCx0Gtbhbq4JDEPAQmcYOA4yAROoJgELnWr2m2ttAr0gYKHTC6rO0wRMYKAELHQGit+Fm0CpCFjolKo7XBkTMIFuELDQ6QZF52EC9SBgoVOPfhx3K1gYnn766YTJh0vmuDN3BibQZwKM3QkTBja99bm1Ls4ETGA4AgObCTwRDdct/Q176qmnhhRI31jkDEFiR8UIeH6pWIe5uibQQwIWOj2EW6Ws2c3hQvRI5MisUjtcVxOAgIWOx4EJmIAIWOiIREPNZ555JvHRZXEjEjarTMBCp8q957qbQHcJWOh0l2dlc4tih0bMnz+/tbNT2Ua54o0lYKHT2K53w01gAQIWOgsgaZYHgkbXE088IeuQXZ6Wpy0mUBECFjoV6ShX0wT6QMBCpw+Qy17EJZdckp9Qufrqq4cIHN/GKnvPuX6dCFjodCJjfxNoHgELneb1+QItvvTSS9OkSZPSlVdemcO0y2OhswAqe1SEgIVORTrK1TSBPhCw0OkD5CoUwRkdFgeJG5nUXed3MKOdMImi4pkePcV1xhlnpGnTpqUHHnggv6dHLJSP3J1MxVN9zjrrrLTRRhul+++/v1OStv7t2qY6xnYpscrDHe249Tg+/uNtn8qz2V0C9I3fo9Ndps7NBKpKwEKnqj3XpXpLSJBdXPglYFSMFnfc0R7TYWeBUZ4PP/xw2mWXXdImm2ySHnrooZwVZShvxcsBHf5IZGA+9thjabfddksbbrhhzk/5dEja8i6Wg1t+sb4kKAo24qkORT5PPvnkuNvXqqQtXSVAn1nodBWpMzOByhKw0Kls13Wv4hdffHFeFK6//vq8qGthx9QH0bLxxhvnD3b5K+68efNyhRAGEjO77rprmjx5ck7DDoziquajFSrE46D07rvvnuvJjs7cuXOVzbCmBI3qxA7M9OnT0z/+8Y8sUlgMJ06cmKZOnZpuvfXWIXkpLZ6IGi6JPPLbeeedu9K+IYXa0RUCjDULna6gdCYmUHkCFjqV78LxNYAF+/LLL89ndK644oosUvArXtx6YmeGD3ZdRfGC/yGHHJIWWWSRvNCw2CCQHnzwQSXJoiGKiFZAGwt1Oeqoo3JeU6ZMyaJk0003TbNmzWqJjjbJFvBSeaecckpac8010/ve9750++23t8TXl770pSx2Zs6c2drZouzYPuVB+2gX55rG274FKmqPrhCw0OkKRmdiArUgYKFTi24cXyM4hMyCjeDhYpHgU1zo5a/ScHPFXQ7cCAKJgsMOOyyLinvvvXeIaCBeO0GVMyz8UTx2VRAZ7Mjcd999hVidnfGxec740FZMLtX1xhtvTG9961vT2Wef3aoX5cU2q72xpG60L+Zne3cI0Ff0sy8TMAETGNhM4ImoHIOPhZ6nrrjFxI6OrrioY2/3UVxMCYboRxqEyXrrrTdkF6hT/Jg22nXbCL9DDz10gR2iGLdoj+1AMJ122mlptdVWSzfffPOQqJwh4uzPySefnP2Lt9XkxhQL8utG+4ZUxI6uEKCPLHS6gtKZmEDlCVjoVL4Lx9cAFoRrrrkmLwq8T0dnbchVC7pKKIoZwrnwj1dMx47H5ptvnjjXw85PpzQxfbQrvoQGQocdHW6fKSzGb2cnrXadvv/972eh9Mgjj+T0ai9niLjFxhkeBMwRRxyRmej21B577NE6p6MdJsofb/va1dd+4ydA31jojJ+jczCBOhCw0KlDL46zDezocCCXFwbq0mKOm0Ujihns7URGjEM63Icffng+18OtK12d0iu8nam8ERY8rs4ZndFeEknkcdJJJ7WeAlMbCJ89e3YWOuz4cLFTAxMWS8QOT3vNmTOnVaTq0632tTK2pSsELHS6gtGZmEAtCFjo1KIbx9eIyy67LC/qnNXRAi4RQM7yw4z20ZSKMGGnRI+XK412WGI58lOZlBXD8WdHJwodhctUWpWDKaGD/fTTT8+3qNhhQsxJ0CGcOGgtoRPTxLyKdtVHh62phxgV49rdPwL0g3d0+sfbJZlAmQlY6JS5d/pQNxZldnJYFBA6EgwyVYUoQqJd4Z1MdkZ4Suqee+5ZQABQhoRGLA+REd3kLTf56VaYyiRM4apbUaionFNPPTXf+iq+cBB3FDqjFSsIuc0226z1AsNY7mjzUDtsdo8A48FCp3s8nZMJVJmAhU6Ve69LddcZHf0EBNlKGEhEdHqPzkhV4NFw3ntDei4t/jobE9NTVhQKEi+kkT+3itjRQTgRrvyUj4QObuwxHDdncPSIvNpGHHacOPtz4oknKqtRmdSHQ8y6laa6qu6jysSRuk4A/hY6XcfqDE2gkgQsdCrZbd2rNAKCMzq8o+aqq65qHdotltDpPTrFeEU3OzAIE27tsPhIiDz66KP5lhaiI57fIT11ktBSfnIffPDBWZDoVpHC77777iyoECvYdSE8lBa/+JMNikM4Z3QQZOecc072jk96KV4788gjj8zCSfWRsJLgaZfGfr0nYKHTe8YuwQSqQsBCpyo91eN6SoCoGO1IyMQfe9Gt+COZEgDEw055iAPedszujPyVj+JHwRDLRpxEN3bEyowZMxJPVGkHSPlhIl6Ur8qTCFJ8vTsnphvOrvSYsiuv4dI5rLcEGA/e0ektY+duAlUhYKFTlZ7qUT1ZELRAU0S0q0jitPsofDhT6YgjkaEybrvttvSZz3wm/7wD4fKX6CI+6XUhIJSH/DDlx1uN99tvv9bPQygt6WSXGdMrjxhWLLsYX+6YRn4yLXhEov8m/WKh03/uLtEEykjAQqeMvdLnOhUX6+iOdhZ/iQqqGMM6VVnxJWLkZhfngx/8YELsREGAyFEc0lBGsRzC460l3OzmfOhDH8q/VxXjY1fZKieGK6xT/Ufjr/rKjG9iHk16x+k+AfrYQqf7XJ2jCVSRgIVOFXuti3XW4iyzXdYsGjEcexQL7dIU/ZReJuljHhI1SidRIjdmjB/thBFfeeOWPcaL9ph/9O9UXvRvZ29XnvzaxbdfbwnQpxY6vWXs3E2gKgQsdKrSU66nCZjAqAlY6IwalSOaQO0JWOjUvovdQBNoHgELneb1uVtsAp0IWOh0ImN/EzCByhKw0Kls17niJtB1AhY6XUfqDE3ABAZNwEJn0D3g8k2gPAQsdMrTF66JCZhAlwhY6HQJpLMxgRoQsNCpQSe6CSZgAkMJWOgM5WGXCTSZgIVOk3vfbTeBmhKw0Klpx7pZJjAGAhY6Y4DmJCZgAuUmYKFT7v5x7UygnwT6InR4cRoTjy691XbdddfNL/XixV7+mMFwY2DixIl5jEyePLk1ViZNmtSyD5fWYfUdWxoXGgsaH7jXW289TTk2TcAEGkygL0JHfIuv24/iR3FsmkA7AohlBAtjSJ928ezXPAJ6A7VMCMybN695INxiEzCBtgR6LnQQM1HQ6FX9noja9oc92xDQb0dJ6ChKUTjL32ZzCCBu9COwtDqKHe0cN4eGW2oCJtCOQF+EDgUzGUnwyGxXIfuZQCSgsYI5ZcqUHMQCJv8Y1/ZmEohjwbt9zRwDbrUJDEegb0KHSuiHFPmvy/9tDdctDhMBLWKMGc5daAwRrjDFtdlcAnF3T7s6Hh/NHQ9uuQlEAj0XOhSmSQgz3rLShBQrZLsJRAIsVlqwuHXFZZEcCTXbrttWzCXF+UTjptmE3HoTMIGeCx39By6xA3L8otvdYAIjEWC8sKPDpbFjwTMStWaFI3QYGxI9FjrN6n+31gQ6Eei50IkF6z8umTHMdhNoRyAuVtrRIZ4EdLs09msWAe3q0Oo4XppFwa01ARPoRKCvQqdTJexvAiMRYAHjnSleyEYi5XATMAETMIFIwEIn0rC9tAQsdErbNa6YCZiACZSagIVOqbvHlRMBCx2RsGkCJmACJrAwBCx0FoaW4w6MgIXOwNC7YBMwAROoNAELnUp3X3Mqb6HTnL52S03ABEygmwQsdLpJ03n1jICFTs/QOmMTMAETqDUBC51ad299GmehU5++dEtMwARMoJ8ELHT6SdtljZmAhc6Y0TmhCZiACTSagIVOo7u/Oo230KlOX7mmJmACJlAmAhY6ZeoN16UjAQudjmgcYAImYAImMAwBC51h4DioPAQsdMrTF66JCZiACVSJgIVOlXqrwXW10Glw57vpJmACJjAOAhY644DnpP0jYKHTP9YuyQRMwATqRMBCp069WeO2WOjUuHPdNBMwARPoIQELnR7CddbdI2Ch0z2WzskETMAEmkTAQqdJvV3htlroVLjzXHUTMAETGCABC50BwnfRIxNA4PDhmjDhueGK39NPPz1yBo5hAiZgAibQaALPrRyNxuDGl5nAvHnzcvUmTZqUnnzyyfTUU0+VubqumwmYgAmYQIkIWOiUqDNcleEJIHR0eUdHJGyagAmYgAkMR8BCZzg6DisFgfnz5+d6cOvqmWeeSU888UQp6uVKmIAJmIAJlJ+AhU75+6jRNdRtKs7jxDM6jYbixpuACZiACYyagIXOqFE54iAJcKtKQkeHkGUOsl4u2wRMwARMoNwELHTK3T+uXUr5ADIgpk+fnnQbS6YBmYAJmIAJmMBwBCx0hqPjsIET0KPlnMuZOHFi61HzgVfMFTABEzABE6gEAQudSnSTKzl37ty0xBJLtEBIALU8bDEBEzABEzCBNgQsdNpAsVf5CMyZMyctueSSrYpZ6LRQ2GICJmACJjAMAQudYeA4qDwEZs+enV70ohe1KmSh00JhiwmYgAmYwDAELHSGgeOg8hCYNWtWetnLXtaqkIVOC4UtJmACJmACwxCw0BkGjoPKQ+Cf//xnWnrppVsVstBpobDFBEzABExgGAIWOsPAcVB5CNx1113pta99batCFjotFLaYgAmYgAkMQ8BCZxg4DioPgTvvvDOtsMIKrQpZ6LRQ2GICJmACJjAMAQudYeA4qDwEbr/99rTSSiu1KmSh00JhiwmYgAmYwDAELHSGgeOgchBA1MycOTOtttpq5aiQa2ECJmACJlAZAhY6lemq5lYUoXPTTTelqVOnNheCW24CJmACJjAmAhY6Y8LmRP0kgNC54YYb0pprrpmL9W2rftJ3WSZgAiZQbQIWOtXuv0bUHmFz7bXXprXWWiu310KnEd3uRpqACZhAVwhY6HQFozPpNYHLL788rbPOOrkYC51e03b+JmACJlAfAhY69enLWrfkoosuSuuvv35uo4VOrbvajTMBEzCBrhKw0OkqTmfWKwK//OUv07Rp03L2Fjq9oux8TcAETKB+BCx06tentWzRhRdemKZPn57bZqFTyy52o0zABEygJwQsdHqC1Zl2m8B5552Xttxyy25n6/xMwARMwARqTsBCp+YdXJfm/fjHP07bbLNNXZrjdpiACZiACfSJgIVOn0C7mPEROPfcc9N73/ve8WXi1CZgAiZgAo0jYKHTuC6vZoPPPPPMtP3221ez8q61CZiACZjAwAhY6AwMvQteGAInn3xy2nHHHRcmieOagAmYgAmYQLLQ8SCoBIHjjz8+7bLLLpWoqytpAiZgAiZQHgIWOuXpC9dkGALHHXdcmjFjxjAxHGQCJmACJmACCxKw0FmQiX1KSOCb3/xm2mOPPUpYM1fJBEzABEygzAQsdMrcOzWrW/FFf08//fSQFhL+zDPPDPGT++tf/3raZ599EnHmz5+f4yg/zPhRBkord7vyFGbTBEzABEygngQsdOrZr6VpVTuxEf2K4kMVJ46EzFNPPZW+8pWvZKGjcIkdwnRJ7OBWvuQTyyOMeEU/5WHTBEzABEygXgQsdOrVn6VsDcIC4SHhokpGwYFwkfiI4kVxjznmmPT5z38+7+YoXsxPfsTHHsOUB2b0j/YYx3YTMAETMIH6ELDQqU9flrIliIl2giL6Pfnkk626y187NgQgXA4++OD8aUV81kIYH+3g4D1v3rwcqryUhnjFfBVm0wRMwARMoJ4ELHTq2a+laxWiI35iBREfEjtRnDzyyCPpRz/6UX7a6mUve1l63vOel/bee+/EW5Lnzp3b2gGKeZFeYgZhw+5QzDPaYzrbTcAETMAE6knAQqee/VqaVkl0FCuE4ECIFK+bb745cZtq2rRpacKECWnjjTdOX/va19LMmTPTrbfemr785S/nH/ckbNNNN83uG2+8MYsZynriiSdylgiheBXLKrpjXNtNwARMwATqQ8BCpz59WcqWxB0UxEW8xUSF2bU5++yz06677ppe+9rXpuWXXz7tueeeeSfn8ccfz20iTUynHaAf/vCHOS5plI7dnocffrjFQud9KFt2Ai10WohsMQETMIFaE7DQqXX3lqNxiAoJCwQLuzZHHnlk2nDDDdOUKVPSZpttlo499th0yy23LFDhKJS0OxQFCwmIQ1p2fjbZZJO02GKLpXe/+93p6KOPzv6KT9nKT/VZoEB7mIAJmIAJ1IqAhU6tunNsjdHiP1LqdvGiYIh27cAgTh577LF8rubjH/94Wm655dLrXve6vBNz/vnn5/M0UYCoDpTVrjyFy4xlyj5nzpx03nnn5TJWWmmltPTSS2f7Oeeckx544AElzfnHcqiH8iDScOWrfa3Mno1PGvKI+cY4tpePgPpSQpoa6swYdo0D9WtsgcaL4hAmvxjPdhMwgcERsNAZHPtSlMykrIlek7V2QKhgnPyJpzg6C6NJXXkQHz/OzRxxxBGtXZvp06enr371q+mOO+4Y0m7SEV/5giEizQAAIABJREFUxsB2fjG8aFde0Z+8KZP38Gy11VZpiSWWyOd+qNtvf/vbliBR/ZW22D75kx8fLqWhnvooXlwo5WezfATUlxrnuGXHVB9Tc8XV9yOGEc4YiH6KX75Wu0Ym0CwCFjrN6u+OrWWS1gTeLlKcwInLJTGAffbs2YkdE354c9lll02rrLJKfsHfT3/60xw3ps8ez4oo5SW/sZjkEfNhgaE8+alsFi4OKV9wwQXpU5/6VFpxxRXTq171qrTXXnvlc0L3339/Lr64QJGOtiq/WF6Miz8M5WexM5beLEca+lKCR/2pcVCsYexn4upTjGe3CZjAYAhY6AyGe2lK7SRumNSZ7CUSNHlHP3ZtvvSlL6W1114775TwFBQ/1XDbbbe1RAHpWQi0WJCeS/mOFwT56TNcXrGd0X7nnXfmsz3sOPH4+rrrrpt3om644Ya80Kne5I1d9Zap8NHUYbj6OWxwBCTYJVgkcKiRxqtM+dH/sc8ZB8U4g2uRSzYBE4gELHQijYbamaCZqOMELxRx8mbH46yzzsq7Nssss0zeEdl3333zeRjSavFX2qKpBWWkeMV0w7klNBRHi4/aFOuv9imNwqLw4dzQJz/5ybTyyivn80Q77bRTOvPMMxNtVzrKUlrsyldlyi/mq/rZLBeBdmMx9ie1jd8NXnHwwQ9+MD/Zd9hhh6XTTz99yM6m4perla6NCTSbgIVOs/s/t16TvSZ4/WeLec0116RDDjkkrbPOOun5z39+2mKLLdL//M//pD/+8Y85reJq4VdeBGKXuBFmhWPKrrDxmNS9XX5qk/KWWCEudVYa/Itt4N09/Go6uz0veMEL0nrrrZefFrv66qtzdrFtiJpiepVps9wENAbieOCVB7yraeLEiemUU05pNYBxv91226UHH3wwHXTQQVnoKLAobDUeFG7TBExgMAQsdAbDvTSlssDHCfruu+9OP/jBD9KOO+6YXvOa16Q111wzn2f52c9+luscJ2/Z9b4bNUr+cmPGMiQ2YvhY7RIsMT3ihg/14EN5scxi/SSGFF95xXiUAwN+QX2NNdZIL3/5y/O7f1gEH3rooZxE+Si9zfITiCKH2uK+/PLL89u4Gdf8nAhPC15xxRW5MdyW/fCHP5z+8Y9/5JdVnnTSSXlsFceK8i0/AdfQBOpPwEKn/n08Ygs5j/K5z30uv3uGXRvea/Ptb3873X777S2hQCaazOOCHid0wiUosLeLH3c+YpwRKzlCBPKKdSE6dVEdYnLFw5Q9hmOXvwSa2qWwP/3pT3ln673vfW9aZJFF8jmlo446qrUgkr5d2cVy7B48AfWt+pwn8i677LLcf/QhT+298Y1vzDs87PKww/foo4+mAw44IN/WVHriqs9lDr51roEJmICFTgnGAJNiu0UZvziJFhdP0mlyjnaapLjRX/nxhBTnTvjPlJ2JqVOn5l2bCy+8MNMgDR9foyPALaxf/epX6bOf/WxaddVV01JLLZU+9rGPpdNOOy3NmjVryJNY5BjFHm71oUqLfVbsh+I4UV9pnMgkr2hX3jbbExBn+pIzWghZXfQhT+ZhIv4Rt+zicUv31FNPVbRsKh+ZQwLtMAETGAgBC52BYH+u0OJixKKn2y6KRRwtaPjp17kVrl0H3Nh1bga3Jly23jk8udZaa6XFF188/1d6wgknpLvuuqt1Wynu1Chvm8MTELPYBzzJxY7YNttsk881cbaHX1/nbE+8zUea2P/KSyWq7+SWeJW7GF/+xCuKJ4XZXJCAONIXvFBy9913T/fdd18rIv8YbLvttol+RQB95CMfSffcc086/PDDLXRalGwxgfISsNApSd8UFzWqhR+Tb1wMJWKYnItp4uL297//PR+iZFLmzcCrr756+sxnPpPPH6jJceFUfsozLtyKb3N4AuovMdQCynt7vvjFL6bXv/71iafVPvrRj6bjjz8+7xAoR/Wd8sBffoqjPsFUGPH54FZ5xI92pbe5IAFxVAg7NZzJwdT3jp2c//zP/8w/LMsB9Q984AP5KTx+xsQ7OiJn0wTKS8BCZ8B9w0SrhbFTVYqTcXERY0ImzlVXXZUOPfTQ9Ja3vCW96EUvSu973/vScccdl/76178O2SXSBB7LLuZZLLNT3ZruD0vEZ+QXxYr6ljjY//KXv+Q+4fYHT3K9853vzLs9V155Ze5D4sS84ItbfhI7+Ec7bpUle3Tj56s9AdjqO8TPley///7ppptuakVml4dbV5h//vOfs+jBjni10GlhssUESkvAQqckXaOJFjMuUFrgNBlTXYX/85//TCeffHLeIeBcCE9I7bfffumiiy7KrZJYUR4xLeVwycROfM4okL/KyJH8Z1gCYiVTLKM7ZiB/2NNXLKwcduW8FOemeDfLvffeG5Nku/pK6fHEL/YvboUr/gIZ2WMBApEZh8q5zShxyg/GsiPKQWQ+/BgtOz7Es9BZAKU9TKB0BCx0BtwlcWEaTVX4z5/zHiyM//Ef/5Hf6cF5kL/97W+t5HHSxjO6JX5akZ8VOO38Yxzb2xOAm/gSI9qVQoIDU4JV8RRGXPrwe9/7Xt6Jmzx5cn6S6wtf+EKiz7nibUvcSkte2t3B7r7MuEb1h/6AmVhi8sQVt69gymfGjBlZ+PBPAO/RQYxyO4vvoYXOqDA7kgkMlICFzkDxL1i4Jl1MLnZtvvOd7+TtcnZteIcLj4IzGeuKCxsTNW75aQJXfqRRGHaFKy8mdsWVqTCb7QnACW5FlsTuxBD/2A8suHIrzS9/+cuE0HnTm96UXvrSl6Yddtghffe73x1yUJZyi+Uofbv6tG+BfSEg/tgRMNrB4RC/Lp664rzOww8/7MPIgmLTBEpOwEKnBB3EBKtJloWLbXNuZ7ztbW9LL37xi9P222+fFzgOGMeLhUzp8C8ubMUFD3eME+3KJ/opfSzT9qEEJDTkW2QcGcIWd4wjt9KrH2K++CF4eUruPe95T3rJS16S3vrWt6YDDzwwC171mW5hyZS/8ra5IAHxllnsG6XQzg9Ch8PIPJXlp65Ex6YJlJuAhc4I/VOc+HBzaSGSGz8tMMqShUYTaDFc6TD/9a9/ZSHDBMp/7pwHYBG79NJLlZXNhhKI40RjjjF1ySWX5BfWvfnNb85imN9f4rYXb+zl0m0u7HEMCmP0K45bxZFJXOqhuuAf7YpXR7MoFnnEnB0dbl2x06NbV/COcUdiWkdWbpMJlJWAhc4oeyZOYkrSzk8LgBYlxZXJosGH99rwuDf/mb/whS/MP7nA7yrxEwy6PFmKRHPNosBoR4KdPm5vInZ4koudwM9//vNZDEVBU3z/UhxfcSzHNMXyiKfwmL4Yr05utZO+4Ec9ETo8nYXQ4SdAxIM2d7LXiYfbYgJVI2ChsxA9xiTPpKeJLyZlgsM/LhjYmRwxecSbd6e8//3vz0/X8Ag4b1a9+OKLczYSSDja5R/Lsr15BBhDfDTO4oKKf7zYCeRnDHgKj9cMIIB4zQC3v3RpvEXxU8yHuHFnSGmUR5PMyAY7H3234cBBZS78YdZkVk0aF25rNQhY6Iyin+KiouhMaEVhozAJFT06zGHSV7ziFXnB4XFwFhziaDLE1IIiU3nZbDYBjaWRKGgHUWNV6bgtyq4DL47kMDu3RXkFQafboqSPCzjlKi/VgfAokORfVxMm4hLbqO+vhE8Mw67wor/dJmAC/SVgoTNK3pq0mNS0mMiPLFgMeD28npDi0e+3v/3teXubJ6RIpyumkx+m4pAXcTrFi2lsbxYBxgTjo90YjGNGwkd0NLZ4qSSPRbOjyA+4brfddvnHSXXQnXj6kJY8VRb+shNWFEAqq05m8TtI++Egf5niwT8qYhTD6sTEbTGBqhGw0BmhxzRpxf9gtevCYsJ/xpy1YeHgpxZ4vf9JJ53Uuk2gxUCTntLGyZIy5K94I1TLwQ0iEIWHms04iWOFMRTdCmf8dRpbPDnEYdodd9wx7ziy88huDweduchD41754R+FlupTV1NMiyKP9mpuaMdD6erKxe0ygSoRsNBZyN7iqYtvfetbaeutt87nH/iRTP5D5j9lrnaLivxUlMQPbiZEJlFduDWB6r6/wmw2j4DGAi3X2IjjBXtxUS2ON9Lqx0QZexp/URyRBzuPPDLNTuTznve8/EOWnCvjZw+4yFf1kZkDavynyFZuMSw2HX/i6FMMt9sETKD/BCx0RsH85z//ed610Y8yct7htNNOG/KEFNloEpQZFxLCWZTiIqWiY3yFt1usFN9m8wi0EzQaN6JBnOItK8LaLcryUx4ad3Lff//9eYwz1nnlAY+xs3P561//OheneCq7ziZtFZ/YTvljioe4Ek9+MY3tJmAC/SdQeqGjyaJoIiLi5E94/C9TYZqgFL8TYsUjH87afP3rX09bbbVVWmyxxdK73/3u/J8ur+KXAIlldcqzLP4sfuKnOqkd+KvtCtNiWUyj8CqZaoPMKvVbWTjDjh3LY445Jr8OYckll2yd7bnjjjtyNeMCr/Ek5nITUbfCsMe+UBzS4K+0xIt5R3+lyRXwHxMwARPoQKAyQkf1j5Oj/OLkx+0eTYztJkJNpEpLHOL/6le/Sp/85CfzUymvfvWr00477ZTOOOOM/IvFiIJiXipD+ZTVLPKKrNQm2iJ/TPmXtU0LWy+JOtKp34qL6cLm2ZT4Gj98r2TnXU9nn312Ptvzmte8Jq266qrps5/9bLrwwgtbfBlD+q5pbOlWrIS0+oNwxY1cYzz8yVNjVXnG+LabgAmYQDsCpRc6qjQTnCZP/OLEGBcyTYCKq4WNNJqosd9888353SJbbLFFfsna2muvnY488sj88wtxQlX5mPgrLOYb45TRrsVBdeu0yEeOkZXSVdGM46HYJvrS18gExDDGlB/mtddemw499NC0zjrr5Ce5OL/2jW98I++MKp7Syg37opCRmziy63sf+47wKn3/1HabJmACgyFQeqHDhKfJcSREmhTbxSeM/zj32muv/MOYyyyzTP6PlP9MOY/ApXQy8WOCrcuCCMt2beF2QmwzcaJ7JO5lDld769KeQbAWQ0wJDpnUR6IEP57kOvPMM9POO++cX4y52mqr5bM9P/nJT9qmJT19M3fu3Nw0dn1UXhTe8lP8HNl/TMAETGAUBEovdGIbmOz0KS5cceKVnV0bflZh+vTpaYkllkjrrbdeOuqoo9Lll1/eyjbmQ96kVRmKRBw++EtMKazspuqteqq9WpzkXzSJJ47FsCq5YxvUd0UmVWpPv+uq8UK50Y4bUSK/ePYGzrpuuOGG/JbmddddN38Ht91227zbw08pKC3fKy71lb6H0U/5kXcxncJsmoAJmEA7ApUQOprYig3QBIk/kyTxfvazn6VPfepTaZVVVknLLrts+tjHPpZ++MMf5rM2xXz0HyNpNckSR/EkBuQull8lN+3TYnTiiSemN77xjemPf/zjkFsAnXZ8qtTOdnVVPxPG7t0mm2ySD5fXoV/btbebfmKk7wd5R4ETy4pxsJOWj4TP7Nmz81uad9lll8TZnje84Q1p7733Tj/96U/zPxE6w0OeSqP89V3Ere99MY7i2jQBEzCBSKD0QoeJUhNb0aQhLNb//d//nZ+Qmjx5cn5Cil2b66+/PrczTr6aeAlQXjFc/kW/nFHhT8yrEFQqJ6//nzBhQoINiwrvU+HWwhprrJFuv/32/OE3kYjDD4zip2s0HBS37CZtoc8ffvjhtNFGG+WdvTq1rx/84afvTSxPIiSGia38ZMZ01113XTr66KPTxhtvnCZNmpS23HLL9LWvfS2fn+P7xSUxE9MjXBUe87PdBEzABNoRKL3QodKaNLHzq8G812bGjBl514YnpLCfddZZif8Y46XJME6SshMmu/KXSR7aBVAeMX4so+x23vezxx575DMQal+7xYPHhBEACEe1uextG0391Fbiqv3Y1fejyaPpcdqxkl9xrETGCotx5ad4MufMmZO/w+z2vPa1r00rrbRS2meffdL555+fv/PF/mt6n7j9JmACoyfQF6HD5KYJTRMdCxAToNyaDNtV/cYbb0zHHnts2nzzzdOUKVPy0x24f/vb37aLXis/uEQ20a6Giq3cmLpNxY7Obrvt1rrdIN76L5y4+LGTM23atHTbbbfFbLI95h9vLyhtTKD8lUYm/gojvgSIwmMeMTy2N6aXv/w65UNeKrsYV26xwC2BqzoojsqTP6YupY9xFIbZrm7EVd6Kq3id8lG8uppqP+1jR5b39iC+2Y3knN1XvvKVLMRj+5UGlpEn9qZyjHxsXzgCGkOanxYutWOXlUBfhE4cNFoUIpDox+TE7YXzzjsv70Qst9xyacUVV8z2c889N4eRtmkTWWRI25ngOW/CAsC2P7eeMNndkhghDe8C2n333bPw0aLAb3FNnTq1JWrIr5PQUbkIAKWHf7QX+0OThfqY/kVAcWvsN7/5TTrkkENadd5ss83SPffck/hpDepEOyZOnJjP0FCG8sLkl98JUxxMfraA69FHH81P1OGnX+Ymzemnn57jY3Lxa94w41UChM+cOTP/Thn58Ij0IosskuNzjodxSL05S0K+fA477LCcD3/Y/eI3zniRZHEMk/+uu+6abxUSj1uFHIL/4he/mPNZdNFF81mhBx54IN1yyy05nJ9doAzSNuVifMFOooQ+4RMv+uEHP/hBFuyve93r0vLLL59vw/7oRz8awp10vq0Vydk+EgH9Y8NcozEov5HSOrw6BPoidMDB4quBhKmFUwvETTfdlHdtNt1007zYsNDwHx1PbXApHnYmx+JkmCPV8I++dFFY0HZu07EDw+Ksi9t6CJ0NNtggPfjgg9mbW1fcDtAOD/lxm49zOTqPQ36dhE7Mm1tg+sFH9aXCVT+ZKk9CicWeA9As5AgWLh4p3nPPPbPfhhtu2KrzRRddlMeAxAl9jzjjRydVZ9IjTsiPH6bkmjVrVhYxvBsJAcECiZCi/Xp8GS6MLQQLdY1ChrNLtAvRhEghb0SRWPJSSfxgykVd+FmQa665JrvjnwMPPDCLc85EUYZEHOy5qBs7bexWUB9ewkfZV199dS4DgdrEi7GoMUT79b3H1HeeuYK5gbM97PBqrkC0csGxmE8TWbrNYyegfxbHnoNTlolAz4VOpwHDPfkf//jH+b/wlVdeOf2///f/8s4D77VhwY4TlRZLTWACiLsJVxQ7mvhZ5BEOLKJc8OLDq/pZPLXTgQhATLCw6kJosPBKNJCuk9Bh0dHCgwBgcWax55YYl/pGecskz3hpsedANGOCdPQf+bBLw0vnuPCjvR//+Mfzh7i4EXASdcobEYEg4d1IjzzySG4/baN+/NAqO0eMrb/+9a+tvBEt3ALlxyu5aDcceTqPMakLQUI+V1xxRS4ff8QbLCmTOrGwIhgRZlzqG3h96UtfaglMRN7qq6+exzeCS4s2wooyiq87IP8ddtihJc5UpzqasND3mH6VnbZq3EWTcOJpDDBX8FQlzDjXw24PY/SCCy7I/wwors1/MzOHoRyK3yl9h4v+dlebQM+FjvDwBdMgYrLivRpLLbVU4r9vbklxaULDrgWUdPHSRKjwGFZHu9ovdmoj7ScsMiOM2ygsnuwMEI6Q4OVtiodw0I6O/gMmXiehQ55ijp18JDwo54gjjmiJE8IlYJSOtHx0a+qEE05o1YU47I4gNDiHxaX2IkRYsBAGlKn+xsRNnrSFXSZ+rkO/zo0fix5ij/rxVE9kd++99+Yn8w466KBcHoewESHaQVE5CCZ2kPRbTuKHgFK94EdaibRYf24/IdaoP7/+ze0v7QTlglNKPOaP4ISNOFEOTDmIqzYpflNMWMQLd+xDhTFW1F/4wZpH1Xl66yUveUlaeumls4hGSPtjBu3GAHOEbv2zQ87FeNP3XWPNZrUJ9FzoaNKKExUTlO67M6FzDocPCwNnc/jPmnRKy8LKpcEn/2qjH13t40SOHXaRJbdg+LLy4dyH7NplYIdMC67SsZPAG2v58VIu8uwkdBAOihNN7PQTt4Uol9sIusWj/soJn/2DKEA46LF/tYvFn10R7brIn3YhKFQ+2XCWRY/Cc8tCbUXskE7jg7YTpjrJn3ZSR8Q1YoKLdiNC2LlR2cTjthkiRgKMPAjn1QXs/lAvBAxxSKtbdeRJXHafOBvF4ksetJ2dG9UFk77hV8F5eR4X5XIhphCnMc8cUNM/se9iE/mea8zCBmb4xX6C0fe///0sbjnLt8IKK2Txy5uYmWNI548ZdBoDGm+MK+YMLuJGMzv8p9IEei50oBMnbAYUH12yc9+dXwznKQsGHOqaJ6t+97vf5ahaIGJ6pVVedTXVdtonEcHiqoWeQ77sPPAFZdHk4Cs7OlzsoHC7SOnwY7eCOHGB7SR0iE++UXDAXZMB4RI8CAt+AoBLi5LiIXTYvWCxV17kw601Xu6IiOFSfHZcuE1E3ogFBBX/kbFTo1tYlMHODzs43LrShZAjLqIo3tojnHM8nAMjHUzEi10ZlU08BBgiBi66qC8C6ROf+EQujzZRhm4TKh4m8agXY586wJuzPLEMzh2xm8XY5yKMhZ3zJ6Sl3XW/Ig/aiojp9L1WXN54Dl/O5vDfOCbv0mIMxe9KtNedo9s3dgIaJ8wZca2S/9hzdsqyEOi50NFgiZMXExZuTVzAUDzsLITs7HAug0WQt6jyXzu3XLgnz6X/9LKjIX/EkEWdXRp2PLi9gb+EDIuvhA7+LPqIBAQDFwsJt2nYSeDsCBf90Eno6L/nHPHZP+orHX6WMH3ooYdyDNUz9i9lRVGgMHZO8Gd3BD/5s6NDGxkLHIBebLHFsqBQ3qoP8RgbTFCk5RAyQuajH/1o6yAyY4V0fKhjPMSNCEFsIBxj3ghE6hXFIGWy28KODrxhRpyYFjbUhd0cxq+EDvEuvvjiXG31FWKKvkKkqmzaENuudtbZjP0e26mxwC7cOeeck/uZuYAD4Ihg5ggtTHGciq/SxzxtN4EiAX33tKNDuMZVMa7d1STQc6EzXiwMQhYCzlpwiJTHf9/1rnelL3/5y63dHk1slKVFuJ1dE59M4sheNJVe/riL13BhxbhjdatttEvlMfHzX6wO1GqSx2Tx5D8TFl/is3vDooBgUF5aYDkbwoU/t7F4woj/lnWpPOUvf8QVIoSJQbeANFkojvpB/vy3jaDQzonyRLwiZos7J+zaIBQoi50PhBkiTvlRDrsziBbqovxgQn60jXZSR1joEjse8+aiXG7jcbZJ7cWf8zPs6GhHSOnJH+FIvSSS4tNhxEMc0VbduiKebl3FMjg/RRlRTMENprRJol5lD9KEexyDqgvtUZtkxjDZZeoflGJc9R/xKOf3v/99/s7zBKGENL+IrluJ2hVUvjZNYDwEGI/Mm8VxOZ48nbY8BEovdEClBRo7T/784he/yLcPeMKC//C4lcAuRXFHgfgM3DiJMmGPNJiJr4U6dhXpRpM+pumGXQueFhtMbu1oN4B68ZHI4QvL4oufdnTgxsVCgx+3kXS7CH8WW24bsrOii/S6JJQQHyw8WtzFSYzFJ6bFj8UescIj2vHSoV+EFrdqlA87JwgFykWMcI6GnQ4u8uMdQogc6rL++uvnJ2y4hUTbufVD+dxGQxxzS43353Cx46P36OBWvXhajYvyqQc7CPCFC+VxIW44o8O5Ms5/MC65xYToREBxkT/14pYKgog4qr+erhIzhA47PVHkkYfElMrNGQ/oD3WNfUk1YKRdMtyEq02qc0xTDFNTiEN8PoxxbmOyS8m7cjhrw/eaNyPrkkhSGfK3aQLjJcBYtNAZL8Xypi+90ImTqCZPLYZgZbHmjakcMOWAKose/xHrjEpEHyfnOFmSH3nHfJmcNUHHPLCrHkX/XrhVB5WperO1yi0bFno9NYD4YGHlKSR2vtilQAASj8VbebFDonM9yo9bSwgAFl04qTylIT2LOlyj8KTN4kZc2fEnb+WDoECscE5F6YnLgdwouhQfUUM7JPIQIkxEtJcPT9YgZNitoa077rhjfn8QIoN3DKkMxB/nehAo5E0a3q3Djg5u7b7oJYPqQxghdLTrJX9ECLeuxIhyEDSqF33BrTYebYc7ApMyeLEgdRVP8qNv2Plhp0oX+fJoOqwRTWW5qHese7t6aSwpLMaPYfQ77NndY2eWHVq4bb311vm3rhgrXLDgIi55tcsjR/AfExgnAcaYhc44IZY4eemFjthp0tRkJ1PhmMTh/Rn7779/vn3xqle9Ki9KPJURFw0mUE22Mb3sMW++AHwGeak+cbsePy221E2LAnaxwmTHRLdQlA9xdA9awoTFGJEQdxfUbpkxb+xcsVyJC8pRmsg5lq90qit5EY47+v27lH+HKQ15q96EY49uxVOY8pCpusktU3UlfYyDXXVTXLVFJv5Fu/KI/kov/riJF+vfrv1K128z1ouyY1sIK9ZVbtrER31BOgQoO2U8UbbMMsvk23bsjnHWhkvclVZtxa1L+ctt0wS6QYAxZqHTDZLlzKMyQgd8mmQxNflp8dcEiKnJmUWb+/ocTuX1+ry7h/8g43tPyJe8Yt6yK0/CVZ66sZ2fwrppFstlgZSfzHblqQ3s8rA7oIVVYkRtIy1x+S+aWzDs7MQFLJaBXenEXWWLOW6VoTDMGC5/1RF3LAc3YfKL8WJeqovyI36MG+0qP9Ytxle4yo55yi6zWK/Igny4xaVLCz1u0ilt0SSc+sY6F9unPAdlxvqrPZgwpd5qq8YaYfxCOe8U4ru3+OKL5524b37zm62zYOIQ+yXmrX6JLLDzUVri+zKB8RBgLFnojIdgudNWSuhoItXkJ7Rya+KTW4uGJuGf/exn+XYCB0Bf+cpX5rfPci5Av3oeJ1PlHU3yVxnRv5d2lac2URbtkVt1Jh6LRXRj5/YIQodbQMqLPLQYa4FBFCJ04q0ayiEN+cTFPLY3lom/+gg76Ugf64o7fmJeMa7KVrjyIE681F4wMmw/AAAgAElEQVTqoXwJV7uwk1fxUn4xDD/yU560RXkqPmFKo/gqr1PdVHbMAz/iKy/cnexKPyiTesW24VZdi2EcEOcFoNxKfPWrX50PerNrc+GFF+Y84Ke+ifzUNvGnPPVDLCuOw1gnpbdpAmMhwFiy0BkLuWqkKb3QYTLsNKHFSbZTHC1MmizpFvJkQec/y2222Sbv9qyzzjr5P0/t9mjB1uKk7uxUjsK7bcbyqEsnHloUKD8uBgg5vSVYP5WguOTFE22cE+GMCQdjOS+ihUjx1CbqQt5iqbph4hdZxbRiqXximOwxT/kRX3lj105BLBd/xZd/sRzKV/6xLkpXLCe2UXmRd6f81W7yUznKW+mUVuWLMfnLT2XJVBq5B23Stlgn7LSTJ/W4Xbz22munF77whWmrrbbK3y3dBiWOeKgNsc3iF/NWPJUZ47fLT/FtmsBYCDD2LHTGQq4aaUovdCJGJjgGpBYThcVJVBOiJs0YV2GkI1xxcPMfJ/95areHA6fc9mG3J6aL+cVyVZdum6pjsb5qQ6wPceSO9nYLSYynOiue8sYkHnnFtsqOf7zkFi+5iSM/7CpH+WAqruoV8y2mJ64+iq88i+mUL/6yx7hKr3SKo/i4YxzcfFR3hWHGtAqPfu3KUDkyFV+m0gzapD5qK7s2HPJm14afWVh11VXTpz/96fTrX/86c1E8tUHuIiPCxSm2T2UV04uR4ipcbpsmMFYCjCULnbHSK3+6SgmdXuAsTr6U8Ze//CWf7WG3Z8kll0zs9vBr1L/97W+H7JZootVErgUbf4UV6xwn9hinaI/uYh52m8DCEIg7fBJ5GrPKJwpRjVHGoMYhj8Zz1uYd73hHPmvDrs1xxx2XX0fQLk/lofxtmkCZCTDOLXTK3EPjq1vjhU7Ex+SsSTv6//KXv8xb8zweveyyy6YPfvCD6Xvf+15+YR0LBumKCwfpO/kTpgUkLgiULXe7esQ62W4CcRyJhsahxpEEDKb84m0z+SkvpefHTznfxSP+L37xi/M7kHivDe+wilfMS2URHvON8W03gTISsNApY690r06NFzoSHBGpxAuTtSZ+JnTsf/vb39K3v/3t/M6P5z//+Xm3h3em8H4YLuIoDe6YP3YWg+hHnOKiEBePnKn/mEAHAowljVOJ4+L4ikk11uIuj+Kza8OLGjlrw9jedttt0//+7//mMU8eGtfEpyy5FVZ0x3JtN4EyE2BMe0enzD00vro1XuiAj0EeJ+l2SLUYFOPypt999903H+h96Utfms8tcLbn7rvvbmVDGi0w8sRPCxNh2PUfscpSuNLYNIHhCGjcyGRMx3FdFCeMUd7OzA7ly172sjyGP/e5zyV+/T2mi2NXeasexCO86K9wmyZQBQKMXwudKvTU2OpooTMMN03eUYBoAZBfTM5uz3e+85203Xbb5bM9b3/72xMLB28o5lIamUobd3BUpsJsmsBwBOLYIZ5ESRxHjDeNW8Yib4XmTc0veMEL0nvf+978C/d//etfFxArUWgrX/LR+I1lqI7EU1nys2kCZSfAWLbQKXsvjb1+FjrPsmOgFydoJm1N8DLjRE9SLQaa/KMf/xmzqPAbT+z2fOQjH8mLCj9DQD58dAtBCxblaAGJeY69i52y7gQ0XjQWNY4x+Y0vfs7iwx/+cHrFK16Rf1z0C1/4QuuX1GETxxlpcCuPTuwoU+UqDu6YTt8Zhds0gbISYOxa6JS1d8Zfr8YLneJkzEQdJ2shbjepF9PqPS+kURh5sQD94x//SN/61rfS+9///nybYK211spPcuk3loijNKQvlqd62DSBIgEJHMYP443f1OIpwbe97W35IPH222+fxx4/nKpLY6043uPYJ05RBCm9TKUvjlfcMS/Ft2kCZSTAeLXQKWPPdKdOjRc6YGSQFydqTeCEFyfsYvwYHu2xi6I/Cwg//Mh/1vy4Ji9ZYzHid6m4haCrWCf52zQBEWBc8YTUd7/73fSBD3wg7xwionmBH2MsjrvieIpu7BJM5K0dRuyM1xgXv6Jb9VH8WG4Ms90EykiA8WyhU8ae6U6dLHS6w3HMufAFu+eee9Lxxx+fd3t4lJfzE/vtt19it0f/eVPASIuLKhEXLPwWZqFigfIiJZKjM+mXIjP81F9xV4S+KMaN7nZ9RS1iHPoXEXPAAQcMEconnnhifgeUaq3y5bZpAibQngDfFQud9mzq4GuhU4Je1H/PWpi49cBuD4KHp2E424MQ4kWGuiRmWADjIqg8iIe/8sYdRZPyIb7ykBnDZLfZnkCRaZGhUsV+wU/cFY4Zb33Sv0pDGZy14bUG3PrkvBc7gdyeQvBwEUdjArfS5kD/MQETGJYA3xcLnWERVTrQQqcE3cfiyKWFSosn/jzJxcsJubW11FJL5d+jQgRpgYvpsPOF5aNFUwuezFzQs3+Kfrijn+oR09jengDc1I+KEcUHdoWrn4knu0z8xF2H2RG8OszOWGAHkPh89OOs2jUirfpQB91VH5smYALtCfCdsdBpz6YOvhY6A+5FLXBanFiwsMtN9Ygjd3w8mJe68Xgwtyz+/ve/txZINUkLq/LAxE+LInnGOEonf5Upf5sLEhiOkThKuMgkl3YihD5k544+pW95PQG3MHmRH5d252SqNtE9XH0U36YJmMBQAnxvLHSGMqmTy0KnhL3Jl45P/O+cauJGmGgx43YGL3xjt+clL3lJfoydQ6j8uGK84gKrtAqXOwoe/KJbcW22JzAaXpGz+gM/vXByjTXWyH24ww475B/MpG91EU+CWH6YygeTcAke9Z0EbUxjuwmYwIIE+I5Z6CzIpS4+FjoD7kkWJRYpLVZUR4sidi1mWry04MUdAYVdffXV+b09PFaM8OGHF0f7Cn/KUVmUqzwHjKf0xdNXsb+oMO4iT/XbXXfdlc/a6KWS/GAsPyFC38WxoIbHvLFrx0/hmMV+k+CJcWw3ARPoTIDvloVOZz5VD7HQKUkPakHTgiihIX/csseFLC5yNEVuXkrIT1GM9KOM7QQT+aj8kuCpRDVgr/6LFeZHYXlD9tSpU1s/CnvCCSfkH4WlT2Hdjjf5Rf+inbTqb8pDBKl8mbEetpuACbQnwHfJQqc9mzr4WuiUoBf5kvHpdOlgMeFawOKihz8LXsyjGI9zHkcddVR6xzvekZZYYom0zTbb5J0FzoXoFkesRzH/TnVruj+cIjd48HTcN77xjfyjmM973vPSeuutlx8F54dfh9uREfNiftEdhQ3+XDFc/aEwuW2agAl0JsD3xUKnM5+qh1joVL0HR1n/uBjOmjUrnXrqqfmx9Ve+8pVp1VVXzT9MylM+XFok25kxH+xx4VVV8JcAwE8LeNGu/JWuF2asRzF/1Su2QQJRdWsXRj5qo+y/+MUv0qc+9anEWZuXv/zlibM27Kg99NBDrbMziqt6xLzlZ9METKD/BPg+W+j0n3u/SrTQ6RfpAZWjBZvisUc3Cz2fm2++OT/dw24PT/tsueWW6Zvf/Ga64447cq0VLzZBu0D4FcVBjEdayozxWeDx79elNktYqGz81TaZ1Ak7YUqHqbSE0152bfgB16233jr/OCa7Noceemj++QXiEJ90sd34K0/svkzABMpBgO+lhU45+qIXtbDQ6QXVkuWphVvVareoK4zdnnPPPTfv9iyzzDL5XMknPvGJ9POf/zwv0qSVsMGMAoA8cGuRVxhpuDDj+SKV2Q9TdZDQkFv1inWIYfiThrawa7P33nvnXRt+IPNDH/pQfkLqgQceyHGUt/jEPJWP4hTD7DYBExgcAb6XFjqD49/rki10ek24RPmzgBcXcaqH+NBijjseUL7++uvz2Z511103Lb744q0nuW655ZbcMi3cRQEjfy36Ej0kwk49FCdn1KM/lKE2t6uL2qr6EUfxbr/99vzU2uabb544a7P22muno48+OnHWJl6xLdEuJqpDP9ob62W7CZjA6Ajw3bTQGR2rKsay0Kliry1EnbWAk0QLrpKzoBcXXy3yiqNbL8SbPXt2Ouecc9LOO++c2O3hPMo+++yTzjvvvByduMTTR3lIaOAf66PwfpixDpRHXYoXdbvgggvybbyVV145vepVr0of/ehH09lnn52fkFI62tmpHVHoKP92ZSnMpgmYwOAJ8B210Bl8P/SqBhY6vSJbsnxZmDstzlqICZed6kscYI/+EjTXXXdd+vKXv5ze9a53pUmTJuXzKl/72tfSbbfdlluveORTLJ+wmH+vcBXbFMuhTbfeems69thj807VIosskjbYYIO8g6VdG9WddJFfzJedGwRibI92yWJ52CkzsiyG220CJtB/AnwnLXT6z71fJVro9Iv0gMqJC7KqwKIsocEXPC7mWoTx44NbC3xcyMlLafF/7LHH8pNcu+22W1puueXSCiuskDjbc/7556vY1sFc5aOyWhF6ZNHtKdo8Z86cvGuz7777JnZt2JliV+q0005LnLXhor2qI+5oJw/xIKy4A5YzKKSRn3hh6qMwmyZgAoMjwPfRQmdw/HtdsoVOrwmXJH8tssNVhwV9pAW408Ie/RECv//97/N5lg033DBPIJtsskl+kuvGG2/MVYjvBhquTuMNoy533nlnOuaYY/KO06KLLprWX3/9XDd2pLh0lgZ7FDHYJXKiP4y4ZCpdkV1MnxMU/ijvgredJmACfSbAd9dCp8/Q+1ichU4fYTe1KM72/PjHP85Pci277LJpxRVXzO+c+clPftL69W3YxIVfuzDyK4qIyDKKLPxxU96ee+6Zd5dWWWWV9OEPfzg/TfbII4+0kirvloctJtAjAhqjURxHe4+KdbYjEIh9MGHCv5dDzwsjQOtyMLvkuqJdft0wLXS6QdF5dCQQJxJFuuGGG9IRRxyRNtpoo8QOy6abbpp3XGbOnKko2dSEo0VCuypyE0n23/3ud+mrX/1qmjZtWpo8eXLaeOON8/khzuDMnTu3lS9fJNVJZivQFhPoMoE4xorjuctFObtxEuCcoa/BEOB7ou+H5nmZ3aiRhU43KDqPjgQ00SNIdCtHA5owzsz88Ic/TDNmzEjLL798Ptuz++67Zz/C4qW88ONMEO/7Ydfmda97XVpppZVyHvg9/vjjrfNASq//FCSMVAeF2zSBXhFgrGnSjmO4V+U539EToG9065odHdyaG2SOPjfHXFgCfC+0e8/cDHO+I5qnFza/TvEtdDqRsX/PCMTJXoMcPz7swPAkFzszU6ZMyTszPBXF25v/8Ic/5J0ffpWdSYn32xD3pptuaomoWOm4exP9bTeBfhKIC6YED+VrzNt87nB+v1nQD+qfeOtKC22/69O08vQ9pN3xkuCJfuOxW+iMh57TjoqAvrwxcvTT5M/g1s6LlD5nbdjtWWqppdKLXvSi/CTXmWeemR599NHWLShNVMpfecgtU5OX3BJZcts0gW4T0AQeRbfGOwsrB2D9GRwD+qD44RYWt7/dP73vl8g59gOv+sDdrat7OXWrRs6ndgQkRKJK1wLApN9JmCgdQA4//PB04IEHLsBG+ShAYoa0WlBkFuPIbdMEekUgjk+NQ5lM5IT7MzgGnfpdc5L7pj99o7le3xdM/gHo1mWh0y2SzmehCEiQKJEGOu442LGzMPzXf/1XfmNxjCe7TN1rxy0/5UW+8lOZxTrI36YJdJMAY1BjL47Hbv7H2s36Nimv2DcSoE1q/6DbKkFJPTR/Y6cvuvn9sNAZdE83oPx2giJO/LKDQgtB0eSXwQ844IBMS/EVB0+VoTD8sCuOTIXLnTP0HxPoEQHGmRbQotnNibxH1W9EtuoXGqt5QWYjAAy4kZF/tHfz+2GhM+BOdvEjE2DS4cc0999//5EjO4YJVIAAY7qbE3kFmuwqmsCoCXT7+2GhM2r0jvj/2zvXmDuK+o/T0tJKMP4N+kJDYkLkXouIEBMxQKEUCi0IXosGVEq5kyigEK5yUXwjGkVFoFxabm/0lWgUbClQChjFokBBBC9QaCm90UIvmX++g99lnuV5nu45Z885u3s+m5xnZ+f6m8/sznyfmdlz+kUAodMv8pTbLQJld+TdspN8IdAPAmU/HwidfrQiZbZEAKHTEi4i14BA2R15DaqMiRAoTKDs5wOhUxg9EftFAKHTL/KU2y0CZXfk3bKTfCHQDwJlPx8InX60ImW2RACh0xIuIteAQNkdeQ2qjIkQKEyg7OcDoVMYPRH7RQCh0y/ylNstAmV35N2yk3wh0A8CZT8fCJ1+tCJltkQAodMSLiLXgEDZHXkNqoyJEChMoOznA6FTGD0R+0UAodMv8pTbLQJld+TdspN8IdAPAmU/HwidfrQiZbZEAKHTEi4i14BA2R15u1WWHTp81hdq+kvb7Jd+Y63iKlxhDpefv4gzf1aYv8zTZ/npUFzl4TTyc9l2p2XYncYZKa3Lchrll34Lb+pWXMdzfsNdy8/+tk/nkQ7HdT0VT37D8dtWHs7LaZ2X7dV1vpw0T6f32el1TtvXXNJ803x65ZadZX7PFEKnVy1HOW0T0E3PFwa2jY+EFSRQdkfebhUtGvIDW14oyF4Ngjr7kDsdJNM8HM/5K439dB7O334rVqwIhx56aLjmmmtiUR58nT7Ny7YorcvP/1hveu0yXD+nUT6pW9eOm5anOE7rsmVXalvqn88j5eV4Rc4qd8OGDVnUNF+FmZEiKEz22E9n2Txv3ryw3377hX/84x/BTFJ7XP8076zAHjtkP0Knx9Aprr8EdNMjdPrbBpReLoGyO/J2rRttUNPA53CfVY4Gzvy16uOBUoNneq24CpOfDgsFnZ1G/nZL6Bx55JFBP/uS+ju9B2lfe0BXXIfJndpot86Ob7vyZShfx1fYG2+8MaQ+aXy5Fd8fXecP18t56lofc8jHz1/b3rx/Pl+FWwzdddddYdy4cVEsnHbaaVGQym/vvfcOzzzzTFi2bFnYd999w4QJE6L4+dvf/hbrYBuVV1H78naVcS2eCJ0ySJJHbQjopkfo1Ka5MLQAgbI78gJFjhhFwsSDmgY6fTyIOlE6MKeDYX5GQPUa7kjTKDy9tjtN6/JtVxrm/FM/iYH0erg88+W6DMd1vjorTPm5fPnp2mVI/OQPh6X+Fl5pGSMJlzSd3Wk622O7Hcflpm1x8803h1NPPTUTPrZDadJ4S5cuDYcddlj4+9//7uziuRUbhyQs6UJ1QuiUBJNs6kFANz1Cpx5thZXFCJTdkRcrdfhYHjh9ViwPsPLzoCebPUgqXNc6nM7xdK2Pw50m9VOYw12W8lIezicVGQpzfLk9cKdp5a8jjfc/r7Bx40Y7Y3i+DF+naZ23/OxWJq5v6pdlPorDHBQlX7dRksUg2eBy07PdssVuxb311lvDueeeG4XOSGUpvmZ3jjrqqPD8888PKSflsC3buhGu8hE63SBLnpUloJseoVPZ5sGwNgiU3ZG3YUJMkg5oWr74+Mc/Hu6///5w7bXXxoFGg83MmTPD8uXL43/9n/jEJ8L2228fw7SHxoO987nzzjuzdGPGjInuhx9+OJalWRDNMijPRx55JAoODbZ333139NPSio5Vq1aF6dOnh8suuywKAg3GkydPDg8++GC4+OKL45LMxIkT40zEa6+9Fp588skYntoVMwohaMZCaR977LFMCDhM+WtZZ82aNXEpR/tXHnroobhkJhtlv5bQtJQmNqq7/PW5/PLL35Wf882fU6GRuvPxhru2AFOYGIvXunXr4h6m8ePHRxtlz+mnnx5ZKY4+2o9zyimnZAJP6eQnFuLp/J566qkwderU2LaK48P5+LrXZ5WvepV1lJdTWRaRDwRyBHTTI3RyULisNYGyO/J2YVioKL0Gcw32GmDmz58fs1y/fn0UJxIR06ZNi4O+AiQIFE8iRYcGcLknTZoUnn766cxvyZIlMd6NN94Y/V555ZUwZcqUcPTRRweJlFdffTUcfvjhUXBo1kX2vPTSS3Hwveqqq2IaCRnZpT0nElIa/GXXnDlzoujSQK28lHbx4sVh7NixcUZDiTVTIfF23333xbw8EyT+EmpnnXVWnPVI664ydKTCTMJLZUgMLFq0KNoi4aAyU4EQE+b+qKz8cdttt8W65P1HuvZSmUSgNmpLpPlQnb72ta9FcSieOmSbxI9EkY+5c+dGjs8++2w2Myc+yi8VP7J3OJudTy/OKh+h0wvSlFEZArrpETqVaQ4MKYFA2R15JyZ5UNM+Df3Hf/bZZ4e1a9dmWUr0aNB54IEHMj8JjTPPPDPOGmgDrAZ8zSB897vfjXE8+GuA1oArQeFBVzM3yu/KK6+MHwkRzSw4jeJJ/Chcx3PPPRc3zs6ePTvbcyL/22+/PebjGSPVQ8tDsuOMM86IQkX5SiSltsdMQ4gzN5phUnka/FV3iScJLjORYJBwWrhwYUzmMmSL4kp0qe6O77yHO7/++utR0KnuYlokTTqjozxlhzYR680pp1f5YqB8dZa/GH/jG9/IZnRSIWpRo/zU5lq6Eiel80dhzn+4unTbT2WrPmUd5eVUlkXkA4EcAd30CJ0cFC5rTaDsjrxdGBYXSq+Zk/333z9otiHdTyJBceCBB8ZBUYOqDqXTW1Fa+pGY8aCoc+rWbIMGXIkCpVU6LRVJJHlpyzM3tkUzJ6nQ0SCsZSPtO9Hh/G+55ZY46OsNItulcIktlaeyJWA+9rGPxRkohWnAd3rZ7+UdlSEB4eUzxxELCTGJA/npo7KuvvrqWHdxst0K89KU4jgPLfsdccQRcfZJLHU4jd1OJ3+zd3rHiQmHSSt/zWRZ6OhadktgegZL+apsiTkJRx3KX7Nvss2zcDGgAn9kG0KnAg2BCb0joJseodM73pTUfQJld+SdWOxZAw12WnrS/hkd9tfswz777BOFjvy9jPK9730vaGZDszs+JCy8l8V7ZnbYYYcYTzMaPjTDooFMg+zKlSszUaBwLW/JXwJIgkHLK3vssUdml+LI/5577okDdzpIy18zQZrRWb16dbYcp/09ro9tkNCR4NKMjsSSRMAf//jHGM/CQ8JHQin/VpLSSsB5lkrt6UM26JA4Ek/V0wInFVqKJ9EnsWjRJ2aqt8WO7VB+EivOW3uElK9mm3zW0p6WFGXLHXfcEZcc1TbOQ36f/OQnw1/+8hebOqrQSeuUJeiRo+zngxmdHjUcxbRPQDc9Qqd9fqSsHoGyO/JOauiBUIO5lnkkCtIZBy3faLZDMwEeaFWeN/NKQGi55+STT46DrgZeiSDncckll0RBkb75pNkYDczKNxUqyksCRfuBLr300lgtCQbNKC1YsCCrpvLWrIXEidK7LEXQjI4EmMpTmGZkLAAUrvpqpkOCSGJFS29aCnLdXYjaSPtaDjjggJiPxIfrL9skkmSvPoqrw3Z4hkXiwofjpPFkh4SOmPmTskvjyq16SNxIEImdhKUOtZ1ElZauZKNmvyT2PKOjODfccEOso4SjbNYhPiPN6KT2xsg9/KOyxaOso7ycyrKIfCCQI6CbHqGTg8JlrQmU3ZF3CkODowZACQcNpjrkp4Fbg6a+aM77QjwASih46UcbdPUmlMSIw50+FR4aYLU0NWPGjCgytD9EeWhAVnwdWurR5l8vaWkQ14ySBJjt0lkzTZo90rKT0qpcfWSX98+oTrvttlt868p2Ka1Ei8qVWNFMk5euVA8LP8XXjI4EhN7e8qGytJFZS0PpXqZUCCmuZolktwZsL7vJX/nro/xdZwskhcud2upyVZZsVt08i2ZbLVK9l0gCS/Fkk8WONllbGLpchI7pcoZAnwnooUfo9LkRKL5UArqny/yPtV3jPMBq4NPMiWY10pkT2akBUjMqTzzxRCxGaTzYe4lIsz4aRDXDkA7SEjWaMdCmX6XRRwJGwkniQks6WtrScpkHf83o6M0sCRYdGow1e/H444/Ha+WhMrykpnx0yE+2Kd3Xv/71KAaUVnYpruNo6U11lUjS20rKT0JGMz+aidEhgaBDgmGvvfYK//znP2O86BlCnG3STIwEhxk6TGfZ4o+ElGao1N7Kz/F9dn187bPysVt5aZlLAlCv2OcPcVT+jz76aORooaM0PjQDpjpLFOkQb4SO6XCGQJ8J6CFH6PS5ESi+VAK6p6sgdFQp2aJDg55mIDRYys+DvQZR7VPJixgtSUnASDhoWUszH5rp0ACqAVqvQkvkqJ46a++Nlla07OK3sxTnkEMOicLGe3gU77jjjosDukSA8lb5XpaxvVr+0uZpbaJODwkpLV0prZalZKO+D0d7geTn7+mRXRIrqqdnRLRHR7a7DM3ESACp7hYkKktlKF/PqHgpyHZYoOjaMyoSRRJgWrKz8HJ6p9NZZef9lb/s1CZob45WXMWTgPEeH+erJTeJULeh4ipMbaS62B+hk5LHDYE+EtCDj9DpYwNQdOkEdE9XQejIDn10aACUoPASkSutAVIzKpoF0eFB2IO9B3JvMNZAbnEj8eL9KhrkDz744PgdOS+//LKzj8tDiq+9KToUpreuNKhLMGjGRoO77LKtiqdZJNlruyw2lM9JJ52UbZqWwNAyjsqwbVqi0oZeCR1tKFYZmu3Qsp0EjQ6VLZGXCgsLBO1PSpeQZFcqhJQ+Zev8YsYhBP1Eg2ZdfLheqUDKp9G1eOr1f9VFglEfzbhpP5KEjfzFW22muknoOU+JtnRPlMpE6LgFOEOgzwT0QCJ0+twIFF8qAd3TGpSqcFggyCZ9dEjM2J0O/ArzwGl/Cx/Hd3qd7ec48vOhMH0cJhHh+I6Tnl2u/Ox2fJ/TsNSdxrc7DZdbx0h1UhqHpfHktv1peMzsf3/S8mRnamvqTtPb7bRpOvvpbH/bYNv05Y3aaO29PPJ3WTq7zRE6aUvhhkAfCejBROj0sQEounQCuqerInRKrxwZ9pRAKmAsgrSsp43WmtHxYfGka7s1G5Z/68oiyHGcvpfnsp+PavxL0UuClFU7Agid2jUZBm+DQNkd+TaKI7ihBIYTI340UC0AACAASURBVBI7Ws7SUqFmySRc8mLI11qu1K+Xa2ZH6SxyHN4vbGU/HwidfrUk5RYmoJueGZ3CuIhYAwJld+Q1qDImdomA90gpey9haf+P9/FoY7ZEjPcXKZ4EjjYmK47fKpN/KpxSd5dMHzHbsp8PhM6IqAmoCgGETlVaAjvKIlB2R16WXeRTTwISMvrokEBJ3WmNLITkp3swPTyb00+BY3vKfj4QOibLubIEEDqVbRoMa5NA2R15m2aQrOYEJGjywkT3Vip8LHryZ1Xdfnbnr/uFp+znA6HTr5ak3MIEEDqFURGxJgTK7shrUm3M7AIBz9JY4IxUhOPlw1N/7+dRXv08yn4+EDr9bE3KLkRANz17dAqhIlJNCJTdkdek2pjZRQL52RjdYxIxOqdhMkH+mgmyyFG44qVH/joN67ZbZZf5ViJCp9stRv4dE9BNj9DpGCMZVIhA2R15haqGKT0k4GWrvJDJixSHW9gMZ6JFkcIcf7h4vfAr+/lA6PSi1SijIwKdCJ38A6trP+zuDHzOdxryd3qnUUXsp/h2y9/p5XaecnuTn/NQWBqeT6vrNF9dc9SbgNrb94fbtsz/WOtNp//Wu03URn42fe6/dc21QNz9XOTPZT4fCJ3m3kONqZk6nE5ndLz2bCjuxNJXMxWmh82dnuP6rDQWK/JzHnKn3+qqr2P34YdX5TtfpbN/Pg/nn74K6rw414+A2jNtY7ev2l8/R8DRfwL+RyRtp/5bNVgWDMceoTNY98DA11YPQbtCx4IihejBxsJDYfkHTXGuuOKK+Hs6Cndcny1EnJfzd3n6RlJ9Bbt+lTk9VI7z0I8h+trp0rLSdLjrTUBt7cP3WpkdufPm3BoBP4vpPyd+pn1uLUdit0JA/P08WHCae5nPBzM6rbQKcftCQA9Cu0JHBvsBSr8OXQ/TsmXL4o8C6oHSj+PpF39VlkWHfmFZX7zlB88P5PLly8OsWbPit4naLwWj+Crr9NNPD/qhQ+XnPN2x6lo/Pqiy9cvDEyZMiG79UKLy1MflpnnjrjcBtanvgbFjx2Zt7Tbn/Pa93ysO6d3kf17SZ69XdgxqOeaf9nVioUP9YlkHQqcskuTTNQK68dsVOh5UfPZDpN94mTx5cpxxUQenXwU+5phj4i//qiKKf+mllwb9OJ6Wt5xOAkVxTzzxxLB06dIhdXZHKU8JnVNOOSX+GnIaSfmsXLkylnXxxRdnQSpPYfpV5KlTp4ZVq1ZlYTjqS8AduO8fn3WvqCPn018G+kfD/2xIePqfHtqlN+1i/v5VeV+Lv9xlHeXlVJZF5AOBHAENDu0KnVxW2cyKZmr0w3c6PPgsXLgwnHHGGWH16tXRX2XedtttWRYetF555ZXwhS98ITz33HMxLN3nI8Gij6bC58yZEx588MFsZkaDm8q68sor47KYM04FksI106M4qb/jcq4vAd0XOnyWW+3Np38MfDepDSR01DZy6x8a2qX77eJnIH0m3CZlnhE6ZdIkr64QUIfTidDxspGN036JU089NSxZsiTr0BSmmZYTTjghvPDCC3EWR3t0JHSc3mfNtnzxi18MTz75ZDZoycZUmKxZsyacdtppYdGiRbFYL58pjn5sb/HixTYnO7uD1XLXySefnJWbRcBRSwJqe7WtjtRdy8o0zGgLG1VLMwjpgOs2a1iVK1WdlLfd/oeyTEMROmXSJK+uEFCH067QSTsriw0JGgkV/WKvDz1kmoU5//zzw1NPPRW9Nasyb9686PZDqIvXXnstzuhoj48OlZE+nBJEEjQSUxI6qQ2Kd/XVV8cZmzRPiyjlp3K1Vyf1iwXxp3YE0jZM3Wnb165SDTLYz6aeSy2fuF3s36CqVroq7j+7xR2hU+nmxzgR0M3frtBRendeprlixYrwpS99aYjQUdj69euj0NH+HaXRjI7+y9N6sZah1q1bF7OQUPrc5z6XLV2lZbgs7dGR0HnooYdimnSQU/ojjjgiCpoYmCyfqcx0j47z81nx3Sn47Dw4QwAC7RFQH6PnvFsDbXtWkaosAgidskiST9cIdCp0UsM006I9NXoj6uGHH85EkESDlps00yOho0MzK96jkwqVV199NXz1q1+Nm5ElQBzms9Jq1ufMM88MCxYsyIrXjJIFi+qkWRsJKW/E01mzPTocz4mVd1qW/TlDAAKdE0DodM6wyjkgdKrcOtgWCXQqdDzzobPy0qFXyTV74mv53X///XHmRmJIwkKvl2vpKt1srHjajCxB5M3IqcBRuASN0mgWSPuAVK5tULgOpbF4ufPOO8P8+fOHxPEym+PKzlT8KG1q+9u58hcCEGiHgJ4lZnTaIVePNAiderTTQFupTqiTpSsLglSQaEPxkUcemW0W1nLWUUcdFV83d3wJndtvv30Ie4kNvV5+2GGHxdkYzcjssMMO2RKXrqdPnx5efvnlMHv27CielIHyVFoJnlSwKExvf0nopIfj2BaH2V/X+TDH4QwBCLRGQM8SQqc1ZnWKjdCpU2sNqK3qhDoROqnAEULlJz+JG4kdLx3pW4zl749mfPQaug5tVHY6N4NFR37GR9d6RV2vqusNKh9K7yN1a0ZH5chPMzmezfFZ5XhGyHGcD2cIQKBzAnquEDqdc6xqDgidqrYMdmUE1Am1K3QsRnyWiFF+6WFBobD00B6a9PXyNCyfh8IsRuT2W1daulq7dm1Mqrw04zPaR7ND/pbk8ePHD5np8WZo5x8z5Q8EINAxAYROxwgrnQFCp9LNg3Ei0InQUVqLEgsaXVv4pOJEZSmO4+mbke+6664YNxVBaRr5Oy+3lvKXKNGMjr4wUIeEj480L/ml6RWW2mfb03M+vfPlDAEItEdAzxczOu2xq0MqhE4dWmnAbVQn1O6MznDoLCwsHhTH4iaNn751JX+nkzsVO2mY/SVG9MWA6dKV06fl2i8tV+H6OMx5puXIneaTpscNAQi0RkDPEkKnNWZ1io3QqVNrDaCtHuz12vW3v/3tjACDfIYCBwQg0CEBhE6HACueHKFT8QbCvLcJaHblkksuiRuFPfvCEg53BwQgUAYBhE4ZFKubB0Knum2DZcnyjJauLrrooowJMzoZChwQgECHBBA6HQKseHKETsUbaNDN8/6Uo48+Ohx88MEZDmZzMhQ4IACBDgkgdDoEWPHkCJ2KNxDmvb3p9gc/+EG48MILh+CwCBriyQUEIACBFgkgdFoEVrPoCJ2aNdigmesv47v22muzpSu/qs3y1aDdDdQXAt0hgNDpDteq5IrQqUpLYMeIBNQJ/fCHPwznnnvuu17rHjERARCAAAQKEkDoFARV02gInZo23KCY7TesrrvuunDOOedk1WbZKkOBAwIQ6JAAQqdDgBVPjtCpeANh3tsEfvKTn4Szzz57yJfkqXPSYTEktzYpe2nL38Hzdg78hQAEIDA8AYTO8Fya4ovQaUpLNrweP/3pT8NZZ531LqHjt68kdjZs2DCEgoXQEE8uIAABCOQIIHRyQBp2idBpWIM2tTrXX399/O2o4cRLOqOj+msmxwKoqTyoFwQgUB4BhE55LKuYE0Kniq2CTe8i8POf/zzMmTNnyIyOI1nYpCKIPTymwxkCENgWAYTOtgjVOxyhU+/2Gxjrb7jhhjB79uysvhY1nrlJ9+N4jw5iJ8OFAwIQGIUAQmcUOA0IQug0oBEHoQo33XRT/DVw1zUVNuqkLHgsbnx2fM4QgAAERiKA0BmJTDP8ETrNaMfG1+Lmm28OJ598clZPCx3P7LzxxhtBv4elw34+Z4lwQAACEBiGAEJnGCgN8kLoNKgxm1yVuXPnhpNOOimromdw1q9fH78xefvttw877rhjDJcIQuRkqHBAAALbIIDQ2QagmgcjdGregE0330tQEjonnnhirK6EjATOxRdfHN7znveEcePGhfe+971Bv4fFAQEIQKAoAc8MK/6YMWP4B6kouJrFQ+jUrMEG0VyJnTvuuCN85StfCatWrQqXXXZZGD9+fNhpp53CdtttF93/93//l6Hx72NlHjggAAEIjEDA/YX6Es3seEY4FUEjJMW7JgQQOjVpqEE2U53P/Pnzw6xZs+Jn7NixQR91TPqkbs3uTJgwIQtzHM5vs4IDHLgH3rkHNItjHoceeuiQbhahMwRHrS8QOrVuvuYb770499xzT5g5c2ac0bniiivCxIkT47KV9uZI6Hzwgx+MMNQ5+T+05tOhhhCAQKcE3Mc4H33DOnv8TKMZZ4ROM9qx8bWQ0Pn85z8f66nvyVFndOmll0axo//KtEfnxz/+cfY7V4pIZ9X424IKQqBjAp650TkvejrOnAwqQQChU4lmwIjRCEiw/OpXvwrHHntsFk37diR41qxZEwVP+taV4utnIRA6GS4cEIDACATcT/isaMwKjwCrpt4InZo23CCZLdHy29/+NhxzzDGx2vnftpKn3sK69tprh4gb/jsbpLuEukKgfQJ+u9N9Syp62s+VlFUhgNCpSktgx7AELFZ+/etfhxkzZmRxNM3sjzzdUcmt/8boqDJUOCAAgREIpP2El7AcNX9tf871I4DQqV+bDZzF6ox+85vfhOnTp8e6u3PyeeCAUGEIQAACEChMAKFTGBUR+0VAgubee+8NRx111BATEDpDcHABAQhAAALDEEDoDAMFr+oR+N3vfhemTZtWPcOwCAIQgAAEKk0AoVPp5sE4E/j9738fDj/8cPbeGAhnCEAAAhAoRAChUwgTkfpN4P777w/65lKWq/rdEpQPAQhAoF4EEDr1aq+Bs9bCZsGCBeHggw/OhI79Bw4IFYYABCAAgZYIIHRawkXkXhOwoHnggQfCZz7zGYROrxuA8iAAAQjUnABCp+YN2HTzLXQWLVoUDjroIIRO0xuc+kEAAhAomQBCp2SgZNcdAo888kg44IADupM5uUIAAhCAQGMJIHQa27TNqtiSJUsQOs1qUmoDAQhAoCcEEDo9wUwhnRJ47LHHwv77799pNqSHAAQgAIEBI4DQGbAGr2t1//SnP4X99tuvruZjNwQgAAEI9IkAQqdP4Cm2NQJ//vOfw7777ttaImJDAAIQgMDAE0DoDPwtUH0AevPqiSeeCJMnT66+sVgIAQhAAAKVIoDQqVRzYMxwBCR0li5dGiZNmjRcMH4QgAAEIACBEQkgdEZEQ0BVCEjoPPnkk2GfffbJvkenKrZhBwQgAAEIVJsAQqfa7YN1IURx88wzz4Q999wz8vCXCAIHAhCAAAQgsC0CCJ1tESK87wQkbJYtWxb22GOPaAtCp+9NggEQgAAEakMAoVObphpcQyVsnnvuufDRj340zu4gdAb3XqDmEIAABFolgNBplRjx+0Lg+eefD7vuuit7dPpCn0IhAAEI1JcAQqe+bTdQlr/44ovhIx/5CEJnoFqdykIAAhDonABCp3OG5NADAv/+97/DLrvskgkdlq96AJ0iIAABCDSAAEKnAY3Y5CpY0Pz3v/8NH/7whxE6TW5s6gYBCECgCwQQOl2ASpblEbDQeemll8KHPvQhhE55aMkJAhCAwEAQQOgMRDPXu5ISOytXrgwf+MAHYkUsfrZu3VrvimE9BCAAAQh0nQBCp+uIKaBTAhY6O++8c8zKQsfnTvMnPQQgAAEINJcAQqe5bduYmknQrFq1Krz//e8fUieEzhAcXEAAAhCAwDAEEDrDQMGregRWr14d3ve+91XPMCyCAAQgAIFKE0DoVLp5MM4E1q5dG3baaSdfcoYABCAAAQgUIoDQKYSJSP0msH79+rDjjjtmZrBslaHAAQEIQAACoxBA6IwCh6DqENiwYUOYOHFiZhBCJ0OBAwIQgAAERiGA0BkFDkHVIbBx48YwYcKEzCBeLc9Q4IAABCAAgVEI9FTo6L9wD1CbNm0axSyCIPA2Ad8vb731Vhg3blz0tN+WLVvABIHsSyQ3b96c0fA9knnggAAEBpZAT4VO2hENLHEq3jaB7bZ753ZF5LSNsVEJ84JG1/4ninukUU1NZSDQNoF3Ro62s9h2QgkcdzreWyG/gw46KGjw4gODovfAmDFj4v0yduxY7huenTB+/Pgh94HuD90bOk+ZMmXbnRMxIACBxhPoutCxsPFZ/3FZ9HgpovGUqWDbBPKzgL53dD/5nmo7cxLWnkB6f6hv0RKnj3QG0H6cIQCBwSPQdaEjpB6QPKUsP20upSMavBuunRrrvtE9ZJGT3kft5Eea5hHwveGaSfRotocDAhCAQE+ETjowpf+BIXS4AYsQkCi2WFZ8u998880iyYnTcALuX3xfWPTQvzS84akeBAoS6InQkS3poOSOiY6oYCsNcLT8faPBTP+tc0BABCxq/A+Ur9XHsDTOPQIBCIhA14WOOh7/p6UCPUjJH6HDTViEgAcx3ztKo3vKg1qRPIjTXALpvhzfK6ot/Utz25yaQaAVAl0XOiMZo4GKjmgkOvhDAAKdEKB/6YQeaSHQLAIInWa1J7WBAAT+N+PHP1LcChCAgAggdLgPIACBxhFgRqdxTUqFINA2AYRO2+hICAEIVJUAQqeqLYNdEOg9AYRO75lTIgQg0GUCCJ0uAyZ7CNSIAEKnRo2FqRCAQDECCJ1inIgFgUEggNAZhFamjhAYMAIInQFrcKoLgVEIIHRGgUMQBCBQTwIInXq2G1ZDoBsEEDrdoEqeEIBAXwkgdPqKn8IhUCkCCJ1KNQfGQAACZRBA6JRBkTwg0AwCCJ1mtCO1gAAEEgIInQQGTggMOAGEzoDfAFQfAk0kgNBpYqtSJwi0RwCh0x43UkEAAhUmgNCpcONgGgR6TACh02PgFAcBCHSfAEKn+4wpAQJ1IYDQqUtLYScEIFCYAEKnMCoiQqDxBBA6jW9iKgiBwSOA0Bm8NqfGEBiJAEJnJDL4QwACtSWA0Klt02E4BEongNApHSkZQgAC/SaA0Ol3C1A+BKpDAKFTnbbAEghAoCQCCJ2SQJINBBpAAKHTgEakChCAwFACCJ2hPLiCwCATQOgMcutTdwg0lABCp6ENS7Ug0AYBhE4b0EgCAQhUmwBCp9rtg3UQ6CUBhE4vaVMWBCDQEwIInZ5gphAI1IIAQqcWzYSREIBAKwQQOq3QIi4Emk0AodPs9qV2EBhIAgidgWx2Kg2BYQkgdIbFgicEIFBnAgidOrcetkOgXAIInXJ5khsEIFABAgidCjQCJkCgIgQQOhVpCMyAAATKI4DQKY8lOUGg7gQQOnVvQeyHAATeRQCh8y4keEBgYAkgdAa26ak4BJpLAKHT3LalZhBolQBCp1VixIcABCpPAKFT+SbCQAj0jABCp2eoKQgCEOgVAYROr0hTDgSqTwChU/02aryFGpR8bN261c5gt85pnC1btgy5zhKEEDZv3hwvFceH0+psf+ftOJybRUBtvd12fevemgWT2kCg5gT61hPQEdX8zinJ/FTEWISkwkTu9DqNLxMcbuGiPOx+8803s7R5c5XO8fJhXNefgNoXoVP/dqQGECiDAEKnDIrk0REBi5NU0DhDix9dp8LEAkf+edHiWR2HpXmledifc/MIIHSa16bUCALtEkDotEuOdKUQSEWJRIg+FjcWPirIYsiFOsxn+1vIbNq0KcvHforr+C7D6Tg3i4DamRmdZrUptYFAuwQQOu2SI11pBFIBMlymFicKk0BJxZH8JGrSY9WqVWHq1KlhyZIlYd26deG0004Lc+fOzUROml+aDndzCCB0mtOW1AQCnRJA6HRKkPQdEbDoyIsVX1vUvPHGG7Eczc5cddVVYccdd4z/sY8ZMyZzH3nkkeHVV18Nr732WjjiiCPCggULgvbpzJ49O9x5552ZnSrTszyZJ45GEUDoNKo5qQwEOiKA0OkIH4nLIHDppZeG73//+zErCRsvK7311lvvyl4CRXFSgaT4mr058cQT4wzO66+/Hmd0Fi9eHDZu3BiFzh133BHzVTqnfVfmeDSGAEKnMU1JRSDQMQGETscIyaATAhIz559/fjjvvPOGLEF5xkVnu/PlSOBoaUozOJrlue6666IIWrFiRdDszgMPPBA2bNgQ5syZE+bNm5cJHOeH4MkTbc41Qqc5bUlNINApAYROpwRJPyqBVEx4GUoJvDT117/+Ney2225h8uTJ4dlnn81mXZxpml7CZunSpWHSpElx2WrnnXcOhx56aPjUpz4Vdt999/D0009HMbN8+fIwc+bMsHDhwjijc+qpp4Zbb73VWWaCJ/PA0TgCCJ3GNSkVgkDbBBA6baMjYRECFjdejrLAUdqXXnopHHfcceHKK68M5557bvjyl78ctOykQUofz7zobMFjP+enpSktfWlGSLM3Cl+/fn045JBDwkMPPRTWrFkT87777ruHLHkpvW0rUg/i1IsAQqde7YW1EOgmAYRON+mSdyZQLFR0lsB48cUXw/HHHx8uuOCCKExWr14drrjiijBjxozwwgsvZOm8T8fphDQVKJq12X///cMTTzyR7e3R0pU2I2ujsj56zVhvXemwUKJpmk0AodPs9qV2EGiFAEKnFVrEbZuAhYpmcTSD8+lPfzrce++9Q/KTgLnvvvvCQQcdFGdp/vWvf8VwpdUnPSSAli1bFg488MCgjca6toiR0Jk+fXpYtGhRnOU566yzwu23354JJMXzjFCaJ+7mEEDoNKctqQkEOiWA0OmUIOlHJaABR694S4ho9kazOBI4Wl7S4aWsdJZGr5L/4Q9/CLNmzYppdG0RY8Hz+OOPR5FzzTXXZGE2REJH36Pz8MMPR6Gj18tvu+02B2dnl5154GgMAYROY5qSikCgYwIInY4RkkERAp5BkaCRaPEnTes48rOgcbjD1q5dG66//vqwyy67hB/96EfZLI1Ei8XSK6+8km1Glsg65ZRTwvz582NWaTzn6TI4N4cAQqc5bUlNINApAYROpwRJv00CFhQ+pwk8UyO/NNxCKD/r8p///CecdNJJ8dXx0cTQlClT4oyONivrrSu9Xq5DaZwuLTu1CXf9CSB06t+G1AACZRFA6JRFknyGJWBR4UCJi1RsyD8fJxU8Tqc4TptPkwoWufXtyPoeHb11pRkd/QSEXi93Oc7LeXNuHgG1Mb911bx2pUYQaIcAQqcdaqRpiUAqRCw2WsogF9lCSF8UOG3atLjpWFHScpxE+3vOOOOMKHTS8PxMkeNzbgYBhE4z2pFaQKAMAgidMiiSx4gELC58VkS7fR4x8f/iavkpTadBTB9/A7J+6sECSnlqFkeH/HTtvTvy8x6hGIE/jSWgtmdGp7HNS8Ug0BIBhE5LuIjcDgFtINasigYefcaOHRvP/o4b+490Puecc+IX/6lsCReLGs3o6DVyvZLuIxVPaVy/fp6GOx+n5dwcAgid5rQlNYFApwQQOp0SJH0hAl5uUuR0hqVIYomUfDrl56UrvUaeHgqzoNGAlwqefD5pOtzNIYDQaU5bUhMIdEoAodMpQdKPSkCiw2IjFTvyK7JPxoIlX4jS6zXyww8/PGy//fbZbJFmhTxTNG7cuGwGSfEkjGzDSPnmy+G6ngQQOvVsN6yGQDcIIHS6QZU8hyWQigsLjmEjJp6e/XH84fbYOE6SLHOmZaZ7dxRBgyFHMwkgdJrZrtQKAu0QQOi0Q400hQlowPFHieROxUfRjJTO6e3Op02/DFBluCxvZk5nkFJ3Ph+u609Aba/ZPQ4IQAACfesJ6IgG4+azKPGMjGptd1HB4xkbp1MeTuv8vY9HYanblJ2Hz2kejsO5OQToX5rTltQEAp0S6LrQ8UAkQz3IeJDS3gofjuf/xO3PGQIQgEARAupD3Ldoxk5v93FAAAIQ6JnQcQeUIvfUssPS/9i1n8LiJ02DGwIQgIAJWNykfYeXJd2/OC5nCEBgMAn0ROikgsWzOsKtX5ieO3duRl4dVBrXAiiLgAMCEIBAAQK//OUvw2GHHVYgJlEgAIGmE+i60BFA/7cl4aKPxcyDDz4Y9t577/DNb34z46y4+tr+NF0WiAMCEIBAQsB9S/oP1IUXXhj23HPPoP6FAwIQgEBPhU7aGdmtb82dMWNGOPbYY8Prr7+etchwG0qzQBwQgAAEcl8RoP5D/cjxxx8fvzMJQBCAAAREoOtCx/9xqbCRlqI0w3PRRReF3XbbLTz66KPZjA9NBAEIQGA0Ap4d1i/V77HHHuFb3/pWFn2k/iaLgAMCEBgIAl0XOmlno05J1/ZLRZDcN910U/zui1tvvbXQt+YORAtRSQhAYFQCv/jFL2K/MW/evCye+5jMAwcEIDCwBLoudETWy1Rp55MuTaWCR79btM8++4TvfOc7A9soVBwCEChG4IILLoj7cZYsWRL3AqqP8SxP2t8Uy41YEIBAEwn0ROgUAWcxpLgrV66M6+wzZ84cstaeCiK7087M7uHCithAHAhAoLcE/MyqVD+3cvsVcbn9T1Ead9WqVeGEE06Ie3JWrFiRGW2R49njLAAHBCAwsAQqIXTSTs2dnToqvT0xadKkoPX3/OEOTf6p29dpnvm0XEMAAtUi4Oc+FTOphRY78tOs71577TVkP477gJHSp3nhhgAEBotAJYRO2jnlOzzv29FZnZk+6eyP3Gn6VOCk/oPVrNQWAvUh4N8is8V6xv3sWsA4TPv39EWA6g98rF+/PjrVd6TxnYfjcYYABAaTQCWEjtBLoFjk6DrtsPQfnN6o8L4dd2CpqEndDk/zG8zmpdYQqDaBdKbGz60tTv+h0fN9/vnnx/04nuHNP9+Or3Pafzg/zhCAwGAS6LvQUYfkDspNoE7NnZV+CkLHunXrwnHHHRc/6fftpD8VYbGjDpOOzjQ5Q6A+BPTcS8BYxOhZ1p49PfuzZs0Ky5cvzyqjZ1zh+qR9iK51OI8sAQ4IQGAgCfRd6OSpW9jIPxUr7rw0q7PrrrvG79tx5+b/Ct3x5dPmy+AaAhCoFgE9u17C8nMtCx955JH47el6u0rCxf3ASNan/cdIcfCHAAQGi0DfhY46LndeD92LvAAACMdJREFUFjbpf3T+r8yzNeoEb7zxxqBfPr/55pujGFL6VOyoCZ3XYDUntYVAvQjoOfUzLsvT6xtuuCGMGTMm3HLLLTFO+kxv2LAhq6j6hDRMAQieDA8OCAw8gb4LnbSDynd4+daxIJK/1un1ezb6T8+H8krjpG7H4QwBCFSLgPuA9Hk977zz4kyO9+PY4vwzbn+d3X/47HzTOLghAIHBI9B3odMK8rTj0n9x2rfz2c9+NkyfPj3oN7N0qLN0R5d2nK2UQ9xqEXA7eknD94H9q2Ut1rRLQM+tnmP9XpX25KR78drNk3QQgAAEKi90PKipqVK3rj1lrd/J2n333cPChQuzFs3HzQJw1JJA2p5yW8zWsjIYPYSA9+YsXrw4ztLqefZS9ZCIXEAAAhBog0DlhU76X7sGuHTAc33lp3X8adOmxe/Y0PdsjBs3LnPrmk8zGIwdOzbooz1a2r9Bu9a/XSdOnBjbccqUKeFnP/uZH+thn/UsEAcEIACBggQqL3RSYSO3hE/ez9f6L9/ugvUnWk0IqN0lanS4nVMRXJNqYOYwBPLPrJ9x2ncYWHhBAAItE6i80ElrpA4x7RTlVmeoae7h/NO0uOtLwHtz9J9/uqTBQFjfNrXlFq06uz3zz7njcoYABCDQDoFaCJ2ROr5U3Kjy6Sul+bB24JCmGgQsbjSj48EwbetqWIkVZRBw+yovC9wy8iUPCEBgcAnUWuio2TwI+vdu5GdhREfZnBtbbal9V+lA2JzaDW5N9Kz6GRYFfR9Wej24ZKg5BCBQFoFaCB1X1gLGZ/ung5/cCByTacZZyxo6vEdHbt0DHM0h4DZ2jdJn2n6cIQABCLRDoFZCp50KkqYZBCRs9JYVAqcZ7UktIAABCPSKAEKnV6QppyMCCJ2O8JEYAhCAwMASQOgMbNPXq+IInXq1F9ZCAAIQqAoBhE5VWgI7RiWA0BkVD4EQgAAEIDACAYTOCGDwrhYBhE612gNrIAABCNSFAEKnLi014HYidAb8BqD6EIAABNokgNBpExzJeksAodNb3pQGAQhAoCkEEDpNacmG1wOh0/AGpnoQgAAEukQAodMlsGRbLgGETrk8yQ0CEIDAoBBA6AxKS9e8ngidmjcg5kMAAhDoEwGETp/AU2xrBBA6rfEiNgQgAAEIvE0AocOdUAsCCJ1aNBNGQgACEKgcAYRO5ZoEg4YjgNAZjgp+EIAABCCwLQIInW0RIrwSBBA6lWgGjIAABCBQOwIIndo12WAajNAZzHan1hCAAAQ6JYDQ6ZQg6XtCAKHTE8wUAgEIQKBxBBA6jWvS5lVo8+bNsVJjxowJW7ZsCRI9+nBAAAIQgAAEtkUAobMtQoRXhsB223G7VqYxMAQCEIBATQgwctSkoQbVTM/caFZn7NixYevWrRkKz/RkHjggAAEIQAACOQIInRwQLqtHYOPGjdGoqVOnhk2bNsVlq1TwVM9iLIIABCAAgaoQQOhUpSWwY1gCntHR3pz80pVEDwcEIAABCEBgNAIIndHoENZ3AhYzEjrjxo2L9kj8MKPT96bBAAhAAAK1IIDQqUUzYaTEjWZ0EDjcCxCAAAQg0AoBhE4rtIjbFwKe1Rk/fnzco2MjNMvDAQEIQAACEBiNAEJnNDqEVYaAZnT0PTres1MZwzAEAhCAAAQqTQChU+nmwTgTQOiYBGcIQAACEGiFAEKnFVrE7RsBhE7f0FMwBCAAgVoTQOjUuvkGx3iEzuC0NTWFAAQgUCYBhE6ZNMmrawQQOl1DS8YQgAAEGk0AodPo5m1O5RA6zWlLagIBCECglwQQOr2kTVltE0DotI2OhBCAAAQGmgBCZ6Cbvz6VR+jUp62wFAIQgECVCCB0qtQa2DIiAYTOiGgIgAAEIACBUQggdEaBQ1B1CCB0qtMWWAIBCECgTgQQOnVqrQG2FaEzwI1P1SEAAQh0QACh0wE8kvaOAEKnd6wpCQIQgECTCCB0mtSaDa4LQqfBjUvVIAABCHSRAEKni3DJujwCCJ3yWJITBCAAgUEigNAZpNaucV0ROjVuPEyHAAQg0EcCCJ0+wqfo4gQQOsVZERMCEIAABN4hgNB5hwWuihLYunVrtGy77d65XTdv3lxRazELAhCAAASqROCdkaNKVmELBP5HYMuWLRkLCR1da3aHAwIQgAAEIFCEAEKnCCXi9JWAZnQ0gyOh49kdGZS6+2oghUMAAhCAQGUJIHQq2zQYJgKpmEmXrpjV4f6AAAQgAIEiBBA6RSgRp68EvHx1+eWXZ3awRydDgQMCEIAABEYhgNAZBQ5B1SAgUbNp06YhxjCjMwQHFxCAAAQgMAIBhM4IYPCuBoF05ubNN9+MRlnkeKanGpZiBQQgAAEIVJEAQqeKrYJNQwhs2LAhu0bcZChwQAACEIBAAQIInQKQiAIBCEAAAhCAQD0JIHTq2W5YDQEIQAACEIBAAQIInQKQiAIBCEAAAhCAQD0JIHTq2W5YDQEIQAACEIBAAQIInQKQiAIBCEAAAhCAQD0JIHTq2W5YDQEIQAACEIBAAQIInQKQiAIBCEAAAhCAQD0JIHTq2W5YDQEIQAACEIBAAQIInQKQiAIBCEAAAhCAQD0JIHTq2W5YDQEIQAACEIBAAQIInQKQiAIBCEAAAhCAQD0JIHTq2W5YDQEIQAACEIBAAQIInQKQiAIBCEAAAhCAQD0JIHTq2W5YDQEIQAACEIBAAQIInQKQiAIBCEAAAhCAQD0JIHTq2W5YDQEIQAACEIBAAQIInQKQiAIBCEAAAhCAQD0JIHTq2W5YDQEIQAACEIBAAQIInQKQiAIBCEAAAhCAQD0JIHTq2W5YDQEIQAACEIBAAQIInQKQiAIBCEAAAhCAQD0JIHTq2W5YDQEIQAACEIBAAQIInQKQiAIBCEAAAhCAQD0JIHTq2W5YDQEIQAACEIBAAQIInQKQiAIBCEAAAhCAQD0JIHTq2W5YDQEIQAACEIBAAQIInQKQiAIBCEAAAhCAQD0J/D+Qstd1AGu+lAAAAABJRU5ErkJggg==)"
      ],
      "metadata": {
        "id": "b8_m42JgksH2"
      }
    },
    {
      "cell_type": "code",
      "source": [
        "def max_of(a):\n",
        "    maximum = a[0]\n",
        "    for i in range(1, len(a)):\n",
        "        if a[i] > maximum:\n",
        "            maximum = a[i]"
      ],
      "metadata": {
        "id": "DKISrT7TkH-v"
      },
      "execution_count": 1,
      "outputs": []
    },
    {
      "cell_type": "code",
      "source": [
        "from typing import Any, Sequence\n",
        "\n",
        "def max_of(a: Sequence) -> Any:\n",
        "    \"\"\"시퀀스형 a원소의 최댓값을 반환\"\"\"\n",
        "    maximum = a[0]\n",
        "    for i in range(1, len(a)):\n",
        "        if a[i] > maximum:\n",
        "            maximum = a[i]\n",
        "    return maximum\n",
        "\n",
        "if __name__ == '__main__':\n",
        "    print('배열의 최댓값을 구합니다.')\n",
        "    num = int(input('원소 수를 입력하세요.: '))\n",
        "    x = [None] * num  #원소 수가 num인 리스트를 생성\n",
        "\n",
        "    for i in range(num):\n",
        "        x[i] = int(input(f'x[{i}]값을 입력하세요.: '))\n",
        "\n",
        "    print(f'최댓값은 {max_of(x)}입니다.')"
      ],
      "metadata": {
        "colab": {
          "base_uri": "https://localhost:8080/"
        },
        "id": "JdkTWhJFkZE_",
        "outputId": "f7fc8a64-b587-478e-a4b5-56bd8f5e6cc4"
      },
      "execution_count": 1,
      "outputs": [
        {
          "output_type": "stream",
          "name": "stdout",
          "text": [
            "배열의 최댓값을 구합니다.\n",
            "원소 수를 입력하세요.: 5\n",
            "x[0]값을 입력하세요.: 3\n",
            "x[1]값을 입력하세요.: 6\n",
            "x[2]값을 입력하세요.: 80\n",
            "x[3]값을 입력하세요.: 23\n",
            "x[4]값을 입력하세요.: 1\n",
            "최댓값은 80입니다.\n"
          ]
        }
      ]
    },
    {
      "cell_type": "code",
      "source": [],
      "metadata": {
        "id": "-ZzeyOG4wfEA"
      },
      "execution_count": null,
      "outputs": []
    }
  ]
}