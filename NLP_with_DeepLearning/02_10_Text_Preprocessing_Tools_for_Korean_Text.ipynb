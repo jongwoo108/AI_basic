{
  "nbformat": 4,
  "nbformat_minor": 0,
  "metadata": {
    "colab": {
      "provenance": []
    },
    "kernelspec": {
      "name": "python3",
      "display_name": "Python 3"
    },
    "language_info": {
      "name": "python"
    }
  },
  "cells": [
    {
      "cell_type": "markdown",
      "source": [
        "# 딥 러닝을 이용한 자연어 처리 입문"
      ],
      "metadata": {
        "id": "NLt7sUCRXd3l"
      }
    },
    {
      "cell_type": "markdown",
      "source": [
        "[구글 코랩에서 실행하기](https://colab.research.google.com/drive/1zFa8nKTmnZIqH2ay_Ck9m7kV_Dcm9bje?usp=sharing)"
      ],
      "metadata": {
        "id": "IGW-Axt4XgXH"
      }
    },
    {
      "cell_type": "markdown",
      "source": [
        "https://wikidocs.net/92961"
      ],
      "metadata": {
        "id": "Xl5Ym7cCYTR1"
      }
    },
    {
      "cell_type": "markdown",
      "source": [
        "02-10 한국어 전처리 패키지(Text Preprocessing Tools for Korean Text)"
      ],
      "metadata": {
        "id": "Rx0oC3LmXnQf"
      }
    },
    {
      "cell_type": "markdown",
      "source": [
        "1. PyKoSpacing"
      ],
      "metadata": {
        "id": "VPxZH-i6YVem"
      }
    },
    {
      "cell_type": "markdown",
      "source": [],
      "metadata": {
        "id": "9E5QbcCJe-vl"
      }
    },
    {
      "cell_type": "markdown",
      "source": [
        "전희원님이 개발한 PyKoSpacing은 띄어쓰기가 되어있지 않은 문장을 띄어쓰기를 한 문장으로 변환해주는 패키지입니다. PyKoSpacing은 대용량 코퍼스를 학습하여 만들어진 띄어쓰기 딥 러닝 모델로 준수한 성능을 가지고 있습니다."
      ],
      "metadata": {
        "id": "tdTEZ7i8d45p"
      }
    },
    {
      "cell_type": "code",
      "source": [
        "sent = '김철수는 극중 두 인격의 사나이 이광수 역을 맡았다. 철수는 한국 유일의 태권도 전승자를 가리는 결전의 날을 앞두고 10년간 함께 훈련한 사형인 유연재(김광수 분)를 찾으러 속세로 내려온 인물이다.'"
      ],
      "metadata": {
        "id": "eadICgubeYYv"
      },
      "execution_count": 2,
      "outputs": []
    },
    {
      "cell_type": "markdown",
      "source": [
        "임의의 문장을 임의로 띄어쓰기가 없는 문장으로"
      ],
      "metadata": {
        "id": "QCndw9tcf3S0"
      }
    },
    {
      "cell_type": "code",
      "source": [
        "new_sent = sent.replace(\" \", '') # 띄어쓰기가 없는 문장 임의로 만들기\n",
        "print(new_sent)"
      ],
      "metadata": {
        "colab": {
          "base_uri": "https://localhost:8080/"
        },
        "id": "OFUshe8Hf6UE",
        "outputId": "708782ad-b134-4d1e-a87f-6955ce4e0388"
      },
      "execution_count": 3,
      "outputs": [
        {
          "output_type": "stream",
          "name": "stdout",
          "text": [
            "김철수는극중두인격의사나이이광수역을맡았다.철수는한국유일의태권도전승자를가리는결전의날을앞두고10년간함께훈련한사형인유연재(김광수분)를찾으러속세로내려온인물이다.\n"
          ]
        }
      ]
    },
    {
      "cell_type": "markdown",
      "source": [
        "PyKoSpacing의 입력으로 사용하여 원 문장과 비교"
      ],
      "metadata": {
        "id": "0l4HAA1LgA-Q"
      }
    },
    {
      "cell_type": "code",
      "source": [
        "!pip install h5py"
      ],
      "metadata": {
        "colab": {
          "base_uri": "https://localhost:8080/"
        },
        "id": "KGW817GXhwAa",
        "outputId": "7f2be849-604c-4f0c-a290-8e67846d375f"
      },
      "execution_count": 4,
      "outputs": [
        {
          "output_type": "stream",
          "name": "stdout",
          "text": [
            "Requirement already satisfied: h5py in /usr/local/lib/python3.10/dist-packages (3.8.0)\n",
            "Requirement already satisfied: numpy>=1.14.5 in /usr/local/lib/python3.10/dist-packages (from h5py) (1.23.5)\n"
          ]
        }
      ]
    },
    {
      "cell_type": "code",
      "source": [
        "!pip install git+https://github.com/haven-jeon/PyKoSpacing.git --no-deps"
      ],
      "metadata": {
        "colab": {
          "base_uri": "https://localhost:8080/"
        },
        "id": "j0rQuWd7gkD6",
        "outputId": "02ba0ac1-4371-4bb2-fa73-21e944e4ce5d"
      },
      "execution_count": 5,
      "outputs": [
        {
          "output_type": "stream",
          "name": "stdout",
          "text": [
            "Collecting git+https://github.com/haven-jeon/PyKoSpacing.git\n",
            "  Cloning https://github.com/haven-jeon/PyKoSpacing.git to /tmp/pip-req-build-_t0n1tnh\n",
            "  Running command git clone --filter=blob:none --quiet https://github.com/haven-jeon/PyKoSpacing.git /tmp/pip-req-build-_t0n1tnh\n",
            "  Resolved https://github.com/haven-jeon/PyKoSpacing.git to commit 5bb0b3e8f62c1936a430745297821a9ecd78beb1\n",
            "  Preparing metadata (setup.py) ... \u001b[?25l\u001b[?25hdone\n",
            "Building wheels for collected packages: pykospacing\n",
            "  Building wheel for pykospacing (setup.py) ... \u001b[?25l\u001b[?25hdone\n",
            "  Created wheel for pykospacing: filename=pykospacing-0.5-py3-none-any.whl size=2268698 sha256=cfd752129b4bd4b8f14bbf98d41f3dc3e21e4e59e68ec37b368e9d1b49922422\n",
            "  Stored in directory: /tmp/pip-ephem-wheel-cache-22pz3g75/wheels/76/b3/33/dda14886ee76b8e53eb05580a14dfcf9145e9eb9d282c53f28\n",
            "Successfully built pykospacing\n",
            "Installing collected packages: pykospacing\n",
            "Successfully installed pykospacing-0.5\n"
          ]
        }
      ]
    },
    {
      "cell_type": "code",
      "source": [
        "from pykospacing import Spacing\n",
        "spacing = Spacing()\n",
        "kospacing_sent = spacing(new_sent)\n",
        "\n",
        "print(sent)\n",
        "print(kospacing_sent)"
      ],
      "metadata": {
        "colab": {
          "base_uri": "https://localhost:8080/"
        },
        "id": "ahFZLEnVgUAi",
        "outputId": "7e1b1604-8513-418a-eb94-afad9b15dce8"
      },
      "execution_count": 6,
      "outputs": [
        {
          "output_type": "stream",
          "name": "stdout",
          "text": [
            "김철수는 극중 두 인격의 사나이 이광수 역을 맡았다. 철수는 한국 유일의 태권도 전승자를 가리는 결전의 날을 앞두고 10년간 함께 훈련한 사형인 유연재(김광수 분)를 찾으러 속세로 내려온 인물이다.\n",
            "김철수는 극중 두 인격의 사나이 이광수 역을 맡았다. 철수는 한국 유일의 태권도 전승자를 가리는 결전의 날을 앞두고 10년간 함께 훈련한 사형인 유연재(김광수 분)를 찾으러 속세로 내려온 인물이다.\n"
          ]
        }
      ]
    },
    {
      "cell_type": "markdown",
      "source": [
        "2. Py-Hanspell"
      ],
      "metadata": {
        "id": "7vYJT_WAgbQL"
      }
    },
    {
      "cell_type": "code",
      "source": [
        "pip install git+https://github.com/ssut/py-hanspell.git"
      ],
      "metadata": {
        "colab": {
          "base_uri": "https://localhost:8080/"
        },
        "id": "5Dl4JIYVjNOB",
        "outputId": "47f06bb7-2ec7-4cd9-928c-ec9f9abdce03"
      },
      "execution_count": 7,
      "outputs": [
        {
          "output_type": "stream",
          "name": "stdout",
          "text": [
            "Collecting git+https://github.com/ssut/py-hanspell.git\n",
            "  Cloning https://github.com/ssut/py-hanspell.git to /tmp/pip-req-build-zoui465k\n",
            "  Running command git clone --filter=blob:none --quiet https://github.com/ssut/py-hanspell.git /tmp/pip-req-build-zoui465k\n",
            "  Resolved https://github.com/ssut/py-hanspell.git to commit fdc6ca50c19f1c85971437a072d89d4e5ce024b8\n",
            "  Preparing metadata (setup.py) ... \u001b[?25l\u001b[?25hdone\n",
            "Requirement already satisfied: requests in /usr/local/lib/python3.10/dist-packages (from py-hanspell==1.1) (2.31.0)\n",
            "Requirement already satisfied: charset-normalizer<4,>=2 in /usr/local/lib/python3.10/dist-packages (from requests->py-hanspell==1.1) (3.2.0)\n",
            "Requirement already satisfied: idna<4,>=2.5 in /usr/local/lib/python3.10/dist-packages (from requests->py-hanspell==1.1) (3.4)\n",
            "Requirement already satisfied: urllib3<3,>=1.21.1 in /usr/local/lib/python3.10/dist-packages (from requests->py-hanspell==1.1) (1.26.16)\n",
            "Requirement already satisfied: certifi>=2017.4.17 in /usr/local/lib/python3.10/dist-packages (from requests->py-hanspell==1.1) (2023.7.22)\n",
            "Building wheels for collected packages: py-hanspell\n",
            "  Building wheel for py-hanspell (setup.py) ... \u001b[?25l\u001b[?25hdone\n",
            "  Created wheel for py-hanspell: filename=py_hanspell-1.1-py3-none-any.whl size=4810 sha256=fd99f00386498ad5129442776cd89bcfc99ed42db21ff1bb67a5902bd7e795b6\n",
            "  Stored in directory: /tmp/pip-ephem-wheel-cache-7qbd21_v/wheels/2e/43/cc/753c9e1d91affb9ea40e186cea5654fb9231deb454da6724e5\n",
            "Successfully built py-hanspell\n",
            "Installing collected packages: py-hanspell\n",
            "Successfully installed py-hanspell-1.1\n"
          ]
        }
      ]
    },
    {
      "cell_type": "markdown",
      "source": [
        "Py-Hanspell은 네이버 한글 맞춤법 검사기를 바탕으로 만들어진 패키지"
      ],
      "metadata": {
        "id": "_YuiD4dBjP8m"
      }
    },
    {
      "cell_type": "code",
      "source": [
        "from hanspell import spell_checker"
      ],
      "metadata": {
        "id": "PaD9aFXdj-R8"
      },
      "execution_count": 8,
      "outputs": []
    },
    {
      "cell_type": "code",
      "source": [
        "sent = \"맞춤법 틀리면 외 않되? 쓰고싶은대로쓰면돼지\"\n",
        "spelled_sent = spell_checker.check(sent)\n",
        "\n",
        "hanspell_sent = spelled_sent.checked\n",
        "print(hanspell_sent)"
      ],
      "metadata": {
        "colab": {
          "base_uri": "https://localhost:8080/"
        },
        "id": "fvDIXZ_dkB5S",
        "outputId": "b0141537-3c73-469f-d142-7d86b40ae872"
      },
      "execution_count": 9,
      "outputs": [
        {
          "output_type": "stream",
          "name": "stdout",
          "text": [
            "맞춤법 틀리면 왜 안돼? 쓰고 싶은 대로 쓰면 되지\n"
          ]
        }
      ]
    },
    {
      "cell_type": "markdown",
      "source": [
        "이 패키지는 띄어쓰기 또한 보정합니다. PyKoSpacing에 사용한 예제를 그대로 사용"
      ],
      "metadata": {
        "id": "jQwbw6XfkNOW"
      }
    },
    {
      "cell_type": "code",
      "source": [
        "spelled_sent = spell_checker.check(new_sent)\n",
        "\n",
        "hanspell_sent = spelled_sent.checked\n",
        "print(hanspell_sent)\n",
        "print(kospacing_sent) #앞서 사용한 kospacing 패키지에서 얻은 결과"
      ],
      "metadata": {
        "colab": {
          "base_uri": "https://localhost:8080/"
        },
        "id": "8-c6vpZFkYqC",
        "outputId": "32a47dc3-bed5-431a-f932-eecd19fbbe91"
      },
      "execution_count": 10,
      "outputs": [
        {
          "output_type": "stream",
          "name": "stdout",
          "text": [
            "김철수는 극 중 두 인격의 사나이 이광수 역을 맡았다. 철수는 한국 유일의 태권도 전승자를 가리는 결전의 날을 앞두고 10년간 함께 훈련한 사형인 유연제(김광수 분)를 찾으러 속세로 내려온 인물이다.\n",
            "김철수는 극중 두 인격의 사나이 이광수 역을 맡았다. 철수는 한국 유일의 태권도 전승자를 가리는 결전의 날을 앞두고 10년간 함께 훈련한 사형인 유연재(김광수 분)를 찾으러 속세로 내려온 인물이다.\n"
          ]
        }
      ]
    },
    {
      "cell_type": "markdown",
      "source": [
        "3. SOYNLP를 이용한 단어 토큰화"
      ],
      "metadata": {
        "id": "xzXkTyOkkj5k"
      }
    },
    {
      "cell_type": "markdown",
      "source": [
        "soynlp는 품사 태깅, 단어 토큰화 등을 지원하는 단어 토크나이저\\\n",
        "비지도 학습으로 단어 토큰화를 한다는 특징을 갖고 있으며, 데이터에 자주 등장하는 단어들을 단어로 분석합니다. soynlp 단어 토크나이저는 내부적으로 단어 점수 표로 동작합니다. 이 점수는 응집 확률(cohesion probability)과 브랜칭 엔트로피(branching entropy)를 활용합니다.\n",
        "\n"
      ],
      "metadata": {
        "id": "WOP9j4ZbkrY-"
      }
    },
    {
      "cell_type": "code",
      "source": [
        "pip install soynlp"
      ],
      "metadata": {
        "colab": {
          "base_uri": "https://localhost:8080/"
        },
        "id": "Piaa3VfokuCm",
        "outputId": "f7f33470-e3d0-4594-e1fc-3f288335708c"
      },
      "execution_count": 11,
      "outputs": [
        {
          "output_type": "stream",
          "name": "stdout",
          "text": [
            "Collecting soynlp\n",
            "  Downloading soynlp-0.0.493-py3-none-any.whl (416 kB)\n",
            "\u001b[2K     \u001b[90m━━━━━━━━━━━━━━━━━━━━━━━━━━━━━━━━━━━━━━━\u001b[0m \u001b[32m416.8/416.8 kB\u001b[0m \u001b[31m6.9 MB/s\u001b[0m eta \u001b[36m0:00:00\u001b[0m\n",
            "\u001b[?25hRequirement already satisfied: numpy>=1.12.1 in /usr/local/lib/python3.10/dist-packages (from soynlp) (1.23.5)\n",
            "Requirement already satisfied: psutil>=5.0.1 in /usr/local/lib/python3.10/dist-packages (from soynlp) (5.9.5)\n",
            "Requirement already satisfied: scipy>=1.1.0 in /usr/local/lib/python3.10/dist-packages (from soynlp) (1.10.1)\n",
            "Requirement already satisfied: scikit-learn>=0.20.0 in /usr/local/lib/python3.10/dist-packages (from soynlp) (1.2.2)\n",
            "Requirement already satisfied: joblib>=1.1.1 in /usr/local/lib/python3.10/dist-packages (from scikit-learn>=0.20.0->soynlp) (1.3.1)\n",
            "Requirement already satisfied: threadpoolctl>=2.0.0 in /usr/local/lib/python3.10/dist-packages (from scikit-learn>=0.20.0->soynlp) (3.2.0)\n",
            "Installing collected packages: soynlp\n",
            "Successfully installed soynlp-0.0.493\n"
          ]
        }
      ]
    },
    {
      "cell_type": "markdown",
      "source": [
        "1. 신조어 문제\\\n",
        "soynlp를 소개하기 전에 기존의 형태소 분석기가 가진 문제는 무엇이었는지, SOYNLP가 어떤 점에서 유용한지 정리해봅시다. 기존의 형태소 분석기는 신조어나 형태소 분석기에 등록되지 않은 단어 같은 경우에는 제대로 구분하지 못하는 단점이 있었습니다."
      ],
      "metadata": {
        "id": "vYeEJh1Ck2ke"
      }
    },
    {
      "cell_type": "code",
      "source": [
        "pip install konlpy"
      ],
      "metadata": {
        "colab": {
          "base_uri": "https://localhost:8080/"
        },
        "id": "kWhqcAlFlWg2",
        "outputId": "618816e1-1aab-48c3-a6a0-5a72b2f3c2d4"
      },
      "execution_count": 12,
      "outputs": [
        {
          "output_type": "stream",
          "name": "stdout",
          "text": [
            "Collecting konlpy\n",
            "  Downloading konlpy-0.6.0-py2.py3-none-any.whl (19.4 MB)\n",
            "\u001b[2K     \u001b[90m━━━━━━━━━━━━━━━━━━━━━━━━━━━━━━━━━━━━━━━━\u001b[0m \u001b[32m19.4/19.4 MB\u001b[0m \u001b[31m26.6 MB/s\u001b[0m eta \u001b[36m0:00:00\u001b[0m\n",
            "\u001b[?25hCollecting JPype1>=0.7.0 (from konlpy)\n",
            "  Downloading JPype1-1.4.1-cp310-cp310-manylinux_2_12_x86_64.manylinux2010_x86_64.whl (465 kB)\n",
            "\u001b[2K     \u001b[90m━━━━━━━━━━━━━━━━━━━━━━━━━━━━━━━━━━━━━━\u001b[0m \u001b[32m465.3/465.3 kB\u001b[0m \u001b[31m21.9 MB/s\u001b[0m eta \u001b[36m0:00:00\u001b[0m\n",
            "\u001b[?25hRequirement already satisfied: lxml>=4.1.0 in /usr/local/lib/python3.10/dist-packages (from konlpy) (4.9.3)\n",
            "Requirement already satisfied: numpy>=1.6 in /usr/local/lib/python3.10/dist-packages (from konlpy) (1.23.5)\n",
            "Requirement already satisfied: packaging in /usr/local/lib/python3.10/dist-packages (from JPype1>=0.7.0->konlpy) (23.1)\n",
            "Installing collected packages: JPype1, konlpy\n",
            "Successfully installed JPype1-1.4.1 konlpy-0.6.0\n"
          ]
        }
      ]
    },
    {
      "cell_type": "code",
      "source": [
        "from konlpy.tag import Okt\n",
        "tokenizer = Okt()\n",
        "print(tokenizer.morphs('에이비식스 이대휘 1월 최애돌 기부 요정'))"
      ],
      "metadata": {
        "colab": {
          "base_uri": "https://localhost:8080/"
        },
        "id": "PnPZV4wFk5os",
        "outputId": "f7fec572-18be-4527-9cbd-fc81e54d2c52"
      },
      "execution_count": 13,
      "outputs": [
        {
          "output_type": "stream",
          "name": "stdout",
          "text": [
            "['에이', '비식스', '이대', '휘', '1월', '최애', '돌', '기부', '요정']\n"
          ]
        }
      ]
    },
    {
      "cell_type": "markdown",
      "source": [
        "에이비식스는 아이돌의 이름이고, 이대휘는 에이비식스의 멤버이며, \\\n",
        "최애돌은 최고로 애정하는 캐릭터라는 뜻이지만 위의 형태소 분석 결과에서는 전부 분리된 결과"
      ],
      "metadata": {
        "id": "7KQ26jn1lEwL"
      }
    },
    {
      "cell_type": "markdown",
      "source": [
        "에이비식스라는 문자열이 자주 연결되어 등장한다면 한 단어라고 판단하고, 또한 에이비식스라는 단어 앞, 뒤에 '최고', '가수', '실력'과 같은 독립된 다른 단어들이 계속해서 등장한다면 에이비식스를 한 단어로 파악하는 식이지요. 그리고 이런 아이디어를 가진 단어 토크나이저가 soynlp"
      ],
      "metadata": {
        "id": "uEnr2I8pmk2O"
      }
    },
    {
      "cell_type": "markdown",
      "source": [
        "2. 학습하기"
      ],
      "metadata": {
        "id": "2KTmxh54mrBp"
      }
    },
    {
      "cell_type": "markdown",
      "source": [
        "soynlp는 기본적으로 학습에 기반한 토크나이저이므로 학습에 필요한 한국어 문서를 다운로드"
      ],
      "metadata": {
        "id": "XBSCGi2cmsW9"
      }
    },
    {
      "cell_type": "code",
      "source": [
        "import urllib.request\n",
        "from soynlp import DoublespaceLineCorpus\n",
        "from soynlp.word import WordExtractor"
      ],
      "metadata": {
        "id": "md23uTfcmuLE"
      },
      "execution_count": 14,
      "outputs": []
    },
    {
      "cell_type": "code",
      "source": [
        "urllib.request.urlretrieve(\"https://raw.githubusercontent.com/lovit/soynlp/master/tutorials/2016-10-20.txt\", filename=\"2016-10-20.txt\")"
      ],
      "metadata": {
        "colab": {
          "base_uri": "https://localhost:8080/"
        },
        "id": "6eZWmy2dm2Ax",
        "outputId": "60e8716f-bf8d-438b-ed2c-209a9c91eed7"
      },
      "execution_count": 15,
      "outputs": [
        {
          "output_type": "execute_result",
          "data": {
            "text/plain": [
              "('2016-10-20.txt', <http.client.HTTPMessage at 0x7c10211556c0>)"
            ]
          },
          "metadata": {},
          "execution_count": 15
        }
      ]
    },
    {
      "cell_type": "markdown",
      "source": [
        "훈련 데이터를 다수의 문서로 분리"
      ],
      "metadata": {
        "id": "VPTpE3HrnS9w"
      }
    },
    {
      "cell_type": "code",
      "source": [
        "corpus = DoublespaceLineCorpus(\"2016-10-20.txt\")\n",
        "len(corpus)"
      ],
      "metadata": {
        "colab": {
          "base_uri": "https://localhost:8080/"
        },
        "id": "DeVzAjlQnWdV",
        "outputId": "eda7e7f8-64a8-4308-bfd4-e52ea652c23d"
      },
      "execution_count": 16,
      "outputs": [
        {
          "output_type": "execute_result",
          "data": {
            "text/plain": [
              "30091"
            ]
          },
          "metadata": {},
          "execution_count": 16
        }
      ]
    },
    {
      "cell_type": "markdown",
      "source": [
        "총 3만 91개의 문서가 존재"
      ],
      "metadata": {
        "id": "xjsmkvzendzJ"
      }
    },
    {
      "cell_type": "code",
      "source": [
        "i = 0\n",
        "for document in corpus:\n",
        "  if len(document) > 0:\n",
        "    print(document)\n",
        "    i = i + 1\n",
        "  if i == 3:\n",
        "    break"
      ],
      "metadata": {
        "colab": {
          "base_uri": "https://localhost:8080/"
        },
        "id": "5cbEn0n4nkUP",
        "outputId": "9f33e13d-1276-4b8f-e745-1f1e169713b2"
      },
      "execution_count": 17,
      "outputs": [
        {
          "output_type": "stream",
          "name": "stdout",
          "text": [
            "19  1990  52 1 22\n",
            "오패산터널 총격전 용의자 검거 서울 연합뉴스 경찰 관계자들이 19일 오후 서울 강북구 오패산 터널 인근에서 사제 총기를 발사해 경찰을 살해한 용의자 성모씨를 검거하고 있다 성씨는 검거 당시 서바이벌 게임에서 쓰는 방탄조끼에 헬멧까지 착용한 상태였다 독자제공 영상 캡처 연합뉴스  서울 연합뉴스 김은경 기자 사제 총기로 경찰을 살해한 범인 성모 46 씨는 주도면밀했다  경찰에 따르면 성씨는 19일 오후 강북경찰서 인근 부동산 업소 밖에서 부동산업자 이모 67 씨가 나오기를 기다렸다 이씨와는 평소에도 말다툼을 자주 한 것으로 알려졌다  이씨가 나와 걷기 시작하자 성씨는 따라가면서 미리 준비해온 사제 총기를 이씨에게 발사했다 총알이 빗나가면서 이씨는 도망갔다 그 빗나간 총알은 지나가던 행인 71 씨의 배를 스쳤다  성씨는 강북서 인근 치킨집까지 이씨 뒤를 쫓으며 실랑이하다 쓰러뜨린 후 총기와 함께 가져온 망치로 이씨 머리를 때렸다  이 과정에서 오후 6시 20분께 강북구 번동 길 위에서 사람들이 싸우고 있다 총소리가 났다 는 등의 신고가 여러건 들어왔다  5분 후에 성씨의 전자발찌가 훼손됐다는 신고가 보호관찰소 시스템을 통해 들어왔다 성범죄자로 전자발찌를 차고 있던 성씨는 부엌칼로 직접 자신의 발찌를 끊었다  용의자 소지 사제총기 2정 서울 연합뉴스 임헌정 기자 서울 시내에서 폭행 용의자가 현장 조사를 벌이던 경찰관에게 사제총기를 발사해 경찰관이 숨졌다 19일 오후 6시28분 강북구 번동에서 둔기로 맞았다 는 폭행 피해 신고가 접수돼 현장에서 조사하던 강북경찰서 번동파출소 소속 김모 54 경위가 폭행 용의자 성모 45 씨가 쏜 사제총기에 맞고 쓰러진 뒤 병원에 옮겨졌으나 숨졌다 사진은 용의자가 소지한 사제총기  신고를 받고 번동파출소에서 김창호 54 경위 등 경찰들이 오후 6시 29분께 현장으로 출동했다 성씨는 그사이 부동산 앞에 놓아뒀던 가방을 챙겨 오패산 쪽으로 도망간 후였다  김 경위는 오패산 터널 입구 오른쪽의 급경사에서 성씨에게 접근하다가 오후 6시 33분께 풀숲에 숨은 성씨가 허공에 난사한 10여발의 총알 중 일부를 왼쪽 어깨 뒷부분에 맞고 쓰러졌다  김 경위는 구급차가 도착했을 때 이미 의식이 없었고 심폐소생술을 하며 병원으로 옮겨졌으나 총알이 폐를 훼손해 오후 7시 40분께 사망했다  김 경위는 외근용 조끼를 입고 있었으나 총알을 막기에는 역부족이었다  머리에 부상을 입은 이씨도 함께 병원으로 이송됐으나 생명에는 지장이 없는 것으로 알려졌다  성씨는 오패산 터널 밑쪽 숲에서 오후 6시 45분께 잡혔다  총격현장 수색하는 경찰들 서울 연합뉴스 이효석 기자 19일 오후 서울 강북구 오패산 터널 인근에서 경찰들이 폭행 용의자가 사제총기를 발사해 경찰관이 사망한 사건을 조사 하고 있다  총 때문에 쫓던 경관들과 민간인들이 몸을 숨겼는데 인근 신발가게 직원 이모씨가 다가가 성씨를 덮쳤고 이어 현장에 있던 다른 상인들과 경찰이 가세해 체포했다  성씨는 경찰에 붙잡힌 직후 나 자살하려고 한 거다 맞아 죽어도 괜찮다 고 말한 것으로 전해졌다  성씨 자신도 경찰이 발사한 공포탄 1발 실탄 3발 중 실탄 1발을 배에 맞았으나 방탄조끼를 입은 상태여서 부상하지는 않았다  경찰은 인근을 수색해 성씨가 만든 사제총 16정과 칼 7개를 압수했다 실제 폭발할지는 알 수 없는 요구르트병에 무언가를 채워두고 심지를 꽂은 사제 폭탄도 발견됐다  일부는 숲에서 발견됐고 일부는 성씨가 소지한 가방 안에 있었다\n",
            "테헤란 연합뉴스 강훈상 특파원 이용 승객수 기준 세계 최대 공항인 아랍에미리트 두바이국제공항은 19일 현지시간 이 공항을 이륙하는 모든 항공기의 탑승객은 삼성전자의 갤럭시노트7을 휴대하면 안 된다고 밝혔다  두바이국제공항은 여러 항공 관련 기구의 권고에 따라 안전성에 우려가 있는 스마트폰 갤럭시노트7을 휴대하고 비행기를 타면 안 된다 며 탑승 전 검색 중 발견되면 압수할 계획 이라고 발표했다  공항 측은 갤럭시노트7의 배터리가 폭발 우려가 제기된 만큼 이 제품을 갖고 공항 안으로 들어오지 말라고 이용객에 당부했다  이런 조치는 두바이국제공항 뿐 아니라 신공항인 두바이월드센터에도 적용된다  배터리 폭발문제로 회수된 갤럭시노트7 연합뉴스자료사진\n"
          ]
        }
      ]
    },
    {
      "cell_type": "markdown",
      "source": [
        "정상 출력되는 것을 확인\\\n",
        "soynlp는 학습 기반의 단어 토크나이저이므로 기존의 KoNLPy에서 제공하는 형태소 분석기들과는 달리 학습 과정을 거쳐야 합니다.\\\n",
        "WordExtractor.extract()를 통해서 전체 코퍼스에 대해 단어 점수표를 계산"
      ],
      "metadata": {
        "id": "R_x_vFOFnuC0"
      }
    },
    {
      "cell_type": "code",
      "source": [
        "word_extractor = WordExtractor()\n",
        "word_extractor.train(corpus)\n",
        "word_score_table = word_extractor.extract()"
      ],
      "metadata": {
        "colab": {
          "base_uri": "https://localhost:8080/"
        },
        "id": "A1Kb_nXzuv26",
        "outputId": "727b85cc-6608-4d9a-8f60-02db2f9644e8"
      },
      "execution_count": 18,
      "outputs": [
        {
          "output_type": "stream",
          "name": "stdout",
          "text": [
            "training was done. used memory 1.542 Gb\n",
            "all cohesion probabilities was computed. # words = 223348\n",
            "all branching entropies was computed # words = 361598\n",
            "all accessor variety was computed # words = 361598\n"
          ]
        }
      ]
    },
    {
      "cell_type": "markdown",
      "source": [
        "3. SOYNLP의 응집 확률(cohesion probability)"
      ],
      "metadata": {
        "id": "sxwXnW-zu2dp"
      }
    },
    {
      "cell_type": "markdown",
      "source": [
        "응집 확률은 내부 문자열(substring)이 얼마나 응집하여 자주 등장하는지를 판단하는 척도\\\n",
        "이 값이 높을수록 전체 코퍼스에서 이 문자열 시퀀스는 하나의 단어로 등장할 가능성이 높습니다. 수식은 아래와 같습니다."
      ],
      "metadata": {
        "id": "WBO3jaKPvzVS"
      }
    },
    {
      "cell_type": "markdown",
      "source": [
        "![image.png](data:image/png;base64,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)"
      ],
      "metadata": {
        "id": "gE-VQyJPv1cR"
      }
    },
    {
      "cell_type": "markdown",
      "source": [
        "'반포한강공원에'라는 7의 길이를 가진 문자 시퀀스에 대해서 각 내부 문자열의 스코어를 구하는 과정"
      ],
      "metadata": {
        "id": "byh7UBuZv7KK"
      }
    },
    {
      "cell_type": "markdown",
      "source": [
        "![image.png](data:image/png;base64,iVBORw0KGgoAAAANSUhEUgAAA2UAAADACAIAAAALLVzEAAAgAElEQVR4Ae29K8/rTJbH629hmJcFZrNAw0APsxq0LI3UMhoZZj5B+zAPaQUGRo0CDojUJIelWZoFGgYGGuZorbrbVXbZTrKd510b7MeXuv5qVdXfdUvwpH9EgAgQASJABIgAESACRMBNIHC/ojdEgAgQASJABIgAESACROBJepGMgAgQASJABIgAESACRKCLAOnFLjr0jggQASJABIgAESACRID0ItkAESACRIAIEAEiQASIQBcB0otddOgdESACRIAIEAEiQASIAOlFsgEiQASIABEgAkSACBCBLgKkF7vo0DsiQASIABEgAkSACBAB0otkA0SACBABIkAEiAARIAJdBEgvdtF5XMqkONcdTupLmZSXR4eLT72qDllyqN4W2+O03Z6G5vN+zLI3pultmaWAiQARIAJEgAgQAZ3ADPRifd5G60UQBEF8uOtp+83X9aVYr8urVIvVMY8hoeHSUIjgbLW9SGevTfV1t4miZQh0FusI//EknHVW1SFZZEf9iS0ZlyIoLrYXHs/uhzjulX7oyEhFdUjCfn8e8ZMTIkAEiAARIAJE4LcRmIFehLxfy1UQRLvbKzhcd1EYrMrrtLDqa7FeFTKQxylbsOE7UEBBEKRHNdh2LVfLtynG57M6xCim1eDhbbfR5fX9mISpUov3Q6zpQk3DvUwvXgpd26tgtbgk/ccxDUgxShx0QQSIABEgAkTgCwnMQy+Cwpku8Rj++lrGUba/TRvwgxRt9lKhXcuVEo/VHtTaUonJJzyJlOvX2kF9zoMmnUuhxmPrS7EKc23WfIheRPIQVutfY7DXGF8cohef9XkbBnr6XouHQiMCRIAIEAEiQATeTWAWevFxyoIg3I6dKn0DIxCA2qDY/ZgEkEIuynA0NFhrw6Egu/T7VyaJxbY9a2FylZed6ifKMZNdSwMK6acGArWw4FJ/Ab4ts9ZNvWjqS+7BNr6IwYcBprURLd0SASJABIgAESACX0GgRy+ez+dfv34FQfDHH39cr3J2tj9rj9uxSKM0L/MkSg8VH+xjT+Nsm8fLKD+IMcDLNgiCTbbNknybb5ab/CQH9p7PJ3raJFmebsw31SnfREmWRst4h8sMq2O6SeL1gt/yVFoiBYfROozy0+26Szdp3ogV9KE+ow2T00GwLvgqRS7IdIELok7Isn46Q1yw2Wh9+vsJU7wyOdciNCbHn09T8Wkajo1KgtJrCELNjaEdtXQ29aKWWaU2lVLVXj+f+D3QiFILmi6JABEgAkSACBCBeRPo0Yur1UoOJP369cszL7DEL0xAJTKhFaCywoV/m/LK1v2BwOKL/vhwXXHGNyhqpLiojukChBq+Aumk3sAQIM4B3w8JDF9V+016vOPsbahcwWrDRqT/+meaHu9Mh0EyIVcoWaUvSIOheIyM4wRrEGb6dmEcgdQFpOFjwg1qLX1pZ40cFynffAISTWUXI+rSizKLZpKU5DOnmpUrX71oxQaaVhuuVaHSFREgAkSACBABIvAFBHr0ohSL7MIrQ9dyLfeu1NddGuNAIj5VawBxEIyNc6Fwk29Q74mdL7hSUK7NMzYBg8hkCwxBjKyLy3/2cPQNk4titZw90r/9NT1UTIeJXSJsjaDQe93iD9MrdKYk4paY1ans+bcz9jrLIPEChWy4jlP2L4nTfHe43OXqTIsUU6N8vPiEhlOq0IxDG5LURxoNR029aFoGl6Eu35gih1Q1YqEbIkAEiAARIAJEYIYEevTiYoEH3aA4WK1WHhlgg29C8AkP7aegc3BgrLF48VKEcryMDzymRVnmWRynxfEmNyWzd+Fyk5XaU5ypFdqzI9InE4hCSD0hVjUChvJGiEeRBfYXTs8J1tlRnzDHN0wvth6bvoffsWwas9FmIEPitehF8O74Z+o7Qy+aSVB3nXrRDlR5pisiQASIABEgAkRgpgR69OL5fGZT0ovFwm/9otSBRoZbT6t9xA+lQakmBRHoI7F7g+0yka+MAJ/PGldIsoMbxd5kFHpCLj47Im0c4IOqTG2HdupFGOFM9ky01g85xgcpG6LbGjnpuMWUKCFrcTkkXote1EKEuEyNqL2E8eD+GWXSizoyuiYCRIAIEAEi8FMI9OjF4dlEkWYqi0dV/dsYv3viATTBGs5IROHI1iHynbQw/1wd0u35Dtum2dpHkQ4m0u6nPI7E8dS3XSQGJHH6GoY20XvdTAq+xkhZrEKXMvEIcvFabkrYpQ2TwK0NvdUhieTA4uOUGWOoOF7Z8oLJnjAfzSbN9Z03AoT8C7Pj7Z3ZLuEmvVkuhunFbu3ZCB4K2cDVeE+3RIAIEAEiQASIwJwJvFwvPmHNoDqb8HHbJ8v0WMEInjjTur7tk5Bv2EBFJAURKrzs9LiWKAcfpywMEnkQ9f20jWB7Cow7hhHfA1Of85BpQLYkMtrdYM4YVzC6ImUbduWuYhzEi3a3xzlfs2O3waMaboTyq07ZernJCrESMduYghJkm8zGywocx14D4yidZtgIsOViZnoR9LdrnLiZIbonAkSACBABIkAE5kbg9XoRtFWRwLrCbZ6mWXnkG6Lh9JtllOZZHKWFePi8lgs2zohg6usuXkSbJM75AkHYL7PepNtym8HyRR5UfTvkcZzB0yTJ1G6R+ymPVrAzZMcdPu2RPq/lUm66fj6f6G8TxxmfamZHTGujhWxm3FznZ6hDGF6U+3JeUcbXXRTxX0kMwmUU5fpmbCMCGDVtDTD66MWOpYsyp3KBZ2s+esj4IgwvmvLbyAHdEAEiQASIABEgAvMm8A69OO8ce6UOt8oM2KBxKcKXykWvRHJHIBjNBQBsv7MUffqFe4FiT5SoQLXtPC61qRSmDBDGb0kuShx0QQSIABEgAkTg6wiQXnQUGUyrayOMDlfssTYn3unuTS9h2v7tqwObetE/L9V+E4rFpv6+yCURIAJEgAgQASIwGwKkF11FAasgjTlnl0NYsSlOFHe6ee8LOML7zesDx+rFxylb8DPR38uAQicCRIAIEAEiQATeRYD0YgfZ6pDwDTBuR/WlwE04bhcfeQPqtjkp/dKIx+lF2FPONya9NDUUGBEgAkSACBABIvBBAqQXu2HXD/OYxZbrXgctH2978N6kjAp9lKe3AaKAiQARIAJEgAgQgVEESC+OwkaeiAARIAJEgAgQASLwpyFAevFPU9SUUSJABIgAESACRIAIjCJAenEUttl5up/35/vsUkUJIgJEgAgQASJABH4CAdKLP6EU4RcN//L//EP8+Izx9+/5X/4L/v33/xqP4QZfWZ7TqwYqF6iXs8V4j7cfYZOUCSJABIgAEfhBBEgv/oTCrPbRm4/T+QmUKA9EgAgQASJABIjAOAKkF8dxm5UvlIs0Gz2rMqHEEAEiQASIABH4QQRIL35/YVb76K1HL34/IcoBESACRIAIEAEiMIUA6cUp9Gbht9pvSC7OoiQoEUSACBABIkAEfigB0ovfXrD3Q7zZV9+eC0o/ESACRIAIEAEiMF8CpBe7yuZxKZPiXHc4qS9lUl4eHS5e+ao65WmWbhbL9CgUIsnFVwKmsIgAESACRIAIEAELgRnoxfq8jdaLIAiC+DCnTRvwk8zr8irU4uO6z+I4y9NosUyKs9BrT3C22l6EMwvjlz26FFF5fT4fxzQIshOK1McxjXbt81eqQ5YcZBIHJKBfIQ8IzOL0tk/37eRaHOqPPifK3519PVfd16NAdQepv7UhvR+zbJTR6AHTNREgAkSACPxIAjPQi8D1Wq6CwCZ8RkC/7qIwWIGwmvKvvhbrVSEDqfabIGHTvvV5GwbBUpOI13Kl306Jtsvv45QFYX6qn/dDHATF5YnSsU2tOiSL7KhL78cpj7gmD5cR+7cMg8UmP9y0sdGGQnak5X6Ixwv7SxFsIeHd/y4Fy550NU2Uzyf7MkO9FyNB9YYrHdiQVockpLWwEhFdEAEiQASIgCQwD72IAmiyxGOZqq9lHGX727QBP0iRtiwQExgE7JBDfoOCjcUJajL62CLC+pyHIY4vPk5Zi9r9mISpoRZ5YV+2QRCEmlp7nPIwCFYFHxttKOTnpdAHfJWEe51eBJCKohauikwaKnxSTBLls8g+ZOdSwFg6/JN517IuMmzoxUGgRAj9fy1IYeyaFGM/OnJBBIgAEfizEZiFXoSBM0PJ/PZSAAFodJvXch2EOBv8fFYwvGeOYEKHvrbMC78hI9UhiTK2fNEiF+tLsQpz25LLah8FQvHyZBnCF240hYy6RhtHVBLOIm40DcSlkPwjNRGLc4IMmibK55F9hz1YkI4GxQtVFoC60EqTp8OCFEfPrQbkSDs9JgJEgAgQgT8DgR69eD6ff/36FQTBH3/8cb3K2dl+Mo/bsUijNC/zJEoPFR/sY0/jbJvHyyg/iDFAHPrZZNssybf5ZrnJT/rSO/S0SbI83ZhvqlO+iZIsjZbxDpcZVsd0k8TrBb/lqbRECg6jdRjlp9t1l27SvBHr/ZiYelDPMKrbYG1OeMOEers/1r294rq+7dMUhk6rQ7q71udcmzHH8KG314cQVaQs1bExCHopwkAsA2gp5LYG5NLPIm5YNMYLc3RSpqMlg5Sc0RawKnEqPT6fOA0/VpTPIfsOJRcf7gY5luUpoNggplTqEK+80YHakYJVZKdpw/NmLHRHBIgAESACX0+gRy+uVivZof/69cszu7AMKkxAJcIcZxCwJWvwNNiUV7ZgDgQWn1/ExYvBujjjG5yuk91bdUwXwbpgO5BhYE+9gSFAlD/3QwIdXLXfpMd7fc6DIFSuLJH+659peryzUUJIJuQKJav0BWlwqL/HuVgHocyGIAIK02dlnnA/5i9bOMnLIz5U57wlDa9FyCfNmxFgBs3Ja+TOAVgUsqn4lIRTsqeJSLkBbdd8iylqySDJXPdimbIF3xNE+Uyyb0xHqwlpC61JoFAISv5asTStwoYUpbUqlpYXekAEiAARIAJ/QgI9elGKRXbhBQimbsXelfq6S2McSMSn2nAYUx3QLaFwk29Q74k9HDDoFcjpVWMfB2gHNn0KGmldXP6zh6NvmFwU82n2SP/21/RQsQEnsdAPvUm95xB/j8u+LMs8Xm+2xjYRpOKWmNWp7Pm3O+ubU7wgP5/1ebvQFiOiL4CqtLIeENPk2rAR070RV+I4mCgFBvPYoRcbLkVESvY4h7S8ZZBNsDjKRUTf8XdG2VdfPACJkWSVAeqYJDsJlDHAaJZjA5INKVQoYzFGww/dEgEiQASIwJ+PQI9eXCzwoBtUi6vVyoMPGwQTgk94aD+FTgm1DQo3NVAGs2FC8rBefp0WZZlncZwWR7Wbl70Ll5us1J7iUTNCe3ZE+mQCUeudQ+ir+TQ4dt9NLSayws+zgZFSfc6O6UV9Hl15mHhV6/GIsGxy8ens6dlg6iJKUvYvTrLt/qRo2mSDGuTjXw1cwilVKNIi/0pp4hzSaskgHjb7I8rD5d0tymUSrBezyb6how29KLIu0j8NFJtpxgLrKC6Iy4IUzd+m10Xa6C8RIAJEgAj86Qj06MXz+cympBeLhd/6RakDDZStp2r7AS6iYxuP+ZSjEI8oYhzTq89njSsk2cGNYm8y9nRCLqJ6ktoTkqMibRzgg+JTbfbAYEy9+Lhdrneh2/B9Y+/Iu/QizOKbSWFgL8VCjKIq0q5EsMFUczZa+eJLA+XwqvGmfWMRIByIof34TUMHGTKoHTZ/0q0X26L8DqsWwsS2KxxCnE/2zfloycaCdDQosAHHP5sGtJiMxfydJUUviAARIAJE4M9BoEcvDoeAylCO1KH/R1X9G0YTtac40YxbRlDDyW0YOLqYn+vqkG7Pd9g2baqY+gGa7X7K40icMHjbRUIUYqgwtIne62ZSVKRMOUodJuXitdyUcDogrHbT5m6Z8lSThRa9iOOVuhdFbsJ8NJyRFwTB0txbA0FfitASm6Xzx3SgJpfZVUmTV0MkgkXcyHCYHpI6SH/OrkfLIPTuyh/qxYX60ZtGvPPJfiNh4taCdBooFjCUqk0jimjhrwXpEGPQg6JrIkAEiAAR+LkEXq4Xn7BmcCkPun7c9gn8eh1IMnF8Xn3bJ+EixdlfHPqRA1+o8LLT41qiHHycsjBQo0b30zaC7Skw7hiKlXdwGCHfq4z9XLS7gcrCsTdXpHzASQxqCn+Pc75mp3CDRzXciGsFYasO/90/NrtpbpCGZzIbLzIXPDkng7N7WruCr+XKIhdxKWjLLT8N3TlQi6ltKmSWBdc4X1cG5Zy01VFTBlmUktUfPuwQ5W5Ps8o+6rO2hLNQmASK0/DQizak8AnXXFDSxZfeEQEiQASIwM8n8Hq9+HxWpyKBdYXbPE2z8sg3RMPpN8sozbM4Sgvx8HktF9rRNPV1Fy+iTRLn/PeRYb/MepNuy20Gyxd5UPXtkMdxBk+TJFO7Re6nPFrFaZruuMOnPdLntVzKTddsvDJabeI42/MVfbjy0RRk93OZrpfw4yjL5dpYSQlGAt2u3JfzKqup79Wd/fhfUzA65CLTwdtzIwGoh/le8sYredtUyOzFzPTiOFE+p+w79KIsBnXxIb1oQwrfDuJbSiWIrogAESACRODPTOAdevEH8ETBaFs26MjbpQhfLhd5VFzuiL048PRarhz9OUy5awOMIKCjaAmnLAbBYh1tdq4jNC0KmU1WtgfDTAQseY4Fc+KxCmSKDBosyueX/ffqRZhb7vtnrhWwIYXhRX1w3SxvuiMCRIAIEIE/JQHSi45ih2l1c4TR4ZCNLoo5cbej0W+0XTosDLdchC09jR+m8Y3WqpBdAsQUHb5RgDuLXrQrHCUxZfBvFOVwOlFoLpXla/tsqRuffQRgC1IdpMOzOwWUJNZ7YUEKHwAkF3vJkQMiQASIwJ+MAOlFV4HDKki/FYnXci1OFHcFNuk5zBVr+2+qfSSOjbQEC2s+xy0+G6KQLRH7PWrKID9f4EpbqOrvaYDLj2TfPz3jQfnHYUNa7Teh2ErmHxK5JAJEgAgQgR9OgPRiRwFXh4RvgHE7qi8FbsJxu5j+Bvf3itGvah9pG80tgcMJPI7paotr7ZG/QtY8DbwcLYPeLcqfz09k35/WaFD+UViQPk7Zgv/ikX845JIIEAEiQAR+PgHSi91lXD/wBB+3o14Hbq/eb3CylG86r/abbrkIQ3GXYt3ryBq7j0K2evR9OE4GfUKUQw7enn1fTO2Je3+ffi5tSGFDvvjBH79QyBURIAJEgAj8SQiQXvyGgsZTT/AYRh+5iDkarWNHe/QDyU7Q9HMrXb05TTIe0Np9Hwi643dejwLlnyBbPm3P/EMkl0SACBABIvCDCZBe/IrCZb9Qst6dDjHtRfiKEqNEEgEiQASIABH4QQRIL35HYbJja8Jw5F6W78gkpZIIEAEiQASIABGYJQHSi7Mslnai2Kk69LsbbTL0hAgQASJABIgAEXgzAdKLbwb8suDxVJ1xJ+W8LA0UEBEgAkSACBABIvBnJEB68WtK/VKEfudBfk2OKKFEgAgQASJABIjAVxAgvfgVxUSJJAJEgAgQASJABIjAbyNAevG3oaeIiQARIAJEgAgQASLwFQRIL35FMfUm8n7+xz/+r7T9+3v+l/+Cf//9v623+MryvCzLT77C6P6nnTyW3k+mhOLSbWQmNLrNAxN8vPVWEHJABIgAESACkwiQXpyEby6er+Vq1E8AziX9lA4iQASIABEgAkRgxgRIL864cLyTVu0jkovetMghESACRIAIEAEiMIwA6cVhvGbpGuXifZZJo0QRASJABIgAESAC30+A9OL3l2G1j+JD9f35oBwQASJABIgAESAC8yRAenGe5TIgVdV+Q3JxAC9ySgSIABEgAkSACAwkQHqxC9jjUibFue5wUl/KpLw8Oly8+9X9EG/2NLr4bswUPhEgAkSACBCBPzGBGejF+ryN1osgCIL4MKdFePWlWK/La1stXst1oEb0wNlqe2k7e4NVVccsLQ/7LNqUIkK7XKwOWTJqirpfIU/L1m2f7gcffvI5Uf7u7PvDGwXKP/jPIX3Oh6k/njfT906IrZjuxywbVbe9YyWHRIAIEAELgRnoRUjVK38c+bqLwmDyL+fV12K9Kq5tZNV+g9JWG9K7lqvlJxTjtQiDsLg+L0UQJEfU1o9j2vpN6eqQLDL2mif/ccojrsnDZcT+LcNgsckPN21s1KmQDQr3Qzxe2F+KYHsxgrPdXIqgMFxNE+Xzyb4ts/ZnI0HZA7M9nYb0ed1tomgZwmfeYs0sar0IwmVSnvWPvg+YlC1zw55diuanqhf9lpUOi9XPta2YqkMSqg9Wv3DIFREgAkRgIoF56MX7IQ6mSzyGor6WcZTtb9MG/CBFtmneClLa1ItP0JDRByaF68fjUT8hbesSpaxFLt6PSZgaapGbyGUbBEGoqbXHKQ+DYFXwocqmQjZ7UdU5vk4vQkaULtTCVZEp854qymeRfcgOqH32T+Zdy7rIsKFYBoESIfT/nYqUVQZdudx27GOKS8aPmNQgpgK9UQKmpfPwZEV5E/wn1mOWDvX95Wn5j2OqTXH0lzS5IAJEgAhMJjALvfg4ZaaSmZytqQGAANT7QR5edYjXZQm6q/ESJdxu8ETr8GTeL7ttvNjwqB6nrDGQWl+KVZjbllxW+ygIAuOYRkh1EHDJBjeGQjZ7UdWRWcSNpoEaHbKmBzGzE2TQNFE+j+w7CtyCdDQoXqjNcrAu95iGtD7nQfMzj4lhrn8+Y1L+THWXkDYh00xLB1c6fXAplT2IPM2bes7CHgJfT428VtVMPnraPkfr8zYMrPVc80eXRIAIEIEXEujRi+fz+devX0EQ/PHHH9erZXbWlZTH7VikUZqXeRKlh4oP9rGncbbN42WUH8QYIA79bLJtluTbfLPc5CdtsveJnjZJlqcb8011yjdRkqXRMt7hMsPqmG6SeL3gtzxtlkjBYbQOo/x0u+7STZo3Yr0fE8tw5/2YRMWlxi6xoRdxQl30Iy4mr3pen7IgzE6Pp0UunrehPoSookRNHsTGIOilgPlENp/dVshqHIxrD945aj2mCh6ujBftPhgd6x2xNsDCYxAErb0mOl+PFOVzyL5DTMSHu0GOQZ0CigkeqWVMwWOUGbwai5QtIgm2Zy1EnsXsBBX+EyY1iKlKKHgTxmYb8dXpt6IQHu1W6gO/VbWY/RcXEKqy3MzkNosJKi/jrNzRFREgAkTgfQR69OJqtZIDFb9+/fJMB6yvCRNQiTAhFQRsyRo8DTbllS2YgxWLfNEfLl4M1sUZ32BbKtvM6pgugnXBdiDD/Jd6A0OAKH/uhwRazmq/SY93HPQIlStLpP/6Z5oe72wyDZIJuULJKn1BGkSvIPL8OGXrLSQRE9jUi6AwfVbmidDG/L3t1kGYn2pM7Kq81ue8ucISVjgaQ4gyHsygORiJ3DkAi0I2FZ/qyFT/2USk3JjaUSbCHLhBASiZ615Uf6pe81WuzTi1sLsuZ5J9JiZklRK589GLwq2hyx2gDDcODcJogQ2MRMoqkGFtME0aQHUFufgpk/Jnyg0EDVjPtGnp4KqpF98BX9UjrbHRqpBuzpZiwi8glS7dNV0TASJABN5AoEcvyp6NXXglALYP80GrZ33dpTEOJOJTTd6w1hLaO+x35BvUe2ILB4xQBHJ61djHAS0omz4FjbQuLv/Zw9E3TC6KiRp7pH/7a3qo2ICTWOjHptbEkiWL+KvPOVOLDr2IKlLvgxSq6lT2/NsZWwSUz+ZVdcrTbLcvGdL6nDeHEgGq0sq6d9SG+njE41ysgzDiStyWfLMXVR2ZRdzwmNQbSIi1L9M74k69aPNtKRc9jx3XM8q+4gKQmMmwygB1TJrQJFBM8XCEZjk2II1HyiqQqKnP57PGD8JFKvbuWj66zKS8zqQ8mbIxcLkCQ6IwkwWPdfqmLSsbB0c2K/WCr8qeR8eDcnwA2IoJ2r3mZ6vMEl0QASJABF5NoEcvLhZ40A2qxdVq5RE7LqwRclG6bz+F1g61DfY7SvjANIuQPKyXX6dFWeZZHKfFUe3mZe/C5SYrtac4wCG0Z0ekTyYQtd451NYkYvctxCPkob5s1/mJ7yTGJr3VULPeUZ9Hl5l/z0V93i70NEIszi6EjQUtoiRl/+Ik2+5PiqatP1JdF/9q4J2j1mM2cyY7XmdXqnfEqBd52OyPKA+XdwZZ33/bTIH9fjbZN7SH0gwWpNNAsc0UWGCWsHVIY5GyEflwHXOLSuI03x0ud7nN7GMm5csUa7VV4UmzlWB0+syfZqd9VuoF34gTCoHVrgGWj+lyCFaZEbogAkSACLyKQI9ePJ/PbEp6sVj4rV+UOtBIYeup2n6Ai+jkrBbIQCEescdxTK8+nzWukGQHN4q9ydiECrmI6klqT0iOirRxgA+KT7XZA4PRtBgkRJ5Dw8+lgUNEdtqCTtbvvkUv1rIP1pja5CIfJWwngo0FmbPRWlisg/OdTrcIkFaXqnpX0bny6PSO2EiBcdPda7bzd4dVCyE/YsgICW/mk3029iToSDYWpKNBgSE6/tnEhctue5DyxYuy3rahNytR24V6Ysm/v0n5M1UR9l150bdY6RD4eg5lyVjCxLRaimkI4L780nsiQASIQC+BHr3Y67/lAJWhOfr2qKp/w2ii9hQnmvFMGNRwchsGji7m57o6pNvzHbZNmyqmfuDKqFMeR+KEwdsuEqIQQ4UZMvReN5OiImXKUehS1veBXLyWmxLO/YPVbs615NgnaHlBBDheafcybT4aJvk06Sp5X4qFmHWXz5x6ETW5NRjud0jfY+ncVQpwKk/qIP05u/bqiJ0zfZZeE4NFcbNIj20lia/nk/02EJZ+telWuJgGioUCpSqViAi48XckUiZ2mrVAD/tjJqVHql27zRQrsCapLYi86Lu0HUuED3wtufzSFaalmIYAbkdET4gAESACAwm8XC8+Yc3gUh50/bjtk2V6rGAET5xpXVZlc+oAACAASURBVN/2ScjXOeHQjxz4QoWXnR7XEuXg45SF4mBqWHt02kawPQWH+8TKO1jFxw8jxAY02t3giFvUUq5IYWOxdraM8PeANYq4VB88quFGEym61rUvvoYZT5kN08OEO8hJEARLdtiiHtClCC3qFFLR3EcpTkN3DtRisHaF7Oq99JQ0r42JtuZLUIKG+nX36i2vT7aIwJJti1P9EY4ezyP7KKfb+sRCYRIonnsw1XZkOpqxSHtHbJ0fXa83KX+mYv2iyYRJMXORQ4O+pXwMirabPvj2MB14bJ+j8KWtLR+1pYGeEQEiQAReR+D1evH5rE5FAusKt3maZuWRb4iG02+WUZpncZQW4uHzWi7E2dOwTvC6ixfRJolzPlQE+2XWm3RbbjNYvsiDqm+HPI4zeJokmdotcj/l0QoWVO24w6c90ue1XMpN1yhE82i1ieNsz1f04cpHizC57sTPpOD8tJqPhvZc7st5VelUhyTKMjgisaUBr+XKkjymg40DTiAtXOEaR+k002hXyI7eq+nZuH+jXhwnyueUfYe2MQCym4Zi0XePW1zbH/VJFliiMe47B0dszaN0Wkn4lEn5M0WXFgXdNtkGfbu2a+XYeNAHf1CYtmKCT7yO9QBGYuiGCBABIjCZwDv04uRE/f4AUDAaA2HdaboU4cvl4rO+V/cnP6LEPHbQIRfZkXeauAQBLX61DX62baMUbiM/doXsoReZGtNm92yXakCn0REPkkGDRfn8su+vbcaAak602orCXCswGOkTPpn4El78ZpLbwBoGBaPBW8sJga83KX+mYqWjMkdI9IvGF4fCH6IXbcUEw4uuOZBWWdADIkAEiMBkAqQXHQhhWt02hGdzrs2J215Pe8aHx8QpJRDYtVy5BhZgjWbXqjJnWqwK2dUHmqLDGablhUUG2VSN2C5qhPAWUc5j+FD2mTqx5biJdAoog1rnzTuRMsHY/Oh6vUn5M2UoWl84pnxERw36LS+iBC1eO3lrL4eEaSkm8E5yUeNJl0SACLybAOlFF2FYO+i3IvFarsWJ4q7ApjzXdnWzYDrk4hOmpMNxq5qGKOTR+Wl0xAPCeasoRxHu/4EwINljnY4H5R/ju5HiWmbfjy7/ZH/A5Sfoe2fDVkzVfhOKHX/eAZFDIkAEiMAEAqQXO+BVh4RvgHE7qi8FbsJxu5j8hu3XkP1utY/EMePWoGFHtWv40epBPPRXyMLH8L+jO+I3i3I8ZNP3A2F4tof7GA3KP6r3I31+wqT8M+zv8gP0vRNjKabHKVvwH6byDoYcEgEiQASmESC92M2vfuAJPm5HvQ7cXr3f8N0FcNIPHiLZN+EMvXSfG3vkPgrZ7tPz6biO+AOiHNP/9ux7UmKr6ppTuf6ePVx+CulzRkw9sHAn48zUP3xvl7Zign1w4neZvAMih0SACBCBiQRIL04E+AnvuLiOH1JU7TdeUnC0jh3t0Y8EO0HTz6109eY0yXhglLHvA0F3/M7rUaD8E/TJfH4yLn8CnS7fTL8zbv2lDZ3tme6HrokAESAC7yBAevEdVF8dJuyPZMcw+srFV6eAwiMCRIAIEAEiQAT+vARIL35F2bPzkde70yGmTZFfUWKUSCJABIgAESACP4gA6cXvKEx2+kYYjtz7/B2ZpFQSASJABIgAESACsyRAenGWxdJOFDtVh34ArE2GnhABIkAEiAARIAJvJkB68c2AXxY8nqoz7mTFl6WBAiICRIAIEAEiQAT+jARIL35NqV+K0O/88K/JESWUCBABIkAEiAAR+AoCpBe/opgokUSACBABIkAEiAAR+G0ESC/+NvQvjfh+/sc//q+0/ft7/pf/gn///b/2t/9jfV6WJXp0+fqLK0D0+OIwO1LyjujeESZlwWpmH8by4eh+hiGV5fH20raKAiMCROA7CZBe/M5ya6S68yelG27plggQASJABIgAESACgwiQXhyEa6aO8SelHzNNHCWLCBABIkAEiAAR+HICpBe/vAAh+SgX7z8gI5QFIkAEiAARIAJEYI4ESC/OsVSGpanaR14/KT0sVHJNBIgAESACRIAIEAFGgPTi11sC/aT01xchZYAIEAEiQASIwLwJkF6cd/n0p+5OPyndD4lcEAEiQASIABEgAhMIkF7sgve4lElxrjuc1JcyKS+f3WpS7TdBceGJssvF6pAlh6oj3a5X/Tl2+fR7ftun+8Gnc3wO8ruz7wcJXI0C5R/855A+58PUH8+b6XsnhIrJG1W3w7kUaHcqjbf3Y5Y12vAPmoORFLohAozADPRifd5G60UQBEF8mNOmjfpSrNflVajFWlwwcPIWnK22F/PtG83rfoiDQOrFxzFt/UZgdUgW2VFH+TjlEWccLiP2bxkGi01+uGlat5FjRybuh3h8QV2KYCukriP85/N5KWQGOe1JkOeTfXeWm29GgmoG476faLfX3SaKliFU28WaWdR6EYTLpDzrlvcBk3Jn0ffNpWg2PV70W1bqG98Qd1RMkla7mOSr3guvAp3UsvUmoddBK3/VIQkbK9MnmkNvGsgBEegiMAO9CMl75Y8jX3dRGEz+5bz6WqxXxVWwA5UWLjfZtizLPI2WC3347lqulh9SjI9TlsSx1IsWuXg/JmFqqEWeh8s2CIJQU2uPUx4GwargWreRYxBtmi5UneOkVtVotwGqHCh9auGqyAR/NJFJkGeRfcjOpQCRBf9k3rWsiwyPByVC6P871W4r/HTRe7TbbqN/933EpAYx5eTFH1YCpqXz8GRFGWSl/dCVC/blB0lR9ewdlv9ziwnaDFGUzb+KabNA39Oy8Vh4MnqqdiOxLjN8Po5poNcviGRqrVUGSFdEYCCBeehFrPaTJR7Len0t4yjb36YN+EGKNns1o6sapsU6LY5XbVQOD7TZBJHmemAheDuvz3m8r0BwsBbmccoa1OpLsQpz2xR6tY+CIEiPWsp5plhYzRwPalWVBmq0hEoTsUxOkEEwDT8e8jyy7yjpV+pFZanNojB7UEjKNKT1OQ+CxpcZMwQe02dMyp+p7hLSJoC8Ti8Oga+nRl7b9CIVExuxbheTxNa8aGE02h0zIOXWUg21r7tmdZKSsBm5cW8LU3PQbYbPZ33ehkGjPZ9Wa7XI6ZIIDCTQoxfP5/OvX7+CIPjjjz+uVznaNjCSPuePU2aOfPV5ePt7qJLGdx3Uazni0I4eXq93gxfmtQPqelJfi7i41tiEYWNlkYvnbagPIargkHEQG6L2UsB8IpvPbuW43VLyBtLZAhovzDZZpsNot1u9q9aBW1rjKZDnkP1WdlkPFB/uBjnGagqoxow+xGvBCfFMQcomBYLtWRYuCy8IguwEX2ufMKlBTFVCwZswNtuIr06/FYXwqISGChiv9BfguwXf8XlVXKDStVxTMTG+ipoFEZqyfN7CqBfoG1q2lo10VW1lLX1mCC6hkWb1SfoDb2/vbWRsdEEEJIEevbhareRn1a9fv6S33ovH7VikUZqXeRKlh4oP9rGncbbN42WUH8QYIE4VbrJtluTbfLPc5Cc1sPd8oqdNkuXpxnxTnfJNlGRptIx3uMywOqabJF4v+C1PpCVScBitwyg/3a67dJPmjVjvx6QxbgJVtEMvYt8p+pFeOCMdVCf2C9DZJgg22f5yP+fajDkGei1CcwhRRoWMzcFIXAQQson1do6hVdVypFpg1TZqrzEe5UafXJZJgAuj3YaQZBOve3H0DJDgZpxG6O6bmWTfmI4Wo8SoB5r5mgTKDFErlhagCUjZNKcxYA3TZ0GwZiscPmVS/kx57tGAdd6mpYMrnf5QK/WFr+qRNiHtKCsqJlYoeqk1bFkvpu4CfU/L9g4zhCzil65qJTHXE8yhQY1uicAQAj16UYpFduEZMqzTBR1SP2EBUxAwpQVPg03Jp3LB5Pl6NLiEXuaMU6WoFWT9qI7pAjogfAU9lHoDQ4A4XHY/JPAFVu036fGOk2ShcmWJ9F//TNPjnXV3XC49UU9IX5AGs2mC1ijapEm+3YI+NRf1w0DNMeHZ9GQ01ll1Krle/P/+37w5lAipVHnXo2CMte/Ux7lYB2HEyUIT2shxV6tqspHxqGEyvfGWr+FC74jNIYGGXpRloXkfD3lG2VcWDJAYSbhi/yTZSaAYaI6w3Xm+BCkbsdU2W9VYwRep2NP5QZPyZMoHVJVO5yDahHT6pi0rGwdbtlmpF3xV9rxW8KCw9UNTMIIeb/k/upg0Q240JvobTlh97pvlrYpRK9uGf/XGtAbNGZScLDNVvHDVqNr+ZojBwxiAMdf1wd5Gyx9dEoHns0cvLha4cRkNfrVaeRG7lmsxyfmsr7s0xoFEfKoNh7F6BBUMhZt8g3pP9EIwoxXI5XjGvl9QAGyBIdSndXH5zx6OvmFyUSz4sEf6t7+mh4q1o2JjCFuKJVoUS+v8OG1jcW5OfYZ9IsbACgqhpuDitMSwIBsctP2/M7aUekHGlS0LkWDhxdK0sFdMHC+iJGX/4iTb7k9qb7QlxygheVPH/vDWULWdIlr5VzbEqg2W79iF3hFjE2/EINSSy7tFgjTCt9/OJvtGb2N0KiLrIgPTQLEpTCywjuKCuMYiZV9Y4TrmFpXEab47XO5y2fDHTMqXqWpxBGPxV5qteGB81jB/mp2KonJZqRd8I06lNVxhUjGhqQr0UFCtctGKiF8q50Z1ApjGv1e0bO8wQ7RHzCdPoTDQ0eYgAqC/RGAMgR69eD6f2ZT0YrHwW7+IC3T5mjiVoPZTkDY4FobCTQ2UwXINMUTGBx7ToizzLI7T4qgUDnsHW5ZL7SlOiAnt2RHpkwlE2Z7gSj75EYc1tKnFVGZ4S2WuIGE1WJ9H1zxMu5RH9+jB1OdtSy7yzr+dCCaOzdloPTCWo44c644tAqSj6ZaIWRBGu62Halx395rt/N1hFDpMbLvCIdz5ZJ8LtGZ3ZkE6GlSrM1Q9Y6PTQeQuu+1ByhcvNj6a9ELsq0QNtw076VIDTadM9How1aPsvvaib7HSIfD1SiNLxhImppSKqbvA+t56FailGuqFpCoSXn3ADDFXtorkMoc+DPSeCEwi0KMXh4ctdaDhtfVUbVdFqSb7HZCBQjziCEVzHE8GW+MKSXZwo9g2i1VLyMVnR6SsuxPDmOxObYdu11A8o2dd8g0/rBERqpal6F01GCb5bELuUizEKKpE4tSLyNgaDPfbzrEKtHllaVV1J8bAif4Cr73abciH7EH1IFyQUdws0mNbSfJI4dvERpEH/rHs65nRri1Ip4FiYUO2rBy1qEciZVVAfmFpAYrLGTLlSYMs6/8siLzou6yUReMDX7BSf11hUjG5LblZntq8sATrVaCWaigDYF96bY2oO7Bdu8NsJttihhigrSK5zMGWAnpGBF5G4D160exHHlX1bxhN1J7iRDPqLxSOctsuji7m57o6pNvzHbZNm7tM6gfMd91PeRyJE6lvu0gMSGKoIALRe4160RrpE2OVCgLHKkEuXstNCadJw2pGba0fG6AKI6EXmW9DruF4pe5FldCE+Wg4nTUIgqWIWAV6KUJLbDDvag57og82Fis1uQpFXTVzzN64ei/lr301TC+6m9N2yGxQ2JJti1P90Yyyj0Nh7Y7BQqHZwVmc6Hm0XntIlg67tQbJH/aO2FoqEfP6epPyZyomMc0CYH2vfsg4hqh/XrwDvj1MBx4qJv4tbBYTG1luiThUYq1C1gvU+UXaZfTdLds7zBBTA72NHNlg6RtpDl2Zo3dEwIPAy/XiE9YMLuVB14/bPlmmxwr6bHHccn3bJyFfF48dj5woRYWXnR7XEuXg45SFgZplvJ+2EezmhXFHuVMDFhPygT/8EIt2N1BZKOZckfIJSiGghL/HOV+zY7fBoxpufMJiwXyVndjRhSjixD4ZgRiUmsyGeDjxb3VIoiyD5dItDXgtVzbdhDSNA04gCZi/xlE6zaS1cowOHL1X07Nx392qTpJB4yDPKfuOTsUAyG4mgeLhQc7NbrMV0TikeMhHYB6l0wr6Uyblz5TJizaRtsk26Nu1XSvHxoM++IPCpGKyju85GbdeNAr0c3rRsAlxA4LWxwzRPXzKi66KBzDSHET09JcIjCTwer34fFanIoF1hds8TbNSnG0Np98sozTP4kg78PpaLgI5zwvbY+JFtEninE8twn6Z9SbdltsMli/yvdX17ZDHcQZPkyRTu0XupzxawQL8nThP2x7p81ou5aZrNl4ZrTZxnO35+khc+dgQZNUx36zXUbRer9PiJE4I4tjhg0/uyxlZFC1v9b264wn/LcHokIvsyDtNXAIQ8att8LNtm53rCE1bjr06YmiZe/+ptrHZbg/pNQdDnl/2vZCiIYwBheMqPYVhDsYMRvq87iLx05IB/LZkzr+iWtbLjhpuVCKv/A80Ka8wRfLsQ0+tnWoN+j5WOhS+T5gi1VRMWMitYuKfwqp5YcDshTx0fHEGZgjZgeFFY+wCRy9e39sIW6O/RMBN4B160R3b17xB+WQ0MN1JvxThy+Uij5E1W9q0Ov4iVOODU6aufUayfNV9Yc2xqw80RUd3wObbRkfs3tbQ7ANwfOFtkJm4aRb467PPuj2bpGsinQLKRN5190a75b9NMSemjERLB1hNzVgH0/IiStDitQu3/m5ImFRM+q9n6hTl9IkoEfzbLpZmdfqdVdvfDHnuGnIRRvff1ds02NItETAIkF40cKgbmFZvDY6o18aVNiduPH/NDa6W1GckruXKJRdxL3DYWO3imYwhOfYMsu2s2W63XbievBcyiHD/Anel8YXPx4PyT8S7kc6NqT+ZT9D3Tg0Vkzcqp8NZFagzle0X1X4TipX6/O3bzaGdCnpCBBgB0osuS4Blin4rEq/lWpwo7gps0nNYCKbtv6n2kTg20hos7Kh260mrF/bQP8cdgfS8Gt1uvxvy8/mJ7PfQ0V6PBqWF0XP5fqQzY9rDQ3v9AfpabN2XVEzdfLzezqlAvRKMjh6nbMF+f0v5+YA5qMjoiggYBEgvGjjMm+qQ8A0w5nP9rr4UuAlHf/bqazwOR0yQVfvImJy2RAbKp8+NxRsslvHIsd2n59Nx7fYnIEMG3p59T0pscX9zKtffs4fLTyGdE1MPLNzJODP1D9/bJRWTN6pOh7Mp0M5Umi9hv6P4/S3+5mPmYKaE7ogAI0B6sdsS6gee4ON21OvA7dX7Da4t5JvOq/3GSwqOTtdoj37ZYSci+bmVrt6cJhkP7ITvK3Dd8TuvR4HyT9An8/nJuPwJdLp8M/3OuPWXn0T3ybj0PH7kei4FOiCzlvKwPBoQIDklAhMJkF6cCPAj3mF/JDuG0VcufiRZFAkRIAJEgAgQASLwpyBAevEripmdj7zenQ5xc7PcV6SfEkkEiAARIAJEgAh8MQHSi99ReOz0jTAcuff5OzJJqSQCRIAIEAEiQARmSYD04iyLpZ0odqpO84eh2u7oCREgAkSACBABIkAEXkyA9OKLgb4tODxVZ9zJim9LEwVMBIgAESACRIAI/BkIkF78mlK+FKHfeZBfkyNKKBEgAkSACBABIvAVBEgvfkUxUSKJABEgAkSACBABIvDbCJBe/G3oXxrx/fyPf/xfafv39/wv/wX//vt/7W//x/q8LEv06PL1F3eAY15hdJSSZgn9PScmBpMOmyQTMkiJGzIhQUL9/XYmmJPj7aUdCAVGBDwIkF70gDR/J50/KT3/5FMKiQARIAJEgAgQgTkTIL0459LxTRv+pPTD1zW5IwJEgAgQASJABIjAEAKkF4fQmqlblIv3mSaOkkUEiAARIAJEgAh8OwHSi99egs9ntY+8flL6+3NKOSACRIAIEAEiQAR+BwHSi7+D+kvjpJ+UfilOCowIEAEiQASIABFoEiC92CTybfd3+knpbysySi8RIAJEgAgQgS8jQHqxq8AelzIpznWHk/pSJuXlQ1tN6vvt9oDU1Pfrjcdpl4vVIUsOVUe6Xa/6c+zy6ff8tk/3gw+C+Bzkd2ffDxK4GgXKP/jPIX3Oh6k/njfT904IFZM3qm6HcynQ7lQab+/HLBvVhhuheN2M7i68Qv8aR19oJP5sLeY0onWZgV6sz9tovQiCIIgPc9q0UV+K9bq8amrxcdllcZTmeRqlO/ECnK22F82ZfxkOdHk/xIApXG7yExeDj2Pa+o3A6pAssqOO8nHKI844XEbs3zIMFpv8IHQnJKWdY1sC74d4fEFdimB7sYVqPLsUQWG4mgZ5Ptk3ctl5MxJUZ5jGy2lIn9fdJoqWIdjjYs0sar0IwmVSnnXL+4BJGbkadXMpmk2PF/2WlY6KvMcTFZME1C4m+ar3wqtAJ7VsvUnoddDKX3VIwgkr0z2raLu7sKR0bmgsSRz1yKjDX2kk/tm2mNPg1mUGehEy/MofR77uojCY/Mt59bVYr4qrKg2gHeKgXX0tozBYlvLltVwtP6EYodKWp/P5fBVdskUu3o9JmBpqkefhsgWtqam1xykPg2BVcK3bzLHZfKmKNanpMKok6F+lC7VwVWSK/1TIs8g+ZOdSgMiCfzLvWtZFhseDEiH0/52KtMLvF71Hu+02+nffR0xqEFNOXvxhJWBaOg9PVpRBVtoPXbngn386MDAOaRXCJRWTq5ieCqEoUfnX/KY1qpNZ3gq5pRqKMvD76121ZSrZhTN/j2Ma6PXLLxmaq94q2uguvgeNd9EDDVUwerPLXqj69qVG4k/CZk7DWpd56EXM8WSJx6pJfS3jKNvfpg34QYo2ezWjiynkI3mgFxfL9KjeVvtNEGmutQr7ysv7KY/Ly+NxzhfRDtTq45Q1qNWXYhXmtin0ah8FQZAetblzbmiswjRzDHVMa3O7W1WjPhqNoaqNSMKokhCleq+11ioyDd80yPPIvpYd/VLLung8GhQvVKMQ2I1WmjyWaUjrcx4EjS8zZgg8ps+YlCDW+GthqruAtAkgpqWDK53+ECsdAl9Pjbx+g+X/4GKS2JoXLYx6gb6nZWsmgd9PMsPnsz5vw8DanjviMx/3lX2ruzCrgsJoy4Z3o2+mSd7ZwpQvn/gt4K6hmkPzUqVZPDfzZJa+4fpbjURktPHXyBt7ZzOnQZ1Aj148n8+/fv0KguCPP/64XuWAWiNhU28fp8wc+Zoa4GT/wFD/rsPxz1Bpm2YE0E+sd4MX5jWD6buvH7h8EWIDnWiRi+dtqA8hqgCRcRAbovZSwHwiU8HNHDe+yUBx8Ow7q7nxolFJRUKMKtnqXbXmwcJ6CuQ5ZL+VXSnjDHIM1RRQje9miNeCE+KZgpRNCgTbsyhbHl4QBNkJvtY+YVKDmKqEgjdhbLqlC0w6/VYUwqOlPZZlJwJCwvJGJMDR0xYX6MxarqmYJFb+FWRBZIJuYdQLFCCb/3h4lmrIYjZe2Fq2lo10VW1hBaYkspkhuIRGmtUn5c/7CvstdxUF+WB2F1+FRmAA+tIkWkVv1nWG2e76e43EjwS4spgTAPIVLz16cbVayZr169cvkaz+v4/bsUijNC/zJEoPFR/sY0/jbJvHyyg/iDFAnCrcZNssybf5Rludh/Ggp02S5elGrduDN9Up30RJlkbLmK0mrI7pJonXC37LU2mJFBxG6zDKT7frLt2keSPW+zExxk1Yc7DOtlkr7TwSqJiiH+GPXv4HRpPD/FQ/YZIh2lf1OTdmzGFevwjNIUSZCGRsDkYyEcz2xTRzzCSHliNVDRkMMAvtNcaj3EDr3XwrnMiJPrOJ172oVktWbPA9AfJMss+wyiolcmehZbRdgFy4xV5GsHWAMtw4NAizjAlI2VSXMWANFhoEa7bC4VMm5c+UZRnNzrDdtgLQ6b8LvqpHWk3SqhBPLf6hYmo1SDoeuNaLqbtAzREmrXqoEhH1S0SiFYulrmqufKo2d46x6RG1Uw0u8UtXVX4Rl9ffvira7i7MNKhszxKNYNBd9OozlheODlPlkBmY6px+JgmrOQ1oXXr0ojR/diEKqOevWOpXP2EBUxCwLQ7wNNiUVzYhCmnki/7gEnqZM77BLlAWaXVMF9AB4Sswf/UGhgBxuOx+SOALrNpv0uMdR+DVSKAt0n/9M02Pd1aX2IrE5xP1hAwb0tCoyQBgtWVJvO0i8/3zCZ2jz06OHnLdr+vbYZttQYInu2tdn3Pz25C1mSrvemCMsfad+jgX6yCMOFn85NZz3GqeVcVyN5jqjV6D9WRAPKpKmq6Ub60JNzyPhzyj7CsLhuwz5nDF/skymASKlR43Z7PhM4BOsVs2Yqtttqqxri1SsaezWYneaFKeTGXPISs6o9EmpNMfaqVe8FXZQxIAFUsTtn5oCkYax1v+jy4m3ZjNYtLfcMKq3THL+3Ut28vNEHMBok6f62pmzX3fV/aArNFdfBcanvXuotf4qNol+m9V+KwafquR+JOwmNOA1qVHLy4WuHEZG7DVaqWhd19ey7WY5HzW110a40AiPtWGw6CMWSOJwk2+Qb0neiGY0QrkcjxjIxcoALbAEACsi8t/9nD0DZOLYsGHPdK//TU9VKwuiY0hbJ2HMJYWP2ZnqmrhvbbhhTf5srM34FSnsuffzthSanh239Tn7UIkWLiy2AJ7xcTxIkpS9i9Osu3+pPZGt3LMc8RVDPvDezBN14l4xV/Z2hjVULyFv3pHzAZ69CgEQJd34C7c6KH2Xc8m+0bLBjcsNxak00Bpwy2WsHVcY5GyL6xwHXOLSuI03x0ud7ls+GMm5ctUtTh6/uFamq18odNn/jQzFRboslIv+EacUAhSLxpCUaSIiqlVTK1y0YqIX4qSarQ7ANP494qW7R1miKWP+bQahTAO118cBOmoopbu4jvQ+Bd9Iz8tjEYd1ms9fsPN30j8SQgjsZmTf+vSoxfP5zObkl4sFn7rF2FJhJSLIo1s2S5fKccegq3ixw0KNzVQBvPrQpjxgce0KMs8i+O0OCqFw96Fy01Wak9xQkxoz3ZSZKRPJhBle4Ir+eRHHCLVtRjbZ//efQAAHRtJREFULCHfc1tS91Ivqi0wMuvTL2rZB2th2eQipstIFffAxLE5G62FxTo4beDPeNe8sQiQDquViFkwRpVshizvjVosn2Krb/3UvsModJjYdoWD7/lk35Thko0F6WhQjRZSb/JarWWH3fYg5YsXjdloraDESJ5eiczXxp0l//4m5c/UiLPzxou+xUqHwNdzKEvGEiYmlLXo7eblz11MnWVovPQq0NmZIWah1RvxjLFjOtaFONjNyC/csC6yo4q6jKoVEnYQsrXir3X71VsZy0Il1nJzRzIcC25LzC97BOkV9UxPu3jW+KhwxWtJtR7a7ElgYhvtsr8h9OhFFzT3cyXJdDetp2q7Kko1adRg40I84giFYzne81njCkl2cKPYm4wshFzExXxSe0JqVKSsLolhTHantkO3kAp1Kdpr1i1Iw4ew/ZHrXPqvYZKvUbro6VIsxCiqCsSVCGRsDYb7beVYhdm6slQY3Y0xcKK/wGuvdhtgqlqsheHKH/aaC33HuuYJyga+TWwUubOPZd9IlrqxIJ0GigUN2bJyVDE77bYHKRKzancR9gyZ8qSx2qsadgsiL/ouK/WHL1ipv64wR1r+Dy8mxq1ZnmKsVlEdLwUaYRhNvv7OeW2p2txtM9kWM0SXroqEehFWFNmGE8QHW2cVdRmVJTPubKDj7kbfEh48cofpiwZbL1WR4cpFURv015Nj1DevWu9O9XeQsJmTvyG8Ry+aY1yPqvo39NjaU5xoXsMJhqjh5LZd6Nlh/rk6pNvzHbZNm6NeNdsffMrjSJxIDYsJ+YAkhgoiEL3XKFKtkbJYpYLADzGQi9dyU8I50TCQr6314yNUagIaB/q1kOHcg7zhRVrlhPloOE4zCPSjHkWolyI0Esiew7yrZadT74emJcfC+N31TySl8be76WhWyZ7aZ4bdAdl0aN7NKPvYcbWRWihMAsXzD01DOzIDzkikvSO2tkqEERsNtJEU9023SfkzFZ2oyYQ1luJEU5aKBn1L+bhTy9/0wbeH6cBDxcQ/bMxiwqJvr1BBudEqZON70cG5s1Q/b4aYHOgh5chGZwKNlx5V1N5dfAsaW71lAtIseqBir2xsmEe5btR6CEy9NOC6b36HkQwhgdKnYU4DWpeX68UnrBlcyoOuH7d9AkcVQp8tzrSub/sk5Ovi0arlRCkqvOz0uJYoBx+nLAzULOP9tI1gNy+MO8qdGrDrA4Un+4CAmgUqC8feXJHyCUoxqImKO9rdHud8zY7dBo9quBGMAzfuLLd4sGF92a7EJlBhOFD1ZDbEw4l/q0MSZRks82xpwGu5sshFli/jgBNIAuavcZROM2ntHIOL11eYZpV0VuRmAuF+HOQ5Zd8f6SRQHF6fZBmNlI3Ymud0tArsUyblz5TJi3YX0G7jG/QHWakn/EFhjrP8H19MTgNvvWgU6BtatneYIZoSDE6IrqpVydwPcFKlu4pi59vqLl7f6L8DTauEBQnrC7/K9p1GYs0w0LC/sJjTgNbl9XoRzrkpElhXuM3TNCuPfEM0nH6zjNIcflGvEA+f13IRcLmHqmwXL6JNEuf8MGzYL7PepNtym8HyRR5UfTvkcZzB0yTJ1G6R+ymPVrAAf8cd4pE77Uif13IpN10DWPC3ieNsz9dH4srHpiCD38FdLpbRer1Od42fjAaFLvflCMud+re+V/cnP6LEPNvRIRfZkXeauISMiV9tg59t2+Ap37Z0WXPs06qCUfb+U110s0r6VWSW4sGQ55d9/5ZzDCgcV+kpDHNGbTDS53UXiZ+WDOC3JfOTdgC8YVmfMil/puwLqDlnZfs6b9D3sdKh8H3CFDypmLCQ2yOJrPVRzQsDhkVhPmwU6BtatneYIWQHhhfNsQthFa6//lUUJuS07kLSM9m14xnY6L8FjXfRQ/L9KtuXGskgEhZzGtK6vEMvtu3r655gX2dMYHRn4VKEL5eLPEZmDcbk97VcuT44oQUw3HanW7215tjVB5qiQwXSf9Wsks6Wx9JkvREy25DVLPDXZ591ezZJ10Q6BVR/MQgX70Q6P6Ys1y2Ts5qasQ6m5UWUoMWrQNv3d0iYVEwdK9MsINvF0qxOv7Nq+5shHyQaJhf7DE9/b+suvgaNmDkTlRH/tose8muxEelL+fhaI7FmUOVLK3EA0TSnIa0L6UUNpn4J0+rNEUb9vX6tzYnrj190jSs89RmJDrmIKy3DxvIEz3QMybFnkG1nzSrZduF68l7IsJvQv8BdaXzh8/Gg/BPxbqRzY+pP5hP0vVNDxeSNyulwVgXqTGX7RbXfhGKlfvvt9Cew5GtcdzE97tmF8K1G4g/SYk7DWhfSiy7YsArSb0XitVyLE8VdgU16DgvBtM001T4Sx0Zag4Ud1a7hR6sH8dA/x8LH8L+jq+S7IT+fn8i+P7DRoPyjeD/SmTH1R/MB+t6JoWLyRuV2OKcCdaey+eZxyhbs97eab153P7q7eF0S5hLSdxqJPz2bOQ1sXUgvduCuDgnfAON2VF8K3ITjdjH9DV+6DDu3cT1L34QzKJ8+N/ZU+eTY7tPz6bgq+QnIyNajwD0zOtXZOFD+sX4K6fPtJuWfZ3+X76bvnRIqJm9UnQ5nU6CdqTRfwn5H8ftb5pvX3o3vLl6bjt8e2jcaiT80izkNb11IL3YDrx94go/bUa8Dt1fvN7i2kG86r/YbLyk4Ol2jPfplh52I5OdWunpzmmQ8sOWqr8B1x++8HgXKP0GfzOcn4/In0OnyzfQ749ZffhLdJ+PS8/iR67kU6IDMfrI8PhnXAAQfdvqFRuJPyFLElkc94ZFe7AE0i9ewg4kdw+grF2eRbEoEESACRIAIEAEi8CMIkF78imJkh6+ud6dD3Nzd9BXpp0QSASJABIgAESACX0yA9OJ3FB47ECAMaTPbd5QXpZIIEAEiQASIwE8iQHrxS0qTnaoz5oehviSDlEwiQASIABEgAkRgrgRIL861ZJrpwlN16KisJha6JwJEgAgQASJABN5OgPTi2xG/KoJLEfqdB/mqCCkcIkAEiAARIAJEgAgAAdKLZAdEgAgQASJABIgAESACXQRIL3bR+Z539/M//vF/pe3f3/O//Bf8++//tb/9H+vzsizRo8vXX9wBOl9hmBRdsxjGcSaYVrsdB7PDF3F+IWeCORQmNhbH2/d0RJTSH02A9OKPKN7On5T+ETmkTBABIkAEiAARIAK/jQDpxd+G/oUR409KP14YIAVFBIgAESACRIAIEAFJgPSiRPG9FygX79+bfko5ESACRIAIEAEiMGsCpBdnXTxeiav2kddPSnsFRo6IABEgAkSACBABItAgQHqxAeT7buknpb+vzCjFRIAIEAEiQAS+igDpxa8qLkti7/ST0hYq9IgIEAEiQASIABF4HQHSi10sH5cyKc51h5P6Uibl5UNbTer77faA1NT3643HaZeL1SFLDlVHul2v+nPs8un3/LZP94NPh/gc5Hdn3w8SuBoFyj/4zyH1T9PXuRxdy74up50Jfpy229OHmsDOhLzj5f2YZaNa0uGJIXMayOxHG54/C0tbbnnkH16Xyxnoxfq8jdaLIAiC+DCnTRv1pVivy2uXWgSy4Gy1vfQ56yoE33f3QwyYwuUmP3Ex+Dimrd8IrA7JIjvqKB+nPOKMw2XE/i3DYLHJD0J3iqz05/h+iMcX1KUItpfe/F6KoDBcTYM8n+z35lw6GAlK+u+9mIa0N/jxDlqFPz6oMT49jeXZrmW22H5vZqDBMCuSLY0jnhltAN70fZwaPkbEONHLpRjdu1SHJBy/PpzMyaPkPIyDOzFc4k2f4T3/BFXQ0pZbHnkURK+TGehFSOMrfxz5uovCYPIv59XXYr0qrgJgtY9Aqpn/hGy6lqvlJxQj1I/ydD6fr0IMWuTi/ZiEqaEWeR4uW9Camlp7nPIwCFYF17qNHEM9Exl8PrVaZ1RZwcf3ryGDzO5MC9dWxadCnkX2AdOlEFYku3It6wLkeFAihP6/U5FaY+AfNSKP5l+ZYx2DdMLe2grfGtMbH/YZy7NRywZZ8pB0K5qqLrYBKVeCJXNtJovFq8xPuJV/tdJhbo1wVQKeT8Ng8UZ0229pNSA1Kt0ymUYqXLmTRqWnHxwbmZMM8KLh9HFMg/GKEdLe0/SSOfUOQfCyNorcMDzT1jV37erCTMX3f2UnyizaYSpXwpSYazNZLiMVftpfd0a4KgGNKogKqqlB3tG8z0MvIpTJEo8VRn0t4yjb36YN+EGKNnvRCD4fpyzYZOqXOYo0CtaFnIeu9psgUq59LXGou/spj8vL43HOF9EOpOzjlDWo1ZdiFea2KXSmeNOjNnHEbZG1qI0cYwOt2aeqIVpVlBlQjbm0fH4hG3fmdoIMmgZ5HtmXwMwLC9LRoHihNsvBOnw/DamZB9sdmIVmQzYn8pk0MGVLDduRTt9+0WcsrVoG0FVqteKUuVJpHlJAypd2ZQlTe4vCiqfFTJbuqHWtpZm/a3g2bg3XeCOayiF6UZV001oVy1ZCtQdGKrTnWgaE9ZnJarvVnljw1udtGFhbVc2f+5LMictzrVjd5qQ+DUThAVle1kaRG4ZnBCicg09LeYJb+z89SneB2sLUXYNhf7QKPp9PS1tueaSncsx1j148n8+/fv0KguCPP/64XuVo25iYOvyAGjNGvjrcfuYVkNa/KM3fT4Gx3s1OX4YHBrg2nrwlnfUDly9CbKATLXLxvA31IUSVCmQcxIaovRRhEARsPruZY1VrZcVSNcBeq4y67GigWzJIhg4XIlxLFectzljIc8i+o5WKD3eDHCuzKaAajSTEq7XUyibYGMtYpHo47WuW2fhwwNFUS/QWscBc2Qu/HcP7nvQZC8gHs5a1irbbkn0KyMIHqkhx6e6stK5KH0IT6TGg6XW0bYJGSCwsGYrhGm80vWhUaWF5hg89FcYLPUXCUYstC99ebYSnRnpRRDN/FlPEoUb53Gp/0FRmp3FjEGROUCq+5gTFzewMrmSpcDMxrAVvhOG1zEQYq7U8eYr04FVcwoi+pwpCigFAoy23PBJ5G/m3Ry+uVitZ+3/9+uUfyeN2LNIozcs8idJDxSsaexpn2zxeRvlBjAHicP0m22ZJvs032uo8jA89bZIsTzdq3R68qU75JkqyNFrGO1xmWB3TTRKvF/yWp9YSKTiM1mGUn27XXbpJ80as92PSmNHmSg2CrC9F1NpMAhPqwkB5vC//A9MiYX6qn9UhhuHM+pxrM+YY3bUIA2MIUSYCGZuDkbgIIGRZaecYKriWI1XrVMXUXmM8yo3+fSeTABctGSRrrO5FVVT1mq9aaMZphO6+mUn2ebsp6pTIndEKskxMAoWNhySlFUsL0MvtVliHjB2jFAWqPXWmSriVn+itRL/7QY+xPNu1DHItCtOA78yMXuROFNgHCGOR7NzOMTaVDvSu3Ta5aTXczIBwqFKvfczBSz317EZ021qYhioWdqE+CrVIRBqNYMV79ldPSr9zjE0CYwnRb82wDU5mBoRD1HwiXvHQ8y+ZEwell6Het+jmZBiiVhbcNAwLwRtheIZHPUQVa6P89LDcdUoZrma6bucYmxaRmayWxZg51NoQ4VKlvqsKomtLW255JAIe97dHL4q2iv/1jANWCIMOqZ+wJi4I2BYHeBpsyiubEIWc8Al3uAyCdXHGNybw6pgu5Mwv6CRZFDgghsNl90MC337VfpMe7/U5D4JQubJE+q9/punxDoEFAZdLbIWJ9AVpcDQv9WW7MscWEQroLZ+dHJ4E7c7q22GbbUGCJ7trXZ9zc5CDfWKovOuBMMbaF/LjXKyDMBJz6pYca6bcbPkdbFQFdNYSbxkky0LLxXjIM8q+smCAxEiqNkmSnQTKKC+zHDWccDkeaSOgwbfOJtf5YnAUIz30GQuUVqOWmfau6gF8H9ks2auAlH1ARqCGsqCwhcQWWQ8an0rzYVk3k9XC0WkZmmsIRv7DOLUccvEoum0zTJV9w4cWtq49nclVeefjKM5qw98LVDIiM1nyMb9wRqwcwjeCPuOk3vRdkTk1CHWak1FQWC4HYX1Q6IYZ4Y0wPLMMNXfKBhvp0CqnEavmDAJVdUqZ4dyqICbZ0pZbHmm5G3HZoxcXC9y4jI3FarXyiuBarsUk57O+7tIYBxLxqTYcxowGGh8UbvIN6j2x5Rc0YSCX4xk7EqEWsgWGUJPXxeU/ezj6hslFsdTEHunf/poeKjZJIDaGoDep9zoot6dtOROwIGVZOqjqpNY92q92Z7F/RffXc12ftwtt8wq6djZqTBwvoiRl/+Ik2+5Pam+0LceqTvC+gvdOWlVsJlFWO2cdbckg2Q/BhQDo8u6G3EyJeT+b7BuNmmqMLEingWKfDu2u3cQCd2ORtkMSoRkl2r7hVoQRt97CS1fh22N8/dM+Y8HhxYZ0YK2Zlp0+S/YqIFmdBFrGrgUIa6qIUQdimBsvbC2RtksWRSM/rbANg8Ub0W2/pdUw8gE3LEFGKiDfLNnCwnQSBkrh0JZ/+ayRZwzaFrIei+2azKmFu4EW34tnRkFp5c7L2ihyw/BY2cvi6+9MWLKwSI1QjUI0kgO2zUxgblWQpdnSllseGfkbetOjF8/nM5uSXiwWfusXa1gazNfEqcS0n4K0wa90FG5qoAwWioiPd/Zltk6LssyzOE6Lo1I47F243GSl9hSmbAOhPTsifTKBKIz0iSv5ZB+AptfUYpAZDFGIWZU7uGIFI1pN893Eu9q2bMYmF52JYOLYnI02EuXMseGK3VgqV6uuqmorETPPhgyyBC5dWZtmF+Q7jEKHiW1XOAQ4n+ybfbZkY0E6GhQwcvyzMXUhdZbNoBetdnWQ77c4rq9lBB+YroOyeo3FWctsybUAGFJAesWSpWcJ0xb1q57pXaaWdmm8bMynr+WzmLieuYbFqsBFLmwxW8IUzl/+19VCkjkNRN1jTsBZt3RhCbysjSLHmz7Ds31/asbUMDwVt8iWbqV6wuS1cPjGvz3MRMyQLSli2EPLI+F61N8evTg8TKkDDa+tp2rLGEo1ueYOZKAQjzjo5ViO93zWuEKSHdwo9iZj2Qq5iOMAUntCclSkjQN8UHyq7dDOtgG1sLBgI4ODOhHTZ/cdzOLbpOulWIhRVBWAyzqQsTUY7teVYxW0ujKqrHosrnTbFs/U39EyCINw5Q/14iI9OtqO+WRfgTCuLEingWKhQ6n2NWsupEb6Bt+gPRlNsa3WtF1xL32JHpwezQN28LAQw/YVhnoePmRtVU4EMgRZt7bzKSARq/rrDLPJ08Ycg2k6VIMxKhZ5ZavQhsF6dduGDxm2vLBFIl+6LtxhQhHp/5wG1XQoBpBaUSIyi1WQObWGD7WJohZGHFhp2aVRkNIUjNrBnRgu8cbR5quYndUFnRiRKE89V84wmzWrlVURcNPhtCrIQrU0TJZHIgWj/r5HL5oi91FV/4bRRO0pTjSvyyvXcHLbLvTsMP9cHdLt+Q7bpuUkMWavZvuDT3kciROpb7tIiEIMFYb/0HuNItUaKVOOslOQcvFabko4JxpWKGtr/QRZNqZpaTRg5DG3esFtOfZZaPXUOR8NG7GDIFgCKPPfpQgtCYS5j8YWKfDG0i01uRkSu7Pn2FktbEHwZ7K6W900ZZBR/60+tIcdkDVXrcsZZd8x22qhMAkUR+DRFo5E2mKsPcCWsNlB40Nn46n5dhAyXLzzxsNY7LXMUoa96ewrIHuY9lrJegZ9YYu1INicrW/x2KMyJhD5jdZtuzx14ehuNRxGYcdjyXabDaTF+hQe2j6yYKzBPrPUlS2fppfMyVyVqPSn3l7wsjaKHG80wzNedhaLevkzqiDmx9KWWx6prI+5erlefMKawaU86Ppx2yfL9FhBMyzOk6xv+yRcpPgrSzj7IydKUeFlp8e1RDn4OGVhoGYZ76ctbkyGcUe5UwN2faDw5GYW7W6gsnDszRUpn6AUAgobmGh3e5zzNTt2Gzyq4UbBlc1UmQJWvINKL7MhHk78Wx2SKMtgqXlLA17LlUUusnxtz414MX+No3QaTrBda+f49S3/JBk0DvKcsu/o+JqlwToz48PkHW0hfMy47BYOpFbfvOYd28UmD3o3U+/s+Z0vTP+2+SPpohGzkazGO+ln0IWPsWA7YKtlev/mFSvE1pRuukf/QoeQ2tFbwneWgvWFVwPQ7La9POnZZObeTr7mxj9MEHxtpu3cWdiw+Owv4INadBhaunouIaygp+klc+qBiK95VTBqRNPwjJc+gfIlr21zUZ79w4SybtuwxZratsijs77wt3xLW255pLI25ur1ehHOuSkSWFe4zdM0K498QzScfrOM0jyLo7QQD5/XchFwuQfrA6+7eBFtkjjnU4uwX2a9SbflNoPlizyo+nbI4ziDp0mSqdG5+ymPVnGapjvuEI/caUf6vJZLuekabAb8beI42/P1kbhOsSXI2Py4WFxp0AYdL/flGG8m3NT36v7EFZlNweiQi+zQTk1cQsaiaAmnLAbBYh1t8JRvW5LsOfawVdYi6nM/lmtVIafoxcGQ55f99+pFHBux4NcfmS2aG6k5xW/edc/BYSrMaPi3XPOhzRC7CTViNpLVeGcP3P3U31jwaFytlrEwfTqWoQXkEybPEdZDEzA+UlWPOxxUPB4NwKjxxYGtRrdRNMoUM2hmGx6ZbJybYyy+IXwYXmx/Tzdi1m/JnFrAB5WizhKueVUwagTeDBxfxPLVG0TLtZ5yI8Jmosz731gFISGWttzyyEzy4Lt36MXBiZifB5RPxvgOpvFRXa5327qnSxG+XC5yKqxp1abVcX7Z9anr3L/dx9iaY1fl0itUX8Dme4tetFRY+5TQGyGznUzNAn999rHJtGa4iXQKKBN51927kLbJNfPnTpWXRnF7/8QbWy1zSiBTugxK3sAwm9SdzJsOLWqKpbPtUBqvCrzZbbs8KR+DIKDjYWG2uLnKoOXQNjbJteUguTgoh2ROTgNscjTkW9PwLKXJzNVV/M3QLfcDw2zaqdPmmw6dBNoOLVUQEm5pyy2PLFkc8oj0ooMWTKu3RhgdbrU5cYeLKY+1XTosGPPHZhpBwxz+iHU2uMrRP8eNSP1vmzLI3+d7IYMI/0D2/bM7HpR/HO9G6p+Sb3M5vpZ9W0490tvstj28fJmTar8JxXr5dySdzGkU1Z9veP5YLG255ZF/eA6XpBcdYOBnXNZ+KxKv5Vr7LWlXeOOfsyX4UrxW+0gcG2kNE3ZUu4YfrR7EQ/8cCx/D/46WQe+GjL/b41ngw7M93MdoUP5RvR+pf1q+zuXoWvZ1Oe1N8E/vth+nbNH6Qa9eKsMckDkN44Wuf7rhDUBiacstjwYE6HBKetEBBh5Xh4RvgHE7sv46oNv5qDd4HozYZ1PtI2Ny2hIiCL8+NxZvnjm2+/R8Ok4GfQIyZMCnwD0zOtXZOFD+sX4KqX+Kvs3l+Fr2bTntSe/P7rZh16H4FaweEJNekzkNxvezDc8fh6UttzzyD6/DJenFDjiwiPSBJ/i4HfU6cHv1foNrC/mm82q/8ZKCo9M12qNfdtiJSH5upas3p0nG41PguuN3Xo8C5Z+gDyL1T9TXuSSKUGQ/msInM/fJuL6urlkSTLwQigWD5ZGF3/BHpBeHM/u8D9jnxI5h9JWLn08jxUgEiAARIAJEgAj8VAKkF7+iZNnRj+vd6RC/b5veV5CgRBIBIkAEiAARIAIfJ0B68ePIR0XItvWH4ci9z6PiJE9EgAgQASJABIgAEQACpBe/xA7YqTpjfpLqSzJIySQCRIAIEAEiQATmSoD04lxLppkuPFVn3MmKzaDonggQASJABIgAESACAwiQXhwA6/c6vRSh33mQvzeZFDsRIAJEgAgQASLw0wiQXvxpJUr5IQJEgAgQASJABIjAawmQXnwtTwqNCBABIkAEiAARIAI/jQDpxZ9WopQfIkAEiAARIAJEgAi8lsD/D+aavTO0qF6yAAAAAElFTkSuQmCC)"
      ],
      "metadata": {
        "id": "CqbVQgCMv_I9"
      }
    },
    {
      "cell_type": "code",
      "source": [
        "word_score_table['반포한'].cohesion_forward"
      ],
      "metadata": {
        "colab": {
          "base_uri": "https://localhost:8080/"
        },
        "id": "_Ia9N9dhwFlA",
        "outputId": "ab9142d4-8fba-445b-dec8-02172a251ddf"
      },
      "execution_count": 19,
      "outputs": [
        {
          "output_type": "execute_result",
          "data": {
            "text/plain": [
              "0.08838002913645132"
            ]
          },
          "metadata": {},
          "execution_count": 19
        }
      ]
    },
    {
      "cell_type": "markdown",
      "source": [
        "그렇다면 '반포한강'의 응집 확률은 '반포한'의 응집 확률보다 높을까"
      ],
      "metadata": {
        "id": "9_DMBynzwKy1"
      }
    },
    {
      "cell_type": "code",
      "source": [
        "word_score_table['반포한강'].cohesion_forward"
      ],
      "metadata": {
        "colab": {
          "base_uri": "https://localhost:8080/"
        },
        "id": "IiOTQxpqwUnL",
        "outputId": "9d05b902-d6d0-4601-a26d-59fda68aa4b7"
      },
      "execution_count": 20,
      "outputs": [
        {
          "output_type": "execute_result",
          "data": {
            "text/plain": [
              "0.19841268168224552"
            ]
          },
          "metadata": {},
          "execution_count": 20
        }
      ]
    },
    {
      "cell_type": "markdown",
      "source": [
        "'반포한강'은 '반포한'보다 응집 확률이 높습니다. 그렇다면 '반포한강공'은 어떨까요?"
      ],
      "metadata": {
        "id": "Gph3EqZfwYWW"
      }
    },
    {
      "cell_type": "code",
      "source": [
        "word_score_table['반포한강공'].cohesion_forward"
      ],
      "metadata": {
        "colab": {
          "base_uri": "https://localhost:8080/"
        },
        "id": "oDyb9Ic_waTS",
        "outputId": "e670d4fa-2360-407d-b3c7-6c6cf6492047"
      },
      "execution_count": 21,
      "outputs": [
        {
          "output_type": "execute_result",
          "data": {
            "text/plain": [
              "0.2972877884078849"
            ]
          },
          "metadata": {},
          "execution_count": 21
        }
      ]
    },
    {
      "cell_type": "markdown",
      "source": [
        "'반포한강공원'은 어떨까요?"
      ],
      "metadata": {
        "id": "O-pOp0OXweeg"
      }
    },
    {
      "cell_type": "code",
      "source": [
        "word_score_table['반포한강공원'].cohesion_forward"
      ],
      "metadata": {
        "colab": {
          "base_uri": "https://localhost:8080/"
        },
        "id": "QXD4yY6Hwh3T",
        "outputId": "f20597e5-840d-4149-ffc2-aad4ea7f0f07"
      },
      "execution_count": 22,
      "outputs": [
        {
          "output_type": "execute_result",
          "data": {
            "text/plain": [
              "0.37891487632839754"
            ]
          },
          "metadata": {},
          "execution_count": 22
        }
      ]
    },
    {
      "cell_type": "markdown",
      "source": [
        "여기다가 조사 '에'를 붙인 '반포한강공원에'는 어떨까"
      ],
      "metadata": {
        "id": "7Tb_2-OQwl8d"
      }
    },
    {
      "cell_type": "code",
      "source": [
        "word_score_table['반포한강공원에'].cohesion_forward"
      ],
      "metadata": {
        "colab": {
          "base_uri": "https://localhost:8080/"
        },
        "id": "bL48Vc9bwpzg",
        "outputId": "67afe94b-03b2-411c-d0b9-77881326e2e0"
      },
      "execution_count": 23,
      "outputs": [
        {
          "output_type": "execute_result",
          "data": {
            "text/plain": [
              "0.33492963377557666"
            ]
          },
          "metadata": {},
          "execution_count": 23
        }
      ]
    },
    {
      "cell_type": "markdown",
      "source": [
        "결합도는 '반포한강공원'일 때가 가장 높았습니다. 응집도를 통해 판단하기에 하나의 단어로 판단하기에 가장 적합한 문자열은 '반포한강공원'이라고 볼 수 있겠습니다."
      ],
      "metadata": {
        "id": "-KL2FE7Mwrte"
      }
    },
    {
      "cell_type": "markdown",
      "source": [
        "4. SOYNLP의 브랜칭 엔트로피(branching entropy)"
      ],
      "metadata": {
        "id": "ZQrp8hCMwumD"
      }
    },
    {
      "cell_type": "markdown",
      "source": [
        "Branching Entropy는 확률 분포의 엔트로피값을 사용\\\n",
        "주어진 문자열에서 얼마나 다음 문자가 등장할 수 있는지를 판단하는 척도"
      ],
      "metadata": {
        "id": "A1MHc8xRPAqi"
      }
    },
    {
      "cell_type": "markdown",
      "source": [
        "첫번째 문자는 '디'입니다. 다음에 등장할 문자를 맞춰보세요. 솔직히 가늠이 잘 안 가지요? '디'로 시작하는 단어가 얼마나 많은데요. 정답은 '스' 입니다.\n",
        "\n",
        "이제 '디스'까지 나왔네요. '디스 '다음 문자는 뭘까요? '디스카운트'라는 단어가 있으니까 '카'일까? 아니면 '디스코드'라는 단어가 있으니까 '코'인가? 생각해보니 '디스코'가 정답일 수도 있겠네요. 그러면 '코'인가? '디스아너드'라는 게임이 있으니까 '아'? 이 단어들을 생각하신 분들은 전부 틀렸습니다. 정답은 '플'이었습니다.\n",
        "\n",
        "'디스플'까지 왔습니다. 다음 문자 맞춰보세요. 이제 좀 명백해집니다. 정답은 '레'입니다. '디스플레' 다음에는 어떤 문자일까요? 정답은 '이'입니다. 제가 생각한 단어는 '디스플레이'였습니다.\n",
        "\n",
        "브랜칭 엔트로피를 주어진 문자 시퀀스에서 다음 문자 예측을 위해 헷갈리는 정도로 비유해봅시다. 브랜칭 엔트로피의 값은 하나의 완성된 단어에 가까워질수록 문맥으로 인해 점점 정확히 예측할 수 있게 되면서 점점 줄어드는 양상을 보입니다."
      ],
      "metadata": {
        "id": "kFF4Rq2HPFik"
      }
    },
    {
      "cell_type": "code",
      "source": [
        "word_score_table[\"디스\"].right_branching_entropy"
      ],
      "metadata": {
        "colab": {
          "base_uri": "https://localhost:8080/"
        },
        "id": "MGe0fGMdPV8J",
        "outputId": "daa3791b-e28c-48ea-8237-548187daa773"
      },
      "execution_count": 24,
      "outputs": [
        {
          "output_type": "execute_result",
          "data": {
            "text/plain": [
              "1.6371694761537934"
            ]
          },
          "metadata": {},
          "execution_count": 24
        }
      ]
    },
    {
      "cell_type": "code",
      "source": [
        "word_score_table[\"디스플\"].right_branching_entropy"
      ],
      "metadata": {
        "colab": {
          "base_uri": "https://localhost:8080/"
        },
        "id": "_PUMWAM8Pi5i",
        "outputId": "b6313163-b2f8-4cf9-e5b5-3990f1a458a0"
      },
      "execution_count": 25,
      "outputs": [
        {
          "output_type": "execute_result",
          "data": {
            "text/plain": [
              "-0.0"
            ]
          },
          "metadata": {},
          "execution_count": 25
        }
      ]
    },
    {
      "cell_type": "markdown",
      "source": [
        "'디스' 다음에는 다양한 문자가 올 수 있으니까 1.63이라는 값을 가지는 반면, '디스플'이라는 문자열 다음에는 다음 문자로 '레'가 오는 것이 너무나 명백하기 때문에 0이란 값을 가집니다."
      ],
      "metadata": {
        "id": "5Yl7IH6vRYN2"
      }
    },
    {
      "cell_type": "code",
      "source": [
        "word_score_table[\"디스플레이\"].right_branching_entropy"
      ],
      "metadata": {
        "colab": {
          "base_uri": "https://localhost:8080/"
        },
        "id": "KAQ1hK_DRavr",
        "outputId": "5262e841-0263-41fd-a90a-9f08d916f16b"
      },
      "execution_count": 26,
      "outputs": [
        {
          "output_type": "execute_result",
          "data": {
            "text/plain": [
              "3.1400392861792916"
            ]
          },
          "metadata": {},
          "execution_count": 26
        }
      ]
    },
    {
      "cell_type": "markdown",
      "source": [
        "갑자기 값이 증가합니다. 그 이유는 문자 시퀀스 '디스플레이'라는 문자 시퀀스 다음에는 조사나 다른 단어와 같은 다양한 경우가 있을 수 있기 때문입니다. 이는 하나의 단어가 끝나면 그 경계 부분부터 다시 브랜칭 엔트로피 값이 증가하게 됨을 의미합니다. 그리고 이 값으로 단어를 판단하는 것이 가능하겠죠?"
      ],
      "metadata": {
        "id": "wy_SBjD1Rfvh"
      }
    },
    {
      "cell_type": "markdown",
      "source": [
        "5. SOYNLP의 L tokenizer"
      ],
      "metadata": {
        "id": "sO7yni2jRh5L"
      }
    },
    {
      "cell_type": "markdown",
      "source": [
        "한국어는 띄어쓰기 단위로 나눈 어절 토큰은 주로 L 토큰 + R 토큰의 형식을 가질 때가 많습니다. 예를 들어서 '공원에'는 '공원 + 에'로 나눌 수 있겠지요. 또는 '공부하는'은 '공부 + 하는'으로 나눌 수도 있을 것입니다. L 토크나이저는 L 토큰 + R 토큰으로 나누되, 분리 기준을 점수가 가장 높은 L 토큰을 찾아내는 원리를 가지고 있습니다."
      ],
      "metadata": {
        "id": "oAuh9yz3Rjdm"
      }
    },
    {
      "cell_type": "code",
      "source": [
        "from soynlp.tokenizer import LTokenizer"
      ],
      "metadata": {
        "id": "CcJs_qauRmgj"
      },
      "execution_count": 27,
      "outputs": []
    },
    {
      "cell_type": "code",
      "source": [
        "scores = {word:score.cohesion_forward for word, score in word_score_table.items()}\n",
        "l_tokenizer = LTokenizer(scores = scores)\n",
        "l_tokenizer.tokenize(\"국제사회와 우리의 노력들로 범죄를 척결하자\", flatten=False)"
      ],
      "metadata": {
        "colab": {
          "base_uri": "https://localhost:8080/"
        },
        "id": "ahxjYlbDRuov",
        "outputId": "01c16151-e4af-41fb-b311-cf1ce26ead47"
      },
      "execution_count": 31,
      "outputs": [
        {
          "output_type": "execute_result",
          "data": {
            "text/plain": [
              "[('국제사회', '와'), ('우리', '의'), ('노력', '들로'), ('범죄', '를'), ('척결', '하자')]"
            ]
          },
          "metadata": {},
          "execution_count": 31
        }
      ]
    },
    {
      "cell_type": "markdown",
      "source": [
        "6. 최대 점수 토크나이저"
      ],
      "metadata": {
        "id": "EqPymlvMR9Jn"
      }
    },
    {
      "cell_type": "markdown",
      "source": [
        "최대 점수 토크나이저는 띄어쓰기가 되지 않는 문장에서 점수가 높은 글자 시퀀스를 순차적으로 찾아내는 토크나이저이다. \\\n",
        "띄어쓰기가 되어 있지 않은 문장을 넣어서 점수를 통해 토큰화 된 결과를 본다."
      ],
      "metadata": {
        "id": "GRddxGO4ScWD"
      }
    },
    {
      "cell_type": "code",
      "source": [
        "from soynlp.tokenizer import MaxScoreTokenizer\n",
        "\n",
        "maxscore_tokenizer = MaxScoreTokenizer(scores=scores)\n",
        "maxscore_tokenizer.tokenize(\"국제사회와우리의노력들로범죄를척결하자\")"
      ],
      "metadata": {
        "colab": {
          "base_uri": "https://localhost:8080/"
        },
        "id": "qpj-b55USp6m",
        "outputId": "0cbf784d-d02a-4c24-d1a9-0b1e69059adc"
      },
      "execution_count": 33,
      "outputs": [
        {
          "output_type": "execute_result",
          "data": {
            "text/plain": [
              "['국제사회', '와', '우리', '의', '노력', '들로', '범죄', '를', '척결', '하자']"
            ]
          },
          "metadata": {},
          "execution_count": 33
        }
      ]
    },
    {
      "cell_type": "markdown",
      "source": [
        "4. SOYNLP를 이용한 반복되는 문자 정제"
      ],
      "metadata": {
        "id": "uVZ_SncBS579"
      }
    },
    {
      "cell_type": "code",
      "source": [
        "from soynlp.normalizer import *"
      ],
      "metadata": {
        "id": "vrLYqdU-S7rt"
      },
      "execution_count": 34,
      "outputs": []
    },
    {
      "cell_type": "code",
      "source": [
        "print(emoticon_normalize('앜ㅋㅋㅋㅋ이영화존잼쓰ㅠㅠㅠㅠㅠ', num_repeats=2))\n",
        "print(emoticon_normalize('앜ㅋㅋㅋㅋㅋㅋㅋㅋㅋ이영화존잼쓰ㅠㅠㅠㅠ', num_repeats=2))\n",
        "print(emoticon_normalize('앜ㅋㅋㅋㅋㅋㅋㅋㅋㅋㅋㅋㅋ이영화존잼쓰ㅠㅠㅠㅠㅠㅠ', num_repeats=1))\n",
        "print(emoticon_normalize('앜ㅋㅋㅋㅋㅋㅋㅋㅋㅋㅋㅋㅋㅋㅋㅋㅋㅋ이영화존잼쓰ㅠㅠㅠㅠㅠㅠㅠㅠ', num_repeats=2))"
      ],
      "metadata": {
        "colab": {
          "base_uri": "https://localhost:8080/"
        },
        "id": "rrThwU5YTFTZ",
        "outputId": "a0440bd5-ba8c-4fa3-b656-17891b7fe00e"
      },
      "execution_count": 38,
      "outputs": [
        {
          "output_type": "stream",
          "name": "stdout",
          "text": [
            "아ㅋㅋ영화존잼쓰ㅠㅠ\n",
            "아ㅋㅋ영화존잼쓰ㅠㅠ\n",
            "아ㅋ영화존잼쓰ㅠ\n",
            "아ㅋㅋ영화존잼쓰ㅠㅠ\n"
          ]
        }
      ]
    },
    {
      "cell_type": "markdown",
      "source": [
        "의미없게 반복되는 것은 이모티콘에 한정되지 않는다."
      ],
      "metadata": {
        "id": "jHPdIJ75TPdI"
      }
    },
    {
      "cell_type": "code",
      "source": [
        "print(repeat_normalize('와하하하하하하하하하핫', num_repeats = 3))\n",
        "print(repeat_normalize('와하하하하하하핫', num_repeats=2))\n",
        "print(repeat_normalize('와하하하하핫', num_repeats=2))"
      ],
      "metadata": {
        "colab": {
          "base_uri": "https://localhost:8080/"
        },
        "id": "GUee6M6lTU0k",
        "outputId": "dc9e4789-8483-4a6b-ad55-0787aeac75dc"
      },
      "execution_count": 37,
      "outputs": [
        {
          "output_type": "stream",
          "name": "stdout",
          "text": [
            "와하하하핫\n",
            "와하하핫\n",
            "와하하핫\n"
          ]
        }
      ]
    },
    {
      "cell_type": "markdown",
      "source": [
        "5. Customized KoNLPy"
      ],
      "metadata": {
        "id": "ZSLCUbGgTet8"
      }
    },
    {
      "cell_type": "markdown",
      "source": [
        "영어권 언어는 띄어쓰기만해도 단어들이 잘 분리되지만, 한국어는 그렇지 않다고 앞에서 몇 차례 언급했었습니다. 한국어 데이터를 사용하여 모델을 구현하는 것만큼 이번에는 형태소 분석기를 사용해서 단어 토큰화를 해보겠습니다. 그런데 형태소 분석기를 사용할 때, 이런 상황에 봉착한다면 어떻게 해야할까요?"
      ],
      "metadata": {
        "id": "z1knPqOsTvqZ"
      }
    },
    {
      "cell_type": "markdown",
      "source": [
        "형태소 분석 입력 : '은경이는 사무실로 갔습니다.'\\\n",
        "형태소 분석 결과 : ['은', '경이', '는', '사무실', '로', '갔습니다', '.']"
      ],
      "metadata": {
        "id": "iLn2hQxrTxbv"
      }
    },
    {
      "cell_type": "markdown",
      "source": [
        "사실 위 문장에서 '은경이'는 사람 이름이므로 제대로 된 결과를 얻기 위해서는 '은', '경이'와 같이 글자가 분리되는 것이 아니라 '은경이' 또는 최소한 '은경'이라는 단어 토큰을 얻어야만 합니다. 이런 경우에는 형태소 분석기에 사용자 사전을 추가해줄 수 있습니다. '은경이'는 하나의 단어이기 때문에 분리하지말라고 형태소 분석기에 알려주는 것입니다.\n",
        "\n",
        "사용자 사전을 추가하는 방법은 형태소 분석기마다 다른데, 생각보다 복잡한 경우들이 많습니다. 이번 실습에서는 Customized Konlpy라는 사용자 사전 추가가 매우 쉬운 패키지를 사용합니다."
      ],
      "metadata": {
        "id": "-S3ZgNRGUDJH"
      }
    },
    {
      "cell_type": "code",
      "source": [
        "pip install customized_konlpy"
      ],
      "metadata": {
        "colab": {
          "base_uri": "https://localhost:8080/"
        },
        "id": "KQ8yl5A9UIPm",
        "outputId": "4f1555d4-0c29-4bac-c7f5-c26cd5450a8b"
      },
      "execution_count": 39,
      "outputs": [
        {
          "output_type": "stream",
          "name": "stdout",
          "text": [
            "Collecting customized_konlpy\n",
            "  Downloading customized_konlpy-0.0.64-py3-none-any.whl (881 kB)\n",
            "\u001b[2K     \u001b[90m━━━━━━━━━━━━━━━━━━━━━━━━━━━━━━━━━━━━━━━\u001b[0m \u001b[32m881.5/881.5 kB\u001b[0m \u001b[31m6.6 MB/s\u001b[0m eta \u001b[36m0:00:00\u001b[0m\n",
            "\u001b[?25hRequirement already satisfied: Jpype1>=0.6.1 in /usr/local/lib/python3.10/dist-packages (from customized_konlpy) (1.4.1)\n",
            "Requirement already satisfied: konlpy>=0.4.4 in /usr/local/lib/python3.10/dist-packages (from customized_konlpy) (0.6.0)\n",
            "Requirement already satisfied: packaging in /usr/local/lib/python3.10/dist-packages (from Jpype1>=0.6.1->customized_konlpy) (23.1)\n",
            "Requirement already satisfied: lxml>=4.1.0 in /usr/local/lib/python3.10/dist-packages (from konlpy>=0.4.4->customized_konlpy) (4.9.3)\n",
            "Requirement already satisfied: numpy>=1.6 in /usr/local/lib/python3.10/dist-packages (from konlpy>=0.4.4->customized_konlpy) (1.23.5)\n",
            "Installing collected packages: customized_konlpy\n",
            "Successfully installed customized_konlpy-0.0.64\n"
          ]
        }
      ]
    },
    {
      "cell_type": "markdown",
      "source": [
        "customized_konlpy에서 제공하는 형태소 분석기 Twitter를 사용하여 앞서 소개했던 예문을 단어 토큰화"
      ],
      "metadata": {
        "id": "2QMO16UTUNsj"
      }
    },
    {
      "cell_type": "code",
      "source": [
        "from ckonlpy.tag import Twitter\n",
        "twitter = Twitter()\n",
        "twitter.morphs(\"은경이는 사무실로 갔습니다.\")"
      ],
      "metadata": {
        "colab": {
          "base_uri": "https://localhost:8080/"
        },
        "id": "mOW2gk9QUSYW",
        "outputId": "64bf8429-0c90-44c9-d113-8b9f8af347ac"
      },
      "execution_count": 40,
      "outputs": [
        {
          "output_type": "stream",
          "name": "stderr",
          "text": [
            "/usr/local/lib/python3.10/dist-packages/konlpy/tag/_okt.py:17: UserWarning: \"Twitter\" has changed to \"Okt\" since KoNLPy v0.4.5.\n",
            "  warn('\"Twitter\" has changed to \"Okt\" since KoNLPy v0.4.5.')\n"
          ]
        },
        {
          "output_type": "execute_result",
          "data": {
            "text/plain": [
              "['은', '경이', '는', '사무실', '로', '갔습니다', '.']"
            ]
          },
          "metadata": {},
          "execution_count": 40
        }
      ]
    },
    {
      "cell_type": "markdown",
      "source": [
        "앞서 소개한 예시와 마찬가지로 '은경이'라는 단어가 '은', '경이'와 같이 분리됩니다. 이때, 형태소 분석기 Twitter에 add_dictionary('단어', '품사')와 같은 형식으로 사전 추가를 해줄 수 있습니다."
      ],
      "metadata": {
        "id": "b7I9BzpsUfcX"
      }
    },
    {
      "cell_type": "code",
      "source": [
        "twitter.add_dictionary('은경이', 'Noun')"
      ],
      "metadata": {
        "id": "cosImKYaUvKB"
      },
      "execution_count": 41,
      "outputs": []
    },
    {
      "cell_type": "markdown",
      "source": [
        "제대로 반영되었는지 동일한 예문을 다시 형태소 분석"
      ],
      "metadata": {
        "id": "Q5MGI9tkU0jy"
      }
    },
    {
      "cell_type": "code",
      "source": [
        "twitter.morphs(\"은경이는 사무실로 갔습니다.\")"
      ],
      "metadata": {
        "colab": {
          "base_uri": "https://localhost:8080/"
        },
        "id": "-ZRuxrdjU2YY",
        "outputId": "0a646a96-e2a2-480c-85e8-844526cf60ad"
      },
      "execution_count": 42,
      "outputs": [
        {
          "output_type": "execute_result",
          "data": {
            "text/plain": [
              "['은경이', '는', '사무실', '로', '갔습니다', '.']"
            ]
          },
          "metadata": {},
          "execution_count": 42
        }
      ]
    },
    {
      "cell_type": "markdown",
      "source": [
        "'은경이'라는 단어가 제대로 하나의 토큰으로 인식되는 것을 확인할 수 있습니다."
      ],
      "metadata": {
        "id": "6-qoRNdRU6hd"
      }
    },
    {
      "cell_type": "code",
      "source": [],
      "metadata": {
        "id": "mGbOnOHZU_Dz"
      },
      "execution_count": null,
      "outputs": []
    }
  ]
}