{
  "nbformat": 4,
  "nbformat_minor": 0,
  "metadata": {
    "colab": {
      "provenance": []
    },
    "kernelspec": {
      "name": "python3",
      "display_name": "Python 3"
    },
    "language_info": {
      "name": "python"
    }
  },
  "cells": [
    {
      "cell_type": "markdown",
      "source": [
        "# 딥 러닝을 이용한 자연어 처리 입문"
      ],
      "metadata": {
        "id": "gG-LqdGsiqul"
      }
    },
    {
      "cell_type": "markdown",
      "source": [
        "[구글 코랩에서 실행하기](https://colab.research.google.com/drive/1Zu6fPIsWkIAl3gHlRse527SQEwQHB8Oh?usp=sharing)"
      ],
      "metadata": {
        "id": "8QUfrUcXisru"
      }
    },
    {
      "cell_type": "markdown",
      "source": [
        "https://wikidocs.net/37001"
      ],
      "metadata": {
        "id": "A7OQudOziyk6"
      }
    },
    {
      "cell_type": "markdown",
      "source": [
        "06-08 벡터와 행렬 연산"
      ],
      "metadata": {
        "id": "hlCS-4Tkizlv"
      }
    },
    {
      "cell_type": "markdown",
      "source": [
        "앞서 독립 변수 x\n",
        "가 2개 이상인 선형 회귀와 로지스틱 회귀에 대해서 배웠습니다. 그런데 다음 실습인 소프트맥스 회귀에서는 종속 변수 y\n",
        "의 종류도 3개 이상이 되면서 더욱 복잡해집니다. 그리고 이러한 식들이 겹겹이 누적되면 인공 신경망의 개념이 됩니다.\n",
        "\n",
        "케라스는 사용하기가 편리해서 이런 고민을 할 일이 상대적으로 적지만, Numpy나 텐서플로우의 로우-레벨(low-level)의 머신 러닝 개발을 하게되면 각 변수들의 연산을 벡터와 행렬 연산으로 이해할 수 있어야 합니다. 다시 말해 사용자가 데이터와 변수의 개수로부터 행렬의 크기, 더 나아가 텐서의 크기를 산정할 수 있어야 합니다. 기본적인 벡터와 행렬 연산에 대해서 이해해보겠습니다."
      ],
      "metadata": {
        "id": "oftHYV3li3W_"
      }
    },
    {
      "cell_type": "markdown",
      "source": [
        "1. 벡터와 행렬과 텐서"
      ],
      "metadata": {
        "id": "QJG1vg9XjJBx"
      }
    },
    {
      "cell_type": "markdown",
      "source": [
        "벡터는 크기와 방향을 가진 양입니다. 숫자가 나열된 형상이며 파이썬에서는 1차원 배열 또는 리스트로 표현합니다. 반면, 행렬은 행과 열을 가지는 2차원 형상을 가진 구조입니다. 파이썬에서는 2차원 배열로 표현합니다. 가로줄을 행(row)라고 하며, 세로줄을 열(column)이라고 합니다. 3차원부터는 주로 텐서라고 부릅니다. 텐서는 파이썬에서는 3차원 이상의 배열로 표현합니다."
      ],
      "metadata": {
        "id": "ziiTtGBcjPMX"
      }
    },
    {
      "cell_type": "markdown",
      "source": [
        "2. 텐서(Tensor)"
      ],
      "metadata": {
        "id": "-27U_f2yjQYH"
      }
    },
    {
      "cell_type": "markdown",
      "source": [
        "인공 신경망은 복잡한 모델 내의 연산을 주로 행렬 연산을 통해 해결합니다. 그런데 여기서 말하는 행렬 연산이란 단순히 2차원 배열을 통한 행렬 연산만을 의미하는 것이 아닙니다. 머신 러닝의 입, 출력이 복잡해지면 3차원 텐서에 대한 이해가 필수로 요구됩니다. 예를 들어 인공 신경망 모델 중 하나인 RNN에서는 3차원 텐서에 대한 개념 이해 없이는 이해하기가 쉽지 않습니다."
      ],
      "metadata": {
        "id": "cwR6qhlJjUFd"
      }
    },
    {
      "cell_type": "code",
      "source": [
        "import numpy as np"
      ],
      "metadata": {
        "id": "g4EcTtiljVUy"
      },
      "execution_count": 1,
      "outputs": []
    },
    {
      "cell_type": "markdown",
      "source": [
        "1) 0차원 텐서(스칼라)"
      ],
      "metadata": {
        "id": "laVkIS5SjYXx"
      }
    },
    {
      "cell_type": "markdown",
      "source": [
        "스칼라는 하나의 실수값으로 이루어진 데이터를 말합니다. 이를 0차원 텐서라고 합니다. 차원을 영어로 Dimension이라고 하므로 0D 텐서라고도 합니다."
      ],
      "metadata": {
        "id": "vhbAAc4NjZrK"
      }
    },
    {
      "cell_type": "code",
      "source": [
        "d = np.array(5)\n",
        "print('텐서의 차원 :', d.ndim)\n",
        "print('텐서의 크기(shape) :', d.shape)"
      ],
      "metadata": {
        "colab": {
          "base_uri": "https://localhost:8080/"
        },
        "id": "Ig9Nxlshjarl",
        "outputId": "82e883f9-a58d-4be2-a2aa-b4a41ca92e12"
      },
      "execution_count": 2,
      "outputs": [
        {
          "output_type": "stream",
          "name": "stdout",
          "text": [
            "텐서의 차원 : 0\n",
            "텐서의 크기(shape) : ()\n"
          ]
        }
      ]
    },
    {
      "cell_type": "markdown",
      "source": [
        "Numpy의 ndim을 출력했을 때 나오는 값에 주목합시다. ndim을 출력했을 때 나오는 값을 우리는 축(axis)의 개수 또는 텐서의 차원이라고 부릅니다. 반드시 이 두 용어를 기억해둡시다."
      ],
      "metadata": {
        "id": "nMULss62jg_9"
      }
    },
    {
      "cell_type": "markdown",
      "source": [
        "2) 1차원 텐서(벡터)"
      ],
      "metadata": {
        "id": "r8les0nzjkmk"
      }
    },
    {
      "cell_type": "markdown",
      "source": [
        "숫자를 배열한 것을 벡터라고합니다. 벡터는 1차원 텐서입니다. 주의할 점은 벡터에서도 차원이라는 용어를 쓰는데, 벡터의 차원과 텐서의 차원은 다른 개념이라는 점입니다. 아래의 예제는 4차원 벡터이지만, 1차원 텐서입니다. 1D 텐서라고도 합니다."
      ],
      "metadata": {
        "id": "IbQ5Oiksjn6f"
      }
    },
    {
      "cell_type": "code",
      "source": [
        "d = np.array([1, 2, 3, 4])\n",
        "print('텐서의 차원 :', d.ndim)\n",
        "print('텐서의 크기(shape) :', d.shape)"
      ],
      "metadata": {
        "colab": {
          "base_uri": "https://localhost:8080/"
        },
        "id": "duwP3SYVjo4-",
        "outputId": "9bddb73b-1129-4068-83ba-7591edde0b75"
      },
      "execution_count": 3,
      "outputs": [
        {
          "output_type": "stream",
          "name": "stdout",
          "text": [
            "텐서의 차원 : 1\n",
            "텐서의 크기(shape) : (4,)\n"
          ]
        }
      ]
    },
    {
      "cell_type": "markdown",
      "source": [
        "벡터의 차원과 텐서의 차원의 정의로 인해 혼동할 수 있는데 벡터에서의 차원은 하나의 축에 놓인 원소의 개수를 의미하는 것이고, 텐서에서의 차원은 축의 개수를 의미합니다."
      ],
      "metadata": {
        "id": "O4LZpDSVjw6A"
      }
    },
    {
      "cell_type": "markdown",
      "source": [
        "3) 2차원 텐서(행렬)"
      ],
      "metadata": {
        "id": "k6IKgaosjzqJ"
      }
    },
    {
      "cell_type": "markdown",
      "source": [
        "행과 열이 존재하는 벡터의 배열. 즉, 행렬(matrix)을 2차원 텐서라고 합니다. 2D 텐서라고도 합니다."
      ],
      "metadata": {
        "id": "qKlO7eV6j1DI"
      }
    },
    {
      "cell_type": "code",
      "source": [
        "# 3행 4열의 행렬\n",
        "d = np.array([[1, 2, 3, 4], [5, 6, 7, 8], [9, 10, 11, 12]])\n",
        "print('텐서의 차원 :', d.ndim)\n",
        "print('텐서의 크기(shape) :', d.shape)"
      ],
      "metadata": {
        "colab": {
          "base_uri": "https://localhost:8080/"
        },
        "id": "EoxroG3rj2Ke",
        "outputId": "603f7b3c-69ff-4954-ee93-7e4d68b20545"
      },
      "execution_count": 4,
      "outputs": [
        {
          "output_type": "stream",
          "name": "stdout",
          "text": [
            "텐서의 차원 : 2\n",
            "텐서의 크기(shape) : (3, 4)\n"
          ]
        }
      ]
    },
    {
      "cell_type": "markdown",
      "source": [
        "텐서의 크기(shape)에 대해서도 정리합시다. 텐서의 크기란, 각 축을 따라서 얼마나 많은 차원이 있는지를 나타낸 값입니다. 텐서의 크기를 바로 머릿속으로 떠올릴 수 있으면 모델 설계 시에 유용합니다. 처음에는 어려울 수도 있는데, 순차적으로 확장해나가며 생각하는 것도 방법입니다. 위의 경우 3개의 커다란 데이터가 있는데 그 각각의 커다란 데이터는 작은 데이터 4개로 이루어졌다고 생각할 수 있습니다."
      ],
      "metadata": {
        "id": "37X8u80rkJPO"
      }
    },
    {
      "cell_type": "markdown",
      "source": [
        "4) 3차원 텐서(다차원 배열)"
      ],
      "metadata": {
        "id": "C3J52DvvkKr-"
      }
    },
    {
      "cell_type": "markdown",
      "source": [
        "행렬 또는 2차원 텐서를 단위로 한 번 더 배열하면 3차원 텐서라고 부릅니다. 3D 텐서라고도 합니다. 사실 위에서 언급한 0차원 ~ 2차원 텐서는 각각 스칼라, 벡터, 행렬이라고 해도 무방하므로 3차원 이상의 텐서부터 본격적으로 텐서라고 부릅니다. 데이터 사이언스 분야 한정으로 주로 3차원 이상의 배열을 텐서라고 부른다고 이해해도 좋습니다. 3D 텐서는 적어도 여기서는 3차원 배열로 이해하면 되겠습니다. 이 3차원 텐서의 구조를 이해하지 않으면, 복잡한 인공 신경망의 입, 출력값을 이해하는 것이 쉽지 않습니다. 개념 자체는 어렵지 않지만 반드시 알아야하는 개념입니다."
      ],
      "metadata": {
        "id": "wCVZyNLEkMWG"
      }
    },
    {
      "cell_type": "code",
      "source": [
        "d = np.array([\n",
        "    [[1, 2, 3, 4, 5], [6, 7, 8, 9, 10], [10, 11, 12, 13, 14]],\n",
        "    [[15, 16, 17, 18, 19], [19, 20, 21, 22, 23], [23, 24, 25, 26, 27]]\n",
        "    ])"
      ],
      "metadata": {
        "id": "Y2uBwK-8kSU5"
      },
      "execution_count": 5,
      "outputs": []
    },
    {
      "cell_type": "code",
      "source": [
        "print('텐서의 차원 :', d.ndim)\n",
        "print('텐서의 크기(shape) :', d.shape)"
      ],
      "metadata": {
        "colab": {
          "base_uri": "https://localhost:8080/"
        },
        "id": "9Jr3Kd9nlyW3",
        "outputId": "c7ae26bb-bae4-442e-9e7b-1549d0086d12"
      },
      "execution_count": 6,
      "outputs": [
        {
          "output_type": "stream",
          "name": "stdout",
          "text": [
            "텐서의 차원 : 3\n",
            "텐서의 크기(shape) : (2, 3, 5)\n"
          ]
        }
      ]
    },
    {
      "cell_type": "markdown",
      "source": [
        "자연어 처리에서 특히 자주 보게 되는 것이 이 3D 텐서입니다. 3D 텐서는 시퀀스 데이터(sequence data)를 표현할 때 자주 사용되기 때문입니다. 여기서 시퀀스 데이터는 주로 단어의 시퀀스를 의미하며, 시퀀스는 주로 문장이나 문서, 뉴스 기사 등의 텍스트가 될 수 있습니다. 이 경우 3D 텐서는 (samples, timesteps, word_dim)이 됩니다. 또는 일괄로 처리하기 위해 데이터를 묶는 단위인 배치의 개념에 대해서 뒤에서 배울텐데 (batch_size, timesteps, word_dim)이라고도 볼 수 있습니다."
      ],
      "metadata": {
        "id": "DvBdZWvemPTw"
      }
    },
    {
      "cell_type": "markdown",
      "source": [
        "samples 또는 batch_size는 샘플의 개수, timesteps는 시퀀스의 길이, word_dim은 단어를 표현하는 벡터의 차원을 의미합니다. 더 상세한 설명은 RNN 챕터에서 배우게 되겠지만 자연어 처리에서 왜 3D 텐서의 개념이 사용되는지 간단한 예를 들어봅시다. 다음과 같은 3개의 훈련 데이터가 있다고 해봅시다."
      ],
      "metadata": {
        "id": "wcDCBD-LmR8y"
      }
    },
    {
      "cell_type": "markdown",
      "source": [
        "문서1 : I like NLP\\\n",
        "문서2 : I like DL\\\n",
        "문서3 : DL is AI"
      ],
      "metadata": {
        "id": "uMntlPoWmTYT"
      }
    },
    {
      "cell_type": "markdown",
      "source": [
        "이를 인공 신경망의 모델의 입력으로 사용하기 위해서는 각 단어를 벡터화해야 합니다. 단어를 벡터화하는 방법으로는 원-핫 인코딩이나 워드 임베딩이라는 방법이 대표적입니다. 워드 임베딩은 아직 배우지 않았으므로 원-핫 인코딩으로 각 단어를 벡터화 해보겠습니다."
      ],
      "metadata": {
        "id": "guJX5GO8mUmY"
      }
    },
    {
      "cell_type": "markdown",
      "source": [
        "단어\tOne-hot vector\n",
        "I\t[1 0 0 0 0 0]\n",
        "like\t[0 1 0 0 0 0]\n",
        "NLP\t[0 0 1 0 0 0]\n",
        "DL\t[0 0 0 1 0 0]\n",
        "is\t[0 0 0 0 1 0]\n",
        "AI\t[0 0 0 0 0 1]"
      ],
      "metadata": {
        "id": "rmJRztLFmXdn"
      }
    },
    {
      "cell_type": "markdown",
      "source": [
        "훈련 데이터의 단어들을 모두 원-핫 벡터로 바꿔서 인공 신경망의 입력으로 한 꺼번에 사용한다고 하면 다음과 같습니다. 이렇게 훈련 데이터를 다수 묶어 입력으로 사용하는 것을 딥 러닝에서는 배치(Batch)라고 합니다."
      ],
      "metadata": {
        "id": "PZwT89esmZN5"
      }
    },
    {
      "cell_type": "markdown",
      "source": [
        "[[[1, 0, 0, 0, 0, 0], [0, 1, 0, 0, 0, 0], [0, 0, 1, 0, 0, 0]],  \n",
        "[[1, 0, 0, 0, 0, 0], [0, 1, 0, 0, 0, 0], [0, 0, 0, 1, 0, 0]],  \n",
        "[[0, 0, 0, 1, 0, 0], [0, 0, 0, 0, 1, 0], [0, 0, 0, 0, 0, 1]]]  "
      ],
      "metadata": {
        "id": "MAN7tndtmbQJ"
      }
    },
    {
      "cell_type": "markdown",
      "source": [
        "이는 (3, 3, 6)의 크기를 가지는 3D 텐서입니다."
      ],
      "metadata": {
        "id": "K56n4uGPmduz"
      }
    },
    {
      "cell_type": "markdown",
      "source": [
        "5) 그 이상의 텐서"
      ],
      "metadata": {
        "id": "T-uuhpD3mfnL"
      }
    },
    {
      "cell_type": "markdown",
      "source": [
        "3차원 텐서를 배열로 합치면 4차원 텐서가 됩니다. 4차원 텐서를 배열로 합치면 5차원 텐서가 됩니다. 이렇게 텐서는 다차원 배열로서 계속해서 확장될 수 있습니다.\n",
        "\n"
      ],
      "metadata": {
        "id": "dteU045-mhQi"
      }
    },
    {
      "cell_type": "markdown",
      "source": [
        "![image.png](data:image/png;base64,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)"
      ],
      "metadata": {
        "id": "LccXT72vmiR8"
      }
    },
    {
      "cell_type": "markdown",
      "source": [
        "6) 케라스에서의 텐서"
      ],
      "metadata": {
        "id": "lqxR3ec9mjWD"
      }
    },
    {
      "cell_type": "markdown",
      "source": [
        "앞서 Numpy로 각 텐서의 ndim(차원)과 shape(크기)를 출력했었습니다. 예를 들어 위의 예제에서는 3차원 텐서의 크기(shape)는 (2, 3, 5)였습니다. 케라스에서는 신경망의 층에 입력의 크기(shape)를 인자로 줄 때 input_shape라는 인자를 사용합니다.\n",
        "\n",
        "실제 예시는 뒤 챕터들에서 보겠지만 input_shape는 배치 크기를 제외하고 차원을 지정하는데, 예를 들어 input_shape(6, 5)라는 인자값을 사용한다면 이 텐서의 크기는 (?, 6, 5)을 의미합니다. 배치 크기는 지정해주기 전까지는 알 수 없기때문에 ?가 됩니다. 만약 배치 크기까지 지정해주고 싶다면 batch_input_shape=(8, 2, 10)와 같이 인자를 주면 이 텐서의 크기는 (8, 2, 10)을 의미합니다.\n",
        "\n",
        "그 외에도 입력의 속성 수를 의미하는 input_dim, 시퀀스 데이터의 길이를 의미하는 input_length 등의 인자도 사용하는데, input_shape의 두 개의 인자는 (input_length, input_dim)입니다."
      ],
      "metadata": {
        "id": "rIAtmbH2mmuR"
      }
    },
    {
      "cell_type": "markdown",
      "source": [
        "3. 벡터와 행렬의 연산"
      ],
      "metadata": {
        "id": "Am4KCQuWmomv"
      }
    },
    {
      "cell_type": "markdown",
      "source": [
        "벡터와 행렬의 기본적인 연산에 대해서 알아보겠습니다."
      ],
      "metadata": {
        "id": "u_IMD-qRmqKJ"
      }
    },
    {
      "cell_type": "code",
      "source": [
        "import numpy as np\n"
      ],
      "metadata": {
        "id": "DLCRC4Q2mrZf"
      },
      "execution_count": 7,
      "outputs": []
    },
    {
      "cell_type": "markdown",
      "source": [
        "1) 벡터와 행렬의 덧셈과 뺄셈"
      ],
      "metadata": {
        "id": "i0JMTf6Bmtma"
      }
    },
    {
      "cell_type": "markdown",
      "source": [
        "같은 크기의 두 개의 벡터나 행렬은 덧셈과 뺄셈을 할 수 있습니다. 이 경우 같은 위치의 원소끼리 연산하면 됩니다. 이러한 연산을 요소별(element-wise) 연산이라고 합니다. 다음과 같이 A와 B라는 두 개의 벡터가 있다고 해봅시다."
      ],
      "metadata": {
        "id": "2BVLEem_m4ib"
      }
    },
    {
      "cell_type": "markdown",
      "source": [
        "이때 두 벡터 A와 B의 덧셈과 뺄셈은 아래와 같습니다."
      ],
      "metadata": {
        "id": "4vcOCsxvm8FR"
      }
    },
    {
      "cell_type": "code",
      "source": [
        "A = np.array([8, 4, 5])\n",
        "B = np.array([1, 2, 3])\n",
        "print('두 벡터의 합 :', A+B)\n",
        "print('두 벡터의 차 :', A-B)"
      ],
      "metadata": {
        "colab": {
          "base_uri": "https://localhost:8080/"
        },
        "id": "J6A9R-xinAyA",
        "outputId": "df5265d0-0130-4a30-9bbc-0d5b6848f3d8"
      },
      "execution_count": 8,
      "outputs": [
        {
          "output_type": "stream",
          "name": "stdout",
          "text": [
            "두 벡터의 합 : [9 6 8]\n",
            "두 벡터의 차 : [7 2 2]\n"
          ]
        }
      ]
    },
    {
      "cell_type": "code",
      "source": [
        "A = np.array([[10, 20, 30, 40], [50, 60, 70, 80]])\n",
        "B = np.array([[5, 6, 7, 8], [1, 2, 3, 4]])\n",
        "print('두 행렬의 합 :')\n",
        "print(A + B)\n",
        "print('두 행렬의 차 :')\n",
        "print(A - B)"
      ],
      "metadata": {
        "id": "BMb5FpTlnN7Q",
        "colab": {
          "base_uri": "https://localhost:8080/"
        },
        "outputId": "d1a42204-ffd7-4d75-936f-3c3f6f9c219b"
      },
      "execution_count": 9,
      "outputs": [
        {
          "output_type": "stream",
          "name": "stdout",
          "text": [
            "두 행렬의 합 :\n",
            "[[15 26 37 48]\n",
            " [51 62 73 84]]\n",
            "두 행렬의 차 :\n",
            "[[ 5 14 23 32]\n",
            " [49 58 67 76]]\n"
          ]
        }
      ]
    },
    {
      "cell_type": "markdown",
      "source": [
        "2) 벡터의 내적과 행렬의 곱셈"
      ],
      "metadata": {
        "id": "2t9UiZRRFNkq"
      }
    },
    {
      "cell_type": "markdown",
      "source": [
        "벡터의 점곱(dot product) 또는 내적(inner product)에 대해 알아봅시다. 벡터의 내적은 연산을 점(dot)으로 표현하여 a \\cdot b\n",
        "와 같이 표현하기도 합니다.\n",
        "\n",
        "내적이 성립하기 위해서는 두 벡터의 차원이 같아야 하며, 두 벡터 중 앞의 벡터가 행벡터(가로 방향 벡터)이고 뒤의 벡터가 열벡터(세로 방향 벡터)여야 합니다. 아래는 두 벡터의 차원이 같고 곱셈의 대상이 각각 행벡터이고 열벡터일 때 내적이 이루어지는 모습을 보여줍니다. 벡터의 내적의 결과는 스칼라가 된다는 특징이 있습니다."
      ],
      "metadata": {
        "id": "lmraTpYCFS_z"
      }
    },
    {
      "cell_type": "markdown",
      "source": [
        "A \\cdot B =\n",
        "\\left[\n",
        "    \\begin{array}{c}\n",
        "      1\\ 2\\ 3\n",
        "    \\end{array}\n",
        "  \\right]\n",
        "\\left[\n",
        "    \\begin{array}{c}\n",
        "      4 \\\\\n",
        "      5 \\\\\n",
        "      6 \\\\\n",
        "    \\end{array}\n",
        "  \\right]\n",
        "= 1 × 4 + 2 × 5 + 3 × 6 = 32\\text{(스칼라)}"
      ],
      "metadata": {
        "id": "DurBOt2mFVkp"
      }
    },
    {
      "cell_type": "code",
      "source": [
        "A = np.array([1, 2, 3])\n",
        "B = np.array([4, 5, 6])\n",
        "print('두 벡터의 내적 :', np.dot(A,B))"
      ],
      "metadata": {
        "colab": {
          "base_uri": "https://localhost:8080/"
        },
        "id": "bN-W1PENFc7_",
        "outputId": "38ad27c9-4092-4bac-932a-2bb918b9be13"
      },
      "execution_count": 10,
      "outputs": [
        {
          "output_type": "stream",
          "name": "stdout",
          "text": [
            "두 벡터의 내적 : 32\n"
          ]
        }
      ]
    },
    {
      "cell_type": "markdown",
      "source": [
        "행렬의 곱셈을 이해하기 위해서는 벡터의 내적을 이해해야 합니다. 행렬의 곱셈은 왼쪽 행렬의 행벡터(가로 방향 벡터)와 오른쪽 행렬의 열벡터(세로 방향 벡터)의 내적(대응하는 원소들의 곱의 합)이 결과 행렬의 원소가 되는 것으로 이루어집니다. 다음과 같이 A와 B라는 두 개의 행렬이 있다고 하였을 때, 두 행렬 A와 B의 행렬의 곱셈은 아래와 같습니다."
      ],
      "metadata": {
        "id": "yHUFoWA_FmkB"
      }
    },
    {
      "cell_type": "code",
      "source": [
        "A = np.array([[1, 3], [2, 4]])\n",
        "B = np.array([[5, 7], [6, 8]])\n",
        "print('두 행렬의 행렬곱 :')\n",
        "print(np.matmul(A, B))"
      ],
      "metadata": {
        "colab": {
          "base_uri": "https://localhost:8080/"
        },
        "id": "WFPcuhqzGdy7",
        "outputId": "ec0ed5e7-9d28-4b3b-a4e6-12bc9f9dfe62"
      },
      "execution_count": 11,
      "outputs": [
        {
          "output_type": "stream",
          "name": "stdout",
          "text": [
            "두 행렬의 행렬곱 :\n",
            "[[23 31]\n",
            " [34 46]]\n"
          ]
        }
      ]
    },
    {
      "cell_type": "markdown",
      "source": [
        "행렬의 곱셈은 딥 러닝을 이해하기 위해 필수적인 개념이므로 반드시 숙지해야 합니다. 행렬 곱셈에서의 주요한 두 가지 조건 또한 반드시 기억해둡시다."
      ],
      "metadata": {
        "id": "wLmkJ0fRGp0V"
      }
    },
    {
      "cell_type": "markdown",
      "source": [
        "두 행렬의 곱 A × B이 성립되기 위해서는 행렬 A의 열의 개수와 행렬 B의 행의 개수는 같아야 한다.\n",
        "두 행렬의 곱 A × B의 결과로 나온 행렬 AB의 크기는 A의 행의 개수와 B의 열의 개수를 가진다.\n",
        "벡터와 행렬의 곱 또는 행렬과 벡터의 곱 또한 행렬의 곱셈과 동일한 원리로 이루어집니다."
      ],
      "metadata": {
        "id": "R4pX0tsjGtN_"
      }
    },
    {
      "cell_type": "markdown",
      "source": [
        "4. 다중 선형 회귀 행렬 연산으로 이해하기"
      ],
      "metadata": {
        "id": "4hlm4jL8Gu52"
      }
    },
    {
      "cell_type": "markdown",
      "source": [
        "독립 변수가 2개 이상일 때, 1개의 종속 변수를 예측하는 문제를 행렬의 연산으로 표현한다면 어떻게 될까요? 다중 선형 회귀나 다중 로지스틱 회귀가 이러한 연산의 예인데, 여기서는 다중 선형 회귀를 통해 예를 들어보겠습니다. 다음은 독립 변수 x\n",
        "가 n개인 다중 선형 회귀 수식입니다."
      ],
      "metadata": {
        "id": "KhO32a8tGxu-"
      }
    },
    {
      "cell_type": "markdown",
      "source": [
        "y = w_1x_1 + w_2x_2 + w_3x_3 + ... + w_nx_n + b"
      ],
      "metadata": {
        "id": "YzXPc-_IG4U8"
      }
    },
    {
      "cell_type": "markdown",
      "source": [
        "샘플의 개수가 많을 경우에는 행렬의 곱셈으로 표현이 가능합니다. 다음은 집의 크기, 방의 수, 층의 수, 집이 얼마나 오래되었는지와 집의 가격이 기록된 부동산 데이터라고 가정합시다. 해당 데이터를 학습하여 새로운 집의 정보가 들어왔을 때, 집의 가격을 예측하는 모델을 구현한다고 해봅시다."
      ],
      "metadata": {
        "id": "d1SkfP3uG7-N"
      }
    },
    {
      "cell_type": "markdown",
      "source": [
        "size(\n",
        ")(\n",
        ")\tnumber of bedrooms(\n",
        ")\tnumber of floors(\n",
        ")\tage of home(\n",
        ")\tprice($1000)(y)\n",
        "1800\t2\t1\t10\t207\n",
        "1200\t4\t2\t20\t176\n",
        "1700\t3\t2\t15\t213\n",
        "1500\t5\t1\t10\t234\n",
        "1100\t2\t2\t10\t155"
      ],
      "metadata": {
        "id": "x8njUGgUHYIR"
      }
    },
    {
      "cell_type": "markdown",
      "source": [
        "위 데이터에 대해서 입력 행렬\n",
        "와 가중치 벡터\n",
        "의 곱으로 표현하면 다음과 같습니다.\n",
        "\n",
        "\n",
        "\n",
        "\n",
        "\n",
        "여기에 편향 벡터\n",
        "를 더 해주면 위 데이터에 대한 전체 가설 수식\n",
        "를 표현할 수 있습니다."
      ],
      "metadata": {
        "id": "WmGj2aT-HZhK"
      }
    },
    {
      "cell_type": "markdown",
      "source": [
        "5. 샘플(Sample)과 특성(Feature)"
      ],
      "metadata": {
        "id": "2WCnXQoJHbHw"
      }
    },
    {
      "cell_type": "markdown",
      "source": [
        "훈련 데이터의 입력 행렬을 X\n",
        "라고 하였을 때 샘플(Sample)과 특성(Feature)의 정의는 다음과 같습니다."
      ],
      "metadata": {
        "id": "CQ6ouYgQHdOT"
      }
    },
    {
      "cell_type": "markdown",
      "source": [
        "![image.png](data:image/png;base64,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)"
      ],
      "metadata": {
        "id": "YrZI2wO_HfZ2"
      }
    },
    {
      "cell_type": "markdown",
      "source": [
        "머신 러닝에서는 데이터를 셀 수 있는 단위로 구분할 때, 각각을 샘플이라고 부르며, 종속 변수 y\n",
        "를 예측하기 위한 각각의 독립 변수 x\n",
        "를 특성이라고 부릅니다."
      ],
      "metadata": {
        "id": "fOcDGyJTHgo9"
      }
    },
    {
      "cell_type": "markdown",
      "source": [
        "6. 가중치와 편향 행렬의 크기 결정"
      ],
      "metadata": {
        "id": "cC9kyoiqHk9L"
      }
    },
    {
      "cell_type": "markdown",
      "source": [
        "앞서 언급하였던 행렬 곱셈의 두 가지 주요한 조건을 기억해둡시다.\n",
        "\n",
        "두 행렬의 곱 J × K이 성립되기 위해서는 행렬 J의 열의 개수와 행렬 K의 행의 개수는 같아야 한다.\n",
        "두 행렬의 곱 J × K의 결과로 나온 행렬 JK의 크기는 J의 행의 개수와 K의 열의 개수를 가진다.\n",
        "이로부터 입력과 출력의 행렬의 크기로부터 가중치 행렬 W와 편향 행렬 B의 크기를 찾아낼 수 있습니다. 독립 변수 행렬을 X, 종속 변수 행렬을 Y라고 하였을 때, 이때 행렬 X를 입력 행렬(Input Matrix), Y를 출력 행렬(Output Matrix)이라고 합시다."
      ],
      "metadata": {
        "id": "tLdmK5vfHmRp"
      }
    },
    {
      "cell_type": "markdown",
      "source": [
        "두 행렬의 곱의 결과로서 나온 행렬의 열의 크기는 행렬의 곱셈에서 뒤에 있는 행렬의 열의 크기와 동일합니다. 그러므로 출력 행렬 Y로부터 W행렬의 열의 크기가 결정됩니다. 입력 행렬과 출력 행렬의 크기로부터 가중치 행렬과 편향 행렬의 크기를 추정할 수 있다면, 딥 러닝 모델을 구현하였을 때 해당 모델에 존재하는 총 매개변수의 개수를 계산하기 쉽습니다. 어떤 딥 러닝 모델의 총 매개변수의 개수는 해당 모델에 존재하는 가중치 행렬과 편향 행렬의 모든 원소의 수이기 때문입니다."
      ],
      "metadata": {
        "id": "xvtK7APBHn7w"
      }
    },
    {
      "cell_type": "code",
      "source": [],
      "metadata": {
        "id": "d2ZehtsiHtwl"
      },
      "execution_count": null,
      "outputs": []
    }
  ]
}