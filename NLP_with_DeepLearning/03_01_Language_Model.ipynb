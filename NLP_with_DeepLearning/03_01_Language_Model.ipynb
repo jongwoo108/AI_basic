{
  "nbformat": 4,
  "nbformat_minor": 0,
  "metadata": {
    "colab": {
      "provenance": []
    },
    "kernelspec": {
      "name": "python3",
      "display_name": "Python 3"
    },
    "language_info": {
      "name": "python"
    }
  },
  "cells": [
    {
      "cell_type": "markdown",
      "source": [
        "# 딥 러닝을 이용한 자연어 처리 입문"
      ],
      "metadata": {
        "id": "wAEyDNQGo7yn"
      }
    },
    {
      "cell_type": "markdown",
      "source": [
        "[구글 코랩에서 실행하기](https://colab.research.google.com/drive/1xuHpFSTSx2logpaMuje9uqkvx8D2yZwp?usp=sharing)"
      ],
      "metadata": {
        "id": "_IlSm6vCpQpY"
      }
    },
    {
      "cell_type": "markdown",
      "source": [
        "https://wikidocs.net/21695"
      ],
      "metadata": {
        "id": "k0tsGHdIpXAK"
      }
    },
    {
      "cell_type": "markdown",
      "source": [
        "언어 모델(Languagel Model)이란 단어 시퀀스(문장)에 확률을 할당하는 모델을 말합니다. 어떤 문장들이 있을 때, 기계가 이 문장은 적절해! 이 문장은 말이 안 돼! 라고 사람처럼 정확히 판단할 수 있다면, 기계의 자연어 처리의 성능이 뛰어나다 할 수 있습니다.\n"
      ],
      "metadata": {
        "id": "xe6yGbWxpZaK"
      }
    },
    {
      "cell_type": "markdown",
      "source": [
        "03-01 언어 모델(Language Model)이란?"
      ],
      "metadata": {
        "id": "nn00NfDhpduy"
      }
    },
    {
      "cell_type": "markdown",
      "source": [
        "언어 모델은 가장 자연스러운 단어 시퀀스를 찾아내는 모델입니다. 단어 시퀀스에 확률을 할당하게 하기 위해서 가장 보편적으로 사용되는 방법은 언어 모델이 이전 단어들이 주어졌을 때 다음 단어를 예측하도록 하는 것"
      ],
      "metadata": {
        "id": "Ke-vdfaRpiS7"
      }
    },
    {
      "cell_type": "markdown",
      "source": [
        "언어 모델에 -ing를 붙인 언어 모델링(Language Modeling)은 주어진 단어들로부터 아직 모르는 단어를 예측하는 작업\\\n",
        "언어 모델이 이전 단어들로부터 다음 단어를 예측하는 일은 언어 모델링"
      ],
      "metadata": {
        "id": "S0K7TAwLqFiu"
      }
    },
    {
      "cell_type": "markdown",
      "source": [
        "2. 단어 시퀀스의 확률 할당"
      ],
      "metadata": {
        "id": "5p9Dyao0qPeF"
      }
    },
    {
      "cell_type": "markdown",
      "source": [
        "a. 기계 번역(Machine Translation):\\\n",
        "P(나는 버스를 탔다) > P(나는 버스를 태운다)\\\n",
        ": 언어 모델은 두 문장을 비교하여 좌측의 문장의 확률이 더 높다고 판단합니다."
      ],
      "metadata": {
        "id": "NMc0nV0_qUBf"
      }
    },
    {
      "cell_type": "markdown",
      "source": [
        "b. 오타 교정(Spell Correction)\\\n",
        "선생님이 교실로 부리나케  \\\n",
        "P(달려갔다) > P(잘려갔다)  \\\n",
        ": 언어 모델은 두 문장을 비교하여 좌측의 문장의 확률이 더 높다고 판단합니다."
      ],
      "metadata": {
        "id": "f_F_hNVEqXbm"
      }
    },
    {
      "cell_type": "markdown",
      "source": [
        "c. 음성 인식(Speech Recognition)\\\n",
        "P(나는 메롱을 먹는다) < P(나는 메론을 먹는다)\\\n",
        ": 언어 모델은 두 문장을 비교하여 우측의 문장의 확률이 더 높다고 판단합니다.\n",
        "\n",
        "언어 모델은 위와 같이 확률을 통해 보다 적절한 문장을 판단합니다."
      ],
      "metadata": {
        "id": "Mf-UnpdQqceX"
      }
    },
    {
      "cell_type": "markdown",
      "source": [
        "3. 주어진 이전 단어들로부터 다음 단어 예측하기"
      ],
      "metadata": {
        "id": "-wOXRJrLqlT0"
      }
    },
    {
      "cell_type": "markdown",
      "source": [
        "언어 모델은 단어 시퀀스에 확률을 할당하는 모델입니다. 그리고 단어 시퀀스에 확률을 할당하기 위해서 가장 보편적으로 사용하는 방법은 이전 단어들이 주어졌을 때, 다음 단어를 예측하도록 하는 것입니다. 이를 조건부 확률로 표현해보겠습니다."
      ],
      "metadata": {
        "id": "SVlECtjTqopb"
      }
    },
    {
      "cell_type": "markdown",
      "source": [
        "A. 단어 시퀀스의 확률\n",
        "하나의 단어를 w\n",
        ", 단어 시퀀스를 대문자 W\n",
        "라고 한다면, n\n",
        "개의 단어가 등장하는 단어 시퀀스\n",
        "W의 확률은 다음과 같습니다.\n",
        "\n",
        "P(W) = P(w1, w2, w3, w4, w5, .....,wn)"
      ],
      "metadata": {
        "id": "YoQhUU0gq8rF"
      }
    },
    {
      "cell_type": "markdown",
      "source": [
        "B. 다음 단어 등장 확률\\\n",
        "\n",
        "다음 단어 등장 확률을 식으로 표현해보겠습니다.\n",
        "n-1개의 단어가 나열된 상태에서\n",
        "n번째 단어의 확률은 다음과 같습니다.\n",
        "\n",
        "P(wn| w1,..,wn-1)\n",
        "\n",
        "|의 기호는 조건부 확률(conditional probability)을 의미합니다.\n",
        "\n",
        "예를 들어 다섯번째 단어의 확률은 아래와 같습니다.\n",
        "P(w5| w1,..,w4)\n",
        "\n",
        "전체 단어 시퀀스\n",
        "W의 확률은 모든 단어가 예측되고 나서야 알 수 있으므로 단어 시퀀스의 확률은 다음과 같습니다.\n",
        "\n",
        "P(W) = P(w1, w2, w3, w4, w5, .....,wn)"
      ],
      "metadata": {
        "id": "x5eeBiUVrGQE"
      }
    },
    {
      "cell_type": "markdown",
      "source": [
        "4. 언어 모델의 간단한 직관"
      ],
      "metadata": {
        "id": "ANxV5wqzsznR"
      }
    },
    {
      "cell_type": "markdown",
      "source": [
        "비행기를 타려고 공항에 갔는데 지각을 하는 바람에 비행기를 [?]라는 문장이 있습니다. '비행기를' 다음에 어떤 단어가 오게 될지 사람은 쉽게 '놓쳤다'라고 예상할 수 있습니다. 우리 지식에 기반하여 나올 수 있는 여러 단어들을 후보에 놓고 놓쳤다는 단어가 나올 확률이 가장 높다고 판단하였기 때문입니다.\n",
        "\n",
        "그렇다면 기계에게 위 문장을 주고, '비행기를' 다음에 나올 단어를 예측해보라고 한다면 과연 어떻게 최대한 정확히 예측할 수 있을까요? 기계도 비슷합니다. 앞에 어떤 단어들이 나왔는지 고려하여 후보가 될 수 있는 여러 단어들에 대해서 확률을 예측해보고 가장 높은 확률을 가진 단어를 선택합니다. 앞에 어떤 단어들이 나왔는지 고려하여 후보가 될 수 있는 여러 단어들에 대해서 등장 확률을 추정하고 가장 높은 확률을 가진 단어를 선택합니다."
      ],
      "metadata": {
        "id": "F_PzZ4H0s1t4"
      }
    },
    {
      "cell_type": "markdown",
      "source": [
        "5. 검색 엔진에서의 언어 모델의 예"
      ],
      "metadata": {
        "id": "4zmVb8aqs4mT"
      }
    },
    {
      "cell_type": "markdown",
      "source": [
        "검색 엔진이 입력된 단어들의 나열에 대해서 다음 단어를 예측하는 언어 모델을 사용하고 있습니다."
      ],
      "metadata": {
        "id": "tVjQ6uGos6OJ"
      }
    },
    {
      "cell_type": "code",
      "source": [],
      "metadata": {
        "id": "FLWq0j4Os8by"
      },
      "execution_count": null,
      "outputs": []
    }
  ]
}