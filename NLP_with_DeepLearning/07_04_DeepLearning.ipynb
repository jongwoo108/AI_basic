{
  "nbformat": 4,
  "nbformat_minor": 0,
  "metadata": {
    "colab": {
      "provenance": []
    },
    "kernelspec": {
      "name": "python3",
      "display_name": "Python 3"
    },
    "language_info": {
      "name": "python"
    }
  },
  "cells": [
    {
      "cell_type": "markdown",
      "source": [
        "# 딥 러닝을 이용한 자연어 처리 입문"
      ],
      "metadata": {
        "id": "rXj-U-V6kvLt"
      }
    },
    {
      "cell_type": "markdown",
      "source": [
        "[구글 코랩에서 실행하기](https://colab.research.google.com/drive/16vVC57za6GRjPaehuvYn_QjParopx8El?usp=sharing)"
      ],
      "metadata": {
        "id": "4gK4XfHkk4Au"
      }
    },
    {
      "cell_type": "markdown",
      "source": [
        "https://wikidocs.net/150781"
      ],
      "metadata": {
        "id": "4YbwjMrCk99O"
      }
    },
    {
      "cell_type": "markdown",
      "source": [
        "딥 러닝의 학습 방법의 이해를 위해 필요한 개념인 손실 함수, 옵티마이저, 에포크의 개념에 대해서 정리합니다."
      ],
      "metadata": {
        "id": "eTuWqBv4k__V"
      }
    },
    {
      "cell_type": "markdown",
      "source": [
        "1. 손실 함수(Loss function)"
      ],
      "metadata": {
        "id": "TiUqMk2AlKue"
      }
    },
    {
      "cell_type": "markdown",
      "source": [
        "![image.png](data:image/png;base64,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)"
      ],
      "metadata": {
        "id": "yfzn_aTulMTu"
      }
    },
    {
      "cell_type": "markdown",
      "source": [
        "손실 함수는 실제값과 예측값의 차이를 수치화해주는 함수입니다. 이 두 값의 차이. 즉, 오차가 클 수록 손실 함수의 값은 크고 오차가 작을 수록 손실 함수의 값은 작아집니다. 회귀에서는 평균 제곱 오차, 분류 문제에서는 크로스 엔트로피를 주로 손실 함수로 사용합니다. 손실 함수의 값을 최소화하는 두 개의 매개변수인 가중치 w\n",
        "와 편향 b\n",
        "의 값을 찾는 것이 딥 러닝의 학습 과정이므로 손실 함수의 선정은 매우 중요합니다. 앞서 설명했던 손실 함수를 정리해봅시다."
      ],
      "metadata": {
        "id": "zSH6Tpa1lNjl"
      }
    },
    {
      "cell_type": "markdown",
      "source": [
        "1) MSE(Mean Squared Error, MSE)"
      ],
      "metadata": {
        "id": "y1k47usrlR5k"
      }
    },
    {
      "cell_type": "markdown",
      "source": [
        "평균 제곱 오차는 선형 회귀를 학습할 때 배웠던 손실 함수입니다. 연속형 변수를 예측할 때 사용됩니다.\n",
        "\n",
        "다음과 같이 compile의 loss에 문자열 'mse'라고 기재하여 사용할 수 있습니다."
      ],
      "metadata": {
        "id": "6UTt5wiVlTLO"
      }
    },
    {
      "cell_type": "code",
      "source": [
        "import tensorflow as tf\n",
        "\n",
        "from tensorflow.keras.models import Sequential\n",
        "from tensorflow.keras.layers import Dense"
      ],
      "metadata": {
        "id": "rOp-xmYoltoy"
      },
      "execution_count": 1,
      "outputs": []
    },
    {
      "cell_type": "code",
      "source": [
        "model = Sequential()"
      ],
      "metadata": {
        "id": "hCjcILdcltgY"
      },
      "execution_count": 2,
      "outputs": []
    },
    {
      "cell_type": "code",
      "source": [
        "\n",
        "#4개의 입력과 8개의 출력\n",
        "model.add(Dense(8, input_dim=4, activation = 'relu'))\n",
        "\n",
        "#이어서 8개의 출력\n",
        "model.add(Dense(8, activation = 'relu'))\n",
        "\n",
        "#이어서 3개의 출력\n",
        "model.add(Dense(3, activation = 'softmax'))"
      ],
      "metadata": {
        "id": "6uMK1zh9lwLC"
      },
      "execution_count": 3,
      "outputs": []
    },
    {
      "cell_type": "code",
      "source": [
        "model.compile(optimizer = 'adam', loss = 'mse', metrics = ['mse'])"
      ],
      "metadata": {
        "id": "Ce6Y9VGrlUdH"
      },
      "execution_count": 4,
      "outputs": []
    },
    {
      "cell_type": "markdown",
      "source": [
        "compile의 loss는 tf.keras.losses.Loss 인스턴스를 호출하므로 위 코드는 아래와 같이 사용할 수도 있습니다."
      ],
      "metadata": {
        "id": "dVy40J9PlbqP"
      }
    },
    {
      "cell_type": "code",
      "source": [
        "model.compile(optimizer = 'adam', loss = tf.keras.losses.MeanSquaredError(), metrics = ['mse'])"
      ],
      "metadata": {
        "id": "BnfGJrMjmjWi"
      },
      "execution_count": 5,
      "outputs": []
    },
    {
      "cell_type": "markdown",
      "source": [
        "딥 러닝 자연어 처리는 대부분 분류 문제이므로 평균 제곱 오차보다는 아래의 크로스 엔트로피 함수들을 주로 사용합니다."
      ],
      "metadata": {
        "id": "lqkvviBPmskY"
      }
    },
    {
      "cell_type": "markdown",
      "source": [
        "2) 이진 크로스 엔트로피(Binary Cross-Entropy)"
      ],
      "metadata": {
        "id": "d3oetHZLm03l"
      }
    },
    {
      "cell_type": "markdown",
      "source": [
        "이항 교차 엔트로피라고도 부르는 손실 함수입니다. 출력층에서 시그모이드 함수를 사용하는 이진 분류 (Binary Classification)의 경우 binary_crossentropy를 사용합니다. compile의 loss에 문자열로 'binary_crossentropy'를 기재해주면 됩니다. 이는 로지스틱 회귀에서 사용했던 손실 함수입니다."
      ],
      "metadata": {
        "id": "mBuPhD5cTKVt"
      }
    },
    {
      "cell_type": "code",
      "source": [
        "model.compile(loss = 'binary_crossentropy', optimizer = 'adam', metrics = ['acc'])"
      ],
      "metadata": {
        "id": "o6rik5oHTNtW"
      },
      "execution_count": 6,
      "outputs": []
    },
    {
      "cell_type": "markdown",
      "source": [
        "compile의 loss는 tf.keras.losses.Loss 인스턴스를 호출하므로 위 코드는 아래와 같이 사용할 수도 있습니다."
      ],
      "metadata": {
        "id": "nhvuTQSiZp14"
      }
    },
    {
      "cell_type": "code",
      "source": [
        "model.compile(loss = tf.keras.losses.BinaryCrossentropy(), optimizer = 'adam', metrics = ['accuracy'])"
      ],
      "metadata": {
        "id": "hgPSiITgZwQY"
      },
      "execution_count": 7,
      "outputs": []
    },
    {
      "cell_type": "markdown",
      "source": [
        "3) 카테고리칼 크로스 엔트로피(Categorical Cross-Entropy)"
      ],
      "metadata": {
        "id": "S0WblOlXZ6GL"
      }
    },
    {
      "cell_type": "markdown",
      "source": [
        "범주형 교차 엔트로피라고도 부르는 손실 함수입니다. 출력층에서 소프트맥스 함수를 사용하는 다중 클래스 분류(Multi-Class Classification)일 경우 categorical_crossentropy를 사용합니다. compile의 loss에 문자열로 'categorical_crossentropy'를 기재해주면 됩니다. 소프트맥스 회귀에서 사용했던 손실 함수입니다."
      ],
      "metadata": {
        "id": "Auaz3Ku6aItI"
      }
    },
    {
      "cell_type": "code",
      "source": [
        "model.compile(loss = 'categorical_crossentropy', optimizer = 'adam', metrics = ['acc'])"
      ],
      "metadata": {
        "id": "AElcmh4RaLgU"
      },
      "execution_count": 8,
      "outputs": []
    },
    {
      "cell_type": "markdown",
      "source": [
        "compile의 loss는 tf.keras.losses.Loss 인스턴스를 호출하므로 위 코드는 아래와 같이 사용할 수도 있습니다."
      ],
      "metadata": {
        "id": "Vgp2Zf3baS8v"
      }
    },
    {
      "cell_type": "code",
      "source": [
        "model.compile(loss=tf.keras.losses.CategoricalCrossentropy(), optimizer='adam', metrics=['acc'])"
      ],
      "metadata": {
        "id": "LJF07ccXbDik"
      },
      "execution_count": 9,
      "outputs": []
    },
    {
      "cell_type": "markdown",
      "source": [
        "만약 레이블에 대해서 원-핫 인코딩 과정을 생략하고, 정수값을 가진 레이블에 대해서 다중 클래스 분류를 수행하고 싶다면 다음과 같이 'sparse_categorical_crossentropy'를 사용합니다."
      ],
      "metadata": {
        "id": "DT7Y0IiHbFI7"
      }
    },
    {
      "cell_type": "code",
      "source": [
        "model.compile(loss='sparse_categorical_crossentropy', optimizer = 'adam', metrics = ['acc'])\n"
      ],
      "metadata": {
        "id": "sMawVRd9bIyP"
      },
      "execution_count": 10,
      "outputs": []
    },
    {
      "cell_type": "code",
      "source": [
        "model.compile(loss=tf.keras.losses.SparseCategoricalCrossentropy(), optimizer='adam', metrics=['acc'])"
      ],
      "metadata": {
        "id": "tkd5lQG2bt-g"
      },
      "execution_count": 11,
      "outputs": []
    },
    {
      "cell_type": "markdown",
      "source": [
        "4) 그 외에 다양한 손실 함수들"
      ],
      "metadata": {
        "id": "WS3zRKrjb0HF"
      }
    },
    {
      "cell_type": "markdown",
      "source": [
        "아래의 텐서플로우 공식 문서 링크에서 방금 언급하지 않은 손실 함수 외에도 다양한 손실 함수들을 확인할 수 있습니다.\n",
        "\n",
        "https://www.tensorflow.org/api_docs/python/tf/keras/losses\n",
        "\n",
        "지금까지 자주 사용하는 손실 함수 몇 가지에 대해서 정리해봤습니다. 위 compile 코드에서 optimizer='adam' 이라는 부분에 주목해봅시다. 이는 아담이라는 옵티마이저를 사용했다라는 의미입니다. 손실 함수의 선정만큼이나 옵티마이저의 선정 또한 중요합니다. 이어서 옵티마이저에 대해서 정리해봅시다."
      ],
      "metadata": {
        "id": "Vq8PORRzb39V"
      }
    },
    {
      "cell_type": "markdown",
      "source": [
        "2. 배치 크기(Batch Size)에 따른 경사 하강법"
      ],
      "metadata": {
        "id": "437WECHbcON3"
      }
    },
    {
      "cell_type": "markdown",
      "source": [
        "![image.png](data:image/png;base64,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)"
      ],
      "metadata": {
        "id": "pd1bmGgecQ8a"
      }
    },
    {
      "cell_type": "markdown",
      "source": [
        "손실 함수의 값을 줄여나가면서 학습하는 방법은 어떤 옵티마이저를 사용하느냐에 따라 달라집니다. 여기서 배치(Batch)라는 개념에 대한 이해가 필요합니다. 배치는 가중치 등의 매개 변수의 값을 조정하기 위해 사용하는 데이터의 양을 말합니다. 전체 데이터를 가지고 매개 변수의 값을 조정할 수도 있고, 정해준 양의 데이터만 가지고도 매개 변수의 값을 조정할 수 있습니다."
      ],
      "metadata": {
        "id": "fLcI9ep6cSSA"
      }
    },
    {
      "cell_type": "markdown",
      "source": [
        "1) 배치 경사 하강법(Batch Gradient Descent)"
      ],
      "metadata": {
        "id": "6pYCORUQcTtn"
      }
    },
    {
      "cell_type": "markdown",
      "source": [
        "배치 경사 하강법(Batch Gradient Descent)은 가장 기본적인 경사 하강법입니다. 배치 경사 하강법은 옵티마이저 중 하나로 오차(loss)를 구할 때 전체 데이터를 고려합니다. 딥 러닝에서는 전체 데이터에 대한 한 번의 훈련 횟수를 1 에포크라고 하는데, 배치 경사 하강법은 한 번의 에포크에 모든 매개변수 업데이트를 단 한 번 수행합니다. 배치 경사 하강법은 전체 데이터를 고려해서 학습하므로 한 번의 매개 변수 업데이트에 시간이 오래 걸리며, 메모리를 크게 요구한다는 단점이 있습니다."
      ],
      "metadata": {
        "id": "vr2-SoMmcU3c"
      }
    },
    {
      "cell_type": "code",
      "source": [
        "model.fit(X_train, y_train, batch_size = len(X_train))"
      ],
      "metadata": {
        "id": "e9z_W5h4cWGx"
      },
      "execution_count": null,
      "outputs": []
    },
    {
      "cell_type": "markdown",
      "source": [
        "2) 배치 크기가 1인 확률적 경사 하강법(Stochastic Gradient Descent, SGD)"
      ],
      "metadata": {
        "id": "kJNNPKrZcaH7"
      }
    },
    {
      "cell_type": "markdown",
      "source": [
        "기존의 배치 경사 하강법은 전체 데이터에 대해서 계산을 하다보니 시간이 너무 오래걸린다는 단점이 있습니다. 배치 크기가 1인 확률적 경사 하강법은 매개변수 값을 조정 시 전체 데이터가 아니라 랜덤으로 선택한 하나의 데이터에 대해서만 계산하는 방법입니다. 더 적은 데이터를 사용하므로 더 빠르게 계산할 수 있습니다."
      ],
      "metadata": {
        "id": "OwB9FNJocegW"
      }
    },
    {
      "cell_type": "markdown",
      "source": [
        "![image.png](data:image/png;base64,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)"
      ],
      "metadata": {
        "id": "dphs7W9Ncf83"
      }
    },
    {
      "cell_type": "markdown",
      "source": [
        "위 그림에서 좌측은 배치 경사 하강법, 우측은 배치 크기가 1인 확률적 경사 하강법이 최적해를 찾아가는 모습을 보여주고 있습니다. 확률적 경사 하강법은 매개변수의 변경폭이 불안정하고, 때로는 배치 경사 하강법보다 정확도가 낮을 수도 있지만 하나의 데이터에 대해서만 메모리에 저장하면 되므로 자원이 적은 컴퓨터에서도 쉽게 사용가능 하다는 장점이 있습니다. 케라스에서는 아래와 같이 사용합니다."
      ],
      "metadata": {
        "id": "N9-k2zeJchU5"
      }
    },
    {
      "cell_type": "code",
      "source": [
        "model.fit(X_train, y_train, batch_size = 1)"
      ],
      "metadata": {
        "id": "ZU8L37BTciwE"
      },
      "execution_count": null,
      "outputs": []
    },
    {
      "cell_type": "markdown",
      "source": [
        "3) 미니 배치 경사 하강법(Mini-Batch Gradient Descent)"
      ],
      "metadata": {
        "id": "tLXfyxr-clnN"
      }
    },
    {
      "cell_type": "markdown",
      "source": [
        "전체 데이터도, 1개의 데이터도 아닐 때, 배치 크기를 지정하여 해당 데이터 개수만큼에 대해서 계산하여 매개 변수의 값을 조정하는 경사 하강법을 미니 배치 경사 하강법이라고 합니다. 미니 배치 경사 하강법은 전체 데이터를 계산하는 것보다 빠르며, SGD보다 안정적이라는 장점이 있습니다. 가장 많이 사용되는 경사 하강법으로 앞으로 이 책에서도 주로 배치 크기를 지정하여 미니 배치 경사 하강법으로 학습하게 될 것입니다. 아래의 코드는 배치 크기를 128로 지정했을 경우를 보여줍니다."
      ],
      "metadata": {
        "id": "lWMC4GT4cprU"
      }
    },
    {
      "cell_type": "code",
      "source": [
        "model.fit(X_train, y_train, batch_size = 128)"
      ],
      "metadata": {
        "id": "OxIzlxBEdByP"
      },
      "execution_count": null,
      "outputs": []
    },
    {
      "cell_type": "markdown",
      "source": [
        "배치 크기는 일반적으로 2의 n제곱에 해당하는 숫자로 선택하는 것이 보편적입니다. 만약, model.fit()에서 배치 크기를 별도로 지정해주지 않을 경우에 기본값은 2의 5제곱에 해당하는 숫자인 32로 설정됩니다. 지금까지 배치 크기에 따른 학습 방법의 차이를 알아봤습니다. 앞으로는 경사 하강법의 알고리즘 자체를 조금씩 달리한 다양한 옵티마이저에 대해서 설명합니다."
      ],
      "metadata": {
        "id": "2BMfrt5VdFCA"
      }
    },
    {
      "cell_type": "markdown",
      "source": [
        "3. 옵티마이저(Optimizer)"
      ],
      "metadata": {
        "id": "ZaBwGKicdGjj"
      }
    },
    {
      "cell_type": "markdown",
      "source": [
        "1) 모멘텀(Momentum)"
      ],
      "metadata": {
        "id": "-eWHVax1dIDc"
      }
    },
    {
      "cell_type": "markdown",
      "source": [
        "모멘텀(Momentum)은 관성이라는 물리학의 법칙을 응용한 방법입니다. 모멘텀 경사 하강법에 관성을 더 해줍니다. 모멘텀은 경사 하강법에서 계산된 접선의 기울기에 한 시점 전의 접선의 기울기값을 일정한 비율만큼 반영합니다. 이렇게 하면 마치 언덕에서 공이 내려올 때, 중간에 작은 웅덩이에 빠지더라도 관성의 힘으로 넘어서는 효과를 줄 수 있습니다.\n",
        "\n"
      ],
      "metadata": {
        "id": "bqrxXB_NdJGe"
      }
    },
    {
      "cell_type": "markdown",
      "source": [
        "![image.png](data:image/png;base64,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)"
      ],
      "metadata": {
        "id": "6ipb_TjAdKXh"
      }
    },
    {
      "cell_type": "markdown",
      "source": [
        "전체 함수에 걸쳐 최소값을 글로벌 미니멈(Global Minimum) 이라고 하고, 글로벌 미니멈이 아닌 특정 구역에서의 최소값인 로컬 미니멈(Local Minimum) 이라고 합니다. 로컬 미니멈에 도달하였을 때 글로벌 미니멈으로 잘못 인식하여 탈출하지 못하였을 상황에서 모멘텀. 즉, 관성의 힘을 빌리면 값이 조절되면서 현재의 로컬 미니멈에서 탈출하고 글로벌 미니멈 내지는 더 낮은 로컬 미니멈으로 갈 수 있는 효과를 얻을 수도 있습니다."
      ],
      "metadata": {
        "id": "pEHaXna7dLxr"
      }
    },
    {
      "cell_type": "code",
      "source": [
        "tf.keras.optimizers.SGD(lr=0.01, momentum = 0.9)"
      ],
      "metadata": {
        "id": "b8kTIyxHdNJv"
      },
      "execution_count": null,
      "outputs": []
    },
    {
      "cell_type": "markdown",
      "source": [
        "2) 아다그라드(Adagrad)"
      ],
      "metadata": {
        "id": "zVSFugz4dRIT"
      }
    },
    {
      "cell_type": "markdown",
      "source": [
        "매개변수들은 각자 의미하는 바가 다른데, 모든 매개변수에 동일한 학습률(learning rate)을 적용하는 것은 비효율적입니다. 아다그라드는 각 매개변수에 서로 다른 학습률을 적용시킵니다. 이때 변화가 많은 매개변수는 학습률이 작게 설정되고 변화가 적은 매개변수는 학습률을 높게 설정시킵니다."
      ],
      "metadata": {
        "id": "suHCWqIANg1k"
      }
    },
    {
      "cell_type": "code",
      "source": [
        "tf.keras.optimizers.Adagrad(learning_rate=0.01, epsilon = 1e-6)"
      ],
      "metadata": {
        "colab": {
          "base_uri": "https://localhost:8080/"
        },
        "id": "5OGVPIkNNu0P",
        "outputId": "096bf5d6-4f16-4355-8273-216f04553634"
      },
      "execution_count": 14,
      "outputs": [
        {
          "output_type": "execute_result",
          "data": {
            "text/plain": [
              "<keras.optimizers.adagrad.Adagrad at 0x7d5e5eb86e30>"
            ]
          },
          "metadata": {},
          "execution_count": 14
        }
      ]
    },
    {
      "cell_type": "markdown",
      "source": [
        "3) 알엠에스프롭(RMSprop)"
      ],
      "metadata": {
        "id": "D61bsk07N0gp"
      }
    },
    {
      "cell_type": "markdown",
      "source": [
        "아다그라드는 학습을 계속 진행한 경우에는, 나중에 가서는 학습률이 지나치게 떨어진다는 단점이 있는데 이를 다른 수식으로 대체하여 이러한 단점을 개선하였습니다."
      ],
      "metadata": {
        "id": "o9Wr1Kc0N6nJ"
      }
    },
    {
      "cell_type": "code",
      "source": [
        "tf.keras.optimizers.RMSprop(learning_rate=0.001, rho=0.9, epsilon=1e-06)"
      ],
      "metadata": {
        "colab": {
          "base_uri": "https://localhost:8080/"
        },
        "id": "-DU-5lN_N8Ll",
        "outputId": "143d0ed1-0dde-4c0e-d1d1-527af3887a64"
      },
      "execution_count": 15,
      "outputs": [
        {
          "output_type": "execute_result",
          "data": {
            "text/plain": [
              "<keras.optimizers.rmsprop.RMSprop at 0x7d5e5eb84e50>"
            ]
          },
          "metadata": {},
          "execution_count": 15
        }
      ]
    },
    {
      "cell_type": "markdown",
      "source": [
        "4) 아담(Adam)"
      ],
      "metadata": {
        "id": "iWw-8k31OAde"
      }
    },
    {
      "cell_type": "markdown",
      "source": [
        "아담은 알엠에스프롭과 모멘텀 두 가지를 합친 듯한 방법으로, 방향과 학습률 두 가지를 모두 잡기 위한 방법입니다."
      ],
      "metadata": {
        "id": "UI2uVQ9ZOCub"
      }
    },
    {
      "cell_type": "code",
      "source": [
        "tf.keras.optimizers.Adam(lr=0.001, beta_1=0.9, beta_2=0.999, epsilon=None, decay=0.0, amsgrad=False)"
      ],
      "metadata": {
        "id": "KcGuUZn9OD2p"
      },
      "execution_count": null,
      "outputs": []
    },
    {
      "cell_type": "markdown",
      "source": [
        "5) 사용 방법"
      ],
      "metadata": {
        "id": "UeVc3prFOGvh"
      }
    },
    {
      "cell_type": "markdown",
      "source": [
        "각 옵티마이저 인스턴스는 compile의 optimizer에서 호출합니다. 예를 들어 아담(adam)은 다음과 같이 코드를 작성합니다.\n"
      ],
      "metadata": {
        "id": "kWyj4M9iOTQ7"
      }
    },
    {
      "cell_type": "code",
      "source": [
        "adam = tf.keras.optimizers.Adam(learning_rate=0.001, beta_1=0.9, beta_2=0.999, epsilon=None, decay=0.0, amsgrad=False)"
      ],
      "metadata": {
        "id": "PQHjkpv7ORNx"
      },
      "execution_count": null,
      "outputs": []
    },
    {
      "cell_type": "code",
      "source": [
        "model.compile(loss='categorical_crossentropy', optimizer='adam', metrics=['acc'])"
      ],
      "metadata": {
        "id": "dwNc0EmXOVkr"
      },
      "execution_count": 21,
      "outputs": []
    },
    {
      "cell_type": "markdown",
      "source": [
        "링크 : https://www.tensorflow.org/api_docs/python/tf/keras/optimizers"
      ],
      "metadata": {
        "id": "Z_Gor22QObwk"
      }
    },
    {
      "cell_type": "markdown",
      "source": [
        "4. 역전파(BackPropagation)"
      ],
      "metadata": {
        "id": "tBIdH52fTzOw"
      }
    },
    {
      "cell_type": "markdown",
      "source": [
        "이 부분은 05) 역전파 챕터로 별도 작성되었습니다."
      ],
      "metadata": {
        "id": "9INAhFC-T0mx"
      }
    },
    {
      "cell_type": "markdown",
      "source": [
        "5. 에포크와 배치 크기와 이터레이션(Epochs and Batch size and Iteration)"
      ],
      "metadata": {
        "id": "Mb-F2WDtT2RJ"
      }
    },
    {
      "cell_type": "markdown",
      "source": [
        "기계는 실제값과 예측값의 오차로부터 옵티마이저를 통해서 가중치를 업데이트합니다. 머신 러닝에서는 이 과정을 학습이라고 합니다. 이를 현실의 학습에 비유하면 사람은 문제지의 문제를 풀고, 정답지의 정답을 보면서 채점을 하면서 부족했던 점을 깨달으며 머릿속의 지식이 업데이트되는 과정입니다.\n",
        "\n",
        "그런데 사람마다 동일한 문제지와 정답지를 주더라도 공부 방법은 사실 천차만별입니다. 어떤 사람은 문제지 하나를 다 풀고 나서 정답을 채점하는데 어떤 사람은 문제지의 문제를 10개 단위로 끊어서 공부합니다. 문제 10개를 풀고 채점하고 다시 다음 문제 10개를 풀고 채점하고 반복하는 방식으로 학습하는 방식입니다. 또한 게으른 사람은 문제지를 세 번 공부하는데, 성실한 사람은 문제지의 문제를 달달 외울만큼 문제지를 100번 공부합니다. 기계도 똑같습니다. 같은 문제지와 정답지를 주더라도 공부 방법을 다르게 설정할 수 있습니다."
      ],
      "metadata": {
        "id": "BZ39Gia1T4rB"
      }
    },
    {
      "cell_type": "markdown",
      "source": [
        "![image.png](data:image/png;base64,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)"
      ],
      "metadata": {
        "id": "oNT9QwsmT6ED"
      }
    },
    {
      "cell_type": "markdown",
      "source": [
        "위 그림은 에포크와 배치 크기와 이터레이션의 차이를 보여줍니다."
      ],
      "metadata": {
        "id": "gz9fTtnjT7Zf"
      }
    },
    {
      "cell_type": "markdown",
      "source": [
        "1) 에포크(Epoch)"
      ],
      "metadata": {
        "id": "YqNoNhWBT87f"
      }
    },
    {
      "cell_type": "markdown",
      "source": [
        "에포크란 인공 신경망에서 전체 데이터에 대해서 순전파와 역전파가 끝난 상태를 말합니다. 전체 데이터를 하나의 문제지에 비유한다면 문제지의 모든 문제를 끝까지 다 풀고, 정답지로 채점을 하여 문제지에 대한 공부를 한 번 끝낸 상태를 말합니다.\n",
        "\n",
        "만약 에포크가 50이라고 하면, 전체 데이터 단위로는 총 50번 학습합니다. 문제지에 비유하면 문제지를 50번 푼 셈입니다. 이 에포크 횟수가 지나치거나 너무 적으면 앞서 배운 과적합과 과소적합이 발생할 수 있습니다."
      ],
      "metadata": {
        "id": "5UsyKty4T-E2"
      }
    },
    {
      "cell_type": "markdown",
      "source": [
        "2) 배치 크기(Batch size)"
      ],
      "metadata": {
        "id": "dAPhaeQwT_lD"
      }
    },
    {
      "cell_type": "markdown",
      "source": [
        "배치 크기는 몇 개의 데이터 단위로 매개변수를 업데이트 하는지를 말합니다. 현실에 비유하면 문제지에서 몇 개씩 문제를 풀고나서 정답지를 확인하느냐의 문제입니다. 사람은 문제를 풀고 정답을 보는 순간 부족했던 점을 깨달으며 지식이 업데이트 된다고 하였습니다. 기계 입장에서는 실제값과 예측값으로부터 오차를 계산하고 옵티마이저가 매개변수를 업데이트합니다. 여기서 중요한 포인트는 업데이트가 시작되는 시점이 정답지/실제값을 확인하는 시점이라는 겁니다.\n",
        "\n",
        "사람이 2,000 문제가 수록되어있는 문제지의 문제를 200개 단위로 풀고 채점한다고 하면 이때 배치 크기는 200입니다. 기계는 배치 크기가 200이면 200개의 샘플 단위로 가중치를 업데이트 합니다.\n",
        "\n",
        "여기서 주의할 점은 배치 크기와 배치의 수는 다른 개념이라는 점입니다. 전체 데이터가 2,000일때 배치 크기를 200으로 준다면 배치의 수는 10입니다. 이는 에포크에서 배치 크기를 나눠준 값(2,000/200 = 10)이기도 합니다. 이때 배치의 수를 이터레이션이라고 합니다."
      ],
      "metadata": {
        "id": "EYDT0pKLUBZH"
      }
    },
    {
      "cell_type": "markdown",
      "source": [
        "3) 이터레이션(Iteration) 또는 스텝(Step)"
      ],
      "metadata": {
        "id": "kwczGLbdUH5L"
      }
    },
    {
      "cell_type": "markdown",
      "source": [
        "이터레이션이란 한 번의 에포크를 끝내기 위해서 필요한 배치의 수를 말합니다. 또는 한 번의 에포크 내에서 이루어지는 매개변수의 업데이트 횟수이기도 합니다. 전체 데이터가 2,000일 때 배치 크기를 200으로 한다면 이터레이션의 수는 총 10입니다. 이는 한 번의 에포크 당 매개변수 업데이트가 10번 이루어진다는 것을 의미합니다. 배치 크기가 1인 확률적 경사 하강법을 이 개념을 가지고 다시 설명하면 배치 크기가 1이므로 모든 이터레이션마다 하나의 데이터를 선택하여 경사 하강법을 수행합니다. 이터레이션은 스텝(Step)이라고 부르기도 하므로 두 용어 모두 기억해둡시다."
      ],
      "metadata": {
        "id": "v2CLZqePV8zT"
      }
    },
    {
      "cell_type": "code",
      "source": [],
      "metadata": {
        "id": "iOzoHOpTWGEG"
      },
      "execution_count": null,
      "outputs": []
    }
  ]
}