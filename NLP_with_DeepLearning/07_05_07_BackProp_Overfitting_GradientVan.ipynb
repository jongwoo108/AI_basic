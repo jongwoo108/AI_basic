{
  "nbformat": 4,
  "nbformat_minor": 0,
  "metadata": {
    "colab": {
      "provenance": []
    },
    "kernelspec": {
      "name": "python3",
      "display_name": "Python 3"
    },
    "language_info": {
      "name": "python"
    }
  },
  "cells": [
    {
      "cell_type": "markdown",
      "source": [
        "# 딥 러닝을 이용한 자연어 처리 입문"
      ],
      "metadata": {
        "id": "juDp-3IrPl7g"
      }
    },
    {
      "cell_type": "markdown",
      "source": [
        "[구글 코랩에서 실행하기](https://colab.research.google.com/drive/16BWraEubuc5Uch1aZAxba0SEVrcMmJ8q#scrollTo=949v22DFXABp)"
      ],
      "metadata": {
        "id": "949v22DFXABp"
      }
    },
    {
      "cell_type": "markdown",
      "source": [
        "07-05 역전파(BackPropagation) 이해하기"
      ],
      "metadata": {
        "id": "d0535AnfXKPe"
      }
    },
    {
      "cell_type": "markdown",
      "source": [
        "https://wikidocs.net/37406"
      ],
      "metadata": {
        "id": "JQ6y1jg-XJFG"
      }
    },
    {
      "cell_type": "markdown",
      "source": [
        "07-06 과적합(Overfitting)을 막는 방법들"
      ],
      "metadata": {
        "id": "kjqTq_37XLSs"
      }
    },
    {
      "cell_type": "markdown",
      "source": [
        "https://wikidocs.net/61374"
      ],
      "metadata": {
        "id": "RPSTRT98ZWrs"
      }
    },
    {
      "cell_type": "markdown",
      "source": [
        "학습 데이터에 모델이 과적합되는 현상은 모델의 성능을 떨어트리는 주요 이슈입니다. 모델이 과적합되면 훈련 데이터에 대한 정확도는 높을지라도, 새로운 데이터. 즉, 검증 데이터나 테스트 데이터에 대해서는 제대로 동작하지 않습니다. 이는 모델이 학습 데이터를 불필요할정도로 과하게 암기하여 훈련 데이터에 포함된 노이즈까지 학습한 상태라고 해석할 수 있습니다. 이번에는 모델의 과적합을 막을 수 있는 여러가지 방법에 대해서 논의합니다.\n",
        "\n",
        "특히 이 책은 딥 러닝을 다루고 있으므로, 인공 신경망의 과적합을 막는 방법에 초점을 둡니다."
      ],
      "metadata": {
        "id": "EifRREaCZYVy"
      }
    },
    {
      "cell_type": "markdown",
      "source": [
        "1. 데이터의 양을 늘리기"
      ],
      "metadata": {
        "id": "bSu3otG2a60L"
      }
    },
    {
      "cell_type": "markdown",
      "source": [
        "모델은 데이터의 양이 적을 경우, 해당 데이터의 특정 패턴이나 노이즈까지 쉽게 암기하기 되므로 과적합 현상이 발생할 확률이 늘어납니다. 그렇기 때문에 데이터의 양을 늘릴 수록 모델은 데이터의 일반적인 패턴을 학습하여 과적합을 방지할 수 있습니다.\n",
        "\n",
        "만약, 데이터의 양이 적을 경우에는 의도적으로 기존의 데이터를 조금씩 변형하고 추가하여 데이터의 양을 늘리기도 하는데 이를 데이터 증식 또는 증강(Data Augmentation)이라고 합니다. 이미지의 경우에는 데이터 증식이 많이 사용되는데 이미지를 돌리거나 노이즈를 추가하고, 일부분을 수정하는 등으로 데이터를 증식시킵니다. 텍스트 데이터의 경우에는 데이터를 증강하는 방법으로 번역 후 재번역을 통해 새로운 데이터를 만들어내는 역번역(Back Translation) 등의 방법이 있습니다."
      ],
      "metadata": {
        "id": "F1tmDUAua71P"
      }
    },
    {
      "cell_type": "markdown",
      "source": [
        "2. 모델의 복잡도 줄이기"
      ],
      "metadata": {
        "id": "ZX_9vxqNa9cY"
      }
    },
    {
      "cell_type": "markdown",
      "source": [
        "인공 신경망의 복잡도는 은닉층(hidden layer)의 수나 매개변수의 수 등으로 결정됩니다. 과적합 현상이 포착되었을 때, 인공 신경망 모델에 대해서 할 수 있는 한 가지 조치는 인공 신경망의 복잡도를 줄이는 것 입니다.\n",
        "\n",
        "인공 신경망에서는 모델에 있는 매개변수들의 수를 모델의 수용력(capacity)이라고 하기도 합니다."
      ],
      "metadata": {
        "id": "5yFSv20ia_AO"
      }
    },
    {
      "cell_type": "markdown",
      "source": [
        "3. 가중치 규제(Regularization) 적용하기"
      ],
      "metadata": {
        "id": "1H_MAgCWbAsr"
      }
    },
    {
      "cell_type": "markdown",
      "source": [
        "복잡한 모델이 간단한 모델보다 과적합될 가능성이 높습니다. 그리고 간단한 모델은 적은 수의 매개변수를 가진 모델을 말합니다. 복잡한 모델을 좀 더 간단하게 하는 방법으로 가중치 규제(Regularization)가 있습니다."
      ],
      "metadata": {
        "id": "qq0dtk9MbCDv"
      }
    },
    {
      "cell_type": "markdown",
      "source": [
        "L1 규제 : 가중치 w들의 절대값 합계를 비용 함수에 추가합니다. L1 노름이라고도 합니다.\\\n",
        "L2 규제 : 모든 가중치 w들의 제곱합을 비용 함수에 추가합니다. L2 노름이라고도 합니다."
      ],
      "metadata": {
        "id": "7SNDDLgFbDor"
      }
    },
    {
      "cell_type": "markdown",
      "source": [
        "L1 규제는 기존의 비용 함수에 모든 가중치에 대해서 \\lambda \\mid w \\mid\n",
        "를 더 한 값을 비용 함수로 하고, L2 규제는 기존의 비용 함수에 모든 가중치에 대해서 \\frac{1}{2} \\lambda w^2\n",
        "\n",
        "를 더 한 값을 비용 함수로 합니다. \\lambda\n",
        "는 규제의 강도를 정하는 하이퍼파라미터입니다. \\lambda\n",
        "가 크다면 모델이 훈련 데이터에 대해서 적합한 매개 변수를 찾는 것보다 규제를 위해 추가된 항들을 작게 유지하는 것을 우선한다는 의미가 됩니다."
      ],
      "metadata": {
        "id": "7Xsj9Zy6bFdj"
      }
    },
    {
      "cell_type": "markdown",
      "source": [
        "이 두 식 모두 비용 함수를 최소화하기 위해서는 가중치 w들의 값이 작아져야 한다는 특징이 있습니다. L1 규제로 예를 들어봅시다. L1 규제를 사용하면 비용 함수가 최소가 되게 하는 가중치와 편향을 찾는 동시에 가중치들의 절대값의 합도 최소가 되어야 합니다. 이렇게 되면, 가중치 w의 값들은 0 또는 0에 가까이 작아져야 하므로 어떤 특성들은 모델을 만들 때 거의 사용되지 않게 됩니다."
      ],
      "metadata": {
        "id": "dyXD2ODfbQxT"
      }
    },
    {
      "cell_type": "markdown",
      "source": [
        "H(X) = w_{1}x_{1} + w_{2}x_{2} + w_{3}x_{3} + w_{4}x_{4}\\\n",
        "라는 수식이 있다고 해봅시다. 여기에 L1 규제를 사용하였더니, w3\n",
        "의 값이 0이 되었다고 해봅시다. 이는 x3\n",
        " 특성은 사실 모델의 결과에 별 영향을 주지 못하는 특성임을 의미합니다."
      ],
      "metadata": {
        "id": "IuOdtHqTbZqB"
      }
    },
    {
      "cell_type": "markdown",
      "source": [
        "L2 규제는 L1 규제와는 달리 가중치들의 제곱을 최소화하므로 w의 값이 완전히 0이 되기보다는 0에 가까워지기는 경향을 띕니다. L1 규제는 어떤 특성들이 모델에 영향을 주고 있는지를 정확히 판단하고자 할 때 유용합니다. 만약, 이런 판단이 필요없다면 경험적으로는 L2 규제가 더 잘 동작하므로 L2 규제를 더 권장합니다. 인공 신경망에서 L2 규제는 가중치 감쇠(weight decay)라고도 부릅니다."
      ],
      "metadata": {
        "id": "a-wBI3bxbhIo"
      }
    },
    {
      "cell_type": "markdown",
      "source": [
        "책에 따라서는 Regularization를 정규화로 번역하기도 하지만, 이는 정규화(Normalization)와 혼동될 수 있으므로 규제 또는 정형화라는 번역이 바람직한 것 같습니다.\n",
        "\n",
        "인공 신경망에서 정규화(Normalization)라는 용어가 쓰이는 기법으로는 또 배치 정규화, 층 정규화 등이 있습니다."
      ],
      "metadata": {
        "id": "Rd4L2Xs_bimB"
      }
    },
    {
      "cell_type": "markdown",
      "source": [
        "4. 드롭아웃(Dropout)"
      ],
      "metadata": {
        "id": "lXEaIqIubkgz"
      }
    },
    {
      "cell_type": "markdown",
      "source": [
        "드롭아웃은 학습 과정에서 신경망의 일부를 사용하지 않는 방법입니다."
      ],
      "metadata": {
        "id": "FUX1wUnQbmFJ"
      }
    },
    {
      "cell_type": "markdown",
      "source": [
        "![image.png](data:image/png;base64,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)"
      ],
      "metadata": {
        "id": "i4yaskWlbnWE"
      }
    },
    {
      "cell_type": "markdown",
      "source": [
        "위의 그림은 드롭아웃 전과 후의 신경망을 비교하고 있습니다. 예를 들어 드롭아웃의 비율을 0.5로 한다면 학습 과정마다 랜덤으로 절반의 뉴런을 사용하지 않고, 절반의 뉴런만을 사용합니다.\n",
        "\n",
        "드롭아웃은 신경망 학습 시에만 사용하고, 예측 시에는 사용하지 않는 것이 일반적입니다. 학습 시에 인공 신경망이 특정 뉴런 또는 특정 조합에 너무 의존적이게 되는 것을 방지해주고, 매번 랜덤 선택으로 뉴런들을 사용하지 않으므로 서로 다른 신경망들을 앙상블하여 사용하는 것 같은 효과를 내어 과적합을 방지합니다.\n",
        "\n",
        "케라스에서는 다음과 같은 방법으로 드롭아웃을 모델에 추가할 수 있습니다."
      ],
      "metadata": {
        "id": "-EwhIpY_boYn"
      }
    },
    {
      "cell_type": "code",
      "source": [
        "from tensorflow.keras.models import Sequential\n",
        "from tensorflow.keras.layers import Dropout, Dense\n",
        "\n",
        "max_words = 10000\n",
        "num_classes = 46\n",
        "\n",
        "model = Sequential()\n",
        "model.add(Dense(256, input_shape = (max_words,), activation = 'relu'))\n",
        "model.add(Dropout(0.5)) # 드롭아웃 추가. 비율은 50%\n",
        "model.add(Dense(128, activation = 'relu'))\n",
        "model.add(Dropout(0.5)) # 드롭아웃 추가. 비율은 50%\n",
        "model.add(Dense(num_classes, activation = 'softmax'))"
      ],
      "metadata": {
        "id": "cN6_j4KGbpz2"
      },
      "execution_count": 2,
      "outputs": []
    },
    {
      "cell_type": "markdown",
      "source": [
        "07-07 기울기 소실(Gradient Vanishing)과 폭주(Exploding)"
      ],
      "metadata": {
        "id": "wxjd_8V9cGK8"
      }
    },
    {
      "cell_type": "markdown",
      "source": [
        "깊은 인공 신경망을 학습하다보면 역전파 과정에서 입력층으로 갈 수록 기울기(Gradient)가 점차적으로 작아지는 현상이 발생할 수 있습니다. 입력층에 가까운 층들에서 가중치들이 업데이트가 제대로 되지 않으면 결국 최적의 모델을 찾을 수 없게 됩니다. 이를 기울기 소실(Gradient Vanishing) 이라고 합니다."
      ],
      "metadata": {
        "id": "N382P5OAPOgC"
      }
    },
    {
      "cell_type": "markdown",
      "source": [
        "반대의 경우도 있습니다. 기울기가 점차 커지더니 가중치들이 비정상적으로 큰 값이 되면서 결국 발산되기도 합니다. 이를 기울기 폭주(Gradient Exploding) 라고 하며, 다음 챕터에서 배울 순환 신경망(Recurrent Neural Network, RNN)에서 쉽게 발생할 수 있습니다. 여기서는 기울기 소실 또는 기울기 폭주를 막는 방법들에 대해서 다룹니다."
      ],
      "metadata": {
        "id": "3BsKQCvyPQ0Z"
      }
    },
    {
      "cell_type": "markdown",
      "source": [
        "1. ReLU와 ReLU의 변형들"
      ],
      "metadata": {
        "id": "K-0mDBRHPSKf"
      }
    },
    {
      "cell_type": "markdown",
      "source": [
        "앞에서 배운 내용을 간단히 복습해봅시다. 시그모이드 함수를 사용하면 입력의 절대값이 클 경우에 시그모이드 함수의 출력값이 0 또는 1에 수렴하면서 기울기가 0에 가까워집니다. 그래서 역전파 과정에서 전파 시킬 기울기가 점차 사라져서 입력층 방향으로 갈 수록 제대로 역전파가 되지 않는 기울기 소실 문제가 발생할 수 있습니다.\n",
        "\n",
        "기울기 소실을 완화하는 가장 간단한 방법은 은닉층의 활성화 함수로 시그모이드나 하이퍼볼릭탄젠트 함수 대신에 ReLU나 ReLU의 변형 함수와 같은 Leaky ReLU를 사용하는 것입니다.\n",
        "\n",
        "은닉층에서는 시그모이드 함수를 사용하지 마세요.\\\n",
        "Leaky ReLU를 사용하면 모든 입력값에 대해서 기울기가 0에 수렴하지 않아 죽은 ReLU 문제를 해결합니다.\\\n",
        "은닉층에서는 ReLU나 Leaky ReLU와 같은 ReLU 함수의 변형들을 사용하세요."
      ],
      "metadata": {
        "id": "_ACCrfN9PTha"
      }
    },
    {
      "cell_type": "markdown",
      "source": [
        "2. 그래디언트 클리핑(Gradient Clipping)"
      ],
      "metadata": {
        "id": "1ExIez_QPVXO"
      }
    },
    {
      "cell_type": "markdown",
      "source": [
        "그래디언트 클리핑은 말 그대로 기울기 값을 자르는 것을 의미합니다. 기울기 폭주를 막기 위해 임계값을 넘지 않도록 값을 자릅니다. 다시 말해서 임계치만큼 크기를 감소시킵니다. 이는 뒤에서 배울 신경망인 RNN에서 유용합니다. RNN은 역전파 과정에서 시점을 역행하면서 기울기를 구하는데, 이때 기울기가 너무 커질 수 있기 때문입니다. 케라스에서는 다음과 같은 방법으로 그래디언트 클리핑을 수행합니다."
      ],
      "metadata": {
        "id": "sjwwjZ7QPY7c"
      }
    },
    {
      "cell_type": "code",
      "source": [
        "from tensorflow.keras import optimizers\n",
        "\n",
        "Adam = optimizers.Adam(learning_rate =0.0001, clipnorm = 1.)"
      ],
      "metadata": {
        "id": "lPJ2GTabPaI-"
      },
      "execution_count": 5,
      "outputs": []
    },
    {
      "cell_type": "markdown",
      "source": [
        "3. 가중치 초기화(Weight initialization)"
      ],
      "metadata": {
        "id": "vJ7z4F23PiLi"
      }
    },
    {
      "cell_type": "markdown",
      "source": [
        "같은 모델을 훈련시키더라도 가중치가 초기에 어떤 값을 가졌느냐에 따라서 모델의 훈련 결과가 달라지기도 합니다. 다시 말해 가중치 초기화만 적절히 해줘도 기울기 소실 문제과 같은 문제를 완화시킬 수 있습니다."
      ],
      "metadata": {
        "id": "sBS2MXu7Pnzl"
      }
    },
    {
      "cell_type": "markdown",
      "source": [
        "1) 세이비어 초기화(Xavier Initialization)"
      ],
      "metadata": {
        "id": "MRrtOUspQZkl"
      }
    },
    {
      "cell_type": "markdown",
      "source": [
        "논문 : http://proceedings.mlr.press/v9/glorot10a/glorot10a.pdf"
      ],
      "metadata": {
        "id": "bHOuXepYQbW1"
      }
    },
    {
      "cell_type": "markdown",
      "source": [
        "010년 세이비어 글로럿과 요슈아 벤지오는 가중치 초기화가 모델에 미치는 영향을 분석하여 새로운 초기화 방법을 제안했습니다. 이 초기화 방법은 제안한 사람의 이름을 따서 세이비어(Xavier Initialization) 초기화 또는 글로럿 초기화(Glorot Initialization)라고 합니다.\n",
        "\n",
        "이 방법은 균등 분포(Uniform Distribution) 또는 정규 분포(Normal distribution)로 초기화 할 때 두 가지 경우로 나뉘며, 이전 층의 뉴런 개수와 다음 층의 뉴런 개수를 가지고 식을 세웁니다. 이전 층의 뉴런의 개수를 nin\n",
        ", 다음 층의 뉴런의 개수를 nout\n",
        "이라고 해봅시다.\n",
        "\n",
        "글로럿과 벤지오의 논문에서는 균등 분포를 사용하여 가중치를 초기화할 경우 다음과 같은 균등 분포 범위를 사용하라고 합니다."
      ],
      "metadata": {
        "id": "opMNEKYTQcyP"
      }
    },
    {
      "cell_type": "markdown",
      "source": [
        "W \\sim Uniform(-\\sqrt{\\frac{6}{ n_{in} + n_{out} }}, +\\sqrt{\\frac{6}{ n_{in} + n_{out} }})"
      ],
      "metadata": {
        "id": "vJKnFvkRQjMw"
      }
    },
    {
      "cell_type": "markdown",
      "source": [
        "다시 말해 \\sqrt{\\frac{6}{ n_{in} + n_{out} }}\n",
        "\n",
        "를\n",
        "이라고 하였을 때, -m\n",
        "과 +m\n",
        " 사이의 균등 분포를 의미합니다.\n",
        "\n",
        "정규 분포로 초기화할 경우에는 평균이 0이고, 표준 편차 σ가 다음을 만족하도록 합니다."
      ],
      "metadata": {
        "id": "-dRWMuLZQkk2"
      }
    },
    {
      "cell_type": "markdown",
      "source": [
        "σ=\\sqrt{\\frac { 2 }{ n_{ in }+n_{ out } } }"
      ],
      "metadata": {
        "id": "IBc3uH6jQpv7"
      }
    },
    {
      "cell_type": "markdown",
      "source": [
        "세이비어 초기화는 여러 층의 기울기 분산 사이에 균형을 맞춰서 특정 층이 너무 주목을 받거나 다른 층이 뒤쳐지는 것을 막습니다. 그런데 세이비어 초기화는 시그모이드 함수나 하이퍼볼릭 탄젠트 함수와 같은 S자 형태인 활성화 함수와 함께 사용할 경우에는 좋은 성능을 보이지만, ReLU와 함께 사용할 경우에는 성능이 좋지 않습니다. ReLU 함수 또는 ReLU의 변형 함수들을 활성화 함수로 사용할 경우에는 다른 초기화 방법을 사용하는 것이 좋은데, 이를 He 초기화(He initialization)라고 합니다."
      ],
      "metadata": {
        "id": "Mx80Gc3DQrL_"
      }
    },
    {
      "cell_type": "markdown",
      "source": [
        "2) He 초기화(He initialization)"
      ],
      "metadata": {
        "id": "aCZpRrytQsYm"
      }
    },
    {
      "cell_type": "markdown",
      "source": [
        "논문 : https://www.cv-foundation.org/openaccess/content_iccv_2015/papers/He_Delving_Deep_into_ICCV_2015_paper.pdf"
      ],
      "metadata": {
        "id": "iRDolHEqQua0"
      }
    },
    {
      "cell_type": "markdown",
      "source": [
        "He 초기화(He initialization)는 세이비어 초기화와 유사하게 정규 분포와 균등 분포 두 가지 경우로 나뉩니다. 다만, He 초기화는 세이비어 초기화와 다르게 다음 층의 뉴런의 수를 반영하지 않습니다. 전과 같이 이전 층의 뉴런의 개수를\n",
        "이라고 해봅시다.\n",
        "\n",
        "He 초기화는 균등 분포로 초기화 할 경우에는 다음과 같은 균등 분포 범위를 가지도록 합니다."
      ],
      "metadata": {
        "id": "f7yl83agQvsn"
      }
    },
    {
      "cell_type": "markdown",
      "source": [
        "W\\sim Uniform(- \\sqrt{\\frac { 6 }{ n_{in} } } , \\space\\space + \\sqrt{\\frac { 6 }{ n_{ in } } } )"
      ],
      "metadata": {
        "id": "msLHaL1ZQxV-"
      }
    },
    {
      "cell_type": "markdown",
      "source": [
        "정규 분포로 초기화할 경우에는 표준 편차 σ가 다음을 만족하도록 합니다."
      ],
      "metadata": {
        "id": "TSBisLUXQzK8"
      }
    },
    {
      "cell_type": "markdown",
      "source": [
        "σ=\\sqrt{\\frac { 2 }{ n_{ in } } }"
      ],
      "metadata": {
        "id": "80eJkNwYQ0ZT"
      }
    },
    {
      "cell_type": "markdown",
      "source": [
        "시그모이드 함수나 하이퍼볼릭탄젠트 함수를 사용할 경우에는 세이비어 초기화 방법이 효율적입니다.\\\n",
        "ReLU 계열 함수를 사용할 경우에는 He 초기화 방법이 효율적입니다.\\\n",
        "ReLU + He 초기화 방법이 좀 더 보편적입니다."
      ],
      "metadata": {
        "id": "1sEqQL53Q1qf"
      }
    },
    {
      "cell_type": "markdown",
      "source": [
        "4. 배치 정규화(Batch Normalization)"
      ],
      "metadata": {
        "id": "Q8cOmqAOQ28K"
      }
    },
    {
      "cell_type": "markdown",
      "source": [
        "ReLU 계열의 함수와 He 초기화를 사용하는 것만으로도 어느 정도 기울기 소실과 폭주를 완화시킬 수 있지만, 이 두 방법을 사용하더라도 훈련 중에 언제든 다시 발생할 수 있습니다. 기울기 소실이나 폭주를 예방하는 또 다른 방법은 배치 정규화(Batch Normalization)입니다. 배치 정규화는 인공 신경망의 각 층에 들어가는 입력을 평균과 분산으로 정규화하여 학습을 효율적으로 만듭니다."
      ],
      "metadata": {
        "id": "AxlcFf8EQ6HT"
      }
    },
    {
      "cell_type": "markdown",
      "source": [
        "1) 내부 공변량 변화(Internal Covariate Shift)"
      ],
      "metadata": {
        "id": "sl0MPbNNQ7PQ"
      }
    },
    {
      "cell_type": "markdown",
      "source": [
        "배치 정규화를 이해하기 위해서는 내부 공변량 변화(Internal Covariate Shift)를 이해할 필요가 있습니다. 내부 공변량 변화란 학습 과정에서 층 별로 입력 데이터 분포가 달라지는 현상을 말합니다. 이전 층들의 학습에 의해 이전 층의 가중치 값이 바뀌게 되면, 현재 층에 전달되는 입력 데이터의 분포가 현재 층이 학습했던 시점의 분포와 차이가 발생합니다. 배치 정규화를 제안한 논문에서는 기울기 소실/폭주 등의 딥 러닝 모델의 불안전성이 층마다 입력의 분포가 달라지기 때문이라고 주장합니다. (배치 정규화를 제안한 논문에서는 이렇게 주장했지만, 뒤에 이어서는 이에 대한 반박들이 나오기는 했습니다. 하지만 그 이유가 어찌되었든 배치 정규화가 학습을 돕는다는 것은 명백합니다.)\n",
        "\n",
        "공변량 변화는 훈련 데이터의 분포와 테스트 데이터의 분포가 다른 경우를 의미합니다.\\\n",
        "내부 공변량 변화는 신경망 층 사이에서 발생하는 입력 데이터의 분포 변화를 의미합니다."
      ],
      "metadata": {
        "id": "69GAk41dQ8yy"
      }
    },
    {
      "cell_type": "markdown",
      "source": [
        "2) 배치 정규화(Batch Normalization)"
      ],
      "metadata": {
        "id": "QghHDcDAQ-3V"
      }
    },
    {
      "cell_type": "markdown",
      "source": [
        "배치 정규화(Batch Normalization)는 표현 그대로 한 번에 들어오는 배치 단위로 정규화하는 것을 말합니다. 배치 정규화는 각 층에서 활성화 함수를 통과하기 전에 수행됩니다. 배치 정규화를 요약하면 다음과 같습니다. 입력에 대해 평균을 0으로 만들고, 정규화를 합니다. 그리고 정규화 된 데이터에 대해서 스케일과 시프트를 수행합니다. 이때 두 개의 매개변수 γ와 β를 사용하는데, γ는 스케일을 위해 사용하고, β는 시프트를 하는 것에 사용하며 다음 레이어에 일정한 범위의 값들만 전달되게 합니다."
      ],
      "metadata": {
        "id": "SJCHlStqRBlo"
      }
    },
    {
      "cell_type": "markdown",
      "source": [
        "배치 정규화를 사용하면 시그모이드 함수나 하이퍼볼릭탄젠트 함수를 사용하더라도 기울기 소실 문제가 크게 개선됩니다.\n",
        "가중치 초기화에 훨씬 덜 민감해집니다.\n",
        "훨씬 큰 학습률을 사용할 수 있어 학습 속도를 개선시킵니다.\n",
        "미니 배치마다 평균과 표준편차를 계산하여 사용하므로 훈련 데이터에 일종의 잡음 주입의 부수 효과로 과적합을 방지하는 효과도 냅니다. 다시 말해, 마치 드롭아웃과 비슷한 효과를 냅니다. 물론, 드롭 아웃과 함께 사용하는 것이 좋습니다.\n",
        "배치 정규화는 모델을 복잡하게 하며, 추가 계산을 하는 것이므로 테스트 데이터에 대한 예측 시에 실행 시간이 느려집니다. 그래서 서비스 속도를 고려하는 관점에서는 배치 정규화가 꼭 필요한지 고민이 필요합니다.\n",
        "배치 정규화의 효과는 굉장하지만 내부 공변량 변화때문은 아니라는 논문도 있습니다. : https://arxiv.org/pdf/1805.11604.pdf"
      ],
      "metadata": {
        "id": "vEUXAvvmRE3x"
      }
    },
    {
      "cell_type": "markdown",
      "source": [
        "3) 배치 정규화의 한계"
      ],
      "metadata": {
        "id": "O0sGZiUcRMvA"
      }
    },
    {
      "cell_type": "markdown",
      "source": [
        "배치 정규화는 뛰어난 방법이지만 몇 가지 한계가 존재합니다."
      ],
      "metadata": {
        "id": "1LKSsNchRQWI"
      }
    },
    {
      "cell_type": "markdown",
      "source": [
        "1. 미니 배치 크기에 의존적이다.\\\n",
        "배치 정규화는 너무 작은 배치 크기에서는 잘 동작하지 않을 수 있습니다. 단적으로 배치 크기를 1로 하게되면 분산은 0이 됩니다. 작은 미니 배치에서는 배치 정규화의 효과가 극단적으로 작용되어 훈련에 악영향을 줄 수 있습니다. 배치 정규화를 적용할때는 작은 미니 배치보다는 크기가 어느정도 되는 미니 배치에서 하는 것이 좋습니다. 이처럼 배치 정규화는 배치 크기에 의존적인 면이 있습니다."
      ],
      "metadata": {
        "id": "v9_1AMSWRRe_"
      }
    },
    {
      "cell_type": "markdown",
      "source": [
        "2. RNN에 적용하기 어렵다.\\\n",
        "뒤에서 배우겠지만, RNN은 각 시점(time step)마다 다른 통계치를 가집니다. 이는 RNN에 배치 정규화를 적용하는 것을 어렵게 만듭니다. RNN에서 배치 정규화를 적용하기 위한 몇 가지 논문이 제시되어 있지만, 여기서는 이를 소개하는 대신 배치 크기에도 의존적이지 않으며, RNN에도 적용하는 것이 수월한 층 정규화(layer normalization)라는 방법을 소개하고자 합니다."
      ],
      "metadata": {
        "id": "0U5iVtCoRS0o"
      }
    },
    {
      "cell_type": "markdown",
      "source": [
        "5. 층 정규화(Layer Normalization)"
      ],
      "metadata": {
        "id": "6L4tZKjMRV-J"
      }
    },
    {
      "cell_type": "markdown",
      "source": [
        "층 정규화를 이해하기에 앞서 배치 정규화를 시각화해보겠습니다. 다음은 m\n",
        "이 3이고, 특성의 수가 4일 때의 배치 정규화를 보여줍니다. 미니 배치란 동일한 특성(feature) 개수들을 가진 다수의 샘플들을 의미함을 상기합시다."
      ],
      "metadata": {
        "id": "kCoDYOrURXom"
      }
    },
    {
      "cell_type": "markdown",
      "source": [
        "![image.png](data:image/png;base64,iVBORw0KGgoAAAANSUhEUgAAAZkAAADfCAIAAACrsTlcAAAgAElEQVR4Ae2dX2gcR77v+9EPhqOBcK8ezLXOTh78kAO6l3kQIuaai1H7xViIwKxfZgW7IttExPa+zDLkIIjOyziBWTAYMX4QyILBLEIOYbAwBkUzDyYZ2CMF+8RrGE2IwdoTmg0RdmwTQ100P+nXNf2npqe7uqe69RtMUtPTXV2/7+9Xn/5VdatLY/QhBUgBUiD5CmjJNyHlFoyMjJxL/ieXy506dSr5dhxacOrUqVwulwJz0uGX3/zmN4uLi8Qy1VGoaZr2H+8n/t/v/037139JvBXoiH/9F+33/5YGc9Lhl//9P/7yl78Qy5LAsrvTWtL//cf72nvvJN4K9MJ77xyADL8mt5AOv/y//7W8vEwsI5bFAsp09BlkFrEMpVChQCxTHWPd9h2MMVUIl5BtIJaFFDCiw9PhF2IZsSw+SqajzyBQKC9DKVQoEMuIZcSygAoQy1RAGLaBWEYsC9iTMYb8Fygv869VnHumwy/EsnSwLN/6/NkvJmPMfLMfH5sG7W8++syN3br5Zp8x9vCff1fXEDC8X152+v7czs8dCLCzzZK65qTDL8SyFLDs9P25l29fP/vF/PjbW09fPA/QZz59cocx9vG3twIcO8Ah/frMx9/eYow9+HHni72vv9j7eoCaj6gakyH+WPb0xXPG2On7c4yxALbAgcF0GOx00fvlwY87wUQYwBBiWQpYdvuHrxhjYYIee90AoXOEjwEO6ddnIIsJg9SYDPHBsnzrc8ZYsEsLSPrF3teMsU+f3BlA4QBOuTt98JSc8Lm/kH7Ba220hhDLks4yiHiwYufnDobLF3tfw2DNfLOfb30O2z99cgc2Pn3x/MGPO7d/+Eq7O80rcPuHr/Ktz803+y/fvoaj4IoKfIHygx93buzWX759/fLta6wWRrgv376+sVvHNtgLwj4DGILGQMPgcFdDvtj7+uXb15DEPX3xHJrq05DT9+fgXJ8+uQMWoW6u57JbgbzwHmNCggntQZW0u9OfPrnjFCrf+hzaY77Zv/3DV9AYXo2dnzvYZpAX0k+4eoEvnv1iguMYY6BGvvU5jnAf/LjjaUU/lvEtQb+cvj/38J9/Bxc8ffH89P05dJbNL7wU0DZoME6GgCDa3Wm0MaBfiGV8B1C2LH6+DEIW40m7Ow1d9PYPX/HjFOgAD//5dwhEDPqzzRI/PwVDPMYYdBsMtRu7dcg1AFgPftyBpIOv9tkvpigTEbJMuzsNI2W+17kaghu1u9OAXTjEpyFf7H0NbQbKP/vFBChgtbxofGPsZW+WaXenIVnmsypXoc42S2D12Wbpxm6dMYa8MN/sY4fHNsM0IjT1429vnW2Wbv/wFeDmwY87cArt7jRfLexsbzwSuR/LXP3y7Bfz5dvXH397C87IX+qg/bxfwC4IJ77BZ5slkBpiBm0M6BdimbL84hsmZtnLt68x6OH6xhh79ot5+v4cxDH0KKASIO/pi+eYL0Cv4/Oph//8O2PMFmrQQxhjmMVA98BqIWQhBQBc2rkmZBmAkp/yh0C3GYIb4ex8e/wbYqOGl2hnmyWQwj3fFLIMLjD8lL+rULyDIMXGrIq/wGh3p3ki4AUGRODBAVuw2o+/vWW+2X/2iwlZIWTl9umIAf0C/Hrw487ZZgkCCUMFTgTJPsaJUwrENFSF7fHpF7Dxi72vewKMWMYjQ9mygGVOBPBZ/dMXzzE1wOkbwIEt1Pi0zn+o8UNUTHC0u9Mwed8Tav2u/04SuRoCGyH6oSdgIuPMT70MAUIBNaBjeJ3LfLN/+v6ce74pZJntAuMlFKRU0AZIdqDsTOsGusDgwNB8sw+ZODQg3/rcJU0TsszpF5zWePn29c7PHZBR4Bdbus2nz9AYnCH16Re4rO783OkJMGKZsvziGyZgGYQa9mft7jQfVR9/ewszHWAZJmt4rxAmOOABAuhIsGe+9TnE1qdP7kAlzlCDHgIhBVdpqAFw1hNq/VgGJHLyBbCFhqB1OB/06ZM7YL5/Q5yJDFYLAqJoYM7TF89tWw62e7MMLjB4teBVhX6IyiDLICV5+uL5jd362WYJ1ACrIbmDPU/fnwOUfLH3NUDKmctod6chXTp9fw4SZFQVvGyfPhOyzOkXaAAA6PYPX4H4KKDNLyAFzGnCeXHPG7t1rBy87N8vLhdLYhmPDGXLApZhNCBEcL4MBimYcAGJYCIZUgBI2eDaaL7ZxwwOhjAwiID8AjqDM9Rg7INzwNhnArCMv5mAtkDbeEMgS4L7tjgrBOf1aQjkBTbQeIkG6IHsDFt1WPBmmfMC4yUUkAhm7qH9fMr58u1r+IrNg4l2cB9MC7heYPA+AO9WuPC8fPsaHX1oiJBlTr/gJD3fPIFfIJzwFg14DYbtkFmDUf79cmO3/vG3t2iMqSyvRA0TsMwZavYux8/yxli2h5owL3NNZBQxBDuhvT3eLHO9wNgPj9EX/KmBs/wWwTMZavoFR9DQZw5tobxMhBBlfvNiGabrPaE5pE5ia8POzx2cCT78yfv6zw9bbPUM9yvcHIS0yN4SD5bB41Q4irQfNTzvwIO7A7FMWb9A4t8TYMQyZXglaogrywBk9rmP4XUVvtPyV05ruwfL4GEx/kaqdchQzYFRDzjGhU0eLMN5SUWswGbgU4F2qZPmF7AI/IL3DTRimQghyvzmyjKM0cQUPPpMYtpvA6sHy5JnTjr8QixThleihhDLVAQEscwG9+F+JZaJEKLMb8QyYlmEClBepkxPT39DiGUR9uTA2QTlZYGli+JAyssSAUJiGbEsQgUoL0sEBdLRSGJZhD05cI5AeVlg6aI4kPKyRMCOWEYsi1AByssSQYF0NPKAZbhcdnIL6VgfG/WndctRChUK/+d/0rrlCcCdpmnnkv8ZHx8fGRlJvh2HFoyMjIyPj6fAnHT4ZXR09E9/+hOtW646zjQtDT7a3Nw8d+6c6lr7bt+5c+c2Nzd9767ujunwy+zs7PLychr6ibqRIqNloVi2tcXk/gtqUdg+I9eKra2gdhweF4plKtkSyi/KGEIsCxnPMR0elmWmyWT9C4GAUH2GsQMiy7LCNA9qC/cJyzJlbAnlF2WcQiwLF87eR7969arZbC4vLy8sLMzOzp4/f/7MmTNj3c/o6KimaQsLC95H239JBss0jQnHwqH6zFBYJrQoSSwTGhLKLzGzzNsQYpmdGuG///Wvfz1//vzJkydzudzs7Ownn3xy69ate/fufffdd53uZ29vb9CzEMsOFIu52xws6CiiM7FsCE7x9gixbFCq9Nl/fX19fHx8fX391atXfXYd5Gdi2YFaxDKvYWnf8bI3AhhjlJcN0hePzb4L3Y90c4llxDLRXCGxjDHKyyRjh1gmEDTU9Z/yMq+kzM99DMrLBHFJP7kqQCxzlQU2EssscWIeLxPLLOmp5E8BYplAJ2KZJQ6xzDXNDDFYpjGmFV1SSsQygYzEMkscYhmxzIoGJUvEMoFbiGWWOMQyYpkVDUqWFGdZY3398tTUtUKBmeZ+p7MwPz83MyO6QeYMOMEoQDgpE/bev2Puf6VSuTg5uVKpMNPcbbXmZmZuLi4OYIvAEAwtoUWyni8DR1ycnGxtbDDTBB811tdl2iI0JNQ1hoMyeOHy1NTeo0fMNMFBUPZrS1+neBtCY0wMWzkFlVm23+msVCp7jx5Bt1mYn99ttfwGGUJNEG3ecQbihuozvSzbbbXura421tcvTk7utloL8/P7nc5gtggMwVgQWiSLZfdWV3dbrZuLiwvz84319cGIDH7pa4vQkFB+4Vi2UqnsdzpzMzNr1erNxcXBcBzaEGIZhq2cgsosw65+rVC4VijYQNZYX7flaPudzlq1er1YxAMPCoJuI+ww0vMySC0vTk5eLxZ5kDmbvdtqXS8WL05OXp6asjqYwBCMBaFFslgG8rY2Ni5PTUGaiYLvPXp0c3FxrVrFLTcXF+dmZi5OTs7NzFge7GuL0BBZLINGrlQqczMzls5dSD1uNBbm5x83GmgIFK4Xiwvz89bGEIYQyzBs5RQSwbKVSoUPoP1OBzrMxclJjCrIFCBZwI0HBUG0CTtMFCxjpnmtUOC7umuzId/BUc+hOQJDMBaEFsll2X6nc3Fyku/tjfV18BRv4OWpqd1Wa7/TuV4sWpeZvrYIDZHLstbGBh9IzDTXqlUAHG8dM03ANx+KougCp3gbQizDsJVTUJ9lu63WtULh8tRUD6G6F09bCDLThMtpz56CbuMdZyBuqD7TO8aEJkEuaXVpGKe4NvsoO7AMFxiCsSC0SC7LIOG6t7rao3YXBDzL8NeVSsUajfa1RWhIKL9wY0zIlCEFtnLGI6fY8jKYJVyrVollGG5qFRRnGUwt4ZTZWrXKT80mi2UwtQRZAKSW2M9dENztUSuVijX26dv/Y/zbcphdWqlUrhUKMK2JtqxVq06WNdbXe6YI+9oSC8sAT3CxXKlUHjcaltqmaWPZ9WLxcaNBLFOLX3xrVGbZ3MwMdgC4ePKhxkwzKSwDFsPUEkw2w8gL+78ry2DIhvv0H87EwjL+ruXjRgPuMvPTf06WXZychFlCK/dRgGWQV0KT7q2uXpyctNLG7oWEZ1lrYwPcByyDW1IHrglhSMAxZrlc1nWd78Picq1Wy2az4n1cf8UTYcG5m67r5XLZtt11o22fKL6qzDKrGx+l/bYtSWGZrdnOr06Wudwf7NttYmGZs/G2LU6WwVCuZyqzry2x5GW2ltu+8ixbmJ8HIuN/D3cOYYgny3RdP1j7p/eDyHCSpd1ua5rWbrddAdGXZc1mk38VBH7FE2HBWb8rtlw32o512pjL5er1um23gb4ml2WPGw14voEPwbVqdW5mhk8TRFdOYYeJaO6fby2Wbc1+3GjgnJqVLPTtNmqwbGF+HhvPTHNuZgaf3rJmmvraInSNxPkydIGtsN/pXJ6acp0NtKyIKC9zsoDf4iRLzCwrl8u9mLW+NZtNxhjfWi8YmaapaVo+n4cd2u020G17e9vrkL7bE8oy/jqJsYXXzIuTk9aUjaDbCDtMbCxzNhseYsDth91MYAi6WWiR3Ll/W+eHGy/YZrzFuVatXp6aujg52fN4YF9bhIZEzbK1apU3BC3Fh4St+5shDBHlZZiFgWd5OgydZRhsXtjiW8vvbCtrmra0tIQbIR8EGuLGgQoJZRmGV/+CINqEHSY2lvU3AYbYAkPQ5UKLomaZX0PCpTNh/dJ7H3OANrtOdPR1irdHjjXLgFx8FlYqlQQjZYxwQYFYJhAn1PXf7ZmMUD2nb7dRY4zpy8a+tngjgFhmn/uXMsa0BordEmMME0AsOLtKNps1DMO23U9etrS0lMlk4MB2uw3j1lqtZqtqoK/EMoFcxDJLHGXSGWJZJCxDT/Nz/wg41zunsCd/3wAq8cOyfD6PlWuals1mve5dYMP6FohlAomIZZY4xDIaY1rR0C1ls9larWZ0P/xPfliWyWRKpRIc1Ww2XfM7vk4/5ehYBuvRBfgv29r6/fS0rH9sa8urDbBqkdevY2Njo6OjJ06cEOwg/ik2Q7AZYotOnDgxOjqKOw9UiNkWsSFh/KKOISdPnvzoo49c1i13soDf4hzxSRljIiz4vAzSMecZYdYfkzWAGtbAtxY38oXt7W1N0/gnMGCMGTI1i45lsB5dgP+yra3//q//kvWPbW15tQE6jNevnU6nVqtNTEwIdhD/FJsh2AyxRRMTE7VaDXceqBCzLWJDwvhFHUM++OCDpaUld5bx4y8o451NJ1mAZc5DNE2rdT/iZ2URXoAb/IonwgLyKNv94NfuRK2GE2d9WVar1WzT/MAy/lYAX7nPcnQs89kAl91iG84IJ5jDzsvQ3L/roMznPVmha0KN/WOLLohsb0M872O6dAluk5Ms3I8uRZ/PytpQKJj717sf55my2SwAty/LDMOw4TWbzeKtAGfNPrcQywRCheozxDJimfDOsios8+oACE0seO1p296XZdlsFp+S3d7ehvsAIW9iMsaIZTZH8F+JZZYayqQzYfNlZQw5piwzDIPPATOZTD6fD/OILMYosQylcBaIZZYmyiCAWGZ/JsNyklup7xjT7aCDbZiOYcFrT9v2vnmZbX9ZX4llAiWJZZY4xDLXIXOIh36PaV5mhZTsErFMoCixzBKHWKYIyyyXUKlXAWJZrx4934hllhzEMmKZFQ1KlohlArcQyyxxiGXEMisalCwRywRuIZZZ4hDLiGVWNChZIpYJ3EIss8QhlhHLrGhQskQsE7iFWGaJQywjllnRoGTpz3/+88LCgvSmOV8EMsApuG4DK2VcKxTgnfEL8/O29X37vy1LcNfc++9LoLUSWYavJG1tbDDT5FcA6W8C9CKBISiu0CJZ72KMwxahIaH8Elt0gVO8DQn4TAb6mgqMsZ9++qnVat24ceP8+fOjo6PfffeddFmksAwWK8MF5Xpesux6kXTdKECAd5yBIKH6TO/fMN1bXYVlfWEdX+st/q5tdt0oMAT9J7RIFsvisEVoSCi/HLEs8ugCp3gbkkiW1Wq1XC4HD+7n8/mQb7bAuHUWNjc3YczI//cPf/jDbPdz4cKF995772T3Mz4+Pj8/v76+/urVK2c94bdIYRkmLNcKhWuFgrUimWtX99ooQIB3nIECofpML8vAFlj4GlYnQ+v8FgSGoMOEFsliWRy2CA0J5ZcjlqHsUUUXOMXbkESyzDAM4BesNpLNZk3TxPCTWHCy7I9//COA7Le//e3ExMSpU6c0TTt16tT58+c/+eSTzc3NX3/9VWIDsCq5LFupVHCBEuxI1wqFi5OTczMzPONgYXAM04OCAAHecQaGhOozbizb73RwUQ9oJCz6C6t7ION2Wy1YD/Ty1JS1JKjAEE73g7fleHzkssynLfdWV8FTg9kidE0ovzhY5j+6mGleLxZ7QrGvU7wNSSTL+NCCdw1J+VNKvlr/5V9//bXT6Xz55ZeLi4sTExPvvvtup9Pxf7jPPSWyDJaVvjw1xRMK1sqFiRuILYACrKDD76kUy2B9WX6lsrVqFcabsJ45LPAD41BmmiuVirUGaN9uI3wrA2NMLssGtQUWZDp0TV9bvBEg9+8xfUYXNBvSamKZBQFN04bIMqsd3dLVq1dVnvvfbbUW5udxymytWoXFFpFWa9Uqvxqjy2Lmgm4j7DBh+4wjL7u5uAhLkV8rFGCyBq2AgnO5T1gY/HA3gSHoVKFFElkWwJbWxoZ136avLUJDZOVlA0UXXDhh3XLLcSEMiTAvM00TljWCV+vAQiGZTKZWq+FP2Ww25LsP4a2N0U2ZYVT7LKj8TMbczMzC/Dws3AtjLmvAdTQ75rwhYCUysI8g2oQdRiLL+LuWgCfAmdUlTLO1seG8IbBSqVgmCwxBZwstksKyYLbAwuzWbEBfW4SGSGHZoNF1vVh83Ggkg2WlUqnZbMLLWsvl8tLSkmma2WxW13V4wQ4stYvvqoW3YvCv4uHLGF18oV6v53K58C8d4+sMWVaZZXxXdy3fXFyERxz4XxVkGd881zIkCLafIImzNvbt//GOMa2GHV1XYIvTFliY+VqhYDmrry3Rs8yr/bidj67WxgbMZgLLViqVw/FBCEMizMsACuVyOZPJILBgYXB8y76mafiTf4hALgakK5VKEU38+28Pv2dyWQbDHIw8LCSOZdD5If1EKxrr6/Y0rW+3UYBlrraAUfdWVy3X9LVl2CyzRRfg2GUx8xCGRM6yfD7Pv4oa8jLo/DBtj1zjieCzDO+DzWQyIQeqPk/nZ7eEsmytWsUZdL7PP2407LNOgmgTdhiJY0wklLOw3+ngeLOxvg5z/48bDZwEtKwTGIKeFlokZYzpNAG3uNqyMD8PRsHNjcOd+9oiNETKGBOb7Sx4RRczzWSMMSEe+HXbYFCJQ0JYPSR8VpXL5fBt1xiEwyokkWVwKwAvknhfib944kal7mM6u83NxUU0BB/XmJuZ4Tf67f/DzstcbYEpf3h6JhFjTK/owr88QTcd+CUElKPNyyDzQnjV63VN0zCHMgwjl8vx0IHJNX6aDMv8brbyoK+ctR0u92sSWeYkgmiLINqEF/948jJRy3vnofp3m2GzTKYtQtdEnZfFY0i0LLPBC1CF7JCyti5jLJfL4VJyWPmwCsQygfKh+ozjmYwBeoiNYn1vyKINQgREPcYcwEDBBQZsERoSyi+OZ2UHaLbTLyEMiZZlpVKJX6XNthCcpmmlUml7exsXD8cQEhRgtU0YmbbbbcMwMpkMPZMhUOwgAXEGTeAtgmgTdhjKy3p8FJtT4KxC1xDLelzj+sUGL37ujDEGiyEZhjHQlBnyS9O0TCaDf8/k2oD4N0aXly0H/bCtrQd37sj6x7a2vBoCi2N7/bq8vFwsFs+cOSPYQfxTbIZgM8QWnTlzplgs4s4DFWK2RWxIGL+oY8j7779/MPKLv8+n9YzRsQz+DjTAf9nW1l/+/d9l/WNbW15tgA7j9evs7OyFCxdGR0cFO4h/is0QbIbYotHR0QsXLuDOAxVitkVsSBi/qGPIu+++e/BwflrJEr9d0bEsuC2xDWeEAxkaY/Z4MDanwFmFrqExZo9r6AsoQCwTREKoPkNz/4IpTsEkJviDWCaIS/rJVQFimasssJFYZolDeZkrmkNAOdr7mJbnjk2JWCZwNbHMEodYRiyzokHJErFM4BZimSUOsYxYZkWDkiVimcAtxDJLHGIZscyKBiVLxDKBW4hlljjEMmKZFQ1KlohlArcQyyxxiGXEMisalCwRywRuIZZZ4hDLiGVWNChZIpYJ3EIss8QhlhHLrGhQskQsE7iFWGaJQywjllnRoGSJWCZwC7HMEodYRiyzokHJkuIsg1V/rhUK+FZPa10y19hybhQ8mS38Qxm5f48JK5JdnJyEd6vyqxn5fcGRwBAMLaFFst5fFoctQkNCXWM4KEcbXeAUb0PouX8MWzkFlVkGi0ji4pjO5eN8UUCAAO84A3FD9Znev8e8t7q622rdXFyEdXytt/g74eu1RWAIxoLQIlksi8MWoSGh/HLEssijC5zibQixDMNWTkFlliGqrhUK1woFa3VF04RFs+Et8vz2xvq6PXETIMA7zkDcUH2ml2VgCyx8DauTwRZYOBLe7o/bd1stWA/08tSUautjolN82nJvdfVaoXBxcnIwW4SuCeWXI5ahIf6ji5nm9WLRWkpC5ff9y8FDompJBMtWKpWeADLNy1NTu63WfqdzvViEJYv2O52bi4tr1aq1cBkkOCqxbL/T6Vn5oruuD+Ro/ApSkLsx01ypVCxzBIZgyAkRICsvAwoMastatXp5auqQIH1tERoil2V+oguaDfjuCcUQhlBehmErp6A+y3ZbrWuFgtUNeodgK5WKbbxmdX71WAbpJK6Gh6kBzAZenJw8XEH2yMbHjYZleN9uE+/aJYPaAgsyqcYy/9EFs4RJWlNODiGSU4viLIO1Y3HKbK1a5Xt7Y319YX7etkqusiyD5WNXKhVYEBNHlMw09x49ul4sWsPJI5atVCrWRpVYNqgtMJS2ZgP62hJLXjZQdF0vFh83GsQyddmmMsvmZmYQVTB/ZHVs04Q5puvFotVDughQkGX8XUtItXB9X1g+Fib+1qpVPlNrrK/zvFNkTbkAtsC6pdcKBaXWxxwoulobG+ALYNlKpXJ4TQ0BZRpjSsaiyizjO7ZrGebIeuYvuozr2VkQbcKLv9xnMnqadJR28RuBcbDENzPNxvq6beysCMv4NnuVbbbAbvdWV63LjMApEOBC18idL/Oygo8ufhlpuIgeHhXCEGIZscxkpjk3MwMXRtvELT+D3j/ahB0mHpatVauQju09enR5agpY9rjRgBsarHvHtr8hGBRCi+TO/TsR4GrLwvw8GNXa2EgKy7yiC5LonmsnsQxjb+iFhOZlcFPs4uQk/9AZf/G0Ak4QbcKeHw/LYMoGHlnAMebczAxc/AdLAeKd+3eyzNUWmPKHQbRSY0xn+3GLa3Th09o9d6IF0QV92zvGKC+TTL+EsgzDrn9BEG3ecQYqhxrLuD1f1r+1bsPPw6MEhmBQCC2KOi8bwLq+tggNCeUXx/NlAzTb6Z0QhhDLMGzlFG7fvj0xMdFsNuVUd1SLpoVY929r62BuSOK/o1bZ/y/sMHLyMolW9O02UedlcdoidE1YlqlhCLHM3h/Df19eXs7lcu+888758+fn5+c/++yzWq328OHDTvfz7NmzAKcIxbIA5wt2iLDDSGBZsFaFOUpoUai8LEyrAhwrNCQUywI0Jswh3oYQy8LoKjr2p59++vLLLz/77LOrV69+8MEHExMTY93PqVOntO5nYWFBdHzvb8SyXj3i+ubdcxhjxLK43MCdx9sjxDJOJoWLmqYBClX+L+vGmaCFo6OjJ06cEOyg2k9ii06cODE6Oqpam13bIzYkQX4RGHLy5MmPPvooxFyMwv0/TU1rNpswRFX5vxBnghY+efLkm2++Eeyg2k9ii7755psnT56o1mbX9ogNSZBfBIb87W9/+8c//kEsSxP3hmeLd/4/vDaFO3NqLDo2hhDLwkU8HQ0KpKbDoENTY9GxMYRYhsFLhRAKpKbDoAapsejYGEIsw+ClQggFUtNhUIPUWHRsDCGWYfBSIYQCqekwqEFqLDo2hhDLMHipEEKB1HQY1CA1Fh0bQ4hlGLxUCKFAajoMapAai46NIcQyDF4qhFAgNR0GNUiNRcfGEGIZBi8VQiiQmg6DGqTGomNjCLEMg5cKIRRITYdBDVJj0bExhFiGwUuFEAqkpsOgBqmx6NgYQizD4KVCCAVS02FQg9RYdGwMIZZh8FIhhAKp6TCoQWosOjaGEMsweKkQQoHUdBjUIDUWHRtDiGUYvFQIoUBqOgxqkBqLjo0hxDIMXioEUuDhQ7a5Ce+WOihsbgaqRaWDUmPRMTOEWKZSL0piW65ePQQZXP+np5NoRE+bU2PRMTOEWNYTxvRlYAX29tiJE50hDv0AAAyjSURBVBbO/vM/B65BtQNSY9ExM4RYplpPSmB78PqfgqQM5E+NRcfJEGJZAtmhWpPx+p+CpAy0TY1Fx8kQYplqYEhme65eZalJysADqbHo2BhCLEsmO1Rr9d4eS01SBtqmxqJjYwixTDUqUHtIAVIgiALEsiCq0TGkACmgmgLEMtU8Qu0hBUiBIAoQy4KoRseQAqSAagoQy1TzCLWHFCAFgihALAuiGh1DCpACqilALFPNI9QeUoAUCKIAsSyIanQMKUAKqKYAsUw1j1B7SAFSIIgCxLIgqtExpAApoJoCxDLVPELtIQVIgSAKEMuCqEbHkAKkgGoKEMtU8wi1hxQgBYIoQCwLolpsxzSbzUuXLi0k//O77if5dhxYUCwWdV1Phy35fP7DDz9Mui26rn///ffEsti4FOREtVptbGws6aG2sLDwf7ufFBiysLBw5cqVkZGRdNgyPj6egovlyMjIzs4OsSwIYmI7ZnNz89y5c7GdLroTQc+Prv44a+50OmNjY3GeMbpzzc7OLi8vR1d/PDWPjY11Oh1iWTxqBzwLsSygcFEeRiyLUt0gdRPLgqgW8zHEspgF93M6YpkfleLcRwmWGd2PzWzDMDSPj67rtp3T/ZVYpqB/iWWqOSUmlnlASWs2m4wxV5Z5KVUul4llXuIovp3my9R0EM2XSfOLLJY1m818Pr+9vS2tZf4qarfbuq7XajV/uw+8F+VlA0sW/QGUl0Wv8WBniCkvY4zpum4YBrTOMIxsNttsNjFfw5/6Nt8rL6vVarlczjTNvjVEsYNpmgMReaA2EMsGkiuenYll8ejs/yzxscwwDBwb8uUAY0wn+JrNZiaTGRbIUG5d15eWlvCrrAKxTJaSEushlkkUU0pV8bGMz6cghQmclzlZFhFEBpW4Xq9HgVRi2aCOiGF/YlkMIg90ivhYVqvVMC/Tdb1cLmNDbaMzHHj2LUAN7XZb07R2u40V1mo1TdN0Xa/X69lsVtO0UqkEw0BN07LZLM6pwcZMJqNpWj6fx8xue3s7n89DA0qlEtTsWi2eFAqZTEb6xBmxzCayCl+JZSp4gW9DHCwDBLiCCehmYxnfPuAUbIE8jv8VylC/bbuu65lMBkZ8S0tLmqYZhtFut03TzGQyiCfDMGCWzTRNnNHb3t7WtMN7rHAsss9ZLf4EDdB1HSu3NSnwV2JZYOmiO5BYFp22wWqOg2V9WxaSZfzoFc+ldz/wFSAIz3/AXQhgqGmamqbV63XYrVarZTIZrEF8LGMMDsdqYX/+vLaqAn8llgWWLroDiWXRaRus5rhZ5pqj8cNDNAPGoX7yssAs4yfsMG2EBtTr9Xw+bxgGDD8RWDZUYfrGNxuH0rgxZCE6loE7ms0m6AwDf8hhQ7bZ9fBIny/TdT2bzTLGyuUyzDmgda6NCbkxUpZls1kcsmjawZ8YolEhm+16OD1f5iqLaCNGG78T34v47QOxLJfL8cfyyRdjzCsvg1Mjp7CGWq2WzWZh7szrWNiZWIai+SkQy/yoxBhLB8t0XQcQQ0eDW3bw9zyu6YtPcbx2iy8vA3tcbQB22Jpouz9g+5X/6jVfhvmRgEe6rudyOWhVvV6Hqa5yuQwsM02zVCrxwOLzMtsQFZpE82W8a2zlSFlmO1fUXyPNy6JuvK3+iPIyYFm7+8FkPw0sg1wJRgG8lOK8jN/Tq+ykJI5kYe4fbmXCXBjM5WuaBncb+fuVhmFALra9vQ2H6LoOlcOxXtXy0/9Ys1drA2yPbowZoDFhDiGWhVEvumMjYll0DXatOb68DE6POMD5KdvjFNhKgDq/G1+25Xf+kzisP4oCPV8mVpVYJtZnWL8Sy4alvMt5FXnuP5fL0XP/Lu452kQsO1JCrf8Ty9Tyx3D/HnPQv8QaSDsaYw4kVzw703xZPDr7P0vcY0z/LQuw57DekwHP2Up/3B8VIJahFOoUiGXq+AJakiqWqSaurPYQy2QpKbEeYplEMaVURSyTImO0lRDLotU3UO3EskCyRXgQsSxCcWVVTSyTpaTEeohlEsWUUhWxTIqM0VZCLItW30C1E8sCyRbhQcSyCMWVVTWxTJaSEushlkkUU0pVxDIpMkZbCbEsWn0D1U4sCyRbhAcRyyIUV1bVlUqF/5sHKpMCpICrAgd/eS2r11E9pAApQAoMUQFi2RDFp1OTAqSANAWIZdKkpIpIAVJgiAoQy4YoPp2aFCAFpClALJMmJVVECpACQ1SAWDZE8enUpAApIE0BYpk0KakiUoAUGKICxLIhik+nJgVIAWkKEMukSUkVkQKkwBAVIJYNUXw6NSlACkhTgFgmTUqqiBQgBYaoALFsiOLTqUkBUkCaAsQyaVJSRaQAKTBEBYhlQxSfTk0KkALSFCCWSZOSKiIFSIEhKkAsG6L4dGpSgBSQpgCxTJqUUVT0/fff67oOi34n+r9Xrly5dOlSok3gG6/rerFY5LcktPzhhx/m8/mENh6bfenSJXoXYxT8kVnnzs7OyMgI+iy5hd/97ndjY2PJbb+t5SMjI1euXLFtTOLXS5cujY+PJ7HlfJvHxsZqtRrlZTLRI72u1LxaPjULF4CL4QXz0t0df4XLy8uzs7Pxn1fuGc+dO7e5uUksk6uq5NqIZZIFlVQdsUySkHKqIZbJ0THSWohlkcobuHJiWWDpojiQWBaFqpLrJJZJFlRSdcQySULKqYZYJkfHSGshlkUqb+DKiWWBpYviwLhZdnDTVPjRdd2/nbVaLZvNuu6v63q5XOZ/glPzW5JSJpap6SlimVJ+CcuykGwql8uaJrrzoOu6K/pqtRpjjFimVDD1bQzdx+wr0VB2oPuYYWU/eBhE0/riTHAaG8ugQlf2tdttQV7WbrcNwwA+Ck7n+lM2mwUrGGPlctkwjHa77bpn4I2UlwWWLtIDKS+LVN5BKw+bl8H52u22Lb2CXu3VGsAKDifhq2EYrvuXy2UcSAKt4HTALPzJdqz/Meb29nY2m93e3rbV4POraZrIMsZYs9kMU5vrSYllrrIMfSOxbOgu4Bsgk2V8PmJ0P/yZoAxZDFKM3wGzKlt+BNthT74sZYxpmmYmk2k2m3xLnGXDMGyzb/w+PMsQZ6Zp8vuEKRPLwqgX3bHEsui0DVCzHJYxxjRNs7FM0PkHaig/NsRBJQ4kvfKybDZrawBfDzagXC7n83n86lXI5XK22vg9bSxjjIn354/1UyaW+VEp/n2IZfFrLjhjAljGD2DL5TKf0yHabBYCtmyYg40AQQRTNpu1pYEwpIXdSqUSgAnRCUNp0zRLpVImk9E0De5OYIXQkqWlJdvZbS0c6CuxbCC5YtuZWBab1H5OFJZlMHPPd3VnGdvhdVPSeQgM+vh5Mec+gjGmruuGYdimzJx5GdTPDzC3t7c1TYO5s1qthty0VWUYRi6XgzwUhr02lsG5ZA0zo2MZtBNormkaTFlms1k0HH0npRDpfUzDMOBKAx5pdj+aptmuVVIMgUqiY5mu63AthP7VbrfRKIntx6roPiZKcVDQNI2Hgq3z9+zKffFKrLhdREXXww3DgDgAVGEoO1nm3AIsK5fLNgzx5sBkf71ex5Y5x5hQMy8I7hygQCzzIxqxzI9KrvtExDIAMfSCbPcD+UdEF5iweRlKEynLvO4kOFkGqR+2CnAG6YaTXM4tjLF6vQ43KAzDQKLxLHNyKrksQ6HiKUSal8VjAn+W6PIy/iwxlCNlGSQT6WQZP+flhJGr57xYZtsZMzLbdmCNk1ywBYHFH7W9vZ3L5fC2AM8y58iUWMZLJygTywTiDPGniFgWs0Wh8rJB57/AtuhYJtbOyTInlfjH4vL5PE4b6d0PYwwehc1ms/l83ux+SqWS1z1TV0qKG+n6a3RjTNfTRbeRWBadtmFqJpYFVI9nmc8qfOZl4tqcLGOM2e5jQp4I9xlyuRw+QFuv1zPdDyTM8Hgt3MSEKTbbFAD/fK+4VX5+JZb5USn+fWiMGb/mgjOGyssE9Qp+Et/6dJ0vh2ld561M2OJ6iLMBriwLAFZnzc4t9HyZUxPGGOVlrrIMfSPlZUN3wWANcGWZz+f+BzoT3D2QNcBkjFFeNpD+se1MeVlsUvs50RDyMj/NinOfkH+PaWuq3NqgcmKZTWRFvhLLFHEENINYdqBDmPdk8O5cWlqi92TwgtjKNMa0CaLIVxpjKuKI9DeD8jI1fUx5mVJ+obxMKXe4N4ZY5q7LsLcSy4btgZ7zE8t65FDzC7FMTb8Qy5TyC7FMKXe4N4ZY5q7LsLcSy4btgZ7zE8t65FDzCzxN4vV4HW0nBUgBUKBSqYhWD1Gze1OrSAFSgBRwKvD/ASuTRWySfCCiAAAAAElFTkSuQmCC)"
      ],
      "metadata": {
        "id": "35mu9kavRaIM"
      }
    },
    {
      "cell_type": "markdown",
      "source": [
        "![image.png](data:image/png;base64,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)"
      ],
      "metadata": {
        "id": "UMEw9TgnRbXH"
      }
    },
    {
      "cell_type": "code",
      "source": [],
      "metadata": {
        "id": "vG3m7tDXRc4b"
      },
      "execution_count": null,
      "outputs": []
    }
  ]
}