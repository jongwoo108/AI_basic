{
  "nbformat": 4,
  "nbformat_minor": 0,
  "metadata": {
    "colab": {
      "provenance": []
    },
    "kernelspec": {
      "name": "python3",
      "display_name": "Python 3"
    },
    "language_info": {
      "name": "python"
    }
  },
  "cells": [
    {
      "cell_type": "markdown",
      "source": [
        "# 딥 러닝을 이용한 자연어 처리 입문"
      ],
      "metadata": {
        "id": "DW1-4t0PSP5-"
      }
    },
    {
      "cell_type": "markdown",
      "source": [
        "[구글 코랩에서 실행하기](https://colab.research.google.com/drive/15Szd3dAVhA3NZ__ZowYTDCtGrJGLGUz-?usp=sharing)"
      ],
      "metadata": {
        "id": "RE1xFHgRSpVp"
      }
    },
    {
      "cell_type": "markdown",
      "source": [
        "https://wikidocs.net/32105"
      ],
      "metadata": {
        "id": "yvh16OQZSwBt"
      }
    },
    {
      "cell_type": "markdown",
      "source": [
        "07-08 케라스(Keras) 훑어보기"
      ],
      "metadata": {
        "id": "uDvIZ2KGSxNE"
      }
    },
    {
      "cell_type": "markdown",
      "source": [
        "이 책에서는 딥 러닝을 쉽게 할 수 있는 파이썬 라이브러리인 케라스(Keras)를 사용합니다. 케라스는 유저가 손쉽게 딥 러닝을 구현할 수 있도록 도와주는 상위 레벨의 인터페이스로 딥 러닝을 쉽게 구현할 수 있도록 해줍니다.\n",
        "\n",
        "케라스의 모든 기능들을 열거하는 것만으로도 한 권의 책의 분량이므로 여기서 전부 다룰 수는 없습니다. 가장 좋은 방법은 케라스나 텐서플로우 공식 문서( https://keras.io/ or https://www.tensorflow.org/guide/keras?hl=ko )를 참고하는 것입니다. 여기서는 대표적으로 사용되는 케라스의 도구들을 이해합니다."
      ],
      "metadata": {
        "id": "-UBcttKUSyqi"
      }
    },
    {
      "cell_type": "markdown",
      "source": [
        "1. 전처리(Preprocessing)"
      ],
      "metadata": {
        "id": "JlvMXXNiS0bx"
      }
    },
    {
      "cell_type": "markdown",
      "source": [
        "Tokenizer() : 토큰화와 정수 인코딩을 위해 사용됩니다. 다음은 훈련 데이터로부터 단어 집합을 생성하고, 해당 단어 집합으로 임의의 문장을 정수 인코딩하는 과정을 보여줍니다."
      ],
      "metadata": {
        "id": "pEdxceP3S15K"
      }
    },
    {
      "cell_type": "markdown",
      "source": [
        "07-08 케라스(Keras) 훑어보기"
      ],
      "metadata": {
        "id": "8jBm585MS3FS"
      }
    },
    {
      "cell_type": "markdown",
      "source": [
        "이 책에서는 딥 러닝을 쉽게 할 수 있는 파이썬 라이브러리인 케라스(Keras)를 사용합니다. 케라스는 유저가 손쉽게 딥 러닝을 구현할 수 있도록 도와주는 상위 레벨의 인터페이스로 딥 러닝을 쉽게 구현할 수 있도록 해줍니다.\n",
        "\n",
        "케라스의 모든 기능들을 열거하는 것만으로도 한 권의 책의 분량이므로 여기서 전부 다룰 수는 없습니다. 가장 좋은 방법은 케라스나 텐서플로우 공식 문서( https://keras.io/ or https://www.tensorflow.org/guide/keras?hl=ko )를 참고하는 것입니다. 여기서는 대표적으로 사용되는 케라스의 도구들을 이해합니다."
      ],
      "metadata": {
        "id": "jUj9NU496nTx"
      }
    },
    {
      "cell_type": "markdown",
      "source": [
        "1. 전처리(Preprocessing)"
      ],
      "metadata": {
        "id": "P4oySyaE6pE-"
      }
    },
    {
      "cell_type": "markdown",
      "source": [
        "Tokenizer() : 토큰화와 정수 인코딩을 위해 사용됩니다. 다음은 훈련 데이터로부터 단어 집합을 생성하고, 해당 단어 집합으로 임의의 문장을 정수 인코딩하는 과정을 보여줍니다."
      ],
      "metadata": {
        "id": "6p_6AQ5j6qqk"
      }
    },
    {
      "cell_type": "code",
      "source": [
        "import tensorflow as tf"
      ],
      "metadata": {
        "id": "xWFyFR_t6r3V"
      },
      "execution_count": 1,
      "outputs": []
    },
    {
      "cell_type": "code",
      "source": [
        "from tensorflow.keras.preprocessing.text import Tokenizer\n",
        "from tensorflow.keras.preprocessing.sequence import pad_sequences\n",
        "\n",
        "tokenizer = Tokenizer()\n",
        "train_text = \"The earth is an awesome place live\"\n",
        "\n",
        "#단어 집합 생성\n",
        "tokenizer.fit_on_texts([train_text])\n",
        "\n",
        "#정수 인코딩\n",
        "sub_text = \"The earth is an great place live\"\n",
        "sequences = tokenizer.texts_to_sequences([sub_text])[0]\n",
        "\n",
        "print(\"정수 인코딩 : \", sequences)\n",
        "print(\"단어 집합 : \", tokenizer.word_index)"
      ],
      "metadata": {
        "colab": {
          "base_uri": "https://localhost:8080/"
        },
        "id": "_aLdjzpq6x3l",
        "outputId": "c2d19a2e-2c3a-4f85-89a5-d42687304e45"
      },
      "execution_count": 2,
      "outputs": [
        {
          "output_type": "stream",
          "name": "stdout",
          "text": [
            "정수 인코딩 :  [1, 2, 3, 4, 6, 7]\n",
            "단어 집합 :  {'the': 1, 'earth': 2, 'is': 3, 'an': 4, 'awesome': 5, 'place': 6, 'live': 7}\n"
          ]
        }
      ]
    },
    {
      "cell_type": "markdown",
      "source": [
        "출력 결과를 보면 great는 단어 집합(vocabulary)에 없으므로 출력되지 않습니다."
      ],
      "metadata": {
        "id": "8Uqxgbp77t8O"
      }
    },
    {
      "cell_type": "markdown",
      "source": [
        "pad_sequence() : 전체 훈련 데이터에서 각 샘플의 길이는 서로 다를 수 있습니다. 또는 각 문서 또는 각 문장은 단어의 수가 제각각입니다. 모델의 입력으로 사용하려면 모든 샘플의 길이를 동일하게 맞추어야할 때가 있습니다. 이를 자연어 처리에서는 패딩(padding) 작업이라고 하는데, 보통 숫자 0을 넣어서 길이가 다른 샘플들의 길이를 맞춰줍니다. 케라스에서는 pad_sequence()를 사용합니다. pad_sequence()는 정해준 길이보다 길이가 긴 샘플은 값을 일부 자르고, 정해준 길이보다 길이가 짧은 샘플은 값을 0으로 채웁니다."
      ],
      "metadata": {
        "id": "ncS9hn6x7yTG"
      }
    },
    {
      "cell_type": "code",
      "source": [
        "pad_sequences([[1, 2, 3], [3, 4, 5, 6], [7, 8]], maxlen=3, padding='pre')"
      ],
      "metadata": {
        "colab": {
          "base_uri": "https://localhost:8080/"
        },
        "id": "H8VWseX17y20",
        "outputId": "02a0189a-a4fa-4f91-f1ef-17de6aa692e4"
      },
      "execution_count": 3,
      "outputs": [
        {
          "output_type": "execute_result",
          "data": {
            "text/plain": [
              "array([[1, 2, 3],\n",
              "       [4, 5, 6],\n",
              "       [0, 7, 8]], dtype=int32)"
            ]
          },
          "metadata": {},
          "execution_count": 3
        }
      ]
    },
    {
      "cell_type": "markdown",
      "source": [
        "첫번째 인자 = 패딩을 진행할 데이터\\\n",
        "maxlen = 모든 데이터에 대해서 정규화 할 길이\\\n",
        "padding = 'pre'를 선택하면 앞에 0을 채우고 'post'를 선택하면 뒤에 0을 채움."
      ],
      "metadata": {
        "id": "LWxtECrY8gxI"
      }
    },
    {
      "cell_type": "markdown",
      "source": [
        "2. 워드 임베딩(Word Embedding)"
      ],
      "metadata": {
        "id": "izOL2XqC8i8C"
      }
    },
    {
      "cell_type": "markdown",
      "source": [
        "워드 임베딩 챕터에서 다루겠지만, 워드 임베딩이란 텍스트 내의 단어들을 밀집 벡터(dense vector)로 만드는 것을 말합니다. 앞서 배운 개념인 원-핫 벡터와 비교해봅시다. 원-핫 벡터는 대부분이 0의 값을 가지고, 단 하나의 1의 값을 가지는 벡터이며 벡터의 차원이 대체적으로 크다는 성질을 가졌습니다.\n",
        "\n",
        "Ex) [0 1 0 0 0 0 ... 중략 ... 0 0 0 0 0 0 0] # 차원이 굉장히 크면서 대부분의 값이 0\\\n",
        "원-핫 벡터는 단어 집합의 크기만큼 벡터의 차원을 가지며 단어 벡터 간의 유의미한 유사도를 구할 수 없다는 단점이 있습니다. 반면 워드 임베딩으로부터 얻은 임베딩 벡터는 상대적으로 저차원을 가지며 모든 원소의 값이 실수입니다.\\\n",
        "\n",
        "Ex) [0.1 -1.2 0.8 0.2 1.8] # 상대적으로 저차원이며 실수값을 가짐\\\n",
        "간단히 표로 정리하면 아래와 같습니다."
      ],
      "metadata": {
        "id": "-ZihGlBP8mpF"
      }
    },
    {
      "cell_type": "markdown",
      "source": [
        "단어를 원-핫 벡터로 만드는 과정을 원-핫 인코딩이라고 한다면, 단어를 밀집 벡터로 만드는 작업을 워드 임베딩(word embedding) 이라고 합니다. 밀집 벡터는 워드 임베딩 과정을 통해 나온 결과므로 임베딩 벡터(embedding vector)라고도 합니다. 원-핫 벡터의 차원이 주로 20,000 이상을 넘어가는 것과는 달리 임베딩 벡터는 주로 256, 512, 1024 등의 차원을 가집니다. 임베딩 벡터는 초기에는 랜덤값을 가지지만, 인공 신경망의 가중치가 학습되는 방법과 같은 방식으로 값이 학습되며 변경됩니다.\n",
        "\n",
        "Embedding() : Embedding()은 단어를 밀집 벡터로 만드는 역할을 합니다. 인공 신경망 용어로는 임베딩 층(embedding layer)을 만드는 역할을 합니다. Embedding()은 정수 인코딩이 된 단어들을 입력을 받아서 임베딩을 수행합니다.\n",
        "\n",
        "Embedding()은 (number of samples, input_length)인 2D 정수 텐서를 입력받습니다. 이때 각 sample은 정수 인코딩이 된 결과로, 정수의 시퀀스입니다. Embedding()은 워드 임베딩 작업을 수행하고 (number of samples, input_length, embedding word dimensionality)인 3D 텐서를 리턴합니다.\n",
        "\n",
        "아래의 코드는 실제 동작되는 코드가 아니라 의사 코드(pseudo-code)로 임베딩의 개념 이해를 돕기 위해서 작성되었습니다."
      ],
      "metadata": {
        "id": "Xk-Jg2uv8oX-"
      }
    },
    {
      "cell_type": "code",
      "source": [
        "# 1. 토큰화\n",
        "tokenized_text = [['Hope', 'to', 'see', 'you', 'soon'], ['Nice', 'to', 'see', 'you', 'again']]\n",
        "\n",
        "# 2. 각 단어에 대한 정수 인코딩\n",
        "encoded_text = [[0, 1, 2, 3, 4],[5, 1, 2, 3, 6]]\n",
        "\n",
        "# 3. 위 정수 인코딩 데이터가 아래의 임베딩 층의 입력이 된다.\n",
        "vocab_size = 7\n",
        "embedding_dim = 2\n",
        "# Embedding(vocab_size, embedding_dim, input_length=5)\n",
        "tf.keras.layers.Embedding(vocab_size, embedding_dim, input_length=5)\n"
      ],
      "metadata": {
        "colab": {
          "base_uri": "https://localhost:8080/"
        },
        "id": "CxdwoLTC8tn4",
        "outputId": "65719d43-54b5-4e43-ab99-537becdb3acc"
      },
      "execution_count": 6,
      "outputs": [
        {
          "output_type": "execute_result",
          "data": {
            "text/plain": [
              "<keras.layers.core.embedding.Embedding at 0x7d14945a7ee0>"
            ]
          },
          "metadata": {},
          "execution_count": 6
        }
      ]
    },
    {
      "cell_type": "markdown",
      "source": [
        "Embedding()의 대표적인 인자는 다음과 같습니다.\n",
        "\n",
        "첫번째 인자 = 단어 집합의 크기. 즉, 총 단어의 개수\\\n",
        "두번째 인자 = 임베딩 벡터의 출력 차원. 결과로서 나오는 임베딩 벡터의 크기\\\n",
        "input_length = 입력 시퀀스의 길이"
      ],
      "metadata": {
        "id": "jjtlTFjU9lQ4"
      }
    },
    {
      "cell_type": "markdown",
      "source": [
        "3. 모델링(Modeling)"
      ],
      "metadata": {
        "id": "Tnj5NM9u9udd"
      }
    },
    {
      "cell_type": "markdown",
      "source": [
        "Sequential() : 인공 신경망 챕터에서 입력층, 은닉층, 출력층에 대해서 배웠습니다. 케라스에서는 이러한 층을 구성하기 위해 Sequential()을 사용합니다. Sequential()을 model로 선언한 뒤에 model.add()라는 코드를 통해 층을 단계적으로 추가합니다. 아래는 model.add()로 층을 추가하는 예제 코드를 보여줍니다. 실제로는 세 개의 온점 대신에 층의 이름을 기재해야 합니다."
      ],
      "metadata": {
        "id": "B_JcHB5c9xYL"
      }
    },
    {
      "cell_type": "code",
      "source": [
        "from tensorflow.keras.models import Sequential\n",
        "from tensorflow.keras.layers import Dense"
      ],
      "metadata": {
        "id": "zayNP7tJ9zq-"
      },
      "execution_count": 7,
      "outputs": []
    },
    {
      "cell_type": "code",
      "source": [
        "# Padding sequences\n",
        "padded_sequences = pad_sequences([sequences], maxlen=10, padding='pre')\n",
        "print(\"패딩된 시퀀스:\", padded_sequences)\n",
        "\n",
        "# Example embedding layer\n",
        "vocab_size = len(tokenizer.word_index) + 1\n",
        "embedding_dim = 5\n",
        "max_sequence_length = 10\n",
        "\n",
        "model = Sequential()\n",
        "model.add(Embedding(vocab_size, embedding_dim, input_length=max_sequence_length))\n",
        "# Rest of your model architecture\n"
      ],
      "metadata": {
        "colab": {
          "base_uri": "https://localhost:8080/"
        },
        "id": "8PNwl4EPRL70",
        "outputId": "d0d0defc-aef5-4ba0-9795-9d4f70aa4699"
      },
      "execution_count": 13,
      "outputs": [
        {
          "output_type": "stream",
          "name": "stdout",
          "text": [
            "패딩된 시퀀스: [[0 0 0 0 1 2 3 6 7 8]]\n"
          ]
        }
      ]
    },
    {
      "cell_type": "markdown",
      "source": [
        "위의 코드에서 Dense()는 한번 사용되었지만 더 많은 층을 추가할 수 있습니다. Dense()의 대표적인 인자를 보겠습니다.\n",
        "\n",
        "첫번째 인자 = 출력 뉴런의 수.\n",
        "input_dim = 입력 뉴런의 수. (입력의 차원)\n",
        "activation = 활성화 함수.\n",
        "- linear : 디폴트 값으로 별도 활성화 함수 없이 입력 뉴런과 가중치의 계산 결과 그대로 출력.\n",
        "- sigmoid : 이진 분류 문제에서 출력층에 주로 사용되는 활성화 함수.\n",
        "- softmax : 셋 이상의 선택지 중 하나를 택하는 다중 클래스 분류 문제에서 출력층에 주로 사용되는 활성화 함수.\n",
        "- relu : 은닉층에 주로 사용되는 활성화 함수.\n",
        "\n",
        "위 코드에서 사용된 Dense()의 의미를 보겠습니다. 첫번째 인자의 값은 1인데 이는 총 1개의 출력 뉴런을 의미합니다. Dense()의 두번째 인자인 input_dim은 입력층의 뉴런 수를 의미합니다. 이 경우에는 3입니다. 3개의 입력층 뉴런과 1개의 출력층 뉴런을 만들었습니다. 이를 시각화하면 다음과 같습니다."
      ],
      "metadata": {
        "id": "qfPtgbWARPTI"
      }
    },
    {
      "cell_type": "markdown",
      "source": [
        "![image.png](data:image/png;base64,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)"
      ],
      "metadata": {
        "id": "JfbjeRxzUpYL"
      }
    },
    {
      "cell_type": "markdown",
      "source": [
        "Dense()를 사용하여 전결합층을 하나 더 추가해보겠습니다."
      ],
      "metadata": {
        "id": "YKzW1MgDUsk2"
      }
    },
    {
      "cell_type": "code",
      "source": [
        "model = Sequential()\n",
        "model.add(Dense(8, input_dim = 4, activation = 'relu'))\n",
        "model.add(Dense(1, activation = 'sigmoid')) #출력층"
      ],
      "metadata": {
        "id": "tCE2bRMCUuEA"
      },
      "execution_count": 14,
      "outputs": []
    },
    {
      "cell_type": "markdown",
      "source": [
        "이번에는 Dense()가 두 번 사용되었습니다. Dense()가 처음 사용되었을 때와 추가로 사용되었을 때의 인자는 조금 다릅니다. 첫번째 사용된 Dense()의 8이라는 값은 더 이상 출력층의 뉴런이 아니라 은닉층의 뉴런입니다. 층이 하나 더 생겼기 때문입니다."
      ],
      "metadata": {
        "id": "QLo1Fym1U3VC"
      }
    },
    {
      "cell_type": "markdown",
      "source": [
        "두번째 Dense()는 input_dim 인자가 없는데, 이는 이미 이전 층의 뉴런 수가 8개임을 알고있기 때문입니다. 위 코드에서 두번째 Dense()는 마지막 층이므로, 첫번째 인자 1은 결국 출력층의 뉴런 개수가 됩니다. 이를 시각화하면 다음과 같습니다."
      ],
      "metadata": {
        "id": "71bgT-OlU5ub"
      }
    },
    {
      "cell_type": "markdown",
      "source": [
        "![image.png](data:image/png;base64,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)"
      ],
      "metadata": {
        "id": "HbVOU1CvU7SO"
      }
    },
    {
      "cell_type": "markdown",
      "source": [
        "이 외에도 LSTM, GRU, Convolution2D, BatchNormalization 등 다양한 층을 만들 수 있습니다. 일부는 뒤에서 배웁니다.\n",
        "\n",
        "summary() : 모델의 정보를 요약해서 보여줍니다."
      ],
      "metadata": {
        "id": "ldXcPyJrU8ln"
      }
    },
    {
      "cell_type": "code",
      "source": [
        "model.summary()"
      ],
      "metadata": {
        "colab": {
          "base_uri": "https://localhost:8080/"
        },
        "id": "DLtZfjERU-iX",
        "outputId": "e5351454-83df-46d9-b737-c1531d7bcd83"
      },
      "execution_count": 15,
      "outputs": [
        {
          "output_type": "stream",
          "name": "stdout",
          "text": [
            "Model: \"sequential_5\"\n",
            "_________________________________________________________________\n",
            " Layer (type)                Output Shape              Param #   \n",
            "=================================================================\n",
            " dense (Dense)               (None, 8)                 40        \n",
            "                                                                 \n",
            " dense_1 (Dense)             (None, 1)                 9         \n",
            "                                                                 \n",
            "=================================================================\n",
            "Total params: 49\n",
            "Trainable params: 49\n",
            "Non-trainable params: 0\n",
            "_________________________________________________________________\n"
          ]
        }
      ]
    },
    {
      "cell_type": "markdown",
      "source": [
        "4. 컴파일(Compile)과 훈련(Training)"
      ],
      "metadata": {
        "id": "tbSD3t2AVAyk"
      }
    },
    {
      "cell_type": "markdown",
      "source": [
        "아래의 코드는 RNN을 이용하여 이진 분류를 하는 전형적인 코드를 보여줍니다. RNN은 다음 챕터에서 학습합니다. 임베딩층, 은닉층, 출력층을 추가하여 모델을 설계한 후에, 마지막으로 컴파일을 합니다.\n",
        "\n",
        "compile() : 모델을 기계가 이해할 수 있도록 컴파일 합니다. 손실 함수와 옵티마이저, 메트릭 함수를 선택합니다."
      ],
      "metadata": {
        "id": "Shai5adLVEDx"
      }
    },
    {
      "cell_type": "code",
      "source": [
        "from tensorflow.keras.layers import SimpleRNN, Embedding, Dense\n",
        "from tensorflow.keras.models import Sequential\n",
        "\n",
        "vocab_size = 10000\n",
        "embedding_dim = 32\n",
        "hidden_units = 32\n",
        "\n",
        "model = Sequential()\n",
        "model.add(Embedding(vocab_size, embedding_dim))\n",
        "model.add(SimpleRNN(hidden_units))\n",
        "model.add(Dense(1, activation = 'sigmoid'))\n",
        "model.compile(optimizer = 'rmsprop', loss = 'binary_crossentropy', metrics=['acc'])"
      ],
      "metadata": {
        "id": "PklXR6QTVGZa"
      },
      "execution_count": 17,
      "outputs": []
    },
    {
      "cell_type": "markdown",
      "source": [
        "optimizer = 훈련 과정을 설정하는 옵티마이저를 설정합니다.\\\n",
        "loss = 훈련 과정에서 사용할 손실 함수(loss function)를 설정합니다.\\\n",
        "metrics = 훈련을 모니터링하기 위한 지표를 선택합니다.\n",
        "\n",
        "대표적으로 사용되는 손실 함수와 활성화 함수의 조합은 다음과 같습니다. 더 많은 함수는 공식문서를 참고바랍니다."
      ],
      "metadata": {
        "id": "ypvxd4-PVivY"
      }
    },
    {
      "cell_type": "markdown",
      "source": [
        "문제 유형\t손실 함수명\t출력층의 활성화 함수명\t참고 실습  \n",
        "회귀 문제\tmean_squared_error\t-\t선형 회귀 실습\n",
        "다중 클래스 분류\tcategorical_crossentropy\t소프트맥스\t로이터 뉴스 분류하기\n",
        "다중 클래스 분류\tsparse_categorical_crossentropy\t소프트맥스\t양방향 LSTM를 이용한 품사 태깅\n",
        "이진 분류\tbinary_crossentropy\t시그모이드\tIMDB 리뷰 감성 분류하기"
      ],
      "metadata": {
        "id": "xWR1iPMvVzCC"
      }
    },
    {
      "cell_type": "markdown",
      "source": [
        "sparse_categorical_crossentropy는 categorical_crossentropy와 동일하게 다중 클래스 분류에서 사용하지만, 레이블을 원-핫 인코딩하지 않고 정수 인코딩 된 상태에서 수행 가능하다는 점이 다릅니다.\n",
        "\n",
        "fit() : 모델을 학습합니다. 모델이 오차로부터 매개 변수를 업데이트 시키는 과정을 학습, 훈련, 또는 적합(fitting)이라고 하는데, 모델이 데이터에 적합해가는 과정이기 때문입니다. 그런 의미에서 fit()은 모델의 훈련을 시작합니다."
      ],
      "metadata": {
        "id": "xgYKPBSBV5UH"
      }
    },
    {
      "cell_type": "code",
      "source": [
        "# 위의 compile() 코드의 연장선상인 코드\n",
        "model.fit(X_train, y_train, epochs = 10, batch_size = 32)"
      ],
      "metadata": {
        "colab": {
          "base_uri": "https://localhost:8080/",
          "height": 198
        },
        "id": "lgE2S0loV7jR",
        "outputId": "73f24887-ba3b-4a34-e2d5-aa2c27b64a16"
      },
      "execution_count": 18,
      "outputs": [
        {
          "output_type": "error",
          "ename": "NameError",
          "evalue": "ignored",
          "traceback": [
            "\u001b[0;31m---------------------------------------------------------------------------\u001b[0m",
            "\u001b[0;31mNameError\u001b[0m                                 Traceback (most recent call last)",
            "\u001b[0;32m<ipython-input-18-5b7e87a29b4a>\u001b[0m in \u001b[0;36m<cell line: 2>\u001b[0;34m()\u001b[0m\n\u001b[1;32m      1\u001b[0m \u001b[0;31m# 위의 compile() 코드의 연장선상인 코드\u001b[0m\u001b[0;34m\u001b[0m\u001b[0;34m\u001b[0m\u001b[0m\n\u001b[0;32m----> 2\u001b[0;31m \u001b[0mmodel\u001b[0m\u001b[0;34m.\u001b[0m\u001b[0mfit\u001b[0m\u001b[0;34m(\u001b[0m\u001b[0mX_train\u001b[0m\u001b[0;34m,\u001b[0m \u001b[0my_train\u001b[0m\u001b[0;34m,\u001b[0m \u001b[0mepochs\u001b[0m \u001b[0;34m=\u001b[0m \u001b[0;36m10\u001b[0m\u001b[0;34m,\u001b[0m \u001b[0mbatch_size\u001b[0m \u001b[0;34m=\u001b[0m \u001b[0;36m32\u001b[0m\u001b[0;34m)\u001b[0m\u001b[0;34m\u001b[0m\u001b[0;34m\u001b[0m\u001b[0m\n\u001b[0m",
            "\u001b[0;31mNameError\u001b[0m: name 'X_train' is not defined"
          ]
        }
      ]
    },
    {
      "cell_type": "markdown",
      "source": [
        "첫번째 인자 = 훈련 데이터에 해당됩니다.\\\n",
        "두번째 인자 = 지도 학습에서 레이블 데이터에 해당됩니다.\\\n",
        "epochs = 에포크. 에포크 1은 전체 데이터를 한 차례 훑고 지나갔음을 의미함.\\ 정수값 기재 필요. 총 훈련 횟수를 정의합니다.\\\n",
        "batch_size = 배치 크기. 기본값은 32. 미니 배치 경사 하강법을 사용하고 싶지 않을 경우에는 batch_size=None을 기재합니다.\n",
        "\n",
        "좀 더 많은 인자를 사용할 때를 보겠습니다."
      ],
      "metadata": {
        "id": "m4P59z37YAd1"
      }
    },
    {
      "cell_type": "code",
      "source": [
        "model.fit(X_train, y_train, epochs=10, batch_size=32, verbose=0, validation_data = (X_val, y_val))\n"
      ],
      "metadata": {
        "colab": {
          "base_uri": "https://localhost:8080/",
          "height": 180
        },
        "id": "e72Op7ZCYSFE",
        "outputId": "5000290e-8b8a-49c8-afbc-cd1e0fae22d1"
      },
      "execution_count": 21,
      "outputs": [
        {
          "output_type": "error",
          "ename": "NameError",
          "evalue": "ignored",
          "traceback": [
            "\u001b[0;31m---------------------------------------------------------------------------\u001b[0m",
            "\u001b[0;31mNameError\u001b[0m                                 Traceback (most recent call last)",
            "\u001b[0;32m<ipython-input-21-e355b79361ca>\u001b[0m in \u001b[0;36m<cell line: 1>\u001b[0;34m()\u001b[0m\n\u001b[0;32m----> 1\u001b[0;31m \u001b[0mmodel\u001b[0m\u001b[0;34m.\u001b[0m\u001b[0mfit\u001b[0m\u001b[0;34m(\u001b[0m\u001b[0mX_train\u001b[0m\u001b[0;34m,\u001b[0m \u001b[0my_train\u001b[0m\u001b[0;34m,\u001b[0m \u001b[0mepochs\u001b[0m\u001b[0;34m=\u001b[0m\u001b[0;36m10\u001b[0m\u001b[0;34m,\u001b[0m \u001b[0mbatch_size\u001b[0m\u001b[0;34m=\u001b[0m\u001b[0;36m32\u001b[0m\u001b[0;34m,\u001b[0m \u001b[0mverbose\u001b[0m\u001b[0;34m=\u001b[0m\u001b[0;36m0\u001b[0m\u001b[0;34m,\u001b[0m \u001b[0mvalidation_data\u001b[0m \u001b[0;34m=\u001b[0m \u001b[0;34m(\u001b[0m\u001b[0mX_val\u001b[0m\u001b[0;34m,\u001b[0m \u001b[0my_val\u001b[0m\u001b[0;34m)\u001b[0m\u001b[0;34m)\u001b[0m\u001b[0;34m\u001b[0m\u001b[0;34m\u001b[0m\u001b[0m\n\u001b[0m",
            "\u001b[0;31mNameError\u001b[0m: name 'X_train' is not defined"
          ]
        }
      ]
    },
    {
      "cell_type": "markdown",
      "source": [
        "validation_data(x_val, y_val) = 검증 데이터(validation data)를 사용합니다. 일반적으로 검증 데이터를 사용하면 각 에포크마다 검증 데이터의 정확도나 오차를 함께 출력하는데, 이 정확도는 훈련이 잘 되고 있는지를 보여줄 뿐이며 실제로 모델이 검증 데이터를 학습하지는 않습니다. 검증 데이터의 오차(loss)가 낮아지다가 높아지기 시작하면 이는 과적합(overfitting)의 신호입니다.\n",
        "\n",
        "validation_split = validation_data와 동일하게 검증 데이터를 사용하기 위한 용도로 validation_data 대신 사용할 수 있습니다. 검증 데이터를 지정하는 것이 아니라 훈련 데이터와 훈련 데이터의 레이블인 X_train과 y_train에서 일정 비율 분리하여 이를 검증 데이터로 사용합니다."
      ],
      "metadata": {
        "id": "2LyNs5zCYW7T"
      }
    },
    {
      "cell_type": "code",
      "source": [
        "# 훈련 데이터의 20%를 검증 데이터로 사용.\n",
        "model.fit(X_train, y_train, epochs=10, batch_size=32, verbose=0, validation_split=0.2))"
      ],
      "metadata": {
        "colab": {
          "base_uri": "https://localhost:8080/",
          "height": 145
        },
        "id": "8aQwpLQoYeZ9",
        "outputId": "b427367b-2951-4e93-b00f-f323a97f2b9c"
      },
      "execution_count": 22,
      "outputs": [
        {
          "output_type": "error",
          "ename": "SyntaxError",
          "evalue": "ignored",
          "traceback": [
            "\u001b[0;36m  File \u001b[0;32m\"<ipython-input-22-0bc2933cae9e>\"\u001b[0;36m, line \u001b[0;32m2\u001b[0m\n\u001b[0;31m    model.fit(X_train, y_train, epochs=10, batch_size=32, verbose=0, validation_split=0.2))\u001b[0m\n\u001b[0m                                                                                          ^\u001b[0m\n\u001b[0;31mSyntaxError\u001b[0m\u001b[0;31m:\u001b[0m unmatched ')'\n"
          ]
        }
      ]
    },
    {
      "cell_type": "markdown",
      "source": [
        "verbose = 학습 중 출력되는 문구를 설정합니다.\n",
        "- 0 : 아무 것도 출력하지 않습니다.\n",
        "- 1 : 훈련의 진행도를 보여주는 진행 막대를 보여줍니다.\n",
        "- 2 : 미니 배치마다 손실 정보를 출력합니다.\n",
        "\n",
        "아래는 verbose의 값이 1일 때와 2일 때를 보여줍니다."
      ],
      "metadata": {
        "id": "992JYZZAaKns"
      }
    },
    {
      "cell_type": "code",
      "source": [
        "# verbose = 1일 경우.\n",
        "Epoch 88/100\n",
        "7/7 [==============================] - 0s 143us/step - loss: 0.1029 - acc: 1.0000"
      ],
      "metadata": {
        "colab": {
          "base_uri": "https://localhost:8080/",
          "height": 145
        },
        "id": "jg2dZ0PwaMpC",
        "outputId": "549b84e9-6996-4236-c6d0-77c245fffdce"
      },
      "execution_count": 23,
      "outputs": [
        {
          "output_type": "error",
          "ename": "SyntaxError",
          "evalue": "ignored",
          "traceback": [
            "\u001b[0;36m  File \u001b[0;32m\"<ipython-input-23-003f5bfa5ce7>\"\u001b[0;36m, line \u001b[0;32m3\u001b[0m\n\u001b[0;31m    7/7 [==============================] - 0s 143us/step - loss: 0.1029 - acc: 1.0000\u001b[0m\n\u001b[0m                                           ^\u001b[0m\n\u001b[0;31mSyntaxError\u001b[0m\u001b[0;31m:\u001b[0m invalid decimal literal\n"
          ]
        }
      ]
    },
    {
      "cell_type": "code",
      "source": [
        "# verbose = 2일 경우.\n",
        "Epoch 88/100\n",
        " - 0s - loss: 0.1475 - acc: 1.0000"
      ],
      "metadata": {
        "id": "jpdbRzMSaOyU"
      },
      "execution_count": null,
      "outputs": []
    },
    {
      "cell_type": "markdown",
      "source": [
        "5. 평가(Evaluation)와 예측(Prediction)"
      ],
      "metadata": {
        "id": "TQR1ZjmHaeEW"
      }
    },
    {
      "cell_type": "markdown",
      "source": [
        "evaluate() : 테스트 데이터를 통해 학습한 모델에 대한 정확도를 평가합니다."
      ],
      "metadata": {
        "id": "RlrmIL3oaeOJ"
      }
    },
    {
      "cell_type": "code",
      "source": [
        "# 위의 fit() 코드의 연장선상인 코드\n",
        "model.evaluate(X_test, y_test, batch_size=32)"
      ],
      "metadata": {
        "id": "2gixEHD_aeTx"
      },
      "execution_count": null,
      "outputs": []
    },
    {
      "cell_type": "markdown",
      "source": [
        "첫번째 인자 = 테스트 데이터에 해당됩니다.\\\n",
        "두번째 인자 = 지도 학습에서 레이블 테스트 데이터에 해당됩니다.\\\n",
        "batch_size = 배치 크기."
      ],
      "metadata": {
        "id": "KkM6xTUcaij_"
      }
    },
    {
      "cell_type": "markdown",
      "source": [
        "predict() : 임의의 입력에 대한 모델의 출력값을 확인합니다."
      ],
      "metadata": {
        "id": "BnkEDvrPaimQ"
      }
    },
    {
      "cell_type": "code",
      "source": [
        "# 위의 fit() 코드의 연장선상인 코드\n",
        "model.predict(X_input, batch_size=32)"
      ],
      "metadata": {
        "id": "j6K92mwhanIj"
      },
      "execution_count": null,
      "outputs": []
    },
    {
      "cell_type": "markdown",
      "source": [
        "첫번째 인자 = 예측하고자 하는 데이터.\\\n",
        "batch_size = 배치 크기."
      ],
      "metadata": {
        "id": "KbYuGNouao9W"
      }
    },
    {
      "cell_type": "markdown",
      "source": [
        "6. 모델의 저장(Save)과 로드(Load)"
      ],
      "metadata": {
        "id": "wpe_LiKhaqra"
      }
    },
    {
      "cell_type": "markdown",
      "source": [
        "복습을 위한 스터디나 실제 어플리케이션 개발 단계에서 구현한 모델을 저장하고 불러오는 일은 중요합니다. 모델을 저장한다는 것은 학습이 끝난 신경망의 구조를 보존하고 계속해서 사용할 수 있다는 의미입니다.\n",
        "\n",
        "save() : 인공 신경망 모델을 hdf5 파일에 저장합니다."
      ],
      "metadata": {
        "id": "nolPvsBWar9I"
      }
    },
    {
      "cell_type": "code",
      "source": [
        "model.save(\"model_name.h5\")"
      ],
      "metadata": {
        "id": "Dva1zoALat4w"
      },
      "execution_count": 24,
      "outputs": []
    },
    {
      "cell_type": "markdown",
      "source": [
        "load_model() : 저장해둔 모델을 불러옵니다."
      ],
      "metadata": {
        "id": "qVGV-tO_avSr"
      }
    },
    {
      "cell_type": "code",
      "source": [
        "from tensorflow.keras.models import load_model\n",
        "model = load_model(\"model_name.h5\")"
      ],
      "metadata": {
        "id": "3BrmFj4uaxaw"
      },
      "execution_count": 25,
      "outputs": []
    },
    {
      "cell_type": "code",
      "source": [],
      "metadata": {
        "id": "ahc-Jfqnayfa"
      },
      "execution_count": null,
      "outputs": []
    }
  ]
}