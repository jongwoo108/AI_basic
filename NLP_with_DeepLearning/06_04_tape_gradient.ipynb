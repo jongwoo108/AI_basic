{
  "nbformat": 4,
  "nbformat_minor": 0,
  "metadata": {
    "colab": {
      "provenance": []
    },
    "kernelspec": {
      "name": "python3",
      "display_name": "Python 3"
    },
    "language_info": {
      "name": "python"
    }
  },
  "cells": [
    {
      "cell_type": "markdown",
      "source": [
        "# 딥 러닝을 이용한 자연어 처리 입문"
      ],
      "metadata": {
        "id": "lT9z0RHLMwPo"
      }
    },
    {
      "cell_type": "markdown",
      "source": [
        "[구글 코랩에서 실행하기](https://colab.research.google.com/drive/1WQSkfs-BU9ovWMXgFoiJH5Ap7IHV2zth?usp=sharing)"
      ],
      "metadata": {
        "id": "bVnsnMKJNU7J"
      }
    },
    {
      "cell_type": "markdown",
      "source": [
        "https://wikidocs.net/111472"
      ],
      "metadata": {
        "id": "PTKc0XWFNcrH"
      }
    },
    {
      "cell_type": "markdown",
      "source": [
        "06-04 자동 미분과 선형 회귀 실습"
      ],
      "metadata": {
        "id": "ulOyxj8wNeTZ"
      }
    },
    {
      "cell_type": "markdown",
      "source": [
        "선형 회귀를 텐서플로우와 케라스를 통해 구현해봅시다."
      ],
      "metadata": {
        "id": "7JWwx6b3Nf2B"
      }
    },
    {
      "cell_type": "markdown",
      "source": [
        "1. 자동 미분"
      ],
      "metadata": {
        "id": "pQZvAH2GNhcP"
      }
    },
    {
      "cell_type": "code",
      "source": [
        "import tensorflow as tf"
      ],
      "metadata": {
        "id": "w49fDlpMNijk"
      },
      "execution_count": 1,
      "outputs": []
    },
    {
      "cell_type": "markdown",
      "source": [
        "tape_gradient()는 자동 미분 기능을 수행"
      ],
      "metadata": {
        "id": "BqHOpq7YNk5F"
      }
    },
    {
      "cell_type": "markdown",
      "source": [
        "임의로 2w^2 + 5라는 식을세우고 w에 대해 미분"
      ],
      "metadata": {
        "id": "IIJbT_O6Nmq0"
      }
    },
    {
      "cell_type": "code",
      "source": [
        "w = tf.Variable(2.)"
      ],
      "metadata": {
        "id": "S_WxhJYsNt6Q"
      },
      "execution_count": 2,
      "outputs": []
    },
    {
      "cell_type": "code",
      "source": [
        "def f(w):\n",
        "    y = w**2\n",
        "    z = 2*y + 5\n",
        "    return z"
      ],
      "metadata": {
        "id": "o1FbrDmTNwBH"
      },
      "execution_count": 3,
      "outputs": []
    },
    {
      "cell_type": "markdown",
      "source": [
        "gradients를 출력하면 w\n",
        "에 대해 미분한 값이 저장된 것을 확인"
      ],
      "metadata": {
        "id": "9R4cNZbGN4NF"
      }
    },
    {
      "cell_type": "code",
      "source": [
        "with tf.GradientTape() as tape:\n",
        "    z = f(w)\n",
        "\n",
        "gradients = tape.gradient(z, [w])\n",
        "print(gradients)"
      ],
      "metadata": {
        "colab": {
          "base_uri": "https://localhost:8080/"
        },
        "id": "AKUN5_91N6Rg",
        "outputId": "37164609-e4b3-4d5c-8154-0d00dc9082e7"
      },
      "execution_count": 5,
      "outputs": [
        {
          "output_type": "stream",
          "name": "stdout",
          "text": [
            "[<tf.Tensor: shape=(), dtype=float32, numpy=8.0>]\n"
          ]
        }
      ]
    },
    {
      "cell_type": "markdown",
      "source": [
        "이 자동 미분 기능을 사용하여 선형 회귀를 구현"
      ],
      "metadata": {
        "id": "xTChcPd8OEqA"
      }
    },
    {
      "cell_type": "markdown",
      "source": [
        "2. 자동 미분을 이용한 선형 회귀 구현"
      ],
      "metadata": {
        "id": "7VypiqNOOKL4"
      }
    },
    {
      "cell_type": "markdown",
      "source": [
        "우선 가중치 변수 w와 b를 선언\\\n",
        "학습될 값이므로 임의의 값인 4와 1로 초기화"
      ],
      "metadata": {
        "id": "6YvdMtnrOMa6"
      }
    },
    {
      "cell_type": "code",
      "source": [
        "# 학습될 가중치 변수를 선언\n",
        "w = tf.Variable(4.0)\n",
        "b = tf.Variable(1.0)"
      ],
      "metadata": {
        "id": "P0YizwihOODQ"
      },
      "execution_count": 6,
      "outputs": []
    },
    {
      "cell_type": "markdown",
      "source": [
        "가설을 함수로서 정의"
      ],
      "metadata": {
        "id": "3DEhtiqfOfQD"
      }
    },
    {
      "cell_type": "code",
      "source": [
        "@tf.function\n",
        "def hypothesis(x):\n",
        "    return w*x + b"
      ],
      "metadata": {
        "id": "phA65KyfOg30"
      },
      "execution_count": 7,
      "outputs": []
    },
    {
      "cell_type": "markdown",
      "source": [
        "현재의 가설에서 w와 b는 각각 4와 1이므로 임이의 입력값을 넣었을 때의 결과는 다음과 같다."
      ],
      "metadata": {
        "id": "ASvmNPHXOmEu"
      }
    },
    {
      "cell_type": "code",
      "source": [
        "x_test = [3.5, 5, 5.5, 6]\n",
        "print(hypothesis(x_test).numpy())"
      ],
      "metadata": {
        "colab": {
          "base_uri": "https://localhost:8080/"
        },
        "id": "1MV0I2YGOqwx",
        "outputId": "d0365efc-ec57-4eeb-9168-d0a5a3110f53"
      },
      "execution_count": 8,
      "outputs": [
        {
          "output_type": "stream",
          "name": "stdout",
          "text": [
            "[15. 21. 23. 25.]\n"
          ]
        }
      ]
    },
    {
      "cell_type": "markdown",
      "source": [
        "다음과 같이 평균 제곱 오차를 손실 함수로서 정의"
      ],
      "metadata": {
        "id": "Om0TKvJpO41j"
      }
    },
    {
      "cell_type": "code",
      "source": [
        "@tf.function\n",
        "def mse_loss(y_pred, y):\n",
        "    #두 개의 차이값을 제곱을 해서 평균을 취한다.\n",
        "    return tf.reduce_mean(tf.square(y_pred - y))"
      ],
      "metadata": {
        "id": "qtzRIHrNQBzD"
      },
      "execution_count": 9,
      "outputs": []
    },
    {
      "cell_type": "markdown",
      "source": [
        "여기서 사용할 데이터는 x와 y가 약 10배의 차이를 가지는 데이터"
      ],
      "metadata": {
        "id": "FKrB4nyXQiYY"
      }
    },
    {
      "cell_type": "code",
      "source": [
        "x = [1, 2, 3, 4, 5, 6, 7, 8, 9] #공부하는 시간\n",
        "y = [11, 22, 33, 44, 53, 66, 77, 87, 95] # 각 공부하는 시간에 맵핑되는 성적"
      ],
      "metadata": {
        "id": "7JWQFJ2aQlU-"
      },
      "execution_count": 10,
      "outputs": []
    },
    {
      "cell_type": "markdown",
      "source": [
        "옵티마이저는 경사 하강법을 사용하되, 학습률(learning rate)는 0.01을 사용"
      ],
      "metadata": {
        "id": "tLSWseeqQund"
      }
    },
    {
      "cell_type": "code",
      "source": [
        "optimizer = tf.optimizers.SGD(0.01)"
      ],
      "metadata": {
        "id": "FbQp9bCJQzQo"
      },
      "execution_count": 11,
      "outputs": []
    },
    {
      "cell_type": "markdown",
      "source": [
        "약 300번에 걸쳐서 경사 하강법을 수행"
      ],
      "metadata": {
        "id": "f10ncngvQ1xP"
      }
    },
    {
      "cell_type": "code",
      "source": [
        "for i in range(301):\n",
        "    with tf.GradientTape() as tape:\n",
        "        # 현재 파라미터에 기반한 입력 x에 대한 예측값을 y_pred\n",
        "        y_pred = hypothesis(x)\n",
        "\n",
        "        # 평균 제곱 오차를 계산\n",
        "        cost = mse_loss(y_pred, y)\n",
        "\n",
        "    # 손실 함수에 대한 파라미터의 미분값 계산\n",
        "    gradients = tape.gradient(cost, [w, b])\n",
        "\n",
        "    # 파라미터 업데이트\n",
        "    optimizer.apply_gradients(zip(gradients, [w, b]))\n",
        "\n",
        "    if i % 10 == 0:\n",
        "        print(\"epoch : {:3} | w의 값 : {:5.4f} | b의 값 : {:5.4} | cost : {:5.6f}\".format(i, w.numpy(), b.numpy(), cost))"
      ],
      "metadata": {
        "colab": {
          "base_uri": "https://localhost:8080/"
        },
        "id": "P2PTo9O_Q3on",
        "outputId": "c80ed4bf-c746-4a6d-bb2a-7bd0c06e9f64"
      },
      "execution_count": 12,
      "outputs": [
        {
          "output_type": "stream",
          "name": "stdout",
          "text": [
            "epoch :   0 | w의 값 : 8.2133 | b의 값 : 1.664 | cost : 1402.555542\n",
            "epoch :  10 | w의 값 : 10.4971 | b의 값 : 1.977 | cost : 1.351182\n",
            "epoch :  20 | w의 값 : 10.5047 | b의 값 :  1.93 | cost : 1.328165\n",
            "epoch :  30 | w의 값 : 10.5119 | b의 값 : 1.884 | cost : 1.306967\n",
            "epoch :  40 | w의 값 : 10.5188 | b의 값 : 1.841 | cost : 1.287436\n",
            "epoch :  50 | w의 값 : 10.5254 | b의 값 : 1.799 | cost : 1.269459\n",
            "epoch :  60 | w의 값 : 10.5318 | b의 값 : 1.759 | cost : 1.252898\n",
            "epoch :  70 | w의 값 : 10.5379 | b의 값 : 1.721 | cost : 1.237644\n",
            "epoch :  80 | w의 값 : 10.5438 | b의 값 : 1.684 | cost : 1.223598\n",
            "epoch :  90 | w의 값 : 10.5494 | b의 값 : 1.648 | cost : 1.210658\n",
            "epoch : 100 | w의 값 : 10.5548 | b의 값 : 1.614 | cost : 1.198740\n",
            "epoch : 110 | w의 값 : 10.5600 | b의 값 : 1.582 | cost : 1.187767\n",
            "epoch : 120 | w의 값 : 10.5650 | b의 값 :  1.55 | cost : 1.177665\n",
            "epoch : 130 | w의 값 : 10.5697 | b의 값 :  1.52 | cost : 1.168354\n",
            "epoch : 140 | w의 값 : 10.5743 | b의 값 : 1.492 | cost : 1.159782\n",
            "epoch : 150 | w의 값 : 10.5787 | b의 값 : 1.464 | cost : 1.151890\n",
            "epoch : 160 | w의 값 : 10.5829 | b의 값 : 1.437 | cost : 1.144619\n",
            "epoch : 170 | w의 값 : 10.5870 | b의 값 : 1.412 | cost : 1.137924\n",
            "epoch : 180 | w의 값 : 10.5909 | b의 값 : 1.387 | cost : 1.131752\n",
            "epoch : 190 | w의 값 : 10.5946 | b의 값 : 1.364 | cost : 1.126073\n",
            "epoch : 200 | w의 값 : 10.5982 | b의 값 : 1.341 | cost : 1.120843\n",
            "epoch : 210 | w의 값 : 10.6016 | b의 값 :  1.32 | cost : 1.116026\n",
            "epoch : 220 | w의 값 : 10.6049 | b의 값 : 1.299 | cost : 1.111589\n",
            "epoch : 230 | w의 값 : 10.6081 | b의 값 : 1.279 | cost : 1.107504\n",
            "epoch : 240 | w의 값 : 10.6111 | b의 값 :  1.26 | cost : 1.103736\n",
            "epoch : 250 | w의 값 : 10.6140 | b의 값 : 1.242 | cost : 1.100273\n",
            "epoch : 260 | w의 값 : 10.6168 | b의 값 : 1.224 | cost : 1.097082\n",
            "epoch : 270 | w의 값 : 10.6195 | b의 값 : 1.207 | cost : 1.094143\n",
            "epoch : 280 | w의 값 : 10.6221 | b의 값 : 1.191 | cost : 1.091434\n",
            "epoch : 290 | w의 값 : 10.6245 | b의 값 : 1.176 | cost : 1.088940\n",
            "epoch : 300 | w의 값 : 10.6269 | b의 값 : 1.161 | cost : 1.086645\n"
          ]
        }
      ]
    },
    {
      "cell_type": "markdown",
      "source": [
        "w와 b값이 계속 업데이트 됨에 따라서 cost가 지속적으로 줄어드는 것을 확인할 수 있습니다. 학습된 w와 b의 값에 대해서 임의 입력을 넣었을 경우의 예측값을 확인해봅시다."
      ],
      "metadata": {
        "id": "4whL9WRYSyiS"
      }
    },
    {
      "cell_type": "code",
      "source": [
        "x_test = [3.5, 5, 5.5, 6]\n",
        "print(hypothesis(x_test).numpy())"
      ],
      "metadata": {
        "colab": {
          "base_uri": "https://localhost:8080/"
        },
        "id": "IH8P6_BwTC7F",
        "outputId": "35f9bee4-41b8-4891-bb1e-5096b9f30299"
      },
      "execution_count": 13,
      "outputs": [
        {
          "output_type": "stream",
          "name": "stdout",
          "text": [
            "[38.35479  54.295143 59.608593 64.92204 ]\n"
          ]
        }
      ]
    },
    {
      "cell_type": "markdown",
      "source": [
        "모델을 구현하는 방법은 한 가지가 아닙니다. 텐서플로우의 경우, 케라스라는 고수준의 API를 사용하면 모델을 이보다 좀 더 쉽게 구현할 수 있습니다. 이번에는 선형 회귀 모델을 케라스로 구현"
      ],
      "metadata": {
        "id": "LnaWZID8TMiI"
      }
    },
    {
      "cell_type": "markdown",
      "source": [
        "3. 케라스로 구현하는 선형 회귀"
      ],
      "metadata": {
        "id": "BWvRHjelTVlU"
      }
    },
    {
      "cell_type": "markdown",
      "source": [
        "간단하게 케라스를 이용해서 선형 회귀를 구현\\\n",
        "케라스로 모델을 만드는 기본적인 형식은 다음과 같습니다. Sequential로 model이라는 이름의 모델을 만들고, 그리고 add를 통해 입력과 출력 벡터의 차원과 같은 필요한 정보들을 추가"
      ],
      "metadata": {
        "id": "051zv_feTWwp"
      }
    },
    {
      "cell_type": "markdown",
      "source": [
        "첫번째 인자인 1은 출력의 차원을 정의합니다. 일반적으로 output_dim으로 표현되는 인자입니다. 두번째 인자인 input_dim은 입력의 차원을 정의하는데 이번 실습과 같이 1개의 실수\n",
        "를 가지고 하는 1개의 실수\n",
        "를 예측하는 단순 선형 회귀를 구현하는 경우에는 각각 1의 값을 가집니다.."
      ],
      "metadata": {
        "id": "HIJ1fKABTb5k"
      }
    },
    {
      "cell_type": "code",
      "source": [
        "# # 예시 코드. 실행 불가.\n",
        "# model = Sequential()\n",
        "# model.add(keras.layers.Dense(1, input_dim=1))"
      ],
      "metadata": {
        "id": "ATl2V19YTgzt"
      },
      "execution_count": 15,
      "outputs": []
    },
    {
      "cell_type": "markdown",
      "source": [
        "우선 공부한 시간을 x\n",
        ", 각 공부한 시간에 따른 성적을 y\n",
        "라고 해봅시다. activation은 어떤 함수를 사용할 것인지를 의미하는데 선형 회귀를 사용할 경우에는 linear라고 기재"
      ],
      "metadata": {
        "id": "haHxiak7Tk1A"
      }
    },
    {
      "cell_type": "markdown",
      "source": [
        "옵티마이저로 기본 경사 하강법을 사용하고 싶다면, sgd라고 기재합니다. 학습률은 0.01로 정하였습니다. 손실 함수로는 평균 제곱 오차를 사 용합니다. 그리고 전체 데이터에 대한 훈련 횟수는 300으로 합니다."
      ],
      "metadata": {
        "id": "KE-QxmAITs8O"
      }
    },
    {
      "cell_type": "code",
      "source": [
        "import numpy as np\n",
        "import matplotlib.pyplot as plt\n",
        "from tensorflow.keras.models import Sequential\n",
        "from tensorflow.keras.layers import Dense\n",
        "from tensorflow.keras import optimizers"
      ],
      "metadata": {
        "id": "VceJwwrQTvKo"
      },
      "execution_count": 17,
      "outputs": []
    },
    {
      "cell_type": "code",
      "source": [
        "x = [1, 2, 3, 4, 5, 6, 7, 8, 9] #공부하는 시간\n",
        "y = [11, 22, 33, 44, 53, 66, 77, 87, 95] #각 공부하는 시간에 맵핑되는 성적"
      ],
      "metadata": {
        "id": "2R_iVGWAT5Ro"
      },
      "execution_count": 18,
      "outputs": []
    },
    {
      "cell_type": "code",
      "source": [
        "model = Sequential()"
      ],
      "metadata": {
        "id": "MZe4BA_nUEfa"
      },
      "execution_count": 19,
      "outputs": []
    },
    {
      "cell_type": "code",
      "source": [
        "# 출력 y의 차원은 1. 입력 x의 차원(input_dim)은 1\n",
        "# 선형 회귀이므로 activation은 'linear'\n",
        "model.add(Dense(1, input_dim = 1, activation = 'linear'))"
      ],
      "metadata": {
        "id": "M8ycoY_yUF70"
      },
      "execution_count": 20,
      "outputs": []
    },
    {
      "cell_type": "code",
      "source": [
        "#sgd는 경사 하강법을 의미. 학습률(learning rate, lr)은 0.01.\n",
        "sgd = optimizers.SGD(learning_rate=0.01)"
      ],
      "metadata": {
        "id": "K5JT9tKlUSCi"
      },
      "execution_count": 23,
      "outputs": []
    },
    {
      "cell_type": "code",
      "source": [
        "#손실 함수(Loss function)은 평균제곱오차 mse를 사용.\n",
        "model.compile(optimizer=sgd, loss='mse', metrics = ['mse'])"
      ],
      "metadata": {
        "id": "60G6GE6TUZq9"
      },
      "execution_count": 24,
      "outputs": []
    },
    {
      "cell_type": "code",
      "source": [
        "# 주어진 x와 y 데이터에 대해서 오차를 최소화하는 작업을 300번 시도.\n",
        "model.fit(x, y, epochs = 300)"
      ],
      "metadata": {
        "colab": {
          "base_uri": "https://localhost:8080/"
        },
        "id": "FFkefxA0Usjs",
        "outputId": "d576b919-1f79-4dfe-fe4e-0a1caa023891"
      },
      "execution_count": 26,
      "outputs": [
        {
          "output_type": "stream",
          "name": "stdout",
          "text": [
            "Epoch 1/300\n",
            "1/1 [==============================] - 1s 1s/step - loss: 4788.2490 - mse: 4788.2490\n",
            "Epoch 2/300\n",
            "1/1 [==============================] - 0s 17ms/step - loss: 590.3092 - mse: 590.3092\n",
            "Epoch 3/300\n",
            "1/1 [==============================] - 0s 13ms/step - loss: 73.7823 - mse: 73.7823\n",
            "Epoch 4/300\n",
            "1/1 [==============================] - 0s 13ms/step - loss: 10.2257 - mse: 10.2257\n",
            "Epoch 5/300\n",
            "1/1 [==============================] - 0s 14ms/step - loss: 2.4038 - mse: 2.4038\n",
            "Epoch 6/300\n",
            "1/1 [==============================] - 0s 12ms/step - loss: 1.4396 - mse: 1.4396\n",
            "Epoch 7/300\n",
            "1/1 [==============================] - 0s 13ms/step - loss: 1.3192 - mse: 1.3192\n",
            "Epoch 8/300\n",
            "1/1 [==============================] - 0s 12ms/step - loss: 1.3026 - mse: 1.3026\n",
            "Epoch 9/300\n",
            "1/1 [==============================] - 0s 14ms/step - loss: 1.2989 - mse: 1.2989\n",
            "Epoch 10/300\n",
            "1/1 [==============================] - 0s 13ms/step - loss: 1.2967 - mse: 1.2967\n",
            "Epoch 11/300\n",
            "1/1 [==============================] - 0s 15ms/step - loss: 1.2947 - mse: 1.2947\n",
            "Epoch 12/300\n",
            "1/1 [==============================] - 0s 11ms/step - loss: 1.2928 - mse: 1.2928\n",
            "Epoch 13/300\n",
            "1/1 [==============================] - 0s 11ms/step - loss: 1.2909 - mse: 1.2909\n",
            "Epoch 14/300\n",
            "1/1 [==============================] - 0s 12ms/step - loss: 1.2890 - mse: 1.2890\n",
            "Epoch 15/300\n",
            "1/1 [==============================] - 0s 14ms/step - loss: 1.2871 - mse: 1.2871\n",
            "Epoch 16/300\n",
            "1/1 [==============================] - 0s 14ms/step - loss: 1.2852 - mse: 1.2852\n",
            "Epoch 17/300\n",
            "1/1 [==============================] - 0s 15ms/step - loss: 1.2834 - mse: 1.2834\n",
            "Epoch 18/300\n",
            "1/1 [==============================] - 0s 14ms/step - loss: 1.2816 - mse: 1.2816\n",
            "Epoch 19/300\n",
            "1/1 [==============================] - 0s 15ms/step - loss: 1.2797 - mse: 1.2797\n",
            "Epoch 20/300\n",
            "1/1 [==============================] - 0s 12ms/step - loss: 1.2779 - mse: 1.2779\n",
            "Epoch 21/300\n",
            "1/1 [==============================] - 0s 13ms/step - loss: 1.2762 - mse: 1.2762\n",
            "Epoch 22/300\n",
            "1/1 [==============================] - 0s 13ms/step - loss: 1.2744 - mse: 1.2744\n",
            "Epoch 23/300\n",
            "1/1 [==============================] - 0s 16ms/step - loss: 1.2726 - mse: 1.2726\n",
            "Epoch 24/300\n",
            "1/1 [==============================] - 0s 16ms/step - loss: 1.2709 - mse: 1.2709\n",
            "Epoch 25/300\n",
            "1/1 [==============================] - 0s 13ms/step - loss: 1.2691 - mse: 1.2691\n",
            "Epoch 26/300\n",
            "1/1 [==============================] - 0s 13ms/step - loss: 1.2674 - mse: 1.2674\n",
            "Epoch 27/300\n",
            "1/1 [==============================] - 0s 14ms/step - loss: 1.2657 - mse: 1.2657\n",
            "Epoch 28/300\n",
            "1/1 [==============================] - 0s 13ms/step - loss: 1.2640 - mse: 1.2640\n",
            "Epoch 29/300\n",
            "1/1 [==============================] - 0s 11ms/step - loss: 1.2624 - mse: 1.2624\n",
            "Epoch 30/300\n",
            "1/1 [==============================] - 0s 12ms/step - loss: 1.2607 - mse: 1.2607\n",
            "Epoch 31/300\n",
            "1/1 [==============================] - 0s 13ms/step - loss: 1.2591 - mse: 1.2591\n",
            "Epoch 32/300\n",
            "1/1 [==============================] - 0s 13ms/step - loss: 1.2574 - mse: 1.2574\n",
            "Epoch 33/300\n",
            "1/1 [==============================] - 0s 15ms/step - loss: 1.2558 - mse: 1.2558\n",
            "Epoch 34/300\n",
            "1/1 [==============================] - 0s 13ms/step - loss: 1.2542 - mse: 1.2542\n",
            "Epoch 35/300\n",
            "1/1 [==============================] - 0s 13ms/step - loss: 1.2526 - mse: 1.2526\n",
            "Epoch 36/300\n",
            "1/1 [==============================] - 0s 12ms/step - loss: 1.2510 - mse: 1.2510\n",
            "Epoch 37/300\n",
            "1/1 [==============================] - 0s 14ms/step - loss: 1.2495 - mse: 1.2495\n",
            "Epoch 38/300\n",
            "1/1 [==============================] - 0s 13ms/step - loss: 1.2479 - mse: 1.2479\n",
            "Epoch 39/300\n",
            "1/1 [==============================] - 0s 11ms/step - loss: 1.2464 - mse: 1.2464\n",
            "Epoch 40/300\n",
            "1/1 [==============================] - 0s 13ms/step - loss: 1.2448 - mse: 1.2448\n",
            "Epoch 41/300\n",
            "1/1 [==============================] - 0s 11ms/step - loss: 1.2433 - mse: 1.2433\n",
            "Epoch 42/300\n",
            "1/1 [==============================] - 0s 14ms/step - loss: 1.2418 - mse: 1.2418\n",
            "Epoch 43/300\n",
            "1/1 [==============================] - 0s 15ms/step - loss: 1.2403 - mse: 1.2403\n",
            "Epoch 44/300\n",
            "1/1 [==============================] - 0s 10ms/step - loss: 1.2388 - mse: 1.2388\n",
            "Epoch 45/300\n",
            "1/1 [==============================] - 0s 11ms/step - loss: 1.2374 - mse: 1.2374\n",
            "Epoch 46/300\n",
            "1/1 [==============================] - 0s 13ms/step - loss: 1.2359 - mse: 1.2359\n",
            "Epoch 47/300\n",
            "1/1 [==============================] - 0s 13ms/step - loss: 1.2345 - mse: 1.2345\n",
            "Epoch 48/300\n",
            "1/1 [==============================] - 0s 13ms/step - loss: 1.2331 - mse: 1.2331\n",
            "Epoch 49/300\n",
            "1/1 [==============================] - 0s 21ms/step - loss: 1.2316 - mse: 1.2316\n",
            "Epoch 50/300\n",
            "1/1 [==============================] - 0s 15ms/step - loss: 1.2302 - mse: 1.2302\n",
            "Epoch 51/300\n",
            "1/1 [==============================] - 0s 16ms/step - loss: 1.2288 - mse: 1.2288\n",
            "Epoch 52/300\n",
            "1/1 [==============================] - 0s 15ms/step - loss: 1.2274 - mse: 1.2274\n",
            "Epoch 53/300\n",
            "1/1 [==============================] - 0s 16ms/step - loss: 1.2261 - mse: 1.2261\n",
            "Epoch 54/300\n",
            "1/1 [==============================] - 0s 16ms/step - loss: 1.2247 - mse: 1.2247\n",
            "Epoch 55/300\n",
            "1/1 [==============================] - 0s 12ms/step - loss: 1.2234 - mse: 1.2234\n",
            "Epoch 56/300\n",
            "1/1 [==============================] - 0s 15ms/step - loss: 1.2220 - mse: 1.2220\n",
            "Epoch 57/300\n",
            "1/1 [==============================] - 0s 11ms/step - loss: 1.2207 - mse: 1.2207\n",
            "Epoch 58/300\n",
            "1/1 [==============================] - 0s 13ms/step - loss: 1.2194 - mse: 1.2194\n",
            "Epoch 59/300\n",
            "1/1 [==============================] - 0s 13ms/step - loss: 1.2181 - mse: 1.2181\n",
            "Epoch 60/300\n",
            "1/1 [==============================] - 0s 16ms/step - loss: 1.2168 - mse: 1.2168\n",
            "Epoch 61/300\n",
            "1/1 [==============================] - 0s 14ms/step - loss: 1.2155 - mse: 1.2155\n",
            "Epoch 62/300\n",
            "1/1 [==============================] - 0s 12ms/step - loss: 1.2142 - mse: 1.2142\n",
            "Epoch 63/300\n",
            "1/1 [==============================] - 0s 15ms/step - loss: 1.2129 - mse: 1.2129\n",
            "Epoch 64/300\n",
            "1/1 [==============================] - 0s 10ms/step - loss: 1.2117 - mse: 1.2117\n",
            "Epoch 65/300\n",
            "1/1 [==============================] - 0s 11ms/step - loss: 1.2104 - mse: 1.2104\n",
            "Epoch 66/300\n",
            "1/1 [==============================] - 0s 13ms/step - loss: 1.2092 - mse: 1.2092\n",
            "Epoch 67/300\n",
            "1/1 [==============================] - 0s 13ms/step - loss: 1.2080 - mse: 1.2080\n",
            "Epoch 68/300\n",
            "1/1 [==============================] - 0s 15ms/step - loss: 1.2068 - mse: 1.2068\n",
            "Epoch 69/300\n",
            "1/1 [==============================] - 0s 18ms/step - loss: 1.2056 - mse: 1.2056\n",
            "Epoch 70/300\n",
            "1/1 [==============================] - 0s 16ms/step - loss: 1.2044 - mse: 1.2044\n",
            "Epoch 71/300\n",
            "1/1 [==============================] - 0s 15ms/step - loss: 1.2032 - mse: 1.2032\n",
            "Epoch 72/300\n",
            "1/1 [==============================] - 0s 14ms/step - loss: 1.2020 - mse: 1.2020\n",
            "Epoch 73/300\n",
            "1/1 [==============================] - 0s 14ms/step - loss: 1.2008 - mse: 1.2008\n",
            "Epoch 74/300\n",
            "1/1 [==============================] - 0s 14ms/step - loss: 1.1997 - mse: 1.1997\n",
            "Epoch 75/300\n",
            "1/1 [==============================] - 0s 13ms/step - loss: 1.1985 - mse: 1.1985\n",
            "Epoch 76/300\n",
            "1/1 [==============================] - 0s 12ms/step - loss: 1.1974 - mse: 1.1974\n",
            "Epoch 77/300\n",
            "1/1 [==============================] - 0s 13ms/step - loss: 1.1963 - mse: 1.1963\n",
            "Epoch 78/300\n",
            "1/1 [==============================] - 0s 11ms/step - loss: 1.1952 - mse: 1.1952\n",
            "Epoch 79/300\n",
            "1/1 [==============================] - 0s 11ms/step - loss: 1.1940 - mse: 1.1940\n",
            "Epoch 80/300\n",
            "1/1 [==============================] - 0s 10ms/step - loss: 1.1929 - mse: 1.1929\n",
            "Epoch 81/300\n",
            "1/1 [==============================] - 0s 11ms/step - loss: 1.1919 - mse: 1.1919\n",
            "Epoch 82/300\n",
            "1/1 [==============================] - 0s 10ms/step - loss: 1.1908 - mse: 1.1908\n",
            "Epoch 83/300\n",
            "1/1 [==============================] - 0s 13ms/step - loss: 1.1897 - mse: 1.1897\n",
            "Epoch 84/300\n",
            "1/1 [==============================] - 0s 23ms/step - loss: 1.1886 - mse: 1.1886\n",
            "Epoch 85/300\n",
            "1/1 [==============================] - 0s 12ms/step - loss: 1.1876 - mse: 1.1876\n",
            "Epoch 86/300\n",
            "1/1 [==============================] - 0s 15ms/step - loss: 1.1865 - mse: 1.1865\n",
            "Epoch 87/300\n",
            "1/1 [==============================] - 0s 11ms/step - loss: 1.1855 - mse: 1.1855\n",
            "Epoch 88/300\n",
            "1/1 [==============================] - 0s 16ms/step - loss: 1.1845 - mse: 1.1845\n",
            "Epoch 89/300\n",
            "1/1 [==============================] - 0s 12ms/step - loss: 1.1834 - mse: 1.1834\n",
            "Epoch 90/300\n",
            "1/1 [==============================] - 0s 15ms/step - loss: 1.1824 - mse: 1.1824\n",
            "Epoch 91/300\n",
            "1/1 [==============================] - 0s 12ms/step - loss: 1.1814 - mse: 1.1814\n",
            "Epoch 92/300\n",
            "1/1 [==============================] - 0s 14ms/step - loss: 1.1804 - mse: 1.1804\n",
            "Epoch 93/300\n",
            "1/1 [==============================] - 0s 14ms/step - loss: 1.1794 - mse: 1.1794\n",
            "Epoch 94/300\n",
            "1/1 [==============================] - 0s 12ms/step - loss: 1.1785 - mse: 1.1785\n",
            "Epoch 95/300\n",
            "1/1 [==============================] - 0s 22ms/step - loss: 1.1775 - mse: 1.1775\n",
            "Epoch 96/300\n",
            "1/1 [==============================] - 0s 12ms/step - loss: 1.1765 - mse: 1.1765\n",
            "Epoch 97/300\n",
            "1/1 [==============================] - 0s 11ms/step - loss: 1.1756 - mse: 1.1756\n",
            "Epoch 98/300\n",
            "1/1 [==============================] - 0s 12ms/step - loss: 1.1746 - mse: 1.1746\n",
            "Epoch 99/300\n",
            "1/1 [==============================] - 0s 12ms/step - loss: 1.1737 - mse: 1.1737\n",
            "Epoch 100/300\n",
            "1/1 [==============================] - 0s 12ms/step - loss: 1.1727 - mse: 1.1727\n",
            "Epoch 101/300\n",
            "1/1 [==============================] - 0s 12ms/step - loss: 1.1718 - mse: 1.1718\n",
            "Epoch 102/300\n",
            "1/1 [==============================] - 0s 14ms/step - loss: 1.1709 - mse: 1.1709\n",
            "Epoch 103/300\n",
            "1/1 [==============================] - 0s 12ms/step - loss: 1.1700 - mse: 1.1700\n",
            "Epoch 104/300\n",
            "1/1 [==============================] - 0s 12ms/step - loss: 1.1691 - mse: 1.1691\n",
            "Epoch 105/300\n",
            "1/1 [==============================] - 0s 13ms/step - loss: 1.1682 - mse: 1.1682\n",
            "Epoch 106/300\n",
            "1/1 [==============================] - 0s 13ms/step - loss: 1.1673 - mse: 1.1673\n",
            "Epoch 107/300\n",
            "1/1 [==============================] - 0s 14ms/step - loss: 1.1664 - mse: 1.1664\n",
            "Epoch 108/300\n",
            "1/1 [==============================] - 0s 11ms/step - loss: 1.1655 - mse: 1.1655\n",
            "Epoch 109/300\n",
            "1/1 [==============================] - 0s 12ms/step - loss: 1.1647 - mse: 1.1647\n",
            "Epoch 110/300\n",
            "1/1 [==============================] - 0s 13ms/step - loss: 1.1638 - mse: 1.1638\n",
            "Epoch 111/300\n",
            "1/1 [==============================] - 0s 13ms/step - loss: 1.1630 - mse: 1.1630\n",
            "Epoch 112/300\n",
            "1/1 [==============================] - 0s 15ms/step - loss: 1.1621 - mse: 1.1621\n",
            "Epoch 113/300\n",
            "1/1 [==============================] - 0s 15ms/step - loss: 1.1613 - mse: 1.1613\n",
            "Epoch 114/300\n",
            "1/1 [==============================] - 0s 21ms/step - loss: 1.1605 - mse: 1.1605\n",
            "Epoch 115/300\n",
            "1/1 [==============================] - 0s 11ms/step - loss: 1.1596 - mse: 1.1596\n",
            "Epoch 116/300\n",
            "1/1 [==============================] - 0s 10ms/step - loss: 1.1588 - mse: 1.1588\n",
            "Epoch 117/300\n",
            "1/1 [==============================] - 0s 14ms/step - loss: 1.1580 - mse: 1.1580\n",
            "Epoch 118/300\n",
            "1/1 [==============================] - 0s 12ms/step - loss: 1.1572 - mse: 1.1572\n",
            "Epoch 119/300\n",
            "1/1 [==============================] - 0s 12ms/step - loss: 1.1564 - mse: 1.1564\n",
            "Epoch 120/300\n",
            "1/1 [==============================] - 0s 13ms/step - loss: 1.1556 - mse: 1.1556\n",
            "Epoch 121/300\n",
            "1/1 [==============================] - 0s 19ms/step - loss: 1.1548 - mse: 1.1548\n",
            "Epoch 122/300\n",
            "1/1 [==============================] - 0s 16ms/step - loss: 1.1541 - mse: 1.1541\n",
            "Epoch 123/300\n",
            "1/1 [==============================] - 0s 13ms/step - loss: 1.1533 - mse: 1.1533\n",
            "Epoch 124/300\n",
            "1/1 [==============================] - 0s 14ms/step - loss: 1.1525 - mse: 1.1525\n",
            "Epoch 125/300\n",
            "1/1 [==============================] - 0s 13ms/step - loss: 1.1518 - mse: 1.1518\n",
            "Epoch 126/300\n",
            "1/1 [==============================] - 0s 12ms/step - loss: 1.1510 - mse: 1.1510\n",
            "Epoch 127/300\n",
            "1/1 [==============================] - 0s 16ms/step - loss: 1.1503 - mse: 1.1503\n",
            "Epoch 128/300\n",
            "1/1 [==============================] - 0s 15ms/step - loss: 1.1495 - mse: 1.1495\n",
            "Epoch 129/300\n",
            "1/1 [==============================] - 0s 14ms/step - loss: 1.1488 - mse: 1.1488\n",
            "Epoch 130/300\n",
            "1/1 [==============================] - 0s 14ms/step - loss: 1.1480 - mse: 1.1480\n",
            "Epoch 131/300\n",
            "1/1 [==============================] - 0s 16ms/step - loss: 1.1473 - mse: 1.1473\n",
            "Epoch 132/300\n",
            "1/1 [==============================] - 0s 14ms/step - loss: 1.1466 - mse: 1.1466\n",
            "Epoch 133/300\n",
            "1/1 [==============================] - 0s 14ms/step - loss: 1.1459 - mse: 1.1459\n",
            "Epoch 134/300\n",
            "1/1 [==============================] - 0s 11ms/step - loss: 1.1452 - mse: 1.1452\n",
            "Epoch 135/300\n",
            "1/1 [==============================] - 0s 15ms/step - loss: 1.1445 - mse: 1.1445\n",
            "Epoch 136/300\n",
            "1/1 [==============================] - 0s 15ms/step - loss: 1.1438 - mse: 1.1438\n",
            "Epoch 137/300\n",
            "1/1 [==============================] - 0s 15ms/step - loss: 1.1431 - mse: 1.1431\n",
            "Epoch 138/300\n",
            "1/1 [==============================] - 0s 13ms/step - loss: 1.1424 - mse: 1.1424\n",
            "Epoch 139/300\n",
            "1/1 [==============================] - 0s 11ms/step - loss: 1.1418 - mse: 1.1418\n",
            "Epoch 140/300\n",
            "1/1 [==============================] - 0s 11ms/step - loss: 1.1411 - mse: 1.1411\n",
            "Epoch 141/300\n",
            "1/1 [==============================] - 0s 12ms/step - loss: 1.1404 - mse: 1.1404\n",
            "Epoch 142/300\n",
            "1/1 [==============================] - 0s 10ms/step - loss: 1.1398 - mse: 1.1398\n",
            "Epoch 143/300\n",
            "1/1 [==============================] - 0s 12ms/step - loss: 1.1391 - mse: 1.1391\n",
            "Epoch 144/300\n",
            "1/1 [==============================] - 0s 13ms/step - loss: 1.1385 - mse: 1.1385\n",
            "Epoch 145/300\n",
            "1/1 [==============================] - 0s 15ms/step - loss: 1.1378 - mse: 1.1378\n",
            "Epoch 146/300\n",
            "1/1 [==============================] - 0s 18ms/step - loss: 1.1372 - mse: 1.1372\n",
            "Epoch 147/300\n",
            "1/1 [==============================] - 0s 13ms/step - loss: 1.1365 - mse: 1.1365\n",
            "Epoch 148/300\n",
            "1/1 [==============================] - 0s 15ms/step - loss: 1.1359 - mse: 1.1359\n",
            "Epoch 149/300\n",
            "1/1 [==============================] - 0s 15ms/step - loss: 1.1353 - mse: 1.1353\n",
            "Epoch 150/300\n",
            "1/1 [==============================] - 0s 14ms/step - loss: 1.1347 - mse: 1.1347\n",
            "Epoch 151/300\n",
            "1/1 [==============================] - 0s 17ms/step - loss: 1.1341 - mse: 1.1341\n",
            "Epoch 152/300\n",
            "1/1 [==============================] - 0s 15ms/step - loss: 1.1334 - mse: 1.1334\n",
            "Epoch 153/300\n",
            "1/1 [==============================] - 0s 12ms/step - loss: 1.1328 - mse: 1.1328\n",
            "Epoch 154/300\n",
            "1/1 [==============================] - 0s 16ms/step - loss: 1.1322 - mse: 1.1322\n",
            "Epoch 155/300\n",
            "1/1 [==============================] - 0s 16ms/step - loss: 1.1316 - mse: 1.1316\n",
            "Epoch 156/300\n",
            "1/1 [==============================] - 0s 12ms/step - loss: 1.1311 - mse: 1.1311\n",
            "Epoch 157/300\n",
            "1/1 [==============================] - 0s 11ms/step - loss: 1.1305 - mse: 1.1305\n",
            "Epoch 158/300\n",
            "1/1 [==============================] - 0s 20ms/step - loss: 1.1299 - mse: 1.1299\n",
            "Epoch 159/300\n",
            "1/1 [==============================] - 0s 12ms/step - loss: 1.1293 - mse: 1.1293\n",
            "Epoch 160/300\n",
            "1/1 [==============================] - 0s 13ms/step - loss: 1.1288 - mse: 1.1288\n",
            "Epoch 161/300\n",
            "1/1 [==============================] - 0s 12ms/step - loss: 1.1282 - mse: 1.1282\n",
            "Epoch 162/300\n",
            "1/1 [==============================] - 0s 13ms/step - loss: 1.1276 - mse: 1.1276\n",
            "Epoch 163/300\n",
            "1/1 [==============================] - 0s 15ms/step - loss: 1.1271 - mse: 1.1271\n",
            "Epoch 164/300\n",
            "1/1 [==============================] - 0s 14ms/step - loss: 1.1265 - mse: 1.1265\n",
            "Epoch 165/300\n",
            "1/1 [==============================] - 0s 14ms/step - loss: 1.1260 - mse: 1.1260\n",
            "Epoch 166/300\n",
            "1/1 [==============================] - 0s 14ms/step - loss: 1.1254 - mse: 1.1254\n",
            "Epoch 167/300\n",
            "1/1 [==============================] - 0s 13ms/step - loss: 1.1249 - mse: 1.1249\n",
            "Epoch 168/300\n",
            "1/1 [==============================] - 0s 12ms/step - loss: 1.1244 - mse: 1.1244\n",
            "Epoch 169/300\n",
            "1/1 [==============================] - 0s 15ms/step - loss: 1.1238 - mse: 1.1238\n",
            "Epoch 170/300\n",
            "1/1 [==============================] - 0s 20ms/step - loss: 1.1233 - mse: 1.1233\n",
            "Epoch 171/300\n",
            "1/1 [==============================] - 0s 11ms/step - loss: 1.1228 - mse: 1.1228\n",
            "Epoch 172/300\n",
            "1/1 [==============================] - 0s 12ms/step - loss: 1.1223 - mse: 1.1223\n",
            "Epoch 173/300\n",
            "1/1 [==============================] - 0s 12ms/step - loss: 1.1218 - mse: 1.1218\n",
            "Epoch 174/300\n",
            "1/1 [==============================] - 0s 12ms/step - loss: 1.1213 - mse: 1.1213\n",
            "Epoch 175/300\n",
            "1/1 [==============================] - 0s 12ms/step - loss: 1.1208 - mse: 1.1208\n",
            "Epoch 176/300\n",
            "1/1 [==============================] - 0s 14ms/step - loss: 1.1203 - mse: 1.1203\n",
            "Epoch 177/300\n",
            "1/1 [==============================] - 0s 14ms/step - loss: 1.1198 - mse: 1.1198\n",
            "Epoch 178/300\n",
            "1/1 [==============================] - 0s 21ms/step - loss: 1.1193 - mse: 1.1193\n",
            "Epoch 179/300\n",
            "1/1 [==============================] - 0s 18ms/step - loss: 1.1188 - mse: 1.1188\n",
            "Epoch 180/300\n",
            "1/1 [==============================] - 0s 20ms/step - loss: 1.1183 - mse: 1.1183\n",
            "Epoch 181/300\n",
            "1/1 [==============================] - 0s 16ms/step - loss: 1.1178 - mse: 1.1178\n",
            "Epoch 182/300\n",
            "1/1 [==============================] - 0s 20ms/step - loss: 1.1173 - mse: 1.1173\n",
            "Epoch 183/300\n",
            "1/1 [==============================] - 0s 18ms/step - loss: 1.1169 - mse: 1.1169\n",
            "Epoch 184/300\n",
            "1/1 [==============================] - 0s 17ms/step - loss: 1.1164 - mse: 1.1164\n",
            "Epoch 185/300\n",
            "1/1 [==============================] - 0s 15ms/step - loss: 1.1159 - mse: 1.1159\n",
            "Epoch 186/300\n",
            "1/1 [==============================] - 0s 15ms/step - loss: 1.1155 - mse: 1.1155\n",
            "Epoch 187/300\n",
            "1/1 [==============================] - 0s 16ms/step - loss: 1.1150 - mse: 1.1150\n",
            "Epoch 188/300\n",
            "1/1 [==============================] - 0s 15ms/step - loss: 1.1146 - mse: 1.1146\n",
            "Epoch 189/300\n",
            "1/1 [==============================] - 0s 11ms/step - loss: 1.1141 - mse: 1.1141\n",
            "Epoch 190/300\n",
            "1/1 [==============================] - 0s 11ms/step - loss: 1.1137 - mse: 1.1137\n",
            "Epoch 191/300\n",
            "1/1 [==============================] - 0s 15ms/step - loss: 1.1132 - mse: 1.1132\n",
            "Epoch 192/300\n",
            "1/1 [==============================] - 0s 11ms/step - loss: 1.1128 - mse: 1.1128\n",
            "Epoch 193/300\n",
            "1/1 [==============================] - 0s 11ms/step - loss: 1.1124 - mse: 1.1124\n",
            "Epoch 194/300\n",
            "1/1 [==============================] - 0s 10ms/step - loss: 1.1119 - mse: 1.1119\n",
            "Epoch 195/300\n",
            "1/1 [==============================] - 0s 14ms/step - loss: 1.1115 - mse: 1.1115\n",
            "Epoch 196/300\n",
            "1/1 [==============================] - 0s 18ms/step - loss: 1.1111 - mse: 1.1111\n",
            "Epoch 197/300\n",
            "1/1 [==============================] - 0s 14ms/step - loss: 1.1107 - mse: 1.1107\n",
            "Epoch 198/300\n",
            "1/1 [==============================] - 0s 15ms/step - loss: 1.1103 - mse: 1.1103\n",
            "Epoch 199/300\n",
            "1/1 [==============================] - 0s 20ms/step - loss: 1.1098 - mse: 1.1098\n",
            "Epoch 200/300\n",
            "1/1 [==============================] - 0s 21ms/step - loss: 1.1094 - mse: 1.1094\n",
            "Epoch 201/300\n",
            "1/1 [==============================] - 0s 11ms/step - loss: 1.1090 - mse: 1.1090\n",
            "Epoch 202/300\n",
            "1/1 [==============================] - 0s 16ms/step - loss: 1.1086 - mse: 1.1086\n",
            "Epoch 203/300\n",
            "1/1 [==============================] - 0s 16ms/step - loss: 1.1082 - mse: 1.1082\n",
            "Epoch 204/300\n",
            "1/1 [==============================] - 0s 18ms/step - loss: 1.1078 - mse: 1.1078\n",
            "Epoch 205/300\n",
            "1/1 [==============================] - 0s 17ms/step - loss: 1.1074 - mse: 1.1074\n",
            "Epoch 206/300\n",
            "1/1 [==============================] - 0s 12ms/step - loss: 1.1070 - mse: 1.1070\n",
            "Epoch 207/300\n",
            "1/1 [==============================] - 0s 12ms/step - loss: 1.1067 - mse: 1.1067\n",
            "Epoch 208/300\n",
            "1/1 [==============================] - 0s 19ms/step - loss: 1.1063 - mse: 1.1063\n",
            "Epoch 209/300\n",
            "1/1 [==============================] - 0s 15ms/step - loss: 1.1059 - mse: 1.1059\n",
            "Epoch 210/300\n",
            "1/1 [==============================] - 0s 16ms/step - loss: 1.1055 - mse: 1.1055\n",
            "Epoch 211/300\n",
            "1/1 [==============================] - 0s 21ms/step - loss: 1.1051 - mse: 1.1051\n",
            "Epoch 212/300\n",
            "1/1 [==============================] - 0s 15ms/step - loss: 1.1048 - mse: 1.1048\n",
            "Epoch 213/300\n",
            "1/1 [==============================] - 0s 20ms/step - loss: 1.1044 - mse: 1.1044\n",
            "Epoch 214/300\n",
            "1/1 [==============================] - 0s 16ms/step - loss: 1.1040 - mse: 1.1040\n",
            "Epoch 215/300\n",
            "1/1 [==============================] - 0s 16ms/step - loss: 1.1037 - mse: 1.1037\n",
            "Epoch 216/300\n",
            "1/1 [==============================] - 0s 16ms/step - loss: 1.1033 - mse: 1.1033\n",
            "Epoch 217/300\n",
            "1/1 [==============================] - 0s 15ms/step - loss: 1.1030 - mse: 1.1030\n",
            "Epoch 218/300\n",
            "1/1 [==============================] - 0s 17ms/step - loss: 1.1026 - mse: 1.1026\n",
            "Epoch 219/300\n",
            "1/1 [==============================] - 0s 12ms/step - loss: 1.1023 - mse: 1.1023\n",
            "Epoch 220/300\n",
            "1/1 [==============================] - 0s 13ms/step - loss: 1.1019 - mse: 1.1019\n",
            "Epoch 221/300\n",
            "1/1 [==============================] - 0s 12ms/step - loss: 1.1016 - mse: 1.1016\n",
            "Epoch 222/300\n",
            "1/1 [==============================] - 0s 17ms/step - loss: 1.1012 - mse: 1.1012\n",
            "Epoch 223/300\n",
            "1/1 [==============================] - 0s 11ms/step - loss: 1.1009 - mse: 1.1009\n",
            "Epoch 224/300\n",
            "1/1 [==============================] - 0s 12ms/step - loss: 1.1005 - mse: 1.1005\n",
            "Epoch 225/300\n",
            "1/1 [==============================] - 0s 14ms/step - loss: 1.1002 - mse: 1.1002\n",
            "Epoch 226/300\n",
            "1/1 [==============================] - 0s 11ms/step - loss: 1.0999 - mse: 1.0999\n",
            "Epoch 227/300\n",
            "1/1 [==============================] - 0s 15ms/step - loss: 1.0996 - mse: 1.0996\n",
            "Epoch 228/300\n",
            "1/1 [==============================] - 0s 16ms/step - loss: 1.0992 - mse: 1.0992\n",
            "Epoch 229/300\n",
            "1/1 [==============================] - 0s 14ms/step - loss: 1.0989 - mse: 1.0989\n",
            "Epoch 230/300\n",
            "1/1 [==============================] - 0s 15ms/step - loss: 1.0986 - mse: 1.0986\n",
            "Epoch 231/300\n",
            "1/1 [==============================] - 0s 14ms/step - loss: 1.0983 - mse: 1.0983\n",
            "Epoch 232/300\n",
            "1/1 [==============================] - 0s 22ms/step - loss: 1.0980 - mse: 1.0980\n",
            "Epoch 233/300\n",
            "1/1 [==============================] - 0s 23ms/step - loss: 1.0976 - mse: 1.0976\n",
            "Epoch 234/300\n",
            "1/1 [==============================] - 0s 16ms/step - loss: 1.0973 - mse: 1.0973\n",
            "Epoch 235/300\n",
            "1/1 [==============================] - 0s 14ms/step - loss: 1.0970 - mse: 1.0970\n",
            "Epoch 236/300\n",
            "1/1 [==============================] - 0s 18ms/step - loss: 1.0967 - mse: 1.0967\n",
            "Epoch 237/300\n",
            "1/1 [==============================] - 0s 18ms/step - loss: 1.0964 - mse: 1.0964\n",
            "Epoch 238/300\n",
            "1/1 [==============================] - 0s 18ms/step - loss: 1.0961 - mse: 1.0961\n",
            "Epoch 239/300\n",
            "1/1 [==============================] - 0s 16ms/step - loss: 1.0958 - mse: 1.0958\n",
            "Epoch 240/300\n",
            "1/1 [==============================] - 0s 16ms/step - loss: 1.0955 - mse: 1.0955\n",
            "Epoch 241/300\n",
            "1/1 [==============================] - 0s 14ms/step - loss: 1.0952 - mse: 1.0952\n",
            "Epoch 242/300\n",
            "1/1 [==============================] - 0s 11ms/step - loss: 1.0949 - mse: 1.0949\n",
            "Epoch 243/300\n",
            "1/1 [==============================] - 0s 14ms/step - loss: 1.0947 - mse: 1.0947\n",
            "Epoch 244/300\n",
            "1/1 [==============================] - 0s 16ms/step - loss: 1.0944 - mse: 1.0944\n",
            "Epoch 245/300\n",
            "1/1 [==============================] - 0s 22ms/step - loss: 1.0941 - mse: 1.0941\n",
            "Epoch 246/300\n",
            "1/1 [==============================] - 0s 11ms/step - loss: 1.0938 - mse: 1.0938\n",
            "Epoch 247/300\n",
            "1/1 [==============================] - 0s 15ms/step - loss: 1.0935 - mse: 1.0935\n",
            "Epoch 248/300\n",
            "1/1 [==============================] - 0s 16ms/step - loss: 1.0933 - mse: 1.0933\n",
            "Epoch 249/300\n",
            "1/1 [==============================] - 0s 12ms/step - loss: 1.0930 - mse: 1.0930\n",
            "Epoch 250/300\n",
            "1/1 [==============================] - 0s 18ms/step - loss: 1.0927 - mse: 1.0927\n",
            "Epoch 251/300\n",
            "1/1 [==============================] - 0s 15ms/step - loss: 1.0924 - mse: 1.0924\n",
            "Epoch 252/300\n",
            "1/1 [==============================] - 0s 17ms/step - loss: 1.0922 - mse: 1.0922\n",
            "Epoch 253/300\n",
            "1/1 [==============================] - 0s 13ms/step - loss: 1.0919 - mse: 1.0919\n",
            "Epoch 254/300\n",
            "1/1 [==============================] - 0s 12ms/step - loss: 1.0916 - mse: 1.0916\n",
            "Epoch 255/300\n",
            "1/1 [==============================] - 0s 15ms/step - loss: 1.0914 - mse: 1.0914\n",
            "Epoch 256/300\n",
            "1/1 [==============================] - 0s 12ms/step - loss: 1.0911 - mse: 1.0911\n",
            "Epoch 257/300\n",
            "1/1 [==============================] - 0s 12ms/step - loss: 1.0909 - mse: 1.0909\n",
            "Epoch 258/300\n",
            "1/1 [==============================] - 0s 11ms/step - loss: 1.0906 - mse: 1.0906\n",
            "Epoch 259/300\n",
            "1/1 [==============================] - 0s 18ms/step - loss: 1.0904 - mse: 1.0904\n",
            "Epoch 260/300\n",
            "1/1 [==============================] - 0s 12ms/step - loss: 1.0901 - mse: 1.0901\n",
            "Epoch 261/300\n",
            "1/1 [==============================] - 0s 11ms/step - loss: 1.0899 - mse: 1.0899\n",
            "Epoch 262/300\n",
            "1/1 [==============================] - 0s 11ms/step - loss: 1.0896 - mse: 1.0896\n",
            "Epoch 263/300\n",
            "1/1 [==============================] - 0s 13ms/step - loss: 1.0894 - mse: 1.0894\n",
            "Epoch 264/300\n",
            "1/1 [==============================] - 0s 17ms/step - loss: 1.0891 - mse: 1.0891\n",
            "Epoch 265/300\n",
            "1/1 [==============================] - 0s 12ms/step - loss: 1.0889 - mse: 1.0889\n",
            "Epoch 266/300\n",
            "1/1 [==============================] - 0s 14ms/step - loss: 1.0887 - mse: 1.0887\n",
            "Epoch 267/300\n",
            "1/1 [==============================] - 0s 14ms/step - loss: 1.0884 - mse: 1.0884\n",
            "Epoch 268/300\n",
            "1/1 [==============================] - 0s 16ms/step - loss: 1.0882 - mse: 1.0882\n",
            "Epoch 269/300\n",
            "1/1 [==============================] - 0s 14ms/step - loss: 1.0880 - mse: 1.0880\n",
            "Epoch 270/300\n",
            "1/1 [==============================] - 0s 13ms/step - loss: 1.0877 - mse: 1.0877\n",
            "Epoch 271/300\n",
            "1/1 [==============================] - 0s 14ms/step - loss: 1.0875 - mse: 1.0875\n",
            "Epoch 272/300\n",
            "1/1 [==============================] - 0s 17ms/step - loss: 1.0873 - mse: 1.0873\n",
            "Epoch 273/300\n",
            "1/1 [==============================] - 0s 14ms/step - loss: 1.0870 - mse: 1.0870\n",
            "Epoch 274/300\n",
            "1/1 [==============================] - 0s 13ms/step - loss: 1.0868 - mse: 1.0868\n",
            "Epoch 275/300\n",
            "1/1 [==============================] - 0s 23ms/step - loss: 1.0866 - mse: 1.0866\n",
            "Epoch 276/300\n",
            "1/1 [==============================] - 0s 15ms/step - loss: 1.0864 - mse: 1.0864\n",
            "Epoch 277/300\n",
            "1/1 [==============================] - 0s 12ms/step - loss: 1.0862 - mse: 1.0862\n",
            "Epoch 278/300\n",
            "1/1 [==============================] - 0s 13ms/step - loss: 1.0860 - mse: 1.0860\n",
            "Epoch 279/300\n",
            "1/1 [==============================] - 0s 14ms/step - loss: 1.0857 - mse: 1.0857\n",
            "Epoch 280/300\n",
            "1/1 [==============================] - 0s 14ms/step - loss: 1.0855 - mse: 1.0855\n",
            "Epoch 281/300\n",
            "1/1 [==============================] - 0s 10ms/step - loss: 1.0853 - mse: 1.0853\n",
            "Epoch 282/300\n",
            "1/1 [==============================] - 0s 11ms/step - loss: 1.0851 - mse: 1.0851\n",
            "Epoch 283/300\n",
            "1/1 [==============================] - 0s 11ms/step - loss: 1.0849 - mse: 1.0849\n",
            "Epoch 284/300\n",
            "1/1 [==============================] - 0s 11ms/step - loss: 1.0847 - mse: 1.0847\n",
            "Epoch 285/300\n",
            "1/1 [==============================] - 0s 15ms/step - loss: 1.0845 - mse: 1.0845\n",
            "Epoch 286/300\n",
            "1/1 [==============================] - 0s 13ms/step - loss: 1.0843 - mse: 1.0843\n",
            "Epoch 287/300\n",
            "1/1 [==============================] - 0s 26ms/step - loss: 1.0841 - mse: 1.0841\n",
            "Epoch 288/300\n",
            "1/1 [==============================] - 0s 15ms/step - loss: 1.0839 - mse: 1.0839\n",
            "Epoch 289/300\n",
            "1/1 [==============================] - 0s 17ms/step - loss: 1.0837 - mse: 1.0837\n",
            "Epoch 290/300\n",
            "1/1 [==============================] - 0s 19ms/step - loss: 1.0835 - mse: 1.0835\n",
            "Epoch 291/300\n",
            "1/1 [==============================] - 0s 18ms/step - loss: 1.0833 - mse: 1.0833\n",
            "Epoch 292/300\n",
            "1/1 [==============================] - 0s 13ms/step - loss: 1.0831 - mse: 1.0831\n",
            "Epoch 293/300\n",
            "1/1 [==============================] - 0s 13ms/step - loss: 1.0829 - mse: 1.0829\n",
            "Epoch 294/300\n",
            "1/1 [==============================] - 0s 15ms/step - loss: 1.0827 - mse: 1.0827\n",
            "Epoch 295/300\n",
            "1/1 [==============================] - 0s 11ms/step - loss: 1.0825 - mse: 1.0825\n",
            "Epoch 296/300\n",
            "1/1 [==============================] - 0s 14ms/step - loss: 1.0824 - mse: 1.0824\n",
            "Epoch 297/300\n",
            "1/1 [==============================] - 0s 11ms/step - loss: 1.0822 - mse: 1.0822\n",
            "Epoch 298/300\n",
            "1/1 [==============================] - 0s 15ms/step - loss: 1.0820 - mse: 1.0820\n",
            "Epoch 299/300\n",
            "1/1 [==============================] - 0s 12ms/step - loss: 1.0818 - mse: 1.0818\n",
            "Epoch 300/300\n",
            "1/1 [==============================] - 0s 17ms/step - loss: 1.0816 - mse: 1.0816\n"
          ]
        },
        {
          "output_type": "execute_result",
          "data": {
            "text/plain": [
              "<keras.callbacks.History at 0x79c5f70017e0>"
            ]
          },
          "metadata": {},
          "execution_count": 26
        }
      ]
    },
    {
      "cell_type": "markdown",
      "source": [
        "학습이 끝났습니다. 최종적으로 선택된 오차를 최소화하는 직선을 그래프로 그려보겠습니다."
      ],
      "metadata": {
        "id": "h8XO_HORUwyR"
      }
    },
    {
      "cell_type": "code",
      "source": [
        "plt.plot(x, model.predict(x), 'b', x, y, 'k.')"
      ],
      "metadata": {
        "colab": {
          "base_uri": "https://localhost:8080/",
          "height": 484
        },
        "id": "rOhfmYP_U500",
        "outputId": "4790f1bc-2cbc-4851-f283-ec2eac0ddc1d"
      },
      "execution_count": 27,
      "outputs": [
        {
          "output_type": "stream",
          "name": "stdout",
          "text": [
            "1/1 [==============================] - 0s 252ms/step\n"
          ]
        },
        {
          "output_type": "execute_result",
          "data": {
            "text/plain": [
              "[<matplotlib.lines.Line2D at 0x79c5f7003ca0>,\n",
              " <matplotlib.lines.Line2D at 0x79c5f7001750>]"
            ]
          },
          "metadata": {},
          "execution_count": 27
        },
        {
          "output_type": "display_data",
          "data": {
            "text/plain": [
              "<Figure size 640x480 with 1 Axes>"
            ],
            "image/png": "[encoded data removed]"
          },
          "metadata": {}
        }
      ]
    },
    {
      "cell_type": "markdown",
      "source": [
        "위의 그래프에서 각 점은 우리가 실제 주었던 실제값에 해당되며, 직선은 실제값으로부터 오차를 최소화하는 w\n",
        "와 b\n",
        "의 값을 가지는 직선입니다. 이 직선을 통해 9시간 30분을 공부하였을 때의 시험 성적을 예측하게 해봅시다. model.predict()은 학습이 완료된 모델이 입력된 데이터에 대해서 어떤 값을 예측하는지를 보여줍니다."
      ],
      "metadata": {
        "id": "JkhX7EjrU9d8"
      }
    },
    {
      "cell_type": "code",
      "source": [
        "print(model.predict([9.5]))"
      ],
      "metadata": {
        "colab": {
          "base_uri": "https://localhost:8080/"
        },
        "id": "RQnQcvU-VDJS",
        "outputId": "36580084-ff04-4fde-a4f4-0f44d09c402e"
      },
      "execution_count": 30,
      "outputs": [
        {
          "output_type": "stream",
          "name": "stdout",
          "text": [
            "1/1 [==============================] - 0s 39ms/step\n",
            "[[102.134026]]\n"
          ]
        }
      ]
    },
    {
      "cell_type": "markdown",
      "source": [
        "9시간 30분을 공부하면 약 102.1점을 얻는다고 예측"
      ],
      "metadata": {
        "id": "aoPpsM7VVI8x"
      }
    },
    {
      "cell_type": "code",
      "source": [],
      "metadata": {
        "id": "9Eo8LBpRVUmL"
      },
      "execution_count": null,
      "outputs": []
    }
  ]
}