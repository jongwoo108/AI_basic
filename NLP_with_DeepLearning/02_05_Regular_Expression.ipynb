{
  "nbformat": 4,
  "nbformat_minor": 0,
  "metadata": {
    "colab": {
      "provenance": []
    },
    "kernelspec": {
      "name": "python3",
      "display_name": "Python 3"
    },
    "language_info": {
      "name": "python"
    }
  },
  "cells": [
    {
      "cell_type": "markdown",
      "source": [
        "# 딥 러닝을 이용한 자연어 처리 입문"
      ],
      "metadata": {
        "id": "RZ0xJtgsfr5E"
      }
    },
    {
      "cell_type": "markdown",
      "source": [
        "[구글 코랩에서 실행하기](https://colab.research.google.com/drive/1onJhDWO7JH09xc88crutVwIfWB6OkZkS?usp=sharing)"
      ],
      "metadata": {
        "id": "BF7MPGcYf8OD"
      }
    },
    {
      "cell_type": "markdown",
      "source": [
        "1. 정규 표현식 문법과 모듈 함수"
      ],
      "metadata": {
        "id": "yTmchB5BgDh3"
      }
    },
    {
      "cell_type": "markdown",
      "source": [
        "텍스트 전처리에서 정규 표현식은 아주 유용한 도구입니다. 이번에는 파이썬에서 지원하고 있는 정규 표현식 모듈 re의 사용 방법과 NLTK를 통한 정규 표현식을 이용한 토큰화에 대해서 알아봅니다.\n",
        "\n"
      ],
      "metadata": {
        "id": "l5BXdSqRgGgM"
      }
    },
    {
      "cell_type": "markdown",
      "source": [
        "1) 정규 표현식 문법\\\n",
        "2) 정규표현식 모듈 함수\n",
        "\n",
        "https://wikidocs.net/21703"
      ],
      "metadata": {
        "id": "2kuG0CKMgRzq"
      }
    },
    {
      "cell_type": "markdown",
      "source": [
        "2. 정규 표현식 실습"
      ],
      "metadata": {
        "id": "0rKf1-u7gVI8"
      }
    },
    {
      "cell_type": "code",
      "source": [
        "import re"
      ],
      "metadata": {
        "id": "1QmgNYcUgf40"
      },
      "execution_count": 1,
      "outputs": []
    },
    {
      "cell_type": "markdown",
      "source": [
        "1) . 기호"
      ],
      "metadata": {
        "id": "ZXeqoZnFhpSQ"
      }
    },
    {
      "cell_type": "code",
      "source": [
        "r = re.compile(\"a.c\")\n",
        "r.search(\"kkk\") # 아무런 결과도 출력되지 않는다."
      ],
      "metadata": {
        "id": "MnF5Q0d0gltA"
      },
      "execution_count": 3,
      "outputs": []
    },
    {
      "cell_type": "code",
      "source": [
        "r.search(\"abc\")"
      ],
      "metadata": {
        "colab": {
          "base_uri": "https://localhost:8080/"
        },
        "id": "bdEXf5JZgtOa",
        "outputId": "5eee241b-ee2c-4172-a0b0-e3dcb2b58b2b"
      },
      "execution_count": 4,
      "outputs": [
        {
          "output_type": "execute_result",
          "data": {
            "text/plain": [
              "<re.Match object; span=(0, 3), match='abc'>"
            ]
          },
          "metadata": {},
          "execution_count": 4
        }
      ]
    },
    {
      "cell_type": "markdown",
      "source": [
        ".은 어떤 문자로도 인식될 수 있기 때문에 abc라는 문자열은 a.c라는 정규 표현식 패턴으로 매치됩니다."
      ],
      "metadata": {
        "id": "olCVMcbThuH8"
      }
    },
    {
      "cell_type": "markdown",
      "source": [
        "2) ?기호"
      ],
      "metadata": {
        "id": "ofqQAns0hwMH"
      }
    },
    {
      "cell_type": "markdown",
      "source": [
        "?는 ?앞의 문자가 존재할 수도 있고 존재하지 않을 수도 있는 경우를 나타냅니다."
      ],
      "metadata": {
        "id": "gFlmYknyhz_I"
      }
    },
    {
      "cell_type": "code",
      "source": [
        "r = re.compile(\"ab?c\")"
      ],
      "metadata": {
        "id": "bCoxyhgUg0Fe"
      },
      "execution_count": 5,
      "outputs": []
    },
    {
      "cell_type": "markdown",
      "source": [
        "re: The re module in Python provides support for regular expressions. It allows you to work with regular expressions in Python.\n",
        "\n",
        "re.compile(): This is a method in the re module used to compile a regular expression pattern into a regular expression object. The regular expression object can then be used to match or search for patterns in strings efficiently.\n",
        "\n",
        "\"ab?c\": This is the regular expression pattern. Let's break it down:\n",
        "\n",
        "a: This matches the character 'a' literally. It means the pattern must have an 'a' in it.\n",
        "\n",
        "b?: The '?' is a quantifier that matches the preceding character ('b' in this case) zero or one time. So, 'b?' means that the pattern may have zero or one occurrence of the character 'b'.\n",
        "\n",
        "c: This matches the character 'c' literally. It means the pattern must have a 'c' in it.\n",
        "\n",
        "Therefore, the regular expression ab?c will match strings that follow the pattern: 'ac' or 'abc', where the 'b' character can appear zero or one time in the string.\n",
        "\n",
        "Here are some examples of how the regular expression matches strings:\n",
        "\n",
        "\"ac\": This matches the pattern because it contains 'a' followed by 'c'.\n",
        "\"abc\": This also matches the pattern because it contains 'a' followed by 'b' (which appears once) and then 'c'.\n",
        "\"abbc\": This does not match the pattern because the 'b' character appears more than once.\n",
        "\"accc\": This does not match the pattern because there is no 'b' character between 'a' and 'c'.\n",
        "In summary, the regular expression ab?c is a pattern that matches strings with an 'a' followed by zero or one 'b' and then followed by 'c'."
      ],
      "metadata": {
        "id": "dGFxj4MtqpQV"
      }
    },
    {
      "cell_type": "code",
      "source": [
        "r.search(\"abbc\")"
      ],
      "metadata": {
        "id": "RIW0hHuKhabo"
      },
      "execution_count": 6,
      "outputs": []
    },
    {
      "cell_type": "code",
      "source": [
        "r.search(\"abc\")"
      ],
      "metadata": {
        "colab": {
          "base_uri": "https://localhost:8080/"
        },
        "id": "mMl6IPYlhcCt",
        "outputId": "22773626-5c56-42cc-bff2-113e1bd7b507"
      },
      "execution_count": 7,
      "outputs": [
        {
          "output_type": "execute_result",
          "data": {
            "text/plain": [
              "<re.Match object; span=(0, 3), match='abc'>"
            ]
          },
          "metadata": {},
          "execution_count": 7
        }
      ]
    },
    {
      "cell_type": "code",
      "source": [
        "r.search(\"ac\")"
      ],
      "metadata": {
        "colab": {
          "base_uri": "https://localhost:8080/"
        },
        "id": "O_6N1KhyhfSP",
        "outputId": "54575224-50be-416f-cd24-4fab04f87098"
      },
      "execution_count": 8,
      "outputs": [
        {
          "output_type": "execute_result",
          "data": {
            "text/plain": [
              "<re.Match object; span=(0, 2), match='ac'>"
            ]
          },
          "metadata": {},
          "execution_count": 8
        }
      ]
    },
    {
      "cell_type": "markdown",
      "source": [
        "3) *기호"
      ],
      "metadata": {
        "id": "bQd_y7KHh5eM"
      }
    },
    {
      "cell_type": "markdown",
      "source": [
        "*은 바로 앞의 문자가 0개 이상일 경우\\\n",
        "앞의 문자는 존재하지 않을 수도 있으며, 또는 여러 개일 수도 있습니다. 정규 표현식이 ab*c라면 ac, abc, abbc, abbbc 등과 매치할 수 있으며 b의 개수는 무수히 많을 수 있습니다."
      ],
      "metadata": {
        "id": "fJ2CrsIAhinr"
      }
    },
    {
      "cell_type": "code",
      "source": [
        "r = re.compile(\"ab*c\")\n",
        "r.search(\"a\") # 아무런 결과도 출력되지 않는다."
      ],
      "metadata": {
        "id": "56d_z7p5h-Hs"
      },
      "execution_count": 9,
      "outputs": []
    },
    {
      "cell_type": "code",
      "source": [
        "r.search(\"ac\")"
      ],
      "metadata": {
        "colab": {
          "base_uri": "https://localhost:8080/"
        },
        "id": "P0RNO9SAiG-H",
        "outputId": "8256b7bc-8fe1-485b-d592-e19bfe00d57e"
      },
      "execution_count": 10,
      "outputs": [
        {
          "output_type": "execute_result",
          "data": {
            "text/plain": [
              "<re.Match object; span=(0, 2), match='ac'>"
            ]
          },
          "metadata": {},
          "execution_count": 10
        }
      ]
    },
    {
      "cell_type": "code",
      "source": [
        "r.search(\"abc\")"
      ],
      "metadata": {
        "colab": {
          "base_uri": "https://localhost:8080/"
        },
        "id": "dpkJ2GRbiIpf",
        "outputId": "9e2a5bff-a641-424a-f577-868fb80eeccb"
      },
      "execution_count": 11,
      "outputs": [
        {
          "output_type": "execute_result",
          "data": {
            "text/plain": [
              "<re.Match object; span=(0, 3), match='abc'>"
            ]
          },
          "metadata": {},
          "execution_count": 11
        }
      ]
    },
    {
      "cell_type": "code",
      "source": [
        "r.search(\"abbbc\")"
      ],
      "metadata": {
        "colab": {
          "base_uri": "https://localhost:8080/"
        },
        "id": "8NLD3iHRiKOd",
        "outputId": "e5f02f04-5d2b-45c8-f33b-7194270c1691"
      },
      "execution_count": 12,
      "outputs": [
        {
          "output_type": "execute_result",
          "data": {
            "text/plain": [
              "<re.Match object; span=(0, 5), match='abbbc'>"
            ]
          },
          "metadata": {},
          "execution_count": 12
        }
      ]
    },
    {
      "cell_type": "markdown",
      "source": [
        "4) +기호"
      ],
      "metadata": {
        "id": "hJ-3rAT5iMYT"
      }
    },
    {
      "cell_type": "markdown",
      "source": [
        "+는 *와 유사합니다. 다른 점은 앞의 문자가 최소 1개 이상이어야 합니다. \\\n",
        "정규 표현식이 ab+c라고 한다면 ac는 매치되지 않습니다. 하지만 abc, abbc, abbbc 등과 매치할 수 있으며 b의 개수는 무수히 많을 수 있습니다."
      ],
      "metadata": {
        "id": "tlaxjuZniQYa"
      }
    },
    {
      "cell_type": "code",
      "source": [
        "r = re.compile(\"ab+c\")\n",
        "r.search(\"ac\")"
      ],
      "metadata": {
        "id": "w6HHssLWiUXr"
      },
      "execution_count": 13,
      "outputs": []
    },
    {
      "cell_type": "code",
      "source": [
        "r.search(\"abc\")"
      ],
      "metadata": {
        "colab": {
          "base_uri": "https://localhost:8080/"
        },
        "id": "t9QxPefRjld2",
        "outputId": "6a20e5b3-dd42-4d1a-e386-8da279a5916b"
      },
      "execution_count": 14,
      "outputs": [
        {
          "output_type": "execute_result",
          "data": {
            "text/plain": [
              "<re.Match object; span=(0, 3), match='abc'>"
            ]
          },
          "metadata": {},
          "execution_count": 14
        }
      ]
    },
    {
      "cell_type": "code",
      "source": [
        "r.search(\"abbbbc\")"
      ],
      "metadata": {
        "colab": {
          "base_uri": "https://localhost:8080/"
        },
        "id": "tM-oqRsyjovg",
        "outputId": "8bb4d9c8-1e66-443a-f44f-1fb6bfc65fcc"
      },
      "execution_count": 15,
      "outputs": [
        {
          "output_type": "execute_result",
          "data": {
            "text/plain": [
              "<re.Match object; span=(0, 6), match='abbbbc'>"
            ]
          },
          "metadata": {},
          "execution_count": 15
        }
      ]
    },
    {
      "cell_type": "markdown",
      "source": [
        "5) ^기호"
      ],
      "metadata": {
        "id": "leP5tL64j6TC"
      }
    },
    {
      "cell_type": "markdown",
      "source": [
        "^는 시작되는 문자열을 지정합니다. 정규표현식이 ^ab라면 문자열 ab로 시작되는 경우 매치"
      ],
      "metadata": {
        "id": "QBUd4FMuj_bo"
      }
    },
    {
      "cell_type": "code",
      "source": [
        "r = re.compile(\"^ab\")"
      ],
      "metadata": {
        "id": "Ppx_Hu3UkCMn"
      },
      "execution_count": 16,
      "outputs": []
    },
    {
      "cell_type": "code",
      "source": [
        "r.search(\"bbc\")\n",
        "r.search(\"zab\")"
      ],
      "metadata": {
        "id": "uVJAw5qokHIA"
      },
      "execution_count": 17,
      "outputs": []
    },
    {
      "cell_type": "code",
      "source": [
        "r.search(\"abz\")"
      ],
      "metadata": {
        "colab": {
          "base_uri": "https://localhost:8080/"
        },
        "id": "q7YROy3UkK1E",
        "outputId": "0c077a66-8171-48c0-d3a9-dbfa3e9eed7a"
      },
      "execution_count": 18,
      "outputs": [
        {
          "output_type": "execute_result",
          "data": {
            "text/plain": [
              "<re.Match object; span=(0, 2), match='ab'>"
            ]
          },
          "metadata": {},
          "execution_count": 18
        }
      ]
    },
    {
      "cell_type": "markdown",
      "source": [
        "6) {숫자} 기호"
      ],
      "metadata": {
        "id": "dQWdw1EgkMtW"
      }
    },
    {
      "cell_type": "markdown",
      "source": [
        "문자에 해당 기호를 붙이면, 해당 문자를 숫자만큼 반복한 것을 나타냅니다. \\\n",
        "예를 들어서 정규 표현식이 ab{2}c라면 a와 c 사이에 b가 존재하면서 b가 2개인 문자열에 대해서 매치합니다."
      ],
      "metadata": {
        "id": "hsZgjVUvkR5W"
      }
    },
    {
      "cell_type": "code",
      "source": [
        "r = re.compile(\"ab{2}c\")"
      ],
      "metadata": {
        "id": "P7ALZAz3kWQK"
      },
      "execution_count": 19,
      "outputs": []
    },
    {
      "cell_type": "code",
      "source": [
        "r.search(\"ac\")\n",
        "r.search(\"abc\")\n",
        "r.search(\"abbbbbc\")"
      ],
      "metadata": {
        "id": "uAi66ipTkZ3T"
      },
      "execution_count": 20,
      "outputs": []
    },
    {
      "cell_type": "code",
      "source": [
        "r.search(\"abbc\")"
      ],
      "metadata": {
        "colab": {
          "base_uri": "https://localhost:8080/"
        },
        "id": "_GWTZkaSkdgq",
        "outputId": "1bbf61a4-7f24-42ae-84a9-1b3f78443f86"
      },
      "execution_count": 21,
      "outputs": [
        {
          "output_type": "execute_result",
          "data": {
            "text/plain": [
              "<re.Match object; span=(0, 4), match='abbc'>"
            ]
          },
          "metadata": {},
          "execution_count": 21
        }
      ]
    },
    {
      "cell_type": "markdown",
      "source": [
        "7) {숫자1, 숫자2} 기호"
      ],
      "metadata": {
        "id": "nDBk5ugqke_y"
      }
    },
    {
      "cell_type": "markdown",
      "source": [
        "문자에 해당 기호를 붙이면, 해당 문자를 숫자1 이상 숫자2 이하만큼 반복합니다. \\\n",
        "예를 들어서 정규 표현식이 ab{2,8}c라면 a와 c 사이에 b가 존재하면서 b는 2개 이상 8개 이하인 문자열에 대해서 매치"
      ],
      "metadata": {
        "id": "6j41pl4nkiyt"
      }
    },
    {
      "cell_type": "code",
      "source": [
        "r = re.compile(\"ab{2,8}c\")"
      ],
      "metadata": {
        "id": "-YZpnwmMklOL"
      },
      "execution_count": 22,
      "outputs": []
    },
    {
      "cell_type": "code",
      "source": [
        "# 아무런 결과도 출력되지 않는다.\n",
        "r.search(\"ac\")\n",
        "r.search(\"abc\")\n",
        "r.search(\"abbbbbbbbbc\")"
      ],
      "metadata": {
        "id": "XHYwvAxWkq1o"
      },
      "execution_count": 25,
      "outputs": []
    },
    {
      "cell_type": "code",
      "source": [
        "r.search(\"abbc\")"
      ],
      "metadata": {
        "colab": {
          "base_uri": "https://localhost:8080/"
        },
        "id": "GmWxSriukwYW",
        "outputId": "c6c98948-c524-4ee9-8470-c3e9a71df98b"
      },
      "execution_count": 26,
      "outputs": [
        {
          "output_type": "execute_result",
          "data": {
            "text/plain": [
              "<re.Match object; span=(0, 4), match='abbc'>"
            ]
          },
          "metadata": {},
          "execution_count": 26
        }
      ]
    },
    {
      "cell_type": "code",
      "source": [
        "r.search(\"abbbbbbbbc\")"
      ],
      "metadata": {
        "colab": {
          "base_uri": "https://localhost:8080/"
        },
        "id": "gmLI-gIvkyJn",
        "outputId": "c8f7de86-d28c-4bdd-d61c-a98821442b88"
      },
      "execution_count": 27,
      "outputs": [
        {
          "output_type": "execute_result",
          "data": {
            "text/plain": [
              "<re.Match object; span=(0, 10), match='abbbbbbbbc'>"
            ]
          },
          "metadata": {},
          "execution_count": 27
        }
      ]
    },
    {
      "cell_type": "markdown",
      "source": [
        "8) {숫자,} 기호"
      ],
      "metadata": {
        "id": "aR9MAXjRk5zG"
      }
    },
    {
      "cell_type": "markdown",
      "source": [
        "문자에 해당 기호를 붙이면 해당 문자를 숫자 이상 만큼 반복합니다. \\\n",
        "예를 들어서 정규 표현식이 a{2,}bc라면 뒤에 bc가 붙으면서 a의 개수가 2개 이상인 경우인 문자열과 매치합니다. 또한 만약 {0,}을 쓴다면 *와 동일한 의미가 되며, {1,}을 쓴다면 +와 동일한 의미가 됩니다."
      ],
      "metadata": {
        "id": "q5ycJk7mk-VY"
      }
    },
    {
      "cell_type": "code",
      "source": [
        "r = re.compile(\"a{2,}bc\")"
      ],
      "metadata": {
        "id": "73Xpe1QUlBZ0"
      },
      "execution_count": 29,
      "outputs": []
    },
    {
      "cell_type": "code",
      "source": [
        "# 아무런 결과도 출력되지 않는다.\n",
        "r.search(\"bc\")\n",
        "r.search(\"aa\")"
      ],
      "metadata": {
        "id": "AKTfi-xWlGBI"
      },
      "execution_count": 30,
      "outputs": []
    },
    {
      "cell_type": "code",
      "source": [
        "r.search(\"aabc\")"
      ],
      "metadata": {
        "colab": {
          "base_uri": "https://localhost:8080/"
        },
        "id": "Pj4o-fpOlKTc",
        "outputId": "1adecadb-7260-42b7-a669-14a2e6d709fa"
      },
      "execution_count": 31,
      "outputs": [
        {
          "output_type": "execute_result",
          "data": {
            "text/plain": [
              "<re.Match object; span=(0, 4), match='aabc'>"
            ]
          },
          "metadata": {},
          "execution_count": 31
        }
      ]
    },
    {
      "cell_type": "code",
      "source": [
        "r.search(\"aaaaaaaabc\")"
      ],
      "metadata": {
        "colab": {
          "base_uri": "https://localhost:8080/"
        },
        "id": "76rMRjf5lMU0",
        "outputId": "85bcb8ce-1a73-48fe-a247-626e790d7b74"
      },
      "execution_count": 32,
      "outputs": [
        {
          "output_type": "execute_result",
          "data": {
            "text/plain": [
              "<re.Match object; span=(0, 10), match='aaaaaaaabc'>"
            ]
          },
          "metadata": {},
          "execution_count": 32
        }
      ]
    },
    {
      "cell_type": "markdown",
      "source": [
        "9) [ ] 기호"
      ],
      "metadata": {
        "id": "yOy6E8k3lR1X"
      }
    },
    {
      "cell_type": "markdown",
      "source": [
        "[ ]안에 문자들을 넣으면 그 문자들 중 한 개의 문자와 매치라는 의미를 가집니다.\\\n",
        " 예를 들어서 정규 표현식이 [abc]라면, a 또는 b또는 c가 들어가있는 문자열과 매치됩니다. 범위를 지정하는 것도 가능합니다. [a-zA-Z]는 알파벳 전부를 의미하며, [0-9]는 숫자 전부를 의미합니다."
      ],
      "metadata": {
        "id": "4T1X-uKmlUS0"
      }
    },
    {
      "cell_type": "code",
      "source": [
        "r = re.compile(\"[abc]\")"
      ],
      "metadata": {
        "id": "5uZN9FnOlZoP"
      },
      "execution_count": 33,
      "outputs": []
    },
    {
      "cell_type": "code",
      "source": [
        "r.search(\"zzz\")"
      ],
      "metadata": {
        "id": "giDAVtNQlzGy"
      },
      "execution_count": 34,
      "outputs": []
    },
    {
      "cell_type": "code",
      "source": [
        "r.search(\"a\")"
      ],
      "metadata": {
        "colab": {
          "base_uri": "https://localhost:8080/"
        },
        "id": "nUSltke8l0Xj",
        "outputId": "9dcbb852-8040-4c53-89d1-3e4f0b29eb9b"
      },
      "execution_count": 35,
      "outputs": [
        {
          "output_type": "execute_result",
          "data": {
            "text/plain": [
              "<re.Match object; span=(0, 1), match='a'>"
            ]
          },
          "metadata": {},
          "execution_count": 35
        }
      ]
    },
    {
      "cell_type": "code",
      "source": [
        "r.search(\"aaaaaaa\")"
      ],
      "metadata": {
        "colab": {
          "base_uri": "https://localhost:8080/"
        },
        "id": "ejkFgjwMl1Nu",
        "outputId": "86fc4e52-fcc4-4f71-d228-2f2547abb4e0"
      },
      "execution_count": 36,
      "outputs": [
        {
          "output_type": "execute_result",
          "data": {
            "text/plain": [
              "<re.Match object; span=(0, 1), match='a'>"
            ]
          },
          "metadata": {},
          "execution_count": 36
        }
      ]
    },
    {
      "cell_type": "code",
      "source": [
        "r.search(\"baac\")"
      ],
      "metadata": {
        "colab": {
          "base_uri": "https://localhost:8080/"
        },
        "id": "YIpjbCLbl3j_",
        "outputId": "e0a9cbd7-c281-4fa5-ed7a-8ee70839e1fc"
      },
      "execution_count": 37,
      "outputs": [
        {
          "output_type": "execute_result",
          "data": {
            "text/plain": [
              "<re.Match object; span=(0, 1), match='b'>"
            ]
          },
          "metadata": {},
          "execution_count": 37
        }
      ]
    },
    {
      "cell_type": "markdown",
      "source": [
        "이번에는 알파벳 소문자에 대해서 범위 지정하여 정규 표현식을 만들어보고 문자열과 매치해보겠습니다."
      ],
      "metadata": {
        "id": "Mfzzd9j8l5Dw"
      }
    },
    {
      "cell_type": "code",
      "source": [
        "r = re.compile(\"[a-z]\")"
      ],
      "metadata": {
        "id": "gOe4E5all72j"
      },
      "execution_count": 38,
      "outputs": []
    },
    {
      "cell_type": "code",
      "source": [
        "# 아무런 결과도 출력되지 않는다.\n",
        "r.search(\"a\")\n",
        "r.search(\"ab\")\n",
        "r.search(\"b\")"
      ],
      "metadata": {
        "colab": {
          "base_uri": "https://localhost:8080/"
        },
        "id": "eULHYjTVl_kH",
        "outputId": "08dbcc42-493e-4e3d-c50c-a3de9140bcc2"
      },
      "execution_count": 39,
      "outputs": [
        {
          "output_type": "execute_result",
          "data": {
            "text/plain": [
              "<re.Match object; span=(0, 1), match='b'>"
            ]
          },
          "metadata": {},
          "execution_count": 39
        }
      ]
    },
    {
      "cell_type": "code",
      "source": [
        "r.search(\"d\")"
      ],
      "metadata": {
        "colab": {
          "base_uri": "https://localhost:8080/"
        },
        "id": "Uq_IddGdmlaJ",
        "outputId": "a2e47d99-d844-4cbd-cb77-6ab0570d77fb"
      },
      "execution_count": 40,
      "outputs": [
        {
          "output_type": "execute_result",
          "data": {
            "text/plain": [
              "<re.Match object; span=(0, 1), match='d'>"
            ]
          },
          "metadata": {},
          "execution_count": 40
        }
      ]
    },
    {
      "cell_type": "code",
      "source": [
        "r.search(\"l\")"
      ],
      "metadata": {
        "colab": {
          "base_uri": "https://localhost:8080/"
        },
        "id": "YCpgkXIkmnEw",
        "outputId": "56cf3d8d-ed1c-42c1-f4e2-710e3057a614"
      },
      "execution_count": 42,
      "outputs": [
        {
          "output_type": "execute_result",
          "data": {
            "text/plain": [
              "<re.Match object; span=(0, 1), match='l'>"
            ]
          },
          "metadata": {},
          "execution_count": 42
        }
      ]
    },
    {
      "cell_type": "markdown",
      "source": [
        "3. 정규 표현식 모듈 함수"
      ],
      "metadata": {
        "id": "kLWEFLwzmoFy"
      }
    },
    {
      "cell_type": "markdown",
      "source": [
        "(1) re.match() 와 re.search()의 차이"
      ],
      "metadata": {
        "id": "i3pzwwdWmtoI"
      }
    },
    {
      "cell_type": "code",
      "source": [
        "r = re.compile(\"ab.\")"
      ],
      "metadata": {
        "id": "RrwZvGPomwBA"
      },
      "execution_count": 43,
      "outputs": []
    },
    {
      "cell_type": "code",
      "source": [
        "r.match(\"kkkabc\")"
      ],
      "metadata": {
        "id": "ihdcCS7AmyKE"
      },
      "execution_count": 44,
      "outputs": []
    },
    {
      "cell_type": "code",
      "source": [
        "r.search(\"kkkabc\")"
      ],
      "metadata": {
        "colab": {
          "base_uri": "https://localhost:8080/"
        },
        "id": "arjeDp1EmzjQ",
        "outputId": "ec4a4489-97db-4150-d771-6fb0989e4ac7"
      },
      "execution_count": 45,
      "outputs": [
        {
          "output_type": "execute_result",
          "data": {
            "text/plain": [
              "<re.Match object; span=(3, 6), match='abc'>"
            ]
          },
          "metadata": {},
          "execution_count": 45
        }
      ]
    },
    {
      "cell_type": "code",
      "source": [
        "r.match(\"abckkk\")"
      ],
      "metadata": {
        "colab": {
          "base_uri": "https://localhost:8080/"
        },
        "id": "DWf6EFXwm1ah",
        "outputId": "86159e77-be85-4512-824a-c11a5210bbee"
      },
      "execution_count": 46,
      "outputs": [
        {
          "output_type": "execute_result",
          "data": {
            "text/plain": [
              "<re.Match object; span=(0, 3), match='abc'>"
            ]
          },
          "metadata": {},
          "execution_count": 46
        }
      ]
    },
    {
      "cell_type": "markdown",
      "source": [
        "(2) re.split()"
      ],
      "metadata": {
        "id": "qZHEol7qm3Ld"
      }
    },
    {
      "cell_type": "code",
      "source": [
        "text = \"사과 딸기 수박 메론 바나나\""
      ],
      "metadata": {
        "id": "-HyR3ta0m6pO"
      },
      "execution_count": 47,
      "outputs": []
    },
    {
      "cell_type": "code",
      "source": [
        "re.split(\"\", text)"
      ],
      "metadata": {
        "colab": {
          "base_uri": "https://localhost:8080/"
        },
        "id": "gWLqldgxm9Zc",
        "outputId": "19d5cff1-ac05-4845-a450-607c9a0c72fa"
      },
      "execution_count": 48,
      "outputs": [
        {
          "output_type": "execute_result",
          "data": {
            "text/plain": [
              "['',\n",
              " '사',\n",
              " '과',\n",
              " ' ',\n",
              " '딸',\n",
              " '기',\n",
              " ' ',\n",
              " '수',\n",
              " '박',\n",
              " ' ',\n",
              " '메',\n",
              " '론',\n",
              " ' ',\n",
              " '바',\n",
              " '나',\n",
              " '나',\n",
              " '']"
            ]
          },
          "metadata": {},
          "execution_count": 48
        }
      ]
    },
    {
      "cell_type": "code",
      "source": [
        "[\"사과\", \"딸기\", \"수박\", \"메론\", '바나나']"
      ],
      "metadata": {
        "colab": {
          "base_uri": "https://localhost:8080/"
        },
        "id": "lMz01-kem_FV",
        "outputId": "19e82383-f152-49e7-dba9-3a155ceba824"
      },
      "execution_count": 49,
      "outputs": [
        {
          "output_type": "execute_result",
          "data": {
            "text/plain": [
              "['사과', '딸기', '수박', '메론', '바나나']"
            ]
          },
          "metadata": {},
          "execution_count": 49
        }
      ]
    },
    {
      "cell_type": "code",
      "source": [
        "text = \"\"\"사과\n",
        "딸기\n",
        "수박\n",
        "메론\n",
        "바나나\"\"\""
      ],
      "metadata": {
        "id": "oSXH9LdHnEVg"
      },
      "execution_count": 50,
      "outputs": []
    },
    {
      "cell_type": "code",
      "source": [
        "re.split(\"\\n\", text)"
      ],
      "metadata": {
        "colab": {
          "base_uri": "https://localhost:8080/"
        },
        "id": "Uxr3vechnHYg",
        "outputId": "3ba3fec4-800f-4063-acb5-ceb3260481d5"
      },
      "execution_count": 53,
      "outputs": [
        {
          "output_type": "execute_result",
          "data": {
            "text/plain": [
              "['사과', '딸기', '수박', '메론', '바나나']"
            ]
          },
          "metadata": {},
          "execution_count": 53
        }
      ]
    },
    {
      "cell_type": "code",
      "source": [
        "text = \"사과 + 딸기 + 수박 + 메론 + 바나나\""
      ],
      "metadata": {
        "id": "qY4Qny-anKWb"
      },
      "execution_count": 54,
      "outputs": []
    },
    {
      "cell_type": "code",
      "source": [
        "re.split(\"\\+\", text)"
      ],
      "metadata": {
        "colab": {
          "base_uri": "https://localhost:8080/"
        },
        "id": "z99SfcftnVYQ",
        "outputId": "4468216a-800a-425b-ecbd-6acade9f58ff"
      },
      "execution_count": 55,
      "outputs": [
        {
          "output_type": "execute_result",
          "data": {
            "text/plain": [
              "['사과 ', ' 딸기 ', ' 수박 ', ' 메론 ', ' 바나나']"
            ]
          },
          "metadata": {},
          "execution_count": 55
        }
      ]
    },
    {
      "cell_type": "code",
      "source": [
        "['사과', '딸기', '수박', '메론', '바나나']"
      ],
      "metadata": {
        "colab": {
          "base_uri": "https://localhost:8080/"
        },
        "id": "OsprdVEsnX7A",
        "outputId": "c32b7102-d86b-4a23-a36f-d7b77a8b983c"
      },
      "execution_count": 56,
      "outputs": [
        {
          "output_type": "execute_result",
          "data": {
            "text/plain": [
              "['사과', '딸기', '수박', '메론', '바나나']"
            ]
          },
          "metadata": {},
          "execution_count": 56
        }
      ]
    },
    {
      "cell_type": "markdown",
      "source": [
        "(3) re.findall()"
      ],
      "metadata": {
        "id": "25QFsshWncDG"
      }
    },
    {
      "cell_type": "markdown",
      "source": [
        "findall() 함수는 정규 표현식과 매치되는 모든 문자열들을 리스트로 리턴합니다.\\\n",
        " 단, 매치되는 문자열이 없다면 빈 리스트를 리턴합니다. 임의의 텍스트에 정규 표현식으로 숫자를 의미하는 규칙으로 findall()을 수행하면 전체 텍스트로부터 숫자만 찾아내서 리스트로 리턴합니다."
      ],
      "metadata": {
        "id": "pP2BXYtmneGb"
      }
    },
    {
      "cell_type": "code",
      "source": [
        "text = \"\"\"이름 : 김철수\n",
        "전화번호 : 010-1234-1234\n",
        "나이 : 30\n",
        "성별 : 남\"\"\""
      ],
      "metadata": {
        "id": "OiOKIrPlnhl0"
      },
      "execution_count": 57,
      "outputs": []
    },
    {
      "cell_type": "code",
      "source": [
        "re.findall(\"\\d+\", text)"
      ],
      "metadata": {
        "colab": {
          "base_uri": "https://localhost:8080/"
        },
        "id": "XZXMRTAHnnCW",
        "outputId": "0ba07ab9-bf84-4885-c6ad-7438a1bd00ce"
      },
      "execution_count": 58,
      "outputs": [
        {
          "output_type": "execute_result",
          "data": {
            "text/plain": [
              "['010', '1234', '1234', '30']"
            ]
          },
          "metadata": {},
          "execution_count": 58
        }
      ]
    },
    {
      "cell_type": "code",
      "source": [
        "re.findall(\"\\d+\", \"문자열입니다.\")"
      ],
      "metadata": {
        "colab": {
          "base_uri": "https://localhost:8080/"
        },
        "id": "xHEHZ4renpF8",
        "outputId": "80accc20-30df-4d6f-8cdb-b7925133aa90"
      },
      "execution_count": 59,
      "outputs": [
        {
          "output_type": "execute_result",
          "data": {
            "text/plain": [
              "[]"
            ]
          },
          "metadata": {},
          "execution_count": 59
        }
      ]
    },
    {
      "cell_type": "markdown",
      "source": [
        "(4) re.sub()"
      ],
      "metadata": {
        "id": "1H7YsE5mns23"
      }
    },
    {
      "cell_type": "markdown",
      "source": [
        "sub() 함수는 정규 표현식 패턴과 일치하는 문자열을 찾아 다른 문자열로 대체할 수 있습니다. \\\n",
        "아래와 같은 정제 작업에 많이 사용되는데, 영어 문장에 각주 등과 같은 이유로 특수 문자가 섞여있는 경우에 특수 문자를 제거하고 싶다면 알파벳 외의 문자는 공백으로 처리하는 등의 용도로 쓸 수 있습니다."
      ],
      "metadata": {
        "id": "71tF0gEHnvUI"
      }
    },
    {
      "cell_type": "code",
      "source": [
        "text = \"Regular expression : A regular expression, regex or regexp[1] (sometimes called a rational expression)[2][3] is,\\\n",
        " in theoretical computer science and formal language theory, a sequence of characters that define a search pattern.\""
      ],
      "metadata": {
        "id": "Thl4j7cHnzNU"
      },
      "execution_count": 62,
      "outputs": []
    },
    {
      "cell_type": "code",
      "source": [
        "preprocessed_text = re.sub('[^a-zA-Z]', ' ', text)\n",
        "print(preprocessed_text)"
      ],
      "metadata": {
        "colab": {
          "base_uri": "https://localhost:8080/"
        },
        "id": "i2gNKK7On1yJ",
        "outputId": "fec8a18c-4eeb-4a15-f393-b6b91c79a356"
      },
      "execution_count": 63,
      "outputs": [
        {
          "output_type": "stream",
          "name": "stdout",
          "text": [
            "Regular expression   A regular expression  regex or regexp     sometimes called a rational expression        is  in theoretical computer science and formal language theory  a sequence of characters that define a search pattern \n"
          ]
        }
      ]
    },
    {
      "cell_type": "markdown",
      "source": [
        "4. 정규 표현식 텍스트 전처리 예제"
      ],
      "metadata": {
        "id": "_n1I5Y60oHPB"
      }
    },
    {
      "cell_type": "code",
      "source": [
        "text = \"\"\"100 John    PROF\n",
        "101 James   STUD\n",
        "102 Mac   STUD\"\"\""
      ],
      "metadata": {
        "id": "Ef4_BMx2og6w"
      },
      "execution_count": 64,
      "outputs": []
    },
    {
      "cell_type": "markdown",
      "source": [
        "\\s+는 공백을 찾아내는 정규표현식입니다. 뒤에 붙는 +는 최소 1개 이상의 패턴을 찾아낸다는 의미입니다. s는 공백을 의미하기 때문에 최소 1개 이상의 공백인 패턴을 찾아냅니다. split은 주어진 정규표현식을 기준으로 분리하므로 결과는 아래와 같습니다."
      ],
      "metadata": {
        "id": "OdFYn7ZuojSM"
      }
    },
    {
      "cell_type": "code",
      "source": [
        "re.split('\\s+', text)"
      ],
      "metadata": {
        "colab": {
          "base_uri": "https://localhost:8080/"
        },
        "id": "X_QUBM2XomFr",
        "outputId": "12dc10af-6a4a-40ec-9853-ccde93dcdcfd"
      },
      "execution_count": 65,
      "outputs": [
        {
          "output_type": "execute_result",
          "data": {
            "text/plain": [
              "['100', 'John', 'PROF', '101', 'James', 'STUD', '102', 'Mac', 'STUD']"
            ]
          },
          "metadata": {},
          "execution_count": 65
        }
      ]
    },
    {
      "cell_type": "markdown",
      "source": [
        "공백을 기준으로 값이 구분되었습니다. \\\n",
        "해당 입력으로부터 숫자만을 뽑아온다고 해봅시다. \\\n",
        "여기서 \\d는 숫자에 해당되는 정규표현식입니다. +를 붙이면 최소 1개 이상의 숫자에 해당하는 값을 의미합니다. \\\n",
        "findall()은 해당 표현식에 일치하는 값을 찾아냅니다."
      ],
      "metadata": {
        "id": "E5BshaPgo18t"
      }
    },
    {
      "cell_type": "code",
      "source": [
        "re.findall('\\d+', text)"
      ],
      "metadata": {
        "colab": {
          "base_uri": "https://localhost:8080/"
        },
        "id": "2O5blWLMo6X7",
        "outputId": "358fcb94-2541-452e-ae5a-28975f1d552c"
      },
      "execution_count": 66,
      "outputs": [
        {
          "output_type": "execute_result",
          "data": {
            "text/plain": [
              "['100', '101', '102']"
            ]
          },
          "metadata": {},
          "execution_count": 66
        }
      ]
    },
    {
      "cell_type": "code",
      "source": [
        "re.findall('[A-Z]', text)"
      ],
      "metadata": {
        "colab": {
          "base_uri": "https://localhost:8080/"
        },
        "id": "CmMFZl2KpBLE",
        "outputId": "38b2ae38-11d2-4331-efe9-ef5558bfa317"
      },
      "execution_count": 67,
      "outputs": [
        {
          "output_type": "execute_result",
          "data": {
            "text/plain": [
              "['J', 'P', 'R', 'O', 'F', 'J', 'S', 'T', 'U', 'D', 'M', 'S', 'T', 'U', 'D']"
            ]
          },
          "metadata": {},
          "execution_count": 67
        }
      ]
    },
    {
      "cell_type": "code",
      "source": [
        "re.findall('[A-Z]{4}', text)"
      ],
      "metadata": {
        "colab": {
          "base_uri": "https://localhost:8080/"
        },
        "id": "YRMWtXL9pF8M",
        "outputId": "f66d2938-7cf1-4ab7-a4e2-768d6115db71"
      },
      "execution_count": 68,
      "outputs": [
        {
          "output_type": "execute_result",
          "data": {
            "text/plain": [
              "['PROF', 'STUD', 'STUD']"
            ]
          },
          "metadata": {},
          "execution_count": 68
        }
      ]
    },
    {
      "cell_type": "code",
      "source": [
        "re.findall('[A-Z][a-z]+', text)"
      ],
      "metadata": {
        "colab": {
          "base_uri": "https://localhost:8080/"
        },
        "id": "EG53FihmpK9a",
        "outputId": "4fadd32e-f877-4e02-fb0f-6e5fac440190"
      },
      "execution_count": 69,
      "outputs": [
        {
          "output_type": "execute_result",
          "data": {
            "text/plain": [
              "['John', 'James', 'Mac']"
            ]
          },
          "metadata": {},
          "execution_count": 69
        }
      ]
    },
    {
      "cell_type": "markdown",
      "source": [
        "5. 정규 표현식을 이용한 토큰화"
      ],
      "metadata": {
        "id": "JmR_2CVzpQKK"
      }
    },
    {
      "cell_type": "markdown",
      "source": [
        "NLTK에서는 정규 표현식을 사용해서 단어 토큰화를 수행하는 RegexpTokenizer를 지원"
      ],
      "metadata": {
        "id": "zV3gQ2eepSjI"
      }
    },
    {
      "cell_type": "code",
      "source": [
        "from nltk.tokenize import RegexpTokenizer\n",
        "\n",
        "text = \"Don't be fooled by the dark sounding name, Mr. Jone's Orphanage is as cheery as cheery goes for a pastry shop\""
      ],
      "metadata": {
        "id": "YiLoIboMpWT4"
      },
      "execution_count": 70,
      "outputs": []
    },
    {
      "cell_type": "code",
      "source": [
        "tokenizer1 = RegexpTokenizer(\"[\\w]+\")\n",
        "tokenizer2 = RegexpTokenizer(\"\\s+\", gaps = True)"
      ],
      "metadata": {
        "id": "Kt-3DQXKpdUh"
      },
      "execution_count": 71,
      "outputs": []
    },
    {
      "cell_type": "code",
      "source": [
        "print(tokenizer1.tokenize(text))\n",
        "print(tokenizer2.tokenize(text))"
      ],
      "metadata": {
        "colab": {
          "base_uri": "https://localhost:8080/"
        },
        "id": "2EZk_CA3pmpT",
        "outputId": "1e0b1e85-a4e1-4040-b4d6-db78d20d1521"
      },
      "execution_count": 72,
      "outputs": [
        {
          "output_type": "stream",
          "name": "stdout",
          "text": [
            "['Don', 't', 'be', 'fooled', 'by', 'the', 'dark', 'sounding', 'name', 'Mr', 'Jone', 's', 'Orphanage', 'is', 'as', 'cheery', 'as', 'cheery', 'goes', 'for', 'a', 'pastry', 'shop']\n",
            "[\"Don't\", 'be', 'fooled', 'by', 'the', 'dark', 'sounding', 'name,', 'Mr.', \"Jone's\", 'Orphanage', 'is', 'as', 'cheery', 'as', 'cheery', 'goes', 'for', 'a', 'pastry', 'shop']\n"
          ]
        }
      ]
    },
    {
      "cell_type": "code",
      "source": [],
      "metadata": {
        "id": "L676p3hlprup"
      },
      "execution_count": null,
      "outputs": []
    }
  ]
}