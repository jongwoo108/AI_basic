{
  "nbformat": 4,
  "nbformat_minor": 0,
  "metadata": {
    "colab": {
      "provenance": []
    },
    "kernelspec": {
      "name": "python3",
      "display_name": "Python 3"
    },
    "language_info": {
      "name": "python"
    }
  },
  "cells": [
    {
      "cell_type": "markdown",
      "source": [
        "# 딥 러닝을 이용한 자연어 처리 입문"
      ],
      "metadata": {
        "id": "KJ6eycsDEjd2"
      }
    },
    {
      "cell_type": "markdown",
      "source": [
        "[구글 코랩에서 실행하기](https://colab.research.google.com/drive/11xRXUsmMmkPp1ZuLNdzG20VRemFXQ31A?usp=sharing)"
      ],
      "metadata": {
        "id": "rJWn8rBQEtAx"
      }
    },
    {
      "cell_type": "markdown",
      "source": [
        "https://wikidocs.net/24654"
      ],
      "metadata": {
        "id": "aK_dfjQwEzy3"
      }
    },
    {
      "cell_type": "markdown",
      "source": [
        "05-02 여러가지 유사도 기법"
      ],
      "metadata": {
        "id": "9U3-cjWkE1Qh"
      }
    },
    {
      "cell_type": "markdown",
      "source": [
        "1. 유클리드 거리(Euclidean distance)"
      ],
      "metadata": {
        "id": "dsSYjSJPE3WE"
      }
    },
    {
      "cell_type": "code",
      "source": [
        "import numpy as np\n",
        "\n",
        "def dist(x, y):\n",
        "    return np.sqrt(np.sum((x-y)**2))"
      ],
      "metadata": {
        "id": "vC3xETZ-E5Cz"
      },
      "execution_count": 1,
      "outputs": []
    },
    {
      "cell_type": "code",
      "source": [
        "doc1 = np.array((2, 3, 0, 1))\n",
        "doc2 = np.array((1, 2, 3, 1))\n",
        "doc3 = np.array((2, 1, 2, 2))\n",
        "docQ = np.array((1, 1, 0, 1))\n",
        "\n",
        "print('문서1과 문서Q의 거리 :', dist(doc1, docQ))\n",
        "print('문서2와 문서Q의 거리 :', dist(doc2, docQ))\n",
        "print('문서3과 문서Q의 거리 :', dist(doc3, docQ))"
      ],
      "metadata": {
        "colab": {
          "base_uri": "https://localhost:8080/"
        },
        "id": "Z4OBbUsmFIbP",
        "outputId": "c5ac89dc-0812-42ce-ffc9-940156d72a90"
      },
      "execution_count": 2,
      "outputs": [
        {
          "output_type": "stream",
          "name": "stdout",
          "text": [
            "문서1과 문서Q의 거리 : 2.23606797749979\n",
            "문서2와 문서Q의 거리 : 3.1622776601683795\n",
            "문서3과 문서Q의 거리 : 2.449489742783178\n"
          ]
        }
      ]
    },
    {
      "cell_type": "markdown",
      "source": [
        "유클리드 거리의 값이 가장 작다는 것은 문서 간 거리가 가장 가깝다는 것을 의미합니다. 즉, 문서1이 문서Q와 가장 유사하다고 볼 수 있습니다."
      ],
      "metadata": {
        "id": "QLeVau7QFhE6"
      }
    },
    {
      "cell_type": "markdown",
      "source": [
        "2. 자카드 유사도(Jaccard similarity)"
      ],
      "metadata": {
        "id": "Jvb0T5pBFkFf"
      }
    },
    {
      "cell_type": "code",
      "source": [
        "doc1 = \"apple banana everyone like likey watch card holder\"\n",
        "doc2 = \"apple banana coupon passport love you\"\n",
        "\n",
        "# 토큰화\n",
        "tokenized_doc1 = doc1.split()\n",
        "tokenized_doc2 = doc2.split()\n",
        "\n",
        "print('문서1 :', tokenized_doc1)\n",
        "print('문서2 :', tokenized_doc2)"
      ],
      "metadata": {
        "colab": {
          "base_uri": "https://localhost:8080/"
        },
        "id": "VsI-lU8gFnaq",
        "outputId": "50fe375f-ca8b-498a-bc7e-5d1ef98cfc5e"
      },
      "execution_count": 4,
      "outputs": [
        {
          "output_type": "stream",
          "name": "stdout",
          "text": [
            "문서1 : ['apple', 'banana', 'everyone', 'like', 'likey', 'watch', 'card', 'holder']\n",
            "문서2 : ['apple', 'banana', 'coupon', 'passport', 'love', 'you']\n"
          ]
        }
      ]
    },
    {
      "cell_type": "markdown",
      "source": [
        "문서1과 문서2의 합집합"
      ],
      "metadata": {
        "id": "afou4DStF5qY"
      }
    },
    {
      "cell_type": "code",
      "source": [
        "union = set(tokenized_doc1).union(set(tokenized_doc2))\n",
        "print('문서1과 문서2의 합집합 :', union)"
      ],
      "metadata": {
        "colab": {
          "base_uri": "https://localhost:8080/"
        },
        "id": "lO6O69nsGBLO",
        "outputId": "3469bb70-67df-4855-f052-59aa71f6243f"
      },
      "execution_count": 6,
      "outputs": [
        {
          "output_type": "stream",
          "name": "stdout",
          "text": [
            "문서1과 문서2의 합집합 : {'coupon', 'watch', 'you', 'like', 'likey', 'passport', 'apple', 'card', 'holder', 'love', 'everyone', 'banana'}\n"
          ]
        }
      ]
    },
    {
      "cell_type": "markdown",
      "source": [
        "문서1과 문서2의 합집합의 단어의 총 개수는 12개"
      ],
      "metadata": {
        "id": "bg7pwL_AGI7U"
      }
    },
    {
      "cell_type": "markdown",
      "source": [
        "문서1과 문서2의 교집합"
      ],
      "metadata": {
        "id": "wgzMaJXhGPTp"
      }
    },
    {
      "cell_type": "code",
      "source": [
        "intersection = set(tokenized_doc1).intersection(set(tokenized_doc2))\n",
        "print('문서1과 문서2의 교집합 :', intersection)"
      ],
      "metadata": {
        "colab": {
          "base_uri": "https://localhost:8080/"
        },
        "id": "lMrd0KLMGR9h",
        "outputId": "cbfe105a-388d-4fb4-d2c2-fac7b00e77bf"
      },
      "execution_count": 7,
      "outputs": [
        {
          "output_type": "stream",
          "name": "stdout",
          "text": [
            "문서1과 문서2의 교집합 : {'apple', 'banana'}\n"
          ]
        }
      ]
    },
    {
      "cell_type": "markdown",
      "source": [
        "문서1과 문서2에서 둘 다 등장한 단어는 banana와 apple 2개, 교집합의 크기를 합집합의 크기로 나누면 자카드 유사도가 계산됨."
      ],
      "metadata": {
        "id": "O3NKcMXwGa_S"
      }
    },
    {
      "cell_type": "code",
      "source": [
        "print('자카드 유사도 :', len(intersection)/len(union))"
      ],
      "metadata": {
        "colab": {
          "base_uri": "https://localhost:8080/"
        },
        "id": "_FjpA0ktGoCf",
        "outputId": "60cb72f1-1da2-4f6e-e91c-e47825d1a581"
      },
      "execution_count": 8,
      "outputs": [
        {
          "output_type": "stream",
          "name": "stdout",
          "text": [
            "자카드 유사도 : 0.16666666666666666\n"
          ]
        }
      ]
    },
    {
      "cell_type": "code",
      "source": [],
      "metadata": {
        "id": "K7QPf6IFGt4X"
      },
      "execution_count": null,
      "outputs": []
    }
  ]
}