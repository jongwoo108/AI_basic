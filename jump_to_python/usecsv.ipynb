{
 "cells": [
  {
   "cell_type": "code",
   "execution_count": 1,
   "metadata": {},
   "outputs": [],
   "source": [
    "import os"
   ]
  },
  {
   "cell_type": "code",
   "execution_count": 2,
   "metadata": {},
   "outputs": [
    {
     "data": {
      "text/plain": [
       "'c:\\\\Users\\\\jongw\\\\AppData\\\\Local\\\\Programs\\\\Microsoft VS Code'"
      ]
     },
     "execution_count": 2,
     "metadata": {},
     "output_type": "execute_result"
    }
   ],
   "source": [
    "os.getcwd()"
   ]
  },
  {
   "attachments": {},
   "cell_type": "markdown",
   "metadata": {},
   "source": [
    "#### 나만의 모듈을 만들어 사용하기"
   ]
  },
  {
   "attachments": {},
   "cell_type": "markdown",
   "metadata": {},
   "source": [
    "opencsv()함수와 writecsv() 함수는 쓰임새가 매우 많아 두 함수를 묶어 usecsv라는 별도의 모듈로 만들어 사용하려고한다."
   ]
  },
  {
   "attachments": {},
   "cell_type": "markdown",
   "metadata": {},
   "source": [
    "1. usecsv.py 파일을 만들어 opencsv() 함수와 writecsv() 함수를 입력한다.\n",
    "2. 파이썬 라이브러리 폴더에 usecsv.py 파일을 저장한다.\n",
    "3. import usecsv를 실행해 opencsv, writecsv를 사용한다."
   ]
  },
  {
   "cell_type": "code",
   "execution_count": 3,
   "metadata": {},
   "outputs": [],
   "source": [
    "import csv, os"
   ]
  },
  {
   "cell_type": "code",
   "execution_count": 4,
   "metadata": {},
   "outputs": [],
   "source": [
    "def opencsv(filename):\n",
    "    f = open(filename, 'r', encoding='949')\n",
    "    reader = csv.reader(f)\n",
    "    output = []\n",
    "    for i in reader:\n",
    "        output.append(i)\n",
    "    f.close()\n",
    "    return output\n",
    "\n",
    "def writecsv(filename, the_list):\n",
    "    with open(filename, 'w', newline='', encoding='949') as f:\n",
    "        a = csv.writer(f, delimiter=',')\n",
    "        a.writerows(the_list)"
   ]
  },
  {
   "cell_type": "code",
   "execution_count": 4,
   "metadata": {},
   "outputs": [],
   "source": [
    "import os"
   ]
  },
  {
   "cell_type": "code",
   "execution_count": 6,
   "metadata": {},
   "outputs": [],
   "source": [
    "import usecsv\n",
    "os.chdir(r'C:\\Users\\jongw\\OneDrive\\바탕 화면\\포트폴리오\\점프 투 파이썬')\n",
    "a = [['국어', '영어', '수학'], [99, 88, 77]]\n",
    "usecsv.writecsv('test.csv', a)"
   ]
  },
  {
   "cell_type": "code",
   "execution_count": 2,
   "metadata": {},
   "outputs": [],
   "source": [
    "import os, usecsv\n",
    "os.chdir(r'C:\\Users\\jongw\\OneDrive\\바탕 화면\\포트폴리오\\점프 투 파이썬')\n",
    "b = [['물리', '화학', '생물'], [70, 99, 100]]\n",
    "usecsv.writecsv('test.csv', b)"
   ]
  },
  {
   "attachments": {},
   "cell_type": "markdown",
   "metadata": {},
   "source": [
    "원하는 대로 파이썬 프로그램을 모듈로 만들어 공부나 업무에 자유롭게 사용할 수 있음."
   ]
  },
  {
   "attachments": {},
   "cell_type": "markdown",
   "metadata": {},
   "source": [
    "파이썬 라이브러리에 usecsv 모듈 저장하기"
   ]
  },
  {
   "attachments": {},
   "cell_type": "markdown",
   "metadata": {},
   "source": [
    "usecsv 모듈을 사용하려면 작업 경로에 usecsv.py 파일을 복사해 놓고 필요할 때 임포트 하면 된다.\\\n",
    "그런데 os 모듈이나 re 모듈처럼 어떤 폴더에서나 실행할 수 있다면 더 편할 것이다.\\\n",
    "\n",
    "C:\\Users\\jongw\\anaconda3\\Lib 안에 usecsv.py 파일을 복사한다. "
   ]
  }
 ],
 "metadata": {
  "kernelspec": {
   "display_name": "myenv",
   "language": "python",
   "name": "python3"
  },
  "language_info": {
   "codemirror_mode": {
    "name": "ipython",
    "version": 3
   },
   "file_extension": ".py",
   "mimetype": "text/x-python",
   "name": "python",
   "nbconvert_exporter": "python",
   "pygments_lexer": "ipython3",
   "version": "3.11.3"
  },
  "orig_nbformat": 4
 },
 "nbformat": 4,
 "nbformat_minor": 2
}
