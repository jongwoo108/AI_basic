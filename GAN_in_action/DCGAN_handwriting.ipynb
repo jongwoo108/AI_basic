{
 "cells": [
  {
   "cell_type": "markdown",
   "metadata": {},
   "source": [
    "# GAN 인 액션"
   ]
  },
  {
   "cell_type": "markdown",
   "metadata": {},
   "source": [
    "4-1 임포트하기"
   ]
  },
  {
   "cell_type": "code",
   "execution_count": 2,
   "metadata": {},
   "outputs": [],
   "source": [
    "import matplotlib.pyplot as plt\n",
    "import numpy as np\n",
    "\n",
    "from tensorflow.keras.datasets import mnist\n",
    "from tensorflow.keras.layers import Activation, BatchNormalization, Dense, Dropout, Flatten, Reshape\n",
    "from tensorflow.keras.layers import LeakyReLU\n",
    "from tensorflow.keras.layers import Conv2D, Conv2DTranspose\n",
    "from tensorflow.keras.models import Sequential\n",
    "from tensorflow.keras.optimizers import Adam"
   ]
  },
  {
   "cell_type": "markdown",
   "metadata": {},
   "source": [
    "4-2 모델의 입력 차원"
   ]
  },
  {
   "cell_type": "code",
   "execution_count": 3,
   "metadata": {},
   "outputs": [],
   "source": [
    "img_rows = 28\n",
    "img_cols = 28\n",
    "channels = 1\n",
    "img_shape = (img_rows, img_cols, channels)\n",
    "\n",
    "z_dim = 100"
   ]
  },
  {
   "cell_type": "markdown",
   "metadata": {},
   "source": [
    "4-3 DCGAN 생성자"
   ]
  },
  {
   "cell_type": "code",
   "execution_count": 4,
   "metadata": {},
   "outputs": [],
   "source": [
    "def build_generator(z_dim):\n",
    "    \n",
    "    model = Sequential()\n",
    "    \n",
    "    model.add(Dense(256 * 7 * 7, input_dim = z_dim))          #완전 연결 층을 사용해 입력을 7 x 7 x 256 크기 텐서로 바꾼다.\n",
    "    model.add(Reshape((7, 7, 256)))\n",
    "    \n",
    "    model.add(Conv2DTranspose(128, kernel_size=3, strides = 2, padding = 'same')) # 7 x 7 x 256ㅇ서 14 x 14 x 128 크기 텐서로 바꾸는 전치 합성곱 층\n",
    "    model.add(BatchNormalization())  # 배치 정규화\n",
    "    model.add(LeakyReLU(alpha=0.01)) # LeakyReLU 활성화 함수\n",
    "    model.add(Conv2DTranspose(64, kernel_size = 3, strides = 1, padding = 'same')) # 14 x 14 x 128에서 14 x 14 x 64 크기 텐서로 바꾸는 전치 합성곱 층\n",
    "    model.add(BatchNormalization())  # 배치 정규화\n",
    "    model.add(LeakyReLU(alpha=0.01)) # LeakyReLU 활성화 함수\n",
    "    model.add(Conv2DTranspose(1, kernel_size = 3, strides = 2, padding = 'same')) # 14 x 14 x 64에서 28 x 28 x 1 크기 텐서로 바꾸는 전치 합성곱 층\n",
    "    model.add(Activation('tanh')) # tanh 활성화 함수를 사용하는 출력층\n",
    "    \n",
    "    return model"
   ]
  },
  {
   "cell_type": "markdown",
   "metadata": {},
   "source": [
    "4-4 DCGAN 판별자"
   ]
  },
  {
   "cell_type": "code",
   "execution_count": 6,
   "metadata": {},
   "outputs": [],
   "source": [
    "def build_discriminator(img_shape):\n",
    "    \n",
    "    model = Sequential()\n",
    "    \n",
    "    model.add(\n",
    "        Conv2D(32,\n",
    "               kernel_size = 3,\n",
    "               strides = 2,\n",
    "               input_shape = img_shape,\n",
    "               padding = 'same'))            # 28 x 28 x 1 텐서에서 14 x 14 x 32 크기 텐서로 바꾸는 합성곱 층\n",
    "    \n",
    "    model.add(LeakyReLU(alpha=0.01))         # LeakyReLU 활성화 함수\n",
    "    \n",
    "    model.add(\n",
    "        Conv2D(64,\n",
    "               kernel_size = 3,\n",
    "               strides = 2,\n",
    "               padding = 'same'))            # 14 x 14 x 32 텐서에서 7 x 7 x 64 크기 텐서로 바꾸는 합성곱 층\n",
    "    \n",
    "    model.add(LeakyReLU(alpha=0.01))         # LeakyReLU 활성화 함수\n",
    "    \n",
    "    model.add(\n",
    "        Conv2D(128,\n",
    "               kernel_size = 3,\n",
    "               strides = 2,\n",
    "               padding = 'same'))            # 7 x 7 x 64 텐서에서 3 x 3 x 128 크기 텐서로 바꾸는 합성곱 층\n",
    "    \n",
    "    model.add(LeakyReLU(alpha=0.01))         # LeakyReLU 활성화 함수\n",
    "    \n",
    "    model.add(Flatten())                     # 시그모이드 활성화 함수를 사용하는 출력층\n",
    "    model.add(Dense(1, activation = 'sigmoid'))\n",
    "    \n",
    "    return model"
   ]
  },
  {
   "cell_type": "code",
   "execution_count": null,
   "metadata": {},
   "outputs": [],
   "source": []
  }
 ],
 "metadata": {
  "kernelspec": {
   "display_name": "myenv",
   "language": "python",
   "name": "python3"
  },
  "language_info": {
   "codemirror_mode": {
    "name": "ipython",
    "version": 3
   },
   "file_extension": ".py",
   "mimetype": "text/x-python",
   "name": "python",
   "nbconvert_exporter": "python",
   "pygments_lexer": "ipython3",
   "version": "3.11.3"
  },
  "orig_nbformat": 4
 },
 "nbformat": 4,
 "nbformat_minor": 2
}
